{
  "nbformat": 4,
  "nbformat_minor": 0,
  "metadata": {
    "colab": {
      "provenance": [],
      "include_colab_link": true
    },
    "kernelspec": {
      "name": "python3",
      "display_name": "Python 3"
    },
    "language_info": {
      "name": "python"
    },
    "widgets": {
      "application/vnd.jupyter.widget-state+json": {
        "40e90e4057634533bd809ccac2681685": {
          "model_module": "@jupyter-widgets/output",
          "model_name": "OutputModel",
          "model_module_version": "1.0.0",
          "state": {
            "_dom_classes": [],
            "_model_module": "@jupyter-widgets/output",
            "_model_module_version": "1.0.0",
            "_model_name": "OutputModel",
            "_view_count": null,
            "_view_module": "@jupyter-widgets/output",
            "_view_module_version": "1.0.0",
            "_view_name": "OutputView",
            "layout": "IPY_MODEL_44138b5c756644f9917dfef9d2cc5e14",
            "msg_id": "",
            "outputs": [
              {
                "output_type": "display_data",
                "data": {
                  "text/plain": "Sampling chain 0, 0 divergences \u001b[32m━━━━━━━━━━━━━━━━━━━━━━━━━━━━━━━━━━━━━━━━\u001b[0m \u001b[35m100%\u001b[0m \u001b[36m0:00:00\u001b[0m / \u001b[33m0:00:33\u001b[0m\n",
                  "text/html": "<pre style=\"white-space:pre;overflow-x:auto;line-height:normal;font-family:Menlo,'DejaVu Sans Mono',consolas,'Courier New',monospace\">Sampling chain 0, 0 divergences <span style=\"color: #008000; text-decoration-color: #008000\">━━━━━━━━━━━━━━━━━━━━━━━━━━━━━━━━━━━━━━━━</span> <span style=\"color: #800080; text-decoration-color: #800080\">100%</span> <span style=\"color: #008080; text-decoration-color: #008080\">0:00:00</span> / <span style=\"color: #808000; text-decoration-color: #808000\">0:00:33</span>\n</pre>\n"
                },
                "metadata": {}
              }
            ]
          }
        },
        "44138b5c756644f9917dfef9d2cc5e14": {
          "model_module": "@jupyter-widgets/base",
          "model_name": "LayoutModel",
          "model_module_version": "1.2.0",
          "state": {
            "_model_module": "@jupyter-widgets/base",
            "_model_module_version": "1.2.0",
            "_model_name": "LayoutModel",
            "_view_count": null,
            "_view_module": "@jupyter-widgets/base",
            "_view_module_version": "1.2.0",
            "_view_name": "LayoutView",
            "align_content": null,
            "align_items": null,
            "align_self": null,
            "border": null,
            "bottom": null,
            "display": null,
            "flex": null,
            "flex_flow": null,
            "grid_area": null,
            "grid_auto_columns": null,
            "grid_auto_flow": null,
            "grid_auto_rows": null,
            "grid_column": null,
            "grid_gap": null,
            "grid_row": null,
            "grid_template_areas": null,
            "grid_template_columns": null,
            "grid_template_rows": null,
            "height": null,
            "justify_content": null,
            "justify_items": null,
            "left": null,
            "margin": null,
            "max_height": null,
            "max_width": null,
            "min_height": null,
            "min_width": null,
            "object_fit": null,
            "object_position": null,
            "order": null,
            "overflow": null,
            "overflow_x": null,
            "overflow_y": null,
            "padding": null,
            "right": null,
            "top": null,
            "visibility": null,
            "width": null
          }
        },
        "a73efc4a0aa44fdca8adf2e413373cc8": {
          "model_module": "@jupyter-widgets/output",
          "model_name": "OutputModel",
          "model_module_version": "1.0.0",
          "state": {
            "_dom_classes": [],
            "_model_module": "@jupyter-widgets/output",
            "_model_module_version": "1.0.0",
            "_model_name": "OutputModel",
            "_view_count": null,
            "_view_module": "@jupyter-widgets/output",
            "_view_module_version": "1.0.0",
            "_view_name": "OutputView",
            "layout": "IPY_MODEL_a86e954468174e2e9db80c8491ad59b4",
            "msg_id": "",
            "outputs": [
              {
                "output_type": "display_data",
                "data": {
                  "text/plain": "Sampling chain 1, 0 divergences \u001b[32m━━━━━━━━━━━━━━━━━━━━━━━━━━━━━━━━━━━━━━━━\u001b[0m \u001b[35m100%\u001b[0m \u001b[36m0:00:00\u001b[0m / \u001b[33m0:00:33\u001b[0m\n",
                  "text/html": "<pre style=\"white-space:pre;overflow-x:auto;line-height:normal;font-family:Menlo,'DejaVu Sans Mono',consolas,'Courier New',monospace\">Sampling chain 1, 0 divergences <span style=\"color: #008000; text-decoration-color: #008000\">━━━━━━━━━━━━━━━━━━━━━━━━━━━━━━━━━━━━━━━━</span> <span style=\"color: #800080; text-decoration-color: #800080\">100%</span> <span style=\"color: #008080; text-decoration-color: #008080\">0:00:00</span> / <span style=\"color: #808000; text-decoration-color: #808000\">0:00:33</span>\n</pre>\n"
                },
                "metadata": {}
              }
            ]
          }
        },
        "a86e954468174e2e9db80c8491ad59b4": {
          "model_module": "@jupyter-widgets/base",
          "model_name": "LayoutModel",
          "model_module_version": "1.2.0",
          "state": {
            "_model_module": "@jupyter-widgets/base",
            "_model_module_version": "1.2.0",
            "_model_name": "LayoutModel",
            "_view_count": null,
            "_view_module": "@jupyter-widgets/base",
            "_view_module_version": "1.2.0",
            "_view_name": "LayoutView",
            "align_content": null,
            "align_items": null,
            "align_self": null,
            "border": null,
            "bottom": null,
            "display": null,
            "flex": null,
            "flex_flow": null,
            "grid_area": null,
            "grid_auto_columns": null,
            "grid_auto_flow": null,
            "grid_auto_rows": null,
            "grid_column": null,
            "grid_gap": null,
            "grid_row": null,
            "grid_template_areas": null,
            "grid_template_columns": null,
            "grid_template_rows": null,
            "height": null,
            "justify_content": null,
            "justify_items": null,
            "left": null,
            "margin": null,
            "max_height": null,
            "max_width": null,
            "min_height": null,
            "min_width": null,
            "object_fit": null,
            "object_position": null,
            "order": null,
            "overflow": null,
            "overflow_x": null,
            "overflow_y": null,
            "padding": null,
            "right": null,
            "top": null,
            "visibility": null,
            "width": null
          }
        },
        "687f8133e59b475a87bbf7ebf562f851": {
          "model_module": "@jupyter-widgets/output",
          "model_name": "OutputModel",
          "model_module_version": "1.0.0",
          "state": {
            "_dom_classes": [],
            "_model_module": "@jupyter-widgets/output",
            "_model_module_version": "1.0.0",
            "_model_name": "OutputModel",
            "_view_count": null,
            "_view_module": "@jupyter-widgets/output",
            "_view_module_version": "1.0.0",
            "_view_name": "OutputView",
            "layout": "IPY_MODEL_0f0727646eef48c0a8916a6699577941",
            "msg_id": "",
            "outputs": [
              {
                "output_type": "display_data",
                "data": {
                  "text/plain": "Sampling ... \u001b[32m━━━━━━━━━━━━━━━━━━━━━━━━━━━━━━━━━━━━━━━━\u001b[0m \u001b[35m100%\u001b[0m \u001b[36m0:00:00\u001b[0m / \u001b[33m0:00:01\u001b[0m\n",
                  "text/html": "<pre style=\"white-space:pre;overflow-x:auto;line-height:normal;font-family:Menlo,'DejaVu Sans Mono',consolas,'Courier New',monospace\">Sampling ... <span style=\"color: #008000; text-decoration-color: #008000\">━━━━━━━━━━━━━━━━━━━━━━━━━━━━━━━━━━━━━━━━</span> <span style=\"color: #800080; text-decoration-color: #800080\">100%</span> <span style=\"color: #008080; text-decoration-color: #008080\">0:00:00</span> / <span style=\"color: #808000; text-decoration-color: #808000\">0:00:01</span>\n</pre>\n"
                },
                "metadata": {}
              }
            ]
          }
        },
        "0f0727646eef48c0a8916a6699577941": {
          "model_module": "@jupyter-widgets/base",
          "model_name": "LayoutModel",
          "model_module_version": "1.2.0",
          "state": {
            "_model_module": "@jupyter-widgets/base",
            "_model_module_version": "1.2.0",
            "_model_name": "LayoutModel",
            "_view_count": null,
            "_view_module": "@jupyter-widgets/base",
            "_view_module_version": "1.2.0",
            "_view_name": "LayoutView",
            "align_content": null,
            "align_items": null,
            "align_self": null,
            "border": null,
            "bottom": null,
            "display": null,
            "flex": null,
            "flex_flow": null,
            "grid_area": null,
            "grid_auto_columns": null,
            "grid_auto_flow": null,
            "grid_auto_rows": null,
            "grid_column": null,
            "grid_gap": null,
            "grid_row": null,
            "grid_template_areas": null,
            "grid_template_columns": null,
            "grid_template_rows": null,
            "height": null,
            "justify_content": null,
            "justify_items": null,
            "left": null,
            "margin": null,
            "max_height": null,
            "max_width": null,
            "min_height": null,
            "min_width": null,
            "object_fit": null,
            "object_position": null,
            "order": null,
            "overflow": null,
            "overflow_x": null,
            "overflow_y": null,
            "padding": null,
            "right": null,
            "top": null,
            "visibility": null,
            "width": null
          }
        },
        "1209a549459f4bde9ca64e88ea0b12a1": {
          "model_module": "@jupyter-widgets/output",
          "model_name": "OutputModel",
          "model_module_version": "1.0.0",
          "state": {
            "_dom_classes": [],
            "_model_module": "@jupyter-widgets/output",
            "_model_module_version": "1.0.0",
            "_model_name": "OutputModel",
            "_view_count": null,
            "_view_module": "@jupyter-widgets/output",
            "_view_module_version": "1.0.0",
            "_view_name": "OutputView",
            "layout": "IPY_MODEL_eeee7b55ebce4e1390f09cf6d348c659",
            "msg_id": "",
            "outputs": [
              {
                "output_type": "display_data",
                "data": {
                  "text/plain": "Sampling ... \u001b[32m━━━━━━━━━━━━━━━━━━━━━━━━━━━━━━━━━━━━━━━━\u001b[0m \u001b[35m100%\u001b[0m \u001b[36m0:00:00\u001b[0m / \u001b[33m0:00:00\u001b[0m\n",
                  "text/html": "<pre style=\"white-space:pre;overflow-x:auto;line-height:normal;font-family:Menlo,'DejaVu Sans Mono',consolas,'Courier New',monospace\">Sampling ... <span style=\"color: #008000; text-decoration-color: #008000\">━━━━━━━━━━━━━━━━━━━━━━━━━━━━━━━━━━━━━━━━</span> <span style=\"color: #800080; text-decoration-color: #800080\">100%</span> <span style=\"color: #008080; text-decoration-color: #008080\">0:00:00</span> / <span style=\"color: #808000; text-decoration-color: #808000\">0:00:00</span>\n</pre>\n"
                },
                "metadata": {}
              }
            ]
          }
        },
        "eeee7b55ebce4e1390f09cf6d348c659": {
          "model_module": "@jupyter-widgets/base",
          "model_name": "LayoutModel",
          "model_module_version": "1.2.0",
          "state": {
            "_model_module": "@jupyter-widgets/base",
            "_model_module_version": "1.2.0",
            "_model_name": "LayoutModel",
            "_view_count": null,
            "_view_module": "@jupyter-widgets/base",
            "_view_module_version": "1.2.0",
            "_view_name": "LayoutView",
            "align_content": null,
            "align_items": null,
            "align_self": null,
            "border": null,
            "bottom": null,
            "display": null,
            "flex": null,
            "flex_flow": null,
            "grid_area": null,
            "grid_auto_columns": null,
            "grid_auto_flow": null,
            "grid_auto_rows": null,
            "grid_column": null,
            "grid_gap": null,
            "grid_row": null,
            "grid_template_areas": null,
            "grid_template_columns": null,
            "grid_template_rows": null,
            "height": null,
            "justify_content": null,
            "justify_items": null,
            "left": null,
            "margin": null,
            "max_height": null,
            "max_width": null,
            "min_height": null,
            "min_width": null,
            "object_fit": null,
            "object_position": null,
            "order": null,
            "overflow": null,
            "overflow_x": null,
            "overflow_y": null,
            "padding": null,
            "right": null,
            "top": null,
            "visibility": null,
            "width": null
          }
        },
        "36b7c1c5bbc34751b096156fd6674ab3": {
          "model_module": "@jupyter-widgets/output",
          "model_name": "OutputModel",
          "model_module_version": "1.0.0",
          "state": {
            "_dom_classes": [],
            "_model_module": "@jupyter-widgets/output",
            "_model_module_version": "1.0.0",
            "_model_name": "OutputModel",
            "_view_count": null,
            "_view_module": "@jupyter-widgets/output",
            "_view_module_version": "1.0.0",
            "_view_name": "OutputView",
            "layout": "IPY_MODEL_5e925066e869451b82f9eae95c5b0aa7",
            "msg_id": "",
            "outputs": [
              {
                "output_type": "display_data",
                "data": {
                  "text/plain": "Sampling chain 0, 0 divergences \u001b[32m━━━━━━━━━━━━━━━━━━━━━━━━━━━━━━━━━━━━━━━━\u001b[0m \u001b[35m100%\u001b[0m \u001b[36m0:00:00\u001b[0m / \u001b[33m0:00:32\u001b[0m\n",
                  "text/html": "<pre style=\"white-space:pre;overflow-x:auto;line-height:normal;font-family:Menlo,'DejaVu Sans Mono',consolas,'Courier New',monospace\">Sampling chain 0, 0 divergences <span style=\"color: #008000; text-decoration-color: #008000\">━━━━━━━━━━━━━━━━━━━━━━━━━━━━━━━━━━━━━━━━</span> <span style=\"color: #800080; text-decoration-color: #800080\">100%</span> <span style=\"color: #008080; text-decoration-color: #008080\">0:00:00</span> / <span style=\"color: #808000; text-decoration-color: #808000\">0:00:32</span>\n</pre>\n"
                },
                "metadata": {}
              }
            ]
          }
        },
        "5e925066e869451b82f9eae95c5b0aa7": {
          "model_module": "@jupyter-widgets/base",
          "model_name": "LayoutModel",
          "model_module_version": "1.2.0",
          "state": {
            "_model_module": "@jupyter-widgets/base",
            "_model_module_version": "1.2.0",
            "_model_name": "LayoutModel",
            "_view_count": null,
            "_view_module": "@jupyter-widgets/base",
            "_view_module_version": "1.2.0",
            "_view_name": "LayoutView",
            "align_content": null,
            "align_items": null,
            "align_self": null,
            "border": null,
            "bottom": null,
            "display": null,
            "flex": null,
            "flex_flow": null,
            "grid_area": null,
            "grid_auto_columns": null,
            "grid_auto_flow": null,
            "grid_auto_rows": null,
            "grid_column": null,
            "grid_gap": null,
            "grid_row": null,
            "grid_template_areas": null,
            "grid_template_columns": null,
            "grid_template_rows": null,
            "height": null,
            "justify_content": null,
            "justify_items": null,
            "left": null,
            "margin": null,
            "max_height": null,
            "max_width": null,
            "min_height": null,
            "min_width": null,
            "object_fit": null,
            "object_position": null,
            "order": null,
            "overflow": null,
            "overflow_x": null,
            "overflow_y": null,
            "padding": null,
            "right": null,
            "top": null,
            "visibility": null,
            "width": null
          }
        },
        "4f6592649f9a459b9f94f0fef99c0613": {
          "model_module": "@jupyter-widgets/output",
          "model_name": "OutputModel",
          "model_module_version": "1.0.0",
          "state": {
            "_dom_classes": [],
            "_model_module": "@jupyter-widgets/output",
            "_model_module_version": "1.0.0",
            "_model_name": "OutputModel",
            "_view_count": null,
            "_view_module": "@jupyter-widgets/output",
            "_view_module_version": "1.0.0",
            "_view_name": "OutputView",
            "layout": "IPY_MODEL_941e2a4bd33c47579ed59aa0d121a318",
            "msg_id": "",
            "outputs": [
              {
                "output_type": "display_data",
                "data": {
                  "text/plain": "Sampling chain 1, 0 divergences \u001b[32m━━━━━━━━━━━━━━━━━━━━━━━━━━━━━━━━━━━━━━━━\u001b[0m \u001b[35m100%\u001b[0m \u001b[36m0:00:00\u001b[0m / \u001b[33m0:00:27\u001b[0m\n",
                  "text/html": "<pre style=\"white-space:pre;overflow-x:auto;line-height:normal;font-family:Menlo,'DejaVu Sans Mono',consolas,'Courier New',monospace\">Sampling chain 1, 0 divergences <span style=\"color: #008000; text-decoration-color: #008000\">━━━━━━━━━━━━━━━━━━━━━━━━━━━━━━━━━━━━━━━━</span> <span style=\"color: #800080; text-decoration-color: #800080\">100%</span> <span style=\"color: #008080; text-decoration-color: #008080\">0:00:00</span> / <span style=\"color: #808000; text-decoration-color: #808000\">0:00:27</span>\n</pre>\n"
                },
                "metadata": {}
              }
            ]
          }
        },
        "941e2a4bd33c47579ed59aa0d121a318": {
          "model_module": "@jupyter-widgets/base",
          "model_name": "LayoutModel",
          "model_module_version": "1.2.0",
          "state": {
            "_model_module": "@jupyter-widgets/base",
            "_model_module_version": "1.2.0",
            "_model_name": "LayoutModel",
            "_view_count": null,
            "_view_module": "@jupyter-widgets/base",
            "_view_module_version": "1.2.0",
            "_view_name": "LayoutView",
            "align_content": null,
            "align_items": null,
            "align_self": null,
            "border": null,
            "bottom": null,
            "display": null,
            "flex": null,
            "flex_flow": null,
            "grid_area": null,
            "grid_auto_columns": null,
            "grid_auto_flow": null,
            "grid_auto_rows": null,
            "grid_column": null,
            "grid_gap": null,
            "grid_row": null,
            "grid_template_areas": null,
            "grid_template_columns": null,
            "grid_template_rows": null,
            "height": null,
            "justify_content": null,
            "justify_items": null,
            "left": null,
            "margin": null,
            "max_height": null,
            "max_width": null,
            "min_height": null,
            "min_width": null,
            "object_fit": null,
            "object_position": null,
            "order": null,
            "overflow": null,
            "overflow_x": null,
            "overflow_y": null,
            "padding": null,
            "right": null,
            "top": null,
            "visibility": null,
            "width": null
          }
        },
        "3432da50524649d5a26c69d4a718f857": {
          "model_module": "@jupyter-widgets/output",
          "model_name": "OutputModel",
          "model_module_version": "1.0.0",
          "state": {
            "_dom_classes": [],
            "_model_module": "@jupyter-widgets/output",
            "_model_module_version": "1.0.0",
            "_model_name": "OutputModel",
            "_view_count": null,
            "_view_module": "@jupyter-widgets/output",
            "_view_module_version": "1.0.0",
            "_view_name": "OutputView",
            "layout": "IPY_MODEL_72ebe628aaaa4829af59606b636dbdfd",
            "msg_id": "",
            "outputs": [
              {
                "output_type": "display_data",
                "data": {
                  "text/plain": "Sampling ... \u001b[32m━━━━━━━━━━━━━━━━━━━━━━━━━━━━━━━━━━━━━━━━\u001b[0m \u001b[35m100%\u001b[0m \u001b[36m0:00:00\u001b[0m / \u001b[33m0:00:01\u001b[0m\n",
                  "text/html": "<pre style=\"white-space:pre;overflow-x:auto;line-height:normal;font-family:Menlo,'DejaVu Sans Mono',consolas,'Courier New',monospace\">Sampling ... <span style=\"color: #008000; text-decoration-color: #008000\">━━━━━━━━━━━━━━━━━━━━━━━━━━━━━━━━━━━━━━━━</span> <span style=\"color: #800080; text-decoration-color: #800080\">100%</span> <span style=\"color: #008080; text-decoration-color: #008080\">0:00:00</span> / <span style=\"color: #808000; text-decoration-color: #808000\">0:00:01</span>\n</pre>\n"
                },
                "metadata": {}
              }
            ]
          }
        },
        "72ebe628aaaa4829af59606b636dbdfd": {
          "model_module": "@jupyter-widgets/base",
          "model_name": "LayoutModel",
          "model_module_version": "1.2.0",
          "state": {
            "_model_module": "@jupyter-widgets/base",
            "_model_module_version": "1.2.0",
            "_model_name": "LayoutModel",
            "_view_count": null,
            "_view_module": "@jupyter-widgets/base",
            "_view_module_version": "1.2.0",
            "_view_name": "LayoutView",
            "align_content": null,
            "align_items": null,
            "align_self": null,
            "border": null,
            "bottom": null,
            "display": null,
            "flex": null,
            "flex_flow": null,
            "grid_area": null,
            "grid_auto_columns": null,
            "grid_auto_flow": null,
            "grid_auto_rows": null,
            "grid_column": null,
            "grid_gap": null,
            "grid_row": null,
            "grid_template_areas": null,
            "grid_template_columns": null,
            "grid_template_rows": null,
            "height": null,
            "justify_content": null,
            "justify_items": null,
            "left": null,
            "margin": null,
            "max_height": null,
            "max_width": null,
            "min_height": null,
            "min_width": null,
            "object_fit": null,
            "object_position": null,
            "order": null,
            "overflow": null,
            "overflow_x": null,
            "overflow_y": null,
            "padding": null,
            "right": null,
            "top": null,
            "visibility": null,
            "width": null
          }
        },
        "f2e94b90ce144b13a414721d626ea52c": {
          "model_module": "@jupyter-widgets/output",
          "model_name": "OutputModel",
          "model_module_version": "1.0.0",
          "state": {
            "_dom_classes": [],
            "_model_module": "@jupyter-widgets/output",
            "_model_module_version": "1.0.0",
            "_model_name": "OutputModel",
            "_view_count": null,
            "_view_module": "@jupyter-widgets/output",
            "_view_module_version": "1.0.0",
            "_view_name": "OutputView",
            "layout": "IPY_MODEL_cceffd4cb8f141178ace2098bba38718",
            "msg_id": "",
            "outputs": [
              {
                "output_type": "display_data",
                "data": {
                  "text/plain": "Sampling chain 0, 0 divergences \u001b[32m━━━━━━━━━━━━━━━━━━━━━━━━━━━━━━━━━━━━━━━━\u001b[0m \u001b[35m100%\u001b[0m \u001b[36m0:00:00\u001b[0m / \u001b[33m0:00:34\u001b[0m\n",
                  "text/html": "<pre style=\"white-space:pre;overflow-x:auto;line-height:normal;font-family:Menlo,'DejaVu Sans Mono',consolas,'Courier New',monospace\">Sampling chain 0, 0 divergences <span style=\"color: #008000; text-decoration-color: #008000\">━━━━━━━━━━━━━━━━━━━━━━━━━━━━━━━━━━━━━━━━</span> <span style=\"color: #800080; text-decoration-color: #800080\">100%</span> <span style=\"color: #008080; text-decoration-color: #008080\">0:00:00</span> / <span style=\"color: #808000; text-decoration-color: #808000\">0:00:34</span>\n</pre>\n"
                },
                "metadata": {}
              }
            ]
          }
        },
        "cceffd4cb8f141178ace2098bba38718": {
          "model_module": "@jupyter-widgets/base",
          "model_name": "LayoutModel",
          "model_module_version": "1.2.0",
          "state": {
            "_model_module": "@jupyter-widgets/base",
            "_model_module_version": "1.2.0",
            "_model_name": "LayoutModel",
            "_view_count": null,
            "_view_module": "@jupyter-widgets/base",
            "_view_module_version": "1.2.0",
            "_view_name": "LayoutView",
            "align_content": null,
            "align_items": null,
            "align_self": null,
            "border": null,
            "bottom": null,
            "display": null,
            "flex": null,
            "flex_flow": null,
            "grid_area": null,
            "grid_auto_columns": null,
            "grid_auto_flow": null,
            "grid_auto_rows": null,
            "grid_column": null,
            "grid_gap": null,
            "grid_row": null,
            "grid_template_areas": null,
            "grid_template_columns": null,
            "grid_template_rows": null,
            "height": null,
            "justify_content": null,
            "justify_items": null,
            "left": null,
            "margin": null,
            "max_height": null,
            "max_width": null,
            "min_height": null,
            "min_width": null,
            "object_fit": null,
            "object_position": null,
            "order": null,
            "overflow": null,
            "overflow_x": null,
            "overflow_y": null,
            "padding": null,
            "right": null,
            "top": null,
            "visibility": null,
            "width": null
          }
        },
        "aa5b6abb176249d5916beb921393ea25": {
          "model_module": "@jupyter-widgets/output",
          "model_name": "OutputModel",
          "model_module_version": "1.0.0",
          "state": {
            "_dom_classes": [],
            "_model_module": "@jupyter-widgets/output",
            "_model_module_version": "1.0.0",
            "_model_name": "OutputModel",
            "_view_count": null,
            "_view_module": "@jupyter-widgets/output",
            "_view_module_version": "1.0.0",
            "_view_name": "OutputView",
            "layout": "IPY_MODEL_b8d6a7fa81e244cc8548252d19e3b450",
            "msg_id": "",
            "outputs": [
              {
                "output_type": "display_data",
                "data": {
                  "text/plain": "Sampling chain 1, 0 divergences \u001b[32m━━━━━━━━━━━━━━━━━━━━━━━━━━━━━━━━━━━━━━━━\u001b[0m \u001b[35m100%\u001b[0m \u001b[36m0:00:00\u001b[0m / \u001b[33m0:00:40\u001b[0m\n",
                  "text/html": "<pre style=\"white-space:pre;overflow-x:auto;line-height:normal;font-family:Menlo,'DejaVu Sans Mono',consolas,'Courier New',monospace\">Sampling chain 1, 0 divergences <span style=\"color: #008000; text-decoration-color: #008000\">━━━━━━━━━━━━━━━━━━━━━━━━━━━━━━━━━━━━━━━━</span> <span style=\"color: #800080; text-decoration-color: #800080\">100%</span> <span style=\"color: #008080; text-decoration-color: #008080\">0:00:00</span> / <span style=\"color: #808000; text-decoration-color: #808000\">0:00:40</span>\n</pre>\n"
                },
                "metadata": {}
              }
            ]
          }
        },
        "b8d6a7fa81e244cc8548252d19e3b450": {
          "model_module": "@jupyter-widgets/base",
          "model_name": "LayoutModel",
          "model_module_version": "1.2.0",
          "state": {
            "_model_module": "@jupyter-widgets/base",
            "_model_module_version": "1.2.0",
            "_model_name": "LayoutModel",
            "_view_count": null,
            "_view_module": "@jupyter-widgets/base",
            "_view_module_version": "1.2.0",
            "_view_name": "LayoutView",
            "align_content": null,
            "align_items": null,
            "align_self": null,
            "border": null,
            "bottom": null,
            "display": null,
            "flex": null,
            "flex_flow": null,
            "grid_area": null,
            "grid_auto_columns": null,
            "grid_auto_flow": null,
            "grid_auto_rows": null,
            "grid_column": null,
            "grid_gap": null,
            "grid_row": null,
            "grid_template_areas": null,
            "grid_template_columns": null,
            "grid_template_rows": null,
            "height": null,
            "justify_content": null,
            "justify_items": null,
            "left": null,
            "margin": null,
            "max_height": null,
            "max_width": null,
            "min_height": null,
            "min_width": null,
            "object_fit": null,
            "object_position": null,
            "order": null,
            "overflow": null,
            "overflow_x": null,
            "overflow_y": null,
            "padding": null,
            "right": null,
            "top": null,
            "visibility": null,
            "width": null
          }
        },
        "06aba12a7c9949a880710bbfc3fc700a": {
          "model_module": "@jupyter-widgets/output",
          "model_name": "OutputModel",
          "model_module_version": "1.0.0",
          "state": {
            "_dom_classes": [],
            "_model_module": "@jupyter-widgets/output",
            "_model_module_version": "1.0.0",
            "_model_name": "OutputModel",
            "_view_count": null,
            "_view_module": "@jupyter-widgets/output",
            "_view_module_version": "1.0.0",
            "_view_name": "OutputView",
            "layout": "IPY_MODEL_3de590151580465bb6f4fabbfb6d79d6",
            "msg_id": "",
            "outputs": [
              {
                "output_type": "display_data",
                "data": {
                  "text/plain": "Computing ... \u001b[32m━━━━━━━━━━━━━━━━━━━━━━━━━━━━━━━━━━━━━━━━\u001b[0m \u001b[35m100%\u001b[0m \u001b[36m0:00:00\u001b[0m\n",
                  "text/html": "<pre style=\"white-space:pre;overflow-x:auto;line-height:normal;font-family:Menlo,'DejaVu Sans Mono',consolas,'Courier New',monospace\">Computing ... <span style=\"color: #008000; text-decoration-color: #008000\">━━━━━━━━━━━━━━━━━━━━━━━━━━━━━━━━━━━━━━━━</span> <span style=\"color: #800080; text-decoration-color: #800080\">100%</span> <span style=\"color: #008080; text-decoration-color: #008080\">0:00:00</span>\n</pre>\n"
                },
                "metadata": {}
              }
            ]
          }
        },
        "3de590151580465bb6f4fabbfb6d79d6": {
          "model_module": "@jupyter-widgets/base",
          "model_name": "LayoutModel",
          "model_module_version": "1.2.0",
          "state": {
            "_model_module": "@jupyter-widgets/base",
            "_model_module_version": "1.2.0",
            "_model_name": "LayoutModel",
            "_view_count": null,
            "_view_module": "@jupyter-widgets/base",
            "_view_module_version": "1.2.0",
            "_view_name": "LayoutView",
            "align_content": null,
            "align_items": null,
            "align_self": null,
            "border": null,
            "bottom": null,
            "display": null,
            "flex": null,
            "flex_flow": null,
            "grid_area": null,
            "grid_auto_columns": null,
            "grid_auto_flow": null,
            "grid_auto_rows": null,
            "grid_column": null,
            "grid_gap": null,
            "grid_row": null,
            "grid_template_areas": null,
            "grid_template_columns": null,
            "grid_template_rows": null,
            "height": null,
            "justify_content": null,
            "justify_items": null,
            "left": null,
            "margin": null,
            "max_height": null,
            "max_width": null,
            "min_height": null,
            "min_width": null,
            "object_fit": null,
            "object_position": null,
            "order": null,
            "overflow": null,
            "overflow_x": null,
            "overflow_y": null,
            "padding": null,
            "right": null,
            "top": null,
            "visibility": null,
            "width": null
          }
        },
        "e0282e8bd3684ed3af7e5d4c772a312a": {
          "model_module": "@jupyter-widgets/output",
          "model_name": "OutputModel",
          "model_module_version": "1.0.0",
          "state": {
            "_dom_classes": [],
            "_model_module": "@jupyter-widgets/output",
            "_model_module_version": "1.0.0",
            "_model_name": "OutputModel",
            "_view_count": null,
            "_view_module": "@jupyter-widgets/output",
            "_view_module_version": "1.0.0",
            "_view_name": "OutputView",
            "layout": "IPY_MODEL_a9cd742543e34137bf821c2ad812c233",
            "msg_id": "",
            "outputs": [
              {
                "output_type": "display_data",
                "data": {
                  "text/plain": "Sampling ... \u001b[32m━━━━━━━━━━━━━━━━━━━━━━━━━━━━━━━━━━━━━━━━\u001b[0m \u001b[35m100%\u001b[0m \u001b[36m0:00:00\u001b[0m / \u001b[33m0:00:01\u001b[0m\n",
                  "text/html": "<pre style=\"white-space:pre;overflow-x:auto;line-height:normal;font-family:Menlo,'DejaVu Sans Mono',consolas,'Courier New',monospace\">Sampling ... <span style=\"color: #008000; text-decoration-color: #008000\">━━━━━━━━━━━━━━━━━━━━━━━━━━━━━━━━━━━━━━━━</span> <span style=\"color: #800080; text-decoration-color: #800080\">100%</span> <span style=\"color: #008080; text-decoration-color: #008080\">0:00:00</span> / <span style=\"color: #808000; text-decoration-color: #808000\">0:00:01</span>\n</pre>\n"
                },
                "metadata": {}
              }
            ]
          }
        },
        "a9cd742543e34137bf821c2ad812c233": {
          "model_module": "@jupyter-widgets/base",
          "model_name": "LayoutModel",
          "model_module_version": "1.2.0",
          "state": {
            "_model_module": "@jupyter-widgets/base",
            "_model_module_version": "1.2.0",
            "_model_name": "LayoutModel",
            "_view_count": null,
            "_view_module": "@jupyter-widgets/base",
            "_view_module_version": "1.2.0",
            "_view_name": "LayoutView",
            "align_content": null,
            "align_items": null,
            "align_self": null,
            "border": null,
            "bottom": null,
            "display": null,
            "flex": null,
            "flex_flow": null,
            "grid_area": null,
            "grid_auto_columns": null,
            "grid_auto_flow": null,
            "grid_auto_rows": null,
            "grid_column": null,
            "grid_gap": null,
            "grid_row": null,
            "grid_template_areas": null,
            "grid_template_columns": null,
            "grid_template_rows": null,
            "height": null,
            "justify_content": null,
            "justify_items": null,
            "left": null,
            "margin": null,
            "max_height": null,
            "max_width": null,
            "min_height": null,
            "min_width": null,
            "object_fit": null,
            "object_position": null,
            "order": null,
            "overflow": null,
            "overflow_x": null,
            "overflow_y": null,
            "padding": null,
            "right": null,
            "top": null,
            "visibility": null,
            "width": null
          }
        },
        "404a58977eeb4a07912662bc047021c0": {
          "model_module": "@jupyter-widgets/output",
          "model_name": "OutputModel",
          "model_module_version": "1.0.0",
          "state": {
            "_dom_classes": [],
            "_model_module": "@jupyter-widgets/output",
            "_model_module_version": "1.0.0",
            "_model_name": "OutputModel",
            "_view_count": null,
            "_view_module": "@jupyter-widgets/output",
            "_view_module_version": "1.0.0",
            "_view_name": "OutputView",
            "layout": "IPY_MODEL_96ae4085f6bb40548e501d3932ae0a6a",
            "msg_id": "",
            "outputs": [
              {
                "output_type": "display_data",
                "data": {
                  "text/plain": "Sampling chain 0, 0 divergences \u001b[32m━━━━━━━━━━━━━━━━━━━━━━━━━━━━━━━━━━━━━━━━\u001b[0m \u001b[35m100%\u001b[0m \u001b[36m0:00:00\u001b[0m / \u001b[33m0:00:40\u001b[0m\n",
                  "text/html": "<pre style=\"white-space:pre;overflow-x:auto;line-height:normal;font-family:Menlo,'DejaVu Sans Mono',consolas,'Courier New',monospace\">Sampling chain 0, 0 divergences <span style=\"color: #008000; text-decoration-color: #008000\">━━━━━━━━━━━━━━━━━━━━━━━━━━━━━━━━━━━━━━━━</span> <span style=\"color: #800080; text-decoration-color: #800080\">100%</span> <span style=\"color: #008080; text-decoration-color: #008080\">0:00:00</span> / <span style=\"color: #808000; text-decoration-color: #808000\">0:00:40</span>\n</pre>\n"
                },
                "metadata": {}
              }
            ]
          }
        },
        "96ae4085f6bb40548e501d3932ae0a6a": {
          "model_module": "@jupyter-widgets/base",
          "model_name": "LayoutModel",
          "model_module_version": "1.2.0",
          "state": {
            "_model_module": "@jupyter-widgets/base",
            "_model_module_version": "1.2.0",
            "_model_name": "LayoutModel",
            "_view_count": null,
            "_view_module": "@jupyter-widgets/base",
            "_view_module_version": "1.2.0",
            "_view_name": "LayoutView",
            "align_content": null,
            "align_items": null,
            "align_self": null,
            "border": null,
            "bottom": null,
            "display": null,
            "flex": null,
            "flex_flow": null,
            "grid_area": null,
            "grid_auto_columns": null,
            "grid_auto_flow": null,
            "grid_auto_rows": null,
            "grid_column": null,
            "grid_gap": null,
            "grid_row": null,
            "grid_template_areas": null,
            "grid_template_columns": null,
            "grid_template_rows": null,
            "height": null,
            "justify_content": null,
            "justify_items": null,
            "left": null,
            "margin": null,
            "max_height": null,
            "max_width": null,
            "min_height": null,
            "min_width": null,
            "object_fit": null,
            "object_position": null,
            "order": null,
            "overflow": null,
            "overflow_x": null,
            "overflow_y": null,
            "padding": null,
            "right": null,
            "top": null,
            "visibility": null,
            "width": null
          }
        },
        "79032bedafa84c159d5652049895426d": {
          "model_module": "@jupyter-widgets/output",
          "model_name": "OutputModel",
          "model_module_version": "1.0.0",
          "state": {
            "_dom_classes": [],
            "_model_module": "@jupyter-widgets/output",
            "_model_module_version": "1.0.0",
            "_model_name": "OutputModel",
            "_view_count": null,
            "_view_module": "@jupyter-widgets/output",
            "_view_module_version": "1.0.0",
            "_view_name": "OutputView",
            "layout": "IPY_MODEL_b104bd058d804f8ebe05a5a5eb7ce185",
            "msg_id": "",
            "outputs": [
              {
                "output_type": "display_data",
                "data": {
                  "text/plain": "Sampling chain 1, 0 divergences \u001b[32m━━━━━━━━━━━━━━━━━━━━━━━━━━━━━━━━━━━━━━━━\u001b[0m \u001b[35m100%\u001b[0m \u001b[36m0:00:00\u001b[0m / \u001b[33m0:00:41\u001b[0m\n",
                  "text/html": "<pre style=\"white-space:pre;overflow-x:auto;line-height:normal;font-family:Menlo,'DejaVu Sans Mono',consolas,'Courier New',monospace\">Sampling chain 1, 0 divergences <span style=\"color: #008000; text-decoration-color: #008000\">━━━━━━━━━━━━━━━━━━━━━━━━━━━━━━━━━━━━━━━━</span> <span style=\"color: #800080; text-decoration-color: #800080\">100%</span> <span style=\"color: #008080; text-decoration-color: #008080\">0:00:00</span> / <span style=\"color: #808000; text-decoration-color: #808000\">0:00:41</span>\n</pre>\n"
                },
                "metadata": {}
              }
            ]
          }
        },
        "b104bd058d804f8ebe05a5a5eb7ce185": {
          "model_module": "@jupyter-widgets/base",
          "model_name": "LayoutModel",
          "model_module_version": "1.2.0",
          "state": {
            "_model_module": "@jupyter-widgets/base",
            "_model_module_version": "1.2.0",
            "_model_name": "LayoutModel",
            "_view_count": null,
            "_view_module": "@jupyter-widgets/base",
            "_view_module_version": "1.2.0",
            "_view_name": "LayoutView",
            "align_content": null,
            "align_items": null,
            "align_self": null,
            "border": null,
            "bottom": null,
            "display": null,
            "flex": null,
            "flex_flow": null,
            "grid_area": null,
            "grid_auto_columns": null,
            "grid_auto_flow": null,
            "grid_auto_rows": null,
            "grid_column": null,
            "grid_gap": null,
            "grid_row": null,
            "grid_template_areas": null,
            "grid_template_columns": null,
            "grid_template_rows": null,
            "height": null,
            "justify_content": null,
            "justify_items": null,
            "left": null,
            "margin": null,
            "max_height": null,
            "max_width": null,
            "min_height": null,
            "min_width": null,
            "object_fit": null,
            "object_position": null,
            "order": null,
            "overflow": null,
            "overflow_x": null,
            "overflow_y": null,
            "padding": null,
            "right": null,
            "top": null,
            "visibility": null,
            "width": null
          }
        },
        "02b0f6f48f9348b19b7052bbbe5687c8": {
          "model_module": "@jupyter-widgets/output",
          "model_name": "OutputModel",
          "model_module_version": "1.0.0",
          "state": {
            "_dom_classes": [],
            "_model_module": "@jupyter-widgets/output",
            "_model_module_version": "1.0.0",
            "_model_name": "OutputModel",
            "_view_count": null,
            "_view_module": "@jupyter-widgets/output",
            "_view_module_version": "1.0.0",
            "_view_name": "OutputView",
            "layout": "IPY_MODEL_0fdd9fe5343142c392c7a053e02514e1",
            "msg_id": "",
            "outputs": [
              {
                "output_type": "display_data",
                "data": {
                  "text/plain": "Sampling ... \u001b[32m━━━━━━━━━━━━━━━━━━━━━━━━━━━━━━━━━━━━━━━━\u001b[0m \u001b[35m100%\u001b[0m \u001b[36m0:00:00\u001b[0m / \u001b[33m0:00:02\u001b[0m\n",
                  "text/html": "<pre style=\"white-space:pre;overflow-x:auto;line-height:normal;font-family:Menlo,'DejaVu Sans Mono',consolas,'Courier New',monospace\">Sampling ... <span style=\"color: #008000; text-decoration-color: #008000\">━━━━━━━━━━━━━━━━━━━━━━━━━━━━━━━━━━━━━━━━</span> <span style=\"color: #800080; text-decoration-color: #800080\">100%</span> <span style=\"color: #008080; text-decoration-color: #008080\">0:00:00</span> / <span style=\"color: #808000; text-decoration-color: #808000\">0:00:02</span>\n</pre>\n"
                },
                "metadata": {}
              }
            ]
          }
        },
        "0fdd9fe5343142c392c7a053e02514e1": {
          "model_module": "@jupyter-widgets/base",
          "model_name": "LayoutModel",
          "model_module_version": "1.2.0",
          "state": {
            "_model_module": "@jupyter-widgets/base",
            "_model_module_version": "1.2.0",
            "_model_name": "LayoutModel",
            "_view_count": null,
            "_view_module": "@jupyter-widgets/base",
            "_view_module_version": "1.2.0",
            "_view_name": "LayoutView",
            "align_content": null,
            "align_items": null,
            "align_self": null,
            "border": null,
            "bottom": null,
            "display": null,
            "flex": null,
            "flex_flow": null,
            "grid_area": null,
            "grid_auto_columns": null,
            "grid_auto_flow": null,
            "grid_auto_rows": null,
            "grid_column": null,
            "grid_gap": null,
            "grid_row": null,
            "grid_template_areas": null,
            "grid_template_columns": null,
            "grid_template_rows": null,
            "height": null,
            "justify_content": null,
            "justify_items": null,
            "left": null,
            "margin": null,
            "max_height": null,
            "max_width": null,
            "min_height": null,
            "min_width": null,
            "object_fit": null,
            "object_position": null,
            "order": null,
            "overflow": null,
            "overflow_x": null,
            "overflow_y": null,
            "padding": null,
            "right": null,
            "top": null,
            "visibility": null,
            "width": null
          }
        },
        "0d75a7cc6fd443159063ffc61f669024": {
          "model_module": "@jupyter-widgets/output",
          "model_name": "OutputModel",
          "model_module_version": "1.0.0",
          "state": {
            "_dom_classes": [],
            "_model_module": "@jupyter-widgets/output",
            "_model_module_version": "1.0.0",
            "_model_name": "OutputModel",
            "_view_count": null,
            "_view_module": "@jupyter-widgets/output",
            "_view_module_version": "1.0.0",
            "_view_name": "OutputView",
            "layout": "IPY_MODEL_4189f8dd120a4744b9ccd784a7c94c7a",
            "msg_id": "",
            "outputs": [
              {
                "output_type": "display_data",
                "data": {
                  "text/plain": "Computing ... \u001b[32m━━━━━━━━━━━━━━━━━━━━━━━━━━━━━━━━━━━━━━━━\u001b[0m \u001b[35m100%\u001b[0m \u001b[36m0:00:00\u001b[0m\n",
                  "text/html": "<pre style=\"white-space:pre;overflow-x:auto;line-height:normal;font-family:Menlo,'DejaVu Sans Mono',consolas,'Courier New',monospace\">Computing ... <span style=\"color: #008000; text-decoration-color: #008000\">━━━━━━━━━━━━━━━━━━━━━━━━━━━━━━━━━━━━━━━━</span> <span style=\"color: #800080; text-decoration-color: #800080\">100%</span> <span style=\"color: #008080; text-decoration-color: #008080\">0:00:00</span>\n</pre>\n"
                },
                "metadata": {}
              }
            ]
          }
        },
        "4189f8dd120a4744b9ccd784a7c94c7a": {
          "model_module": "@jupyter-widgets/base",
          "model_name": "LayoutModel",
          "model_module_version": "1.2.0",
          "state": {
            "_model_module": "@jupyter-widgets/base",
            "_model_module_version": "1.2.0",
            "_model_name": "LayoutModel",
            "_view_count": null,
            "_view_module": "@jupyter-widgets/base",
            "_view_module_version": "1.2.0",
            "_view_name": "LayoutView",
            "align_content": null,
            "align_items": null,
            "align_self": null,
            "border": null,
            "bottom": null,
            "display": null,
            "flex": null,
            "flex_flow": null,
            "grid_area": null,
            "grid_auto_columns": null,
            "grid_auto_flow": null,
            "grid_auto_rows": null,
            "grid_column": null,
            "grid_gap": null,
            "grid_row": null,
            "grid_template_areas": null,
            "grid_template_columns": null,
            "grid_template_rows": null,
            "height": null,
            "justify_content": null,
            "justify_items": null,
            "left": null,
            "margin": null,
            "max_height": null,
            "max_width": null,
            "min_height": null,
            "min_width": null,
            "object_fit": null,
            "object_position": null,
            "order": null,
            "overflow": null,
            "overflow_x": null,
            "overflow_y": null,
            "padding": null,
            "right": null,
            "top": null,
            "visibility": null,
            "width": null
          }
        },
        "a333e94b1c904b2b80b07114a13b4fa6": {
          "model_module": "@jupyter-widgets/output",
          "model_name": "OutputModel",
          "model_module_version": "1.0.0",
          "state": {
            "_dom_classes": [],
            "_model_module": "@jupyter-widgets/output",
            "_model_module_version": "1.0.0",
            "_model_name": "OutputModel",
            "_view_count": null,
            "_view_module": "@jupyter-widgets/output",
            "_view_module_version": "1.0.0",
            "_view_name": "OutputView",
            "layout": "IPY_MODEL_f7c9ba99c1ed4562a8cbacd35d0a84bf",
            "msg_id": "",
            "outputs": [
              {
                "output_type": "display_data",
                "data": {
                  "text/plain": "Sampling chain 0, 0 divergences \u001b[38;2;23;100;244m━━━━━\u001b[0m\u001b[38;2;23;100;244m╸\u001b[0m\u001b[38;5;237m━━━━━━━━━━━━━━━━━━━━━━━━━━━━━━━━━━\u001b[0m \u001b[35m 14%\u001b[0m \u001b[36m0:00:50\u001b[0m / \u001b[33m0:00:08\u001b[0m\n",
                  "text/html": "<pre style=\"white-space:pre;overflow-x:auto;line-height:normal;font-family:Menlo,'DejaVu Sans Mono',consolas,'Courier New',monospace\">Sampling chain 0, 0 divergences <span style=\"color: #1764f4; text-decoration-color: #1764f4\">━━━━━╸</span><span style=\"color: #3a3a3a; text-decoration-color: #3a3a3a\">━━━━━━━━━━━━━━━━━━━━━━━━━━━━━━━━━━</span> <span style=\"color: #800080; text-decoration-color: #800080\"> 14%</span> <span style=\"color: #008080; text-decoration-color: #008080\">0:00:50</span> / <span style=\"color: #808000; text-decoration-color: #808000\">0:00:08</span>\n</pre>\n"
                },
                "metadata": {}
              }
            ]
          }
        },
        "f7c9ba99c1ed4562a8cbacd35d0a84bf": {
          "model_module": "@jupyter-widgets/base",
          "model_name": "LayoutModel",
          "model_module_version": "1.2.0",
          "state": {
            "_model_module": "@jupyter-widgets/base",
            "_model_module_version": "1.2.0",
            "_model_name": "LayoutModel",
            "_view_count": null,
            "_view_module": "@jupyter-widgets/base",
            "_view_module_version": "1.2.0",
            "_view_name": "LayoutView",
            "align_content": null,
            "align_items": null,
            "align_self": null,
            "border": null,
            "bottom": null,
            "display": null,
            "flex": null,
            "flex_flow": null,
            "grid_area": null,
            "grid_auto_columns": null,
            "grid_auto_flow": null,
            "grid_auto_rows": null,
            "grid_column": null,
            "grid_gap": null,
            "grid_row": null,
            "grid_template_areas": null,
            "grid_template_columns": null,
            "grid_template_rows": null,
            "height": null,
            "justify_content": null,
            "justify_items": null,
            "left": null,
            "margin": null,
            "max_height": null,
            "max_width": null,
            "min_height": null,
            "min_width": null,
            "object_fit": null,
            "object_position": null,
            "order": null,
            "overflow": null,
            "overflow_x": null,
            "overflow_y": null,
            "padding": null,
            "right": null,
            "top": null,
            "visibility": null,
            "width": null
          }
        }
      }
    }
  },
  "cells": [
    {
      "cell_type": "markdown",
      "metadata": {
        "id": "view-in-github",
        "colab_type": "text"
      },
      "source": [
        "<a href=\"https://colab.research.google.com/github/AnabelleSouza/CRUD_PDO-CONTEINER/blob/main/wine_2.ipynb\" target=\"_parent\"><img src=\"https://colab.research.google.com/assets/colab-badge.svg\" alt=\"Open In Colab\"/></a>"
      ]
    },
    {
      "cell_type": "markdown",
      "source": [
        "#Exercício 2\n"
      ],
      "metadata": {
        "id": "SAIUbsY4y91S"
      }
    },
    {
      "cell_type": "code",
      "source": [
        "pip install ucimlrepo"
      ],
      "metadata": {
        "id": "NKWFsAtOzECZ",
        "colab": {
          "base_uri": "https://localhost:8080/"
        },
        "outputId": "00d4d3ab-4514-4a96-bf25-bebe5df2b09c"
      },
      "execution_count": 2,
      "outputs": [
        {
          "output_type": "stream",
          "name": "stdout",
          "text": [
            "Collecting ucimlrepo\n",
            "  Downloading ucimlrepo-0.0.7-py3-none-any.whl.metadata (5.5 kB)\n",
            "Requirement already satisfied: pandas>=1.0.0 in /usr/local/lib/python3.10/dist-packages (from ucimlrepo) (2.1.4)\n",
            "Requirement already satisfied: certifi>=2020.12.5 in /usr/local/lib/python3.10/dist-packages (from ucimlrepo) (2024.8.30)\n",
            "Requirement already satisfied: numpy<2,>=1.22.4 in /usr/local/lib/python3.10/dist-packages (from pandas>=1.0.0->ucimlrepo) (1.26.4)\n",
            "Requirement already satisfied: python-dateutil>=2.8.2 in /usr/local/lib/python3.10/dist-packages (from pandas>=1.0.0->ucimlrepo) (2.8.2)\n",
            "Requirement already satisfied: pytz>=2020.1 in /usr/local/lib/python3.10/dist-packages (from pandas>=1.0.0->ucimlrepo) (2024.2)\n",
            "Requirement already satisfied: tzdata>=2022.1 in /usr/local/lib/python3.10/dist-packages (from pandas>=1.0.0->ucimlrepo) (2024.1)\n",
            "Requirement already satisfied: six>=1.5 in /usr/local/lib/python3.10/dist-packages (from python-dateutil>=2.8.2->pandas>=1.0.0->ucimlrepo) (1.16.0)\n",
            "Downloading ucimlrepo-0.0.7-py3-none-any.whl (8.0 kB)\n",
            "Installing collected packages: ucimlrepo\n",
            "Successfully installed ucimlrepo-0.0.7\n"
          ]
        }
      ]
    },
    {
      "cell_type": "code",
      "source": [
        "from ucimlrepo import fetch_ucirepo\n",
        "\n",
        "# fetch dataset\n",
        "wine_quality = fetch_ucirepo(id=186)\n",
        "\n",
        "# data (as pandas dataframes)\n",
        "X = wine_quality.data.features\n",
        "y = wine_quality.data.targets\n",
        "\n",
        "# metadata\n",
        "print(wine_quality.metadata)\n",
        "\n",
        "# variable information\n",
        "print(wine_quality.variables)\n"
      ],
      "metadata": {
        "colab": {
          "base_uri": "https://localhost:8080/"
        },
        "id": "OI44Pcp31_dL",
        "outputId": "88a88a4b-4eeb-4547-cdd2-35d9fd1aeeaf"
      },
      "execution_count": 3,
      "outputs": [
        {
          "output_type": "stream",
          "name": "stdout",
          "text": [
            "{'uci_id': 186, 'name': 'Wine Quality', 'repository_url': 'https://archive.ics.uci.edu/dataset/186/wine+quality', 'data_url': 'https://archive.ics.uci.edu/static/public/186/data.csv', 'abstract': 'Two datasets are included, related to red and white vinho verde wine samples, from the north of Portugal. The goal is to model wine quality based on physicochemical tests (see [Cortez et al., 2009], http://www3.dsi.uminho.pt/pcortez/wine/).', 'area': 'Business', 'tasks': ['Classification', 'Regression'], 'characteristics': ['Multivariate'], 'num_instances': 4898, 'num_features': 11, 'feature_types': ['Real'], 'demographics': [], 'target_col': ['quality'], 'index_col': None, 'has_missing_values': 'no', 'missing_values_symbol': None, 'year_of_dataset_creation': 2009, 'last_updated': 'Wed Nov 15 2023', 'dataset_doi': '10.24432/C56S3T', 'creators': ['Paulo Cortez', 'A. Cerdeira', 'F. Almeida', 'T. Matos', 'J. Reis'], 'intro_paper': {'ID': 252, 'type': 'NATIVE', 'title': 'Modeling wine preferences by data mining from physicochemical properties', 'authors': 'P. Cortez, A. Cerdeira, Fernando Almeida, Telmo Matos, J. Reis', 'venue': 'Decision Support Systems', 'year': 2009, 'journal': None, 'DOI': None, 'URL': 'https://www.semanticscholar.org/paper/Modeling-wine-preferences-by-data-mining-from-Cortez-Cerdeira/bf15a0ccc14ac1deb5cea570c870389c16be019c', 'sha': None, 'corpus': None, 'arxiv': None, 'mag': None, 'acl': None, 'pmid': None, 'pmcid': None}, 'additional_info': {'summary': 'The two datasets are related to red and white variants of the Portuguese \"Vinho Verde\" wine. For more details, consult: http://www.vinhoverde.pt/en/ or the reference [Cortez et al., 2009].  Due to privacy and logistic issues, only physicochemical (inputs) and sensory (the output) variables are available (e.g. there is no data about grape types, wine brand, wine selling price, etc.).\\n\\nThese datasets can be viewed as classification or regression tasks.  The classes are ordered and not balanced (e.g. there are many more normal wines than excellent or poor ones). Outlier detection algorithms could be used to detect the few excellent or poor wines. Also, we are not sure if all input variables are relevant. So it could be interesting to test feature selection methods.\\n', 'purpose': None, 'funded_by': None, 'instances_represent': None, 'recommended_data_splits': None, 'sensitive_data': None, 'preprocessing_description': None, 'variable_info': 'For more information, read [Cortez et al., 2009].\\r\\nInput variables (based on physicochemical tests):\\r\\n   1 - fixed acidity\\r\\n   2 - volatile acidity\\r\\n   3 - citric acid\\r\\n   4 - residual sugar\\r\\n   5 - chlorides\\r\\n   6 - free sulfur dioxide\\r\\n   7 - total sulfur dioxide\\r\\n   8 - density\\r\\n   9 - pH\\r\\n   10 - sulphates\\r\\n   11 - alcohol\\r\\nOutput variable (based on sensory data): \\r\\n   12 - quality (score between 0 and 10)', 'citation': None}}\n",
            "                    name     role         type demographic  \\\n",
            "0          fixed_acidity  Feature   Continuous        None   \n",
            "1       volatile_acidity  Feature   Continuous        None   \n",
            "2            citric_acid  Feature   Continuous        None   \n",
            "3         residual_sugar  Feature   Continuous        None   \n",
            "4              chlorides  Feature   Continuous        None   \n",
            "5    free_sulfur_dioxide  Feature   Continuous        None   \n",
            "6   total_sulfur_dioxide  Feature   Continuous        None   \n",
            "7                density  Feature   Continuous        None   \n",
            "8                     pH  Feature   Continuous        None   \n",
            "9              sulphates  Feature   Continuous        None   \n",
            "10               alcohol  Feature   Continuous        None   \n",
            "11               quality   Target      Integer        None   \n",
            "12                 color    Other  Categorical        None   \n",
            "\n",
            "               description units missing_values  \n",
            "0                     None  None             no  \n",
            "1                     None  None             no  \n",
            "2                     None  None             no  \n",
            "3                     None  None             no  \n",
            "4                     None  None             no  \n",
            "5                     None  None             no  \n",
            "6                     None  None             no  \n",
            "7                     None  None             no  \n",
            "8                     None  None             no  \n",
            "9                     None  None             no  \n",
            "10                    None  None             no  \n",
            "11  score between 0 and 10  None             no  \n",
            "12            red or white  None             no  \n"
          ]
        }
      ]
    },
    {
      "cell_type": "code",
      "source": [
        "import pandas as pd\n",
        "from sklearn.linear_model import Ridge, Lasso\n",
        "from sklearn.model_selection import train_test_split\n",
        "from sklearn.preprocessing import StandardScaler\n",
        "import pymc as pm\n",
        "import numpy as np\n",
        "import arviz as az\n",
        "\n"
      ],
      "metadata": {
        "id": "hkK0eZfN2CsG"
      },
      "execution_count": 4,
      "outputs": []
    },
    {
      "cell_type": "code",
      "source": [
        "# Padronizar os dados\n",
        "scaler = StandardScaler()\n",
        "X_scaled = scaler.fit_transform(X)\n",
        "\n",
        "# Separar dados em treino e teste\n",
        "X_train, X_test, y_train, y_test = train_test_split(X_scaled, y, test_size=0.3, random_state=42)\n"
      ],
      "metadata": {
        "id": "DFm9BHsY23c4"
      },
      "execution_count": 5,
      "outputs": []
    },
    {
      "cell_type": "code",
      "source": [
        "import matplotlib.pyplot as plt\n",
        "import seaborn as sns\n",
        "import numpy as np\n",
        "import arviz as az\n",
        "\n",
        "\n",
        "def analise_priori(trace, y):\n",
        "    fig, axes = plt.subplots(3, 2, figsize=(10, 10), gridspec_kw={'hspace': 0.4, 'wspace': 0.3})\n",
        "\n",
        "    # Acessar os valores dos betas a partir do grupo 'prior'\n",
        "    betas_values = trace.prior['betas'].values.flatten()  # Acessa os betas do grupo 'prior' e achata\n",
        "    sns.histplot(betas_values, bins=20, kde=True, ax=axes[0][0])\n",
        "    axes[0][0].set_xlabel(\"Betas\")\n",
        "    axes[0][0].set_ylabel(\"Contagem\")\n",
        "\n",
        "    # Histograma para as previsões da variável dependente (priors)\n",
        "    y_obs_values = trace.prior_predictive['Y_obs'].values.flatten()  # Acessa as previsões a priori de Y_obs\n",
        "    sns.histplot(y_obs_values, bins=20, kde=True, ax=axes[0][1])\n",
        "    axes[0][1].set_xlabel(\"Previsões a Priori (Y_obs)\")\n",
        "    axes[0][1].set_ylabel(\"Contagem\")\n",
        "\n",
        "    # Previsões a priori\n",
        "    prior_samples = trace.prior_predictive['Y_obs'].values  # Acessa os valores de Y_obs a partir da distribuição preditiva\n",
        "    prior_samples_reshaped = prior_samples.reshape(len(y), -1)\n",
        "\n",
        "    # Cálculo da média e desvio padrão das previsões a priori\n",
        "    mean_pred = np.mean(prior_samples_reshaped, axis=1)\n",
        "    std_pred = np.std(prior_samples_reshaped, axis=1)\n",
        "\n",
        "    # Plotar as previsões médias a priori\n",
        "    sns.lineplot(x=range(len(y)), y=mean_pred, ax=axes[1][0])\n",
        "    axes[1][0].fill_between(range(len(y)), mean_pred - std_pred, mean_pred + std_pred, alpha=0.2)\n",
        "\n",
        "    axes[1][0].set_title(\"Previsões a Priori\")\n",
        "    axes[1][0].set_xlabel(\"Observado\")\n",
        "    axes[1][0].set_ylabel(\"Previsões\")\n",
        "    axes[1][0].legend(['Previsões Médias'])\n",
        "\n",
        "    # Gráficos cumulativos da priori usando Arviz\n",
        "    az.plot_ppc(trace, group='prior', kind='cumulative', ax=axes[2][0], observed=True)\n",
        "    az.plot_ppc(trace, group='prior', ax=axes[2][1], observed=True)\n",
        "\n",
        "    plt.tight_layout()\n",
        "    return fig, axes"
      ],
      "metadata": {
        "id": "27DCx4AA24Ww"
      },
      "execution_count": 6,
      "outputs": []
    },
    {
      "cell_type": "markdown",
      "source": [
        "RIDGE"
      ],
      "metadata": {
        "id": "-6yXB1-E7Mjx"
      }
    },
    {
      "cell_type": "code",
      "source": [
        "import pymc as pm\n",
        "import arviz as az\n",
        "import pytensor.tensor as pt\n",
        "import numpy as np\n",
        "from sklearn.preprocessing import StandardScaler\n",
        "from sklearn.model_selection import train_test_split\n",
        "\n",
        "# Certificar que y tenha a forma correta\n",
        "y = np.array(y).reshape(-1)  # Garante que y seja um vetor unidimensional\n",
        "\n",
        "# Definir as coordenadas do modelo (quantidade de features)\n",
        "coords = {'features': np.arange(X_scaled.shape[1])}\n",
        "\n",
        "# Criar o modelo Ridge Bayesiano\n",
        "with pm.Model(coords=coords) as model_ridge:\n",
        "    # Priori para o intercepto (alpha)\n",
        "    alpha = pm.Normal('alpha', mu=0, sigma=10)\n",
        "\n",
        "    # Priori para os coeficientes de regressão (betas)\n",
        "    betas = pm.Normal('betas', mu=0, sigma=10, dims='features')\n",
        "\n",
        "    # Priori para o desvio padrão do erro (epsilon)\n",
        "    epsilon = pm.Gamma('epsilon', alpha=2, beta=1)  # Gamma prior para epsilon\n",
        "\n",
        "    # Definir a equação do modelo linear\n",
        "    mu = alpha + pt.dot(X_scaled, betas)  # Substituir tt.dot por pt.dot\n",
        "\n",
        "    # Definir a verossimilhança (Normal)\n",
        "    likelihood = pm.Normal('Y_obs', mu=mu, sigma=epsilon, observed=y)\n",
        "\n",
        "    # Amostrar da distribuição a priori (para análise a priori)\n",
        "    ridge_trace_prior = pm.sample_prior_predictive()\n",
        "\n",
        "    # Amostrar da distribuição posterior (para ajuste do modelo)\n",
        "    trace_ridge = pm.sample(1000, tune=1000, target_accept=0.95)\n",
        "\n",
        "# Exibir o resumo dos parâmetros ajustados\n",
        "\n",
        "az.summary(trace_ridge)"
      ],
      "metadata": {
        "colab": {
          "base_uri": "https://localhost:8080/",
          "height": 492,
          "referenced_widgets": [
            "40e90e4057634533bd809ccac2681685",
            "44138b5c756644f9917dfef9d2cc5e14",
            "a73efc4a0aa44fdca8adf2e413373cc8",
            "a86e954468174e2e9db80c8491ad59b4"
          ]
        },
        "id": "SZB1MjhZ3Dwt",
        "outputId": "fc4bb7d0-d3f9-4ff6-c906-9bab059dbbfb"
      },
      "execution_count": 7,
      "outputs": [
        {
          "output_type": "display_data",
          "data": {
            "text/plain": [
              "Output()"
            ],
            "application/vnd.jupyter.widget-view+json": {
              "version_major": 2,
              "version_minor": 0,
              "model_id": "40e90e4057634533bd809ccac2681685"
            }
          },
          "metadata": {}
        },
        {
          "output_type": "display_data",
          "data": {
            "text/plain": [],
            "text/html": [
              "<pre style=\"white-space:pre;overflow-x:auto;line-height:normal;font-family:Menlo,'DejaVu Sans Mono',consolas,'Courier New',monospace\"></pre>\n"
            ]
          },
          "metadata": {}
        },
        {
          "output_type": "display_data",
          "data": {
            "text/plain": [
              "Output()"
            ],
            "application/vnd.jupyter.widget-view+json": {
              "version_major": 2,
              "version_minor": 0,
              "model_id": "a73efc4a0aa44fdca8adf2e413373cc8"
            }
          },
          "metadata": {}
        },
        {
          "output_type": "display_data",
          "data": {
            "text/plain": [],
            "text/html": [
              "<pre style=\"white-space:pre;overflow-x:auto;line-height:normal;font-family:Menlo,'DejaVu Sans Mono',consolas,'Courier New',monospace\"></pre>\n"
            ]
          },
          "metadata": {}
        },
        {
          "output_type": "execute_result",
          "data": {
            "text/plain": [
              "            mean     sd  hdi_3%  hdi_97%  mcse_mean  mcse_sd  ess_bulk  \\\n",
              "alpha      5.818  0.009   5.802    5.837      0.000    0.000    2215.0   \n",
              "betas[0]   0.088  0.020   0.050    0.124      0.001    0.000    1039.0   \n",
              "betas[1]  -0.218  0.012  -0.240   -0.196      0.000    0.000    1412.0   \n",
              "betas[2]  -0.016  0.011  -0.036    0.005      0.000    0.000    1657.0   \n",
              "betas[3]   0.207  0.024   0.163    0.252      0.001    0.001     863.0   \n",
              "betas[4]  -0.017  0.012  -0.039    0.004      0.000    0.000    1874.0   \n",
              "betas[5]   0.106  0.014   0.082    0.131      0.000    0.000    1594.0   \n",
              "betas[6]  -0.140  0.016  -0.169   -0.109      0.000    0.000    1321.0   \n",
              "betas[7]  -0.165  0.035  -0.233   -0.101      0.001    0.001     823.0   \n",
              "betas[8]   0.070  0.014   0.044    0.096      0.000    0.000    1076.0   \n",
              "betas[9]   0.115  0.011   0.094    0.135      0.000    0.000    1764.0   \n",
              "betas[10]  0.318  0.020   0.284    0.355      0.001    0.000     999.0   \n",
              "epsilon    0.735  0.006   0.724    0.747      0.000    0.000    2368.0   \n",
              "\n",
              "           ess_tail  r_hat  \n",
              "alpha        1435.0    1.0  \n",
              "betas[0]     1255.0    1.0  \n",
              "betas[1]     1361.0    1.0  \n",
              "betas[2]     1508.0    1.0  \n",
              "betas[3]     1027.0    1.0  \n",
              "betas[4]     1628.0    1.0  \n",
              "betas[5]     1033.0    1.0  \n",
              "betas[6]     1266.0    1.0  \n",
              "betas[7]      880.0    1.0  \n",
              "betas[8]     1236.0    1.0  \n",
              "betas[9]     1460.0    1.0  \n",
              "betas[10]    1375.0    1.0  \n",
              "epsilon      1358.0    1.0  "
            ],
            "text/html": [
              "\n",
              "  <div id=\"df-c9d933a5-fcee-4902-8b36-e6dca7086b39\" class=\"colab-df-container\">\n",
              "    <div>\n",
              "<style scoped>\n",
              "    .dataframe tbody tr th:only-of-type {\n",
              "        vertical-align: middle;\n",
              "    }\n",
              "\n",
              "    .dataframe tbody tr th {\n",
              "        vertical-align: top;\n",
              "    }\n",
              "\n",
              "    .dataframe thead th {\n",
              "        text-align: right;\n",
              "    }\n",
              "</style>\n",
              "<table border=\"1\" class=\"dataframe\">\n",
              "  <thead>\n",
              "    <tr style=\"text-align: right;\">\n",
              "      <th></th>\n",
              "      <th>mean</th>\n",
              "      <th>sd</th>\n",
              "      <th>hdi_3%</th>\n",
              "      <th>hdi_97%</th>\n",
              "      <th>mcse_mean</th>\n",
              "      <th>mcse_sd</th>\n",
              "      <th>ess_bulk</th>\n",
              "      <th>ess_tail</th>\n",
              "      <th>r_hat</th>\n",
              "    </tr>\n",
              "  </thead>\n",
              "  <tbody>\n",
              "    <tr>\n",
              "      <th>alpha</th>\n",
              "      <td>5.818</td>\n",
              "      <td>0.009</td>\n",
              "      <td>5.802</td>\n",
              "      <td>5.837</td>\n",
              "      <td>0.000</td>\n",
              "      <td>0.000</td>\n",
              "      <td>2215.0</td>\n",
              "      <td>1435.0</td>\n",
              "      <td>1.0</td>\n",
              "    </tr>\n",
              "    <tr>\n",
              "      <th>betas[0]</th>\n",
              "      <td>0.088</td>\n",
              "      <td>0.020</td>\n",
              "      <td>0.050</td>\n",
              "      <td>0.124</td>\n",
              "      <td>0.001</td>\n",
              "      <td>0.000</td>\n",
              "      <td>1039.0</td>\n",
              "      <td>1255.0</td>\n",
              "      <td>1.0</td>\n",
              "    </tr>\n",
              "    <tr>\n",
              "      <th>betas[1]</th>\n",
              "      <td>-0.218</td>\n",
              "      <td>0.012</td>\n",
              "      <td>-0.240</td>\n",
              "      <td>-0.196</td>\n",
              "      <td>0.000</td>\n",
              "      <td>0.000</td>\n",
              "      <td>1412.0</td>\n",
              "      <td>1361.0</td>\n",
              "      <td>1.0</td>\n",
              "    </tr>\n",
              "    <tr>\n",
              "      <th>betas[2]</th>\n",
              "      <td>-0.016</td>\n",
              "      <td>0.011</td>\n",
              "      <td>-0.036</td>\n",
              "      <td>0.005</td>\n",
              "      <td>0.000</td>\n",
              "      <td>0.000</td>\n",
              "      <td>1657.0</td>\n",
              "      <td>1508.0</td>\n",
              "      <td>1.0</td>\n",
              "    </tr>\n",
              "    <tr>\n",
              "      <th>betas[3]</th>\n",
              "      <td>0.207</td>\n",
              "      <td>0.024</td>\n",
              "      <td>0.163</td>\n",
              "      <td>0.252</td>\n",
              "      <td>0.001</td>\n",
              "      <td>0.001</td>\n",
              "      <td>863.0</td>\n",
              "      <td>1027.0</td>\n",
              "      <td>1.0</td>\n",
              "    </tr>\n",
              "    <tr>\n",
              "      <th>betas[4]</th>\n",
              "      <td>-0.017</td>\n",
              "      <td>0.012</td>\n",
              "      <td>-0.039</td>\n",
              "      <td>0.004</td>\n",
              "      <td>0.000</td>\n",
              "      <td>0.000</td>\n",
              "      <td>1874.0</td>\n",
              "      <td>1628.0</td>\n",
              "      <td>1.0</td>\n",
              "    </tr>\n",
              "    <tr>\n",
              "      <th>betas[5]</th>\n",
              "      <td>0.106</td>\n",
              "      <td>0.014</td>\n",
              "      <td>0.082</td>\n",
              "      <td>0.131</td>\n",
              "      <td>0.000</td>\n",
              "      <td>0.000</td>\n",
              "      <td>1594.0</td>\n",
              "      <td>1033.0</td>\n",
              "      <td>1.0</td>\n",
              "    </tr>\n",
              "    <tr>\n",
              "      <th>betas[6]</th>\n",
              "      <td>-0.140</td>\n",
              "      <td>0.016</td>\n",
              "      <td>-0.169</td>\n",
              "      <td>-0.109</td>\n",
              "      <td>0.000</td>\n",
              "      <td>0.000</td>\n",
              "      <td>1321.0</td>\n",
              "      <td>1266.0</td>\n",
              "      <td>1.0</td>\n",
              "    </tr>\n",
              "    <tr>\n",
              "      <th>betas[7]</th>\n",
              "      <td>-0.165</td>\n",
              "      <td>0.035</td>\n",
              "      <td>-0.233</td>\n",
              "      <td>-0.101</td>\n",
              "      <td>0.001</td>\n",
              "      <td>0.001</td>\n",
              "      <td>823.0</td>\n",
              "      <td>880.0</td>\n",
              "      <td>1.0</td>\n",
              "    </tr>\n",
              "    <tr>\n",
              "      <th>betas[8]</th>\n",
              "      <td>0.070</td>\n",
              "      <td>0.014</td>\n",
              "      <td>0.044</td>\n",
              "      <td>0.096</td>\n",
              "      <td>0.000</td>\n",
              "      <td>0.000</td>\n",
              "      <td>1076.0</td>\n",
              "      <td>1236.0</td>\n",
              "      <td>1.0</td>\n",
              "    </tr>\n",
              "    <tr>\n",
              "      <th>betas[9]</th>\n",
              "      <td>0.115</td>\n",
              "      <td>0.011</td>\n",
              "      <td>0.094</td>\n",
              "      <td>0.135</td>\n",
              "      <td>0.000</td>\n",
              "      <td>0.000</td>\n",
              "      <td>1764.0</td>\n",
              "      <td>1460.0</td>\n",
              "      <td>1.0</td>\n",
              "    </tr>\n",
              "    <tr>\n",
              "      <th>betas[10]</th>\n",
              "      <td>0.318</td>\n",
              "      <td>0.020</td>\n",
              "      <td>0.284</td>\n",
              "      <td>0.355</td>\n",
              "      <td>0.001</td>\n",
              "      <td>0.000</td>\n",
              "      <td>999.0</td>\n",
              "      <td>1375.0</td>\n",
              "      <td>1.0</td>\n",
              "    </tr>\n",
              "    <tr>\n",
              "      <th>epsilon</th>\n",
              "      <td>0.735</td>\n",
              "      <td>0.006</td>\n",
              "      <td>0.724</td>\n",
              "      <td>0.747</td>\n",
              "      <td>0.000</td>\n",
              "      <td>0.000</td>\n",
              "      <td>2368.0</td>\n",
              "      <td>1358.0</td>\n",
              "      <td>1.0</td>\n",
              "    </tr>\n",
              "  </tbody>\n",
              "</table>\n",
              "</div>\n",
              "    <div class=\"colab-df-buttons\">\n",
              "\n",
              "  <div class=\"colab-df-container\">\n",
              "    <button class=\"colab-df-convert\" onclick=\"convertToInteractive('df-c9d933a5-fcee-4902-8b36-e6dca7086b39')\"\n",
              "            title=\"Convert this dataframe to an interactive table.\"\n",
              "            style=\"display:none;\">\n",
              "\n",
              "  <svg xmlns=\"http://www.w3.org/2000/svg\" height=\"24px\" viewBox=\"0 -960 960 960\">\n",
              "    <path d=\"M120-120v-720h720v720H120Zm60-500h600v-160H180v160Zm220 220h160v-160H400v160Zm0 220h160v-160H400v160ZM180-400h160v-160H180v160Zm440 0h160v-160H620v160ZM180-180h160v-160H180v160Zm440 0h160v-160H620v160Z\"/>\n",
              "  </svg>\n",
              "    </button>\n",
              "\n",
              "  <style>\n",
              "    .colab-df-container {\n",
              "      display:flex;\n",
              "      gap: 12px;\n",
              "    }\n",
              "\n",
              "    .colab-df-convert {\n",
              "      background-color: #E8F0FE;\n",
              "      border: none;\n",
              "      border-radius: 50%;\n",
              "      cursor: pointer;\n",
              "      display: none;\n",
              "      fill: #1967D2;\n",
              "      height: 32px;\n",
              "      padding: 0 0 0 0;\n",
              "      width: 32px;\n",
              "    }\n",
              "\n",
              "    .colab-df-convert:hover {\n",
              "      background-color: #E2EBFA;\n",
              "      box-shadow: 0px 1px 2px rgba(60, 64, 67, 0.3), 0px 1px 3px 1px rgba(60, 64, 67, 0.15);\n",
              "      fill: #174EA6;\n",
              "    }\n",
              "\n",
              "    .colab-df-buttons div {\n",
              "      margin-bottom: 4px;\n",
              "    }\n",
              "\n",
              "    [theme=dark] .colab-df-convert {\n",
              "      background-color: #3B4455;\n",
              "      fill: #D2E3FC;\n",
              "    }\n",
              "\n",
              "    [theme=dark] .colab-df-convert:hover {\n",
              "      background-color: #434B5C;\n",
              "      box-shadow: 0px 1px 3px 1px rgba(0, 0, 0, 0.15);\n",
              "      filter: drop-shadow(0px 1px 2px rgba(0, 0, 0, 0.3));\n",
              "      fill: #FFFFFF;\n",
              "    }\n",
              "  </style>\n",
              "\n",
              "    <script>\n",
              "      const buttonEl =\n",
              "        document.querySelector('#df-c9d933a5-fcee-4902-8b36-e6dca7086b39 button.colab-df-convert');\n",
              "      buttonEl.style.display =\n",
              "        google.colab.kernel.accessAllowed ? 'block' : 'none';\n",
              "\n",
              "      async function convertToInteractive(key) {\n",
              "        const element = document.querySelector('#df-c9d933a5-fcee-4902-8b36-e6dca7086b39');\n",
              "        const dataTable =\n",
              "          await google.colab.kernel.invokeFunction('convertToInteractive',\n",
              "                                                    [key], {});\n",
              "        if (!dataTable) return;\n",
              "\n",
              "        const docLinkHtml = 'Like what you see? Visit the ' +\n",
              "          '<a target=\"_blank\" href=https://colab.research.google.com/notebooks/data_table.ipynb>data table notebook</a>'\n",
              "          + ' to learn more about interactive tables.';\n",
              "        element.innerHTML = '';\n",
              "        dataTable['output_type'] = 'display_data';\n",
              "        await google.colab.output.renderOutput(dataTable, element);\n",
              "        const docLink = document.createElement('div');\n",
              "        docLink.innerHTML = docLinkHtml;\n",
              "        element.appendChild(docLink);\n",
              "      }\n",
              "    </script>\n",
              "  </div>\n",
              "\n",
              "\n",
              "<div id=\"df-ac64a28b-b6ae-4460-a9b9-320baed20fb1\">\n",
              "  <button class=\"colab-df-quickchart\" onclick=\"quickchart('df-ac64a28b-b6ae-4460-a9b9-320baed20fb1')\"\n",
              "            title=\"Suggest charts\"\n",
              "            style=\"display:none;\">\n",
              "\n",
              "<svg xmlns=\"http://www.w3.org/2000/svg\" height=\"24px\"viewBox=\"0 0 24 24\"\n",
              "     width=\"24px\">\n",
              "    <g>\n",
              "        <path d=\"M19 3H5c-1.1 0-2 .9-2 2v14c0 1.1.9 2 2 2h14c1.1 0 2-.9 2-2V5c0-1.1-.9-2-2-2zM9 17H7v-7h2v7zm4 0h-2V7h2v10zm4 0h-2v-4h2v4z\"/>\n",
              "    </g>\n",
              "</svg>\n",
              "  </button>\n",
              "\n",
              "<style>\n",
              "  .colab-df-quickchart {\n",
              "      --bg-color: #E8F0FE;\n",
              "      --fill-color: #1967D2;\n",
              "      --hover-bg-color: #E2EBFA;\n",
              "      --hover-fill-color: #174EA6;\n",
              "      --disabled-fill-color: #AAA;\n",
              "      --disabled-bg-color: #DDD;\n",
              "  }\n",
              "\n",
              "  [theme=dark] .colab-df-quickchart {\n",
              "      --bg-color: #3B4455;\n",
              "      --fill-color: #D2E3FC;\n",
              "      --hover-bg-color: #434B5C;\n",
              "      --hover-fill-color: #FFFFFF;\n",
              "      --disabled-bg-color: #3B4455;\n",
              "      --disabled-fill-color: #666;\n",
              "  }\n",
              "\n",
              "  .colab-df-quickchart {\n",
              "    background-color: var(--bg-color);\n",
              "    border: none;\n",
              "    border-radius: 50%;\n",
              "    cursor: pointer;\n",
              "    display: none;\n",
              "    fill: var(--fill-color);\n",
              "    height: 32px;\n",
              "    padding: 0;\n",
              "    width: 32px;\n",
              "  }\n",
              "\n",
              "  .colab-df-quickchart:hover {\n",
              "    background-color: var(--hover-bg-color);\n",
              "    box-shadow: 0 1px 2px rgba(60, 64, 67, 0.3), 0 1px 3px 1px rgba(60, 64, 67, 0.15);\n",
              "    fill: var(--button-hover-fill-color);\n",
              "  }\n",
              "\n",
              "  .colab-df-quickchart-complete:disabled,\n",
              "  .colab-df-quickchart-complete:disabled:hover {\n",
              "    background-color: var(--disabled-bg-color);\n",
              "    fill: var(--disabled-fill-color);\n",
              "    box-shadow: none;\n",
              "  }\n",
              "\n",
              "  .colab-df-spinner {\n",
              "    border: 2px solid var(--fill-color);\n",
              "    border-color: transparent;\n",
              "    border-bottom-color: var(--fill-color);\n",
              "    animation:\n",
              "      spin 1s steps(1) infinite;\n",
              "  }\n",
              "\n",
              "  @keyframes spin {\n",
              "    0% {\n",
              "      border-color: transparent;\n",
              "      border-bottom-color: var(--fill-color);\n",
              "      border-left-color: var(--fill-color);\n",
              "    }\n",
              "    20% {\n",
              "      border-color: transparent;\n",
              "      border-left-color: var(--fill-color);\n",
              "      border-top-color: var(--fill-color);\n",
              "    }\n",
              "    30% {\n",
              "      border-color: transparent;\n",
              "      border-left-color: var(--fill-color);\n",
              "      border-top-color: var(--fill-color);\n",
              "      border-right-color: var(--fill-color);\n",
              "    }\n",
              "    40% {\n",
              "      border-color: transparent;\n",
              "      border-right-color: var(--fill-color);\n",
              "      border-top-color: var(--fill-color);\n",
              "    }\n",
              "    60% {\n",
              "      border-color: transparent;\n",
              "      border-right-color: var(--fill-color);\n",
              "    }\n",
              "    80% {\n",
              "      border-color: transparent;\n",
              "      border-right-color: var(--fill-color);\n",
              "      border-bottom-color: var(--fill-color);\n",
              "    }\n",
              "    90% {\n",
              "      border-color: transparent;\n",
              "      border-bottom-color: var(--fill-color);\n",
              "    }\n",
              "  }\n",
              "</style>\n",
              "\n",
              "  <script>\n",
              "    async function quickchart(key) {\n",
              "      const quickchartButtonEl =\n",
              "        document.querySelector('#' + key + ' button');\n",
              "      quickchartButtonEl.disabled = true;  // To prevent multiple clicks.\n",
              "      quickchartButtonEl.classList.add('colab-df-spinner');\n",
              "      try {\n",
              "        const charts = await google.colab.kernel.invokeFunction(\n",
              "            'suggestCharts', [key], {});\n",
              "      } catch (error) {\n",
              "        console.error('Error during call to suggestCharts:', error);\n",
              "      }\n",
              "      quickchartButtonEl.classList.remove('colab-df-spinner');\n",
              "      quickchartButtonEl.classList.add('colab-df-quickchart-complete');\n",
              "    }\n",
              "    (() => {\n",
              "      let quickchartButtonEl =\n",
              "        document.querySelector('#df-ac64a28b-b6ae-4460-a9b9-320baed20fb1 button');\n",
              "      quickchartButtonEl.style.display =\n",
              "        google.colab.kernel.accessAllowed ? 'block' : 'none';\n",
              "    })();\n",
              "  </script>\n",
              "</div>\n",
              "\n",
              "    </div>\n",
              "  </div>\n"
            ],
            "application/vnd.google.colaboratory.intrinsic+json": {
              "type": "dataframe",
              "summary": "{\n  \"name\": \"az\",\n  \"rows\": 13,\n  \"fields\": [\n    {\n      \"column\": \"mean\",\n      \"properties\": {\n        \"dtype\": \"number\",\n        \"std\": 1.6073257213019936,\n        \"min\": -0.218,\n        \"max\": 5.818,\n        \"num_unique_values\": 13,\n        \"samples\": [\n          0.318,\n          0.07,\n          5.818\n        ],\n        \"semantic_type\": \"\",\n        \"description\": \"\"\n      }\n    },\n    {\n      \"column\": \"sd\",\n      \"properties\": {\n        \"dtype\": \"number\",\n        \"std\": 0.007609036463142749,\n        \"min\": 0.006,\n        \"max\": 0.035,\n        \"num_unique_values\": 9,\n        \"samples\": [\n          0.035,\n          0.02,\n          0.014\n        ],\n        \"semantic_type\": \"\",\n        \"description\": \"\"\n      }\n    },\n    {\n      \"column\": \"hdi_3%\",\n      \"properties\": {\n        \"dtype\": \"number\",\n        \"std\": 1.6119815962555735,\n        \"min\": -0.24,\n        \"max\": 5.802,\n        \"num_unique_values\": 13,\n        \"samples\": [\n          0.284,\n          0.044,\n          5.802\n        ],\n        \"semantic_type\": \"\",\n        \"description\": \"\"\n      }\n    },\n    {\n      \"column\": \"hdi_97%\",\n      \"properties\": {\n        \"dtype\": \"number\",\n        \"std\": 1.6036890804225943,\n        \"min\": -0.196,\n        \"max\": 5.837,\n        \"num_unique_values\": 13,\n        \"samples\": [\n          0.355,\n          0.096,\n          5.837\n        ],\n        \"semantic_type\": \"\",\n        \"description\": \"\"\n      }\n    },\n    {\n      \"column\": \"mcse_mean\",\n      \"properties\": {\n        \"dtype\": \"number\",\n        \"std\": 0.0004803844614152615,\n        \"min\": 0.0,\n        \"max\": 0.001,\n        \"num_unique_values\": 2,\n        \"samples\": [\n          0.001,\n          0.0\n        ],\n        \"semantic_type\": \"\",\n        \"description\": \"\"\n      }\n    },\n    {\n      \"column\": \"mcse_sd\",\n      \"properties\": {\n        \"dtype\": \"number\",\n        \"std\": 0.00037553380809940537,\n        \"min\": 0.0,\n        \"max\": 0.001,\n        \"num_unique_values\": 2,\n        \"samples\": [\n          0.001,\n          0.0\n        ],\n        \"semantic_type\": \"\",\n        \"description\": \"\"\n      }\n    },\n    {\n      \"column\": \"ess_bulk\",\n      \"properties\": {\n        \"dtype\": \"number\",\n        \"std\": 502.99427788966307,\n        \"min\": 823.0,\n        \"max\": 2368.0,\n        \"num_unique_values\": 13,\n        \"samples\": [\n          999.0,\n          1076.0\n        ],\n        \"semantic_type\": \"\",\n        \"description\": \"\"\n      }\n    },\n    {\n      \"column\": \"ess_tail\",\n      \"properties\": {\n        \"dtype\": \"number\",\n        \"std\": 211.42571587518236,\n        \"min\": 880.0,\n        \"max\": 1628.0,\n        \"num_unique_values\": 13,\n        \"samples\": [\n          1375.0,\n          1236.0\n        ],\n        \"semantic_type\": \"\",\n        \"description\": \"\"\n      }\n    },\n    {\n      \"column\": \"r_hat\",\n      \"properties\": {\n        \"dtype\": \"number\",\n        \"std\": 0.0,\n        \"min\": 1.0,\n        \"max\": 1.0,\n        \"num_unique_values\": 1,\n        \"samples\": [\n          1.0\n        ],\n        \"semantic_type\": \"\",\n        \"description\": \"\"\n      }\n    }\n  ]\n}"
            }
          },
          "metadata": {},
          "execution_count": 7
        }
      ]
    },
    {
      "cell_type": "code",
      "source": [
        "# Amostrar da distribuição posterior preditiva\n",
        "posterior_predictive = pm.sample_posterior_predictive(trace_ridge, model=model_ridge)\n",
        "\n",
        " # Imprimir as chaves do posterior_predictive\n",
        "print(posterior_predictive.keys())\n"
      ],
      "metadata": {
        "colab": {
          "base_uri": "https://localhost:8080/",
          "height": 86,
          "referenced_widgets": [
            "687f8133e59b475a87bbf7ebf562f851",
            "0f0727646eef48c0a8916a6699577941"
          ]
        },
        "id": "CP-hR5jb3-HJ",
        "outputId": "9458dfed-a32b-4f1e-cea9-678d9660bbae"
      },
      "execution_count": 8,
      "outputs": [
        {
          "output_type": "display_data",
          "data": {
            "text/plain": [
              "Output()"
            ],
            "application/vnd.jupyter.widget-view+json": {
              "version_major": 2,
              "version_minor": 0,
              "model_id": "687f8133e59b475a87bbf7ebf562f851"
            }
          },
          "metadata": {}
        },
        {
          "output_type": "display_data",
          "data": {
            "text/plain": [],
            "text/html": [
              "<pre style=\"white-space:pre;overflow-x:auto;line-height:normal;font-family:Menlo,'DejaVu Sans Mono',consolas,'Courier New',monospace\"></pre>\n"
            ]
          },
          "metadata": {}
        },
        {
          "output_type": "stream",
          "name": "stdout",
          "text": [
            "KeysView(Inference data with groups:\n",
            "\t> posterior_predictive\n",
            "\t> observed_data)\n"
          ]
        }
      ]
    },
    {
      "cell_type": "code",
      "source": [
        "# Verificar as chaves do posterior_predictive\n",
        "print(posterior_predictive['posterior_predictive'].keys())\n",
        "\n",
        "# Verificar as chaves do observed_data\n",
        "print(posterior_predictive['observed_data'].keys())"
      ],
      "metadata": {
        "colab": {
          "base_uri": "https://localhost:8080/"
        },
        "id": "Kju7RykY4tZi",
        "outputId": "de6557d4-4a41-48b3-faba-ee712125d111"
      },
      "execution_count": 9,
      "outputs": [
        {
          "output_type": "stream",
          "name": "stdout",
          "text": [
            "KeysView(<xarray.Dataset> Size: 104MB\n",
            "Dimensions:      (chain: 2, draw: 1000, Y_obs_dim_2: 6497)\n",
            "Coordinates:\n",
            "  * chain        (chain) int64 16B 0 1\n",
            "  * draw         (draw) int64 8kB 0 1 2 3 4 5 6 ... 993 994 995 996 997 998 999\n",
            "  * Y_obs_dim_2  (Y_obs_dim_2) int64 52kB 0 1 2 3 4 ... 6492 6493 6494 6495 6496\n",
            "Data variables:\n",
            "    Y_obs        (chain, draw, Y_obs_dim_2) float64 104MB 4.806 4.111 ... 6.678\n",
            "Attributes:\n",
            "    created_at:                 2024-09-24T16:32:58.764790+00:00\n",
            "    arviz_version:              0.19.0\n",
            "    inference_library:          pymc\n",
            "    inference_library_version:  5.16.2)\n",
            "KeysView(<xarray.Dataset> Size: 104kB\n",
            "Dimensions:      (Y_obs_dim_0: 6497)\n",
            "Coordinates:\n",
            "  * Y_obs_dim_0  (Y_obs_dim_0) int64 52kB 0 1 2 3 4 ... 6492 6493 6494 6495 6496\n",
            "Data variables:\n",
            "    Y_obs        (Y_obs_dim_0) float64 52kB 5.0 5.0 5.0 6.0 ... 5.0 6.0 7.0 6.0\n",
            "Attributes:\n",
            "    created_at:                 2024-09-24T16:32:58.769919+00:00\n",
            "    arviz_version:              0.19.0\n",
            "    inference_library:          pymc\n",
            "    inference_library_version:  5.16.2)\n"
          ]
        }
      ]
    },
    {
      "cell_type": "code",
      "source": [
        "# Acessar dados preditivos de Y_obs\n",
        "y_obs_pred = posterior_predictive['posterior_predictive']['Y_obs']\n",
        "print(y_obs_pred)\n",
        "\n",
        "# Cálculo da média ou outras estatísticas\n",
        "y_obs_mean = y_obs_pred.mean(axis=0)\n",
        "print(y_obs_mean)\n"
      ],
      "metadata": {
        "colab": {
          "base_uri": "https://localhost:8080/"
        },
        "id": "hRcwh26A4zvn",
        "outputId": "7f5cd6cb-d334-4b15-b0de-6e3403f86d07"
      },
      "execution_count": 10,
      "outputs": [
        {
          "output_type": "stream",
          "name": "stdout",
          "text": [
            "<xarray.DataArray 'Y_obs' (chain: 2, draw: 1000, Y_obs_dim_2: 6497)> Size: 104MB\n",
            "array([[[4.80622458, 4.1111751 , 5.28701868, ..., 4.09340799,\n",
            "         6.96981555, 5.72448341],\n",
            "        [4.22380144, 5.27464487, 4.84484123, ..., 5.35694379,\n",
            "         6.24367682, 5.1641702 ],\n",
            "        [5.40243218, 4.41701774, 5.97392777, ..., 5.5248667 ,\n",
            "         6.05654806, 6.20319272],\n",
            "        ...,\n",
            "        [4.82730712, 5.05187606, 4.56715512, ..., 6.12345466,\n",
            "         6.44805456, 7.04665857],\n",
            "        [5.07474475, 4.07266128, 5.86609392, ..., 5.91239286,\n",
            "         5.96616061, 5.50331426],\n",
            "        [5.53445638, 6.38762968, 5.22361697, ..., 5.32686552,\n",
            "         6.24934475, 5.85790878]],\n",
            "\n",
            "       [[6.12322875, 6.72314929, 5.00799105, ..., 6.73011116,\n",
            "         6.39304815, 6.71454823],\n",
            "        [4.32545366, 4.13994994, 3.68792845, ..., 5.85265174,\n",
            "         7.38290766, 7.22897853],\n",
            "        [4.26042885, 4.262619  , 4.52878333, ..., 4.78005623,\n",
            "         7.19493033, 6.44159698],\n",
            "        ...,\n",
            "        [5.00501756, 5.35435213, 4.59127879, ..., 5.71756897,\n",
            "         7.42145614, 5.83291057],\n",
            "        [4.93292126, 5.5112636 , 4.78632444, ..., 5.63341634,\n",
            "         6.75178841, 5.85361267],\n",
            "        [5.78380952, 5.77998084, 4.37865986, ..., 4.92028585,\n",
            "         5.73989431, 6.67804373]]])\n",
            "Coordinates:\n",
            "  * chain        (chain) int64 16B 0 1\n",
            "  * draw         (draw) int64 8kB 0 1 2 3 4 5 6 ... 993 994 995 996 997 998 999\n",
            "  * Y_obs_dim_2  (Y_obs_dim_2) int64 52kB 0 1 2 3 4 ... 6492 6493 6494 6495 6496\n",
            "<xarray.DataArray 'Y_obs' (draw: 1000, Y_obs_dim_2: 6497)> Size: 52MB\n",
            "array([[5.46472667, 5.41716219, 5.14750487, ..., 5.41175958, 6.68143185,\n",
            "        6.21951582],\n",
            "       [4.27462755, 4.70729741, 4.26638484, ..., 5.60479777, 6.81329224,\n",
            "        6.19657437],\n",
            "       [4.83143052, 4.33981837, 5.25135555, ..., 5.15246146, 6.62573919,\n",
            "        6.32239485],\n",
            "       ...,\n",
            "       [4.91616234, 5.2031141 , 4.57921695, ..., 5.92051182, 6.93475535,\n",
            "        6.43978457],\n",
            "       [5.00383301, 4.79196244, 5.32620918, ..., 5.7729046 , 6.35897451,\n",
            "        5.67846346],\n",
            "       [5.65913295, 6.08380526, 4.80113841, ..., 5.12357568, 5.99461953,\n",
            "        6.26797625]])\n",
            "Coordinates:\n",
            "  * draw         (draw) int64 8kB 0 1 2 3 4 5 6 ... 993 994 995 996 997 998 999\n",
            "  * Y_obs_dim_2  (Y_obs_dim_2) int64 52kB 0 1 2 3 4 ... 6492 6493 6494 6495 6496\n"
          ]
        }
      ]
    },
    {
      "cell_type": "code",
      "source": [
        "# Certifique-se de que y está disponível\n",
        "print(y)"
      ],
      "metadata": {
        "colab": {
          "base_uri": "https://localhost:8080/"
        },
        "id": "C9XMZnxz429x",
        "outputId": "d5a2ac7b-9fea-4176-f5be-676346fa18a7"
      },
      "execution_count": 11,
      "outputs": [
        {
          "output_type": "stream",
          "name": "stdout",
          "text": [
            "[5 5 5 ... 6 7 6]\n"
          ]
        }
      ]
    },
    {
      "cell_type": "code",
      "source": [
        "print(ridge_trace_prior.keys())\n"
      ],
      "metadata": {
        "colab": {
          "base_uri": "https://localhost:8080/"
        },
        "id": "RZT43dmq45qn",
        "outputId": "4efd962f-ab99-4441-d014-0947837e67fc"
      },
      "execution_count": 12,
      "outputs": [
        {
          "output_type": "stream",
          "name": "stdout",
          "text": [
            "KeysView(Inference data with groups:\n",
            "\t> prior\n",
            "\t> prior_predictive\n",
            "\t> observed_data)\n"
          ]
        }
      ]
    },
    {
      "cell_type": "code",
      "source": [
        "analise_priori(ridge_trace_prior, y)\n"
      ],
      "metadata": {
        "colab": {
          "base_uri": "https://localhost:8080/",
          "height": 1000
        },
        "id": "c3aY_Red6GUP",
        "outputId": "ab4824b4-7d78-4287-bf9f-8f5c56aed346"
      },
      "execution_count": 13,
      "outputs": [
        {
          "output_type": "stream",
          "name": "stderr",
          "text": [
            "<ipython-input-6-4581fe9e5373>:43: UserWarning: This figure includes Axes that are not compatible with tight_layout, so results might be incorrect.\n",
            "  plt.tight_layout()\n"
          ]
        },
        {
          "output_type": "execute_result",
          "data": {
            "text/plain": [
              "(<Figure size 1000x1000 with 6 Axes>,\n",
              " array([[<Axes: xlabel='Betas', ylabel='Contagem'>,\n",
              "         <Axes: xlabel='Previsões a Priori (Y_obs)', ylabel='Contagem'>],\n",
              "        [<Axes: title={'center': 'Previsões a Priori'}, xlabel='Observado', ylabel='Previsões'>,\n",
              "         <Axes: >],\n",
              "        [<Axes: xlabel='Y_obs'>, <Axes: xlabel='Y_obs'>]], dtype=object))"
            ]
          },
          "metadata": {},
          "execution_count": 13
        },
        {
          "output_type": "stream",
          "name": "stderr",
          "text": [
            "/usr/local/lib/python3.10/dist-packages/IPython/core/events.py:89: UserWarning: Creating legend with loc=\"best\" can be slow with large amounts of data.\n",
            "  func(*args, **kwargs)\n",
            "/usr/local/lib/python3.10/dist-packages/IPython/core/pylabtools.py:151: UserWarning: Creating legend with loc=\"best\" can be slow with large amounts of data.\n",
            "  fig.canvas.print_figure(bytes_io, **kw)\n"
          ]
        },
        {
          "output_type": "display_data",
          "data": {
            "text/plain": [
              "<Figure size 1000x1000 with 6 Axes>"
            ],
            "image/png": "[encoded data removed]"
          },
          "metadata": {}
        }
      ]
    },
    {
      "cell_type": "code",
      "source": [
        "pm.model_to_graphviz(model_ridge)"
      ],
      "metadata": {
        "colab": {
          "base_uri": "https://localhost:8080/",
          "height": 368
        },
        "id": "6U_t5y5t5apm",
        "outputId": "1a663e00-e062-4490-e22f-11fd6109de4d"
      },
      "execution_count": 14,
      "outputs": [
        {
          "output_type": "execute_result",
          "data": {
            "image/svg+xml": "<?xml version=\"1.0\" encoding=\"UTF-8\" standalone=\"no\"?>\n<!DOCTYPE svg PUBLIC \"-//W3C//DTD SVG 1.1//EN\"\n \"http://www.w3.org/Graphics/SVG/1.1/DTD/svg11.dtd\">\n<!-- Generated by graphviz version 2.43.0 (0)\n -->\n<!-- Title: %3 Pages: 1 -->\n<svg width=\"314pt\" height=\"260pt\"\n viewBox=\"0.00 0.00 313.72 259.91\" xmlns=\"http://www.w3.org/2000/svg\" xmlns:xlink=\"http://www.w3.org/1999/xlink\">\n<g id=\"graph0\" class=\"graph\" transform=\"scale(1 1) rotate(0) translate(4 255.91)\">\n<title>%3</title>\n<polygon fill=\"white\" stroke=\"transparent\" points=\"-4,4 -4,-255.91 309.72,-255.91 309.72,4 -4,4\"/>\n<g id=\"clust1\" class=\"cluster\">\n<title>clusterfeatures (11)</title>\n<path fill=\"none\" stroke=\"black\" d=\"M209.72,-129.95C209.72,-129.95 285.72,-129.95 285.72,-129.95 291.72,-129.95 297.72,-135.95 297.72,-141.95 297.72,-141.95 297.72,-231.91 297.72,-231.91 297.72,-237.91 291.72,-243.91 285.72,-243.91 285.72,-243.91 209.72,-243.91 209.72,-243.91 203.72,-243.91 197.72,-237.91 197.72,-231.91 197.72,-231.91 197.72,-141.95 197.72,-141.95 197.72,-135.95 203.72,-129.95 209.72,-129.95\"/>\n<text text-anchor=\"middle\" x=\"254.72\" y=\"-137.75\" font-family=\"Times,serif\" font-size=\"14.00\">features (11)</text>\n</g>\n<g id=\"clust2\" class=\"cluster\">\n<title>cluster6497</title>\n<path fill=\"none\" stroke=\"black\" d=\"M106.72,-8C106.72,-8 182.72,-8 182.72,-8 188.72,-8 194.72,-14 194.72,-20 194.72,-20 194.72,-109.95 194.72,-109.95 194.72,-115.95 188.72,-121.95 182.72,-121.95 182.72,-121.95 106.72,-121.95 106.72,-121.95 100.72,-121.95 94.72,-115.95 94.72,-109.95 94.72,-109.95 94.72,-20 94.72,-20 94.72,-14 100.72,-8 106.72,-8\"/>\n<text text-anchor=\"middle\" x=\"172.72\" y=\"-15.8\" font-family=\"Times,serif\" font-size=\"14.00\">6497</text>\n</g>\n<!-- alpha -->\n<g id=\"node1\" class=\"node\">\n<title>alpha</title>\n<ellipse fill=\"none\" stroke=\"black\" cx=\"41.72\" cy=\"-198.43\" rx=\"41.94\" ry=\"37.45\"/>\n<text text-anchor=\"middle\" x=\"41.72\" y=\"-209.73\" font-family=\"Times,serif\" font-size=\"14.00\">alpha</text>\n<text text-anchor=\"middle\" x=\"41.72\" y=\"-194.73\" font-family=\"Times,serif\" font-size=\"14.00\">~</text>\n<text text-anchor=\"middle\" x=\"41.72\" y=\"-179.73\" font-family=\"Times,serif\" font-size=\"14.00\">Normal</text>\n</g>\n<!-- Y_obs -->\n<g id=\"node4\" class=\"node\">\n<title>Y_obs</title>\n<ellipse fill=\"lightgrey\" stroke=\"black\" cx=\"144.72\" cy=\"-76.48\" rx=\"41.94\" ry=\"37.45\"/>\n<text text-anchor=\"middle\" x=\"144.72\" y=\"-87.78\" font-family=\"Times,serif\" font-size=\"14.00\">Y_obs</text>\n<text text-anchor=\"middle\" x=\"144.72\" y=\"-72.78\" font-family=\"Times,serif\" font-size=\"14.00\">~</text>\n<text text-anchor=\"middle\" x=\"144.72\" y=\"-57.78\" font-family=\"Times,serif\" font-size=\"14.00\">Normal</text>\n</g>\n<!-- alpha&#45;&gt;Y_obs -->\n<g id=\"edge2\" class=\"edge\">\n<title>alpha&#45;&gt;Y_obs</title>\n<path fill=\"none\" stroke=\"black\" d=\"M63.73,-166.52C72.43,-154.79 82.72,-141.49 92.72,-129.95 97.98,-123.89 103.77,-117.65 109.52,-111.69\"/>\n<polygon fill=\"black\" stroke=\"black\" points=\"112.25,-113.91 116.75,-104.32 107.25,-109.01 112.25,-113.91\"/>\n</g>\n<!-- epsilon -->\n<g id=\"node2\" class=\"node\">\n<title>epsilon</title>\n<ellipse fill=\"none\" stroke=\"black\" cx=\"144.72\" cy=\"-198.43\" rx=\"43.27\" ry=\"37.45\"/>\n<text text-anchor=\"middle\" x=\"144.72\" y=\"-209.73\" font-family=\"Times,serif\" font-size=\"14.00\">epsilon</text>\n<text text-anchor=\"middle\" x=\"144.72\" y=\"-194.73\" font-family=\"Times,serif\" font-size=\"14.00\">~</text>\n<text text-anchor=\"middle\" x=\"144.72\" y=\"-179.73\" font-family=\"Times,serif\" font-size=\"14.00\">Gamma</text>\n</g>\n<!-- epsilon&#45;&gt;Y_obs -->\n<g id=\"edge3\" class=\"edge\">\n<title>epsilon&#45;&gt;Y_obs</title>\n<path fill=\"none\" stroke=\"black\" d=\"M144.72,-160.79C144.72,-149.38 144.72,-136.65 144.72,-124.63\"/>\n<polygon fill=\"black\" stroke=\"black\" points=\"148.22,-124.31 144.72,-114.31 141.22,-124.31 148.22,-124.31\"/>\n</g>\n<!-- betas -->\n<g id=\"node3\" class=\"node\">\n<title>betas</title>\n<ellipse fill=\"none\" stroke=\"black\" cx=\"247.72\" cy=\"-198.43\" rx=\"41.94\" ry=\"37.45\"/>\n<text text-anchor=\"middle\" x=\"247.72\" y=\"-209.73\" font-family=\"Times,serif\" font-size=\"14.00\">betas</text>\n<text text-anchor=\"middle\" x=\"247.72\" y=\"-194.73\" font-family=\"Times,serif\" font-size=\"14.00\">~</text>\n<text text-anchor=\"middle\" x=\"247.72\" y=\"-179.73\" font-family=\"Times,serif\" font-size=\"14.00\">Normal</text>\n</g>\n<!-- betas&#45;&gt;Y_obs -->\n<g id=\"edge1\" class=\"edge\">\n<title>betas&#45;&gt;Y_obs</title>\n<path fill=\"none\" stroke=\"black\" d=\"M225.71,-166.52C217.01,-154.79 206.72,-141.49 196.72,-129.95 191.46,-123.89 185.67,-117.65 179.92,-111.69\"/>\n<polygon fill=\"black\" stroke=\"black\" points=\"182.19,-109.01 172.69,-104.32 177.19,-113.91 182.19,-109.01\"/>\n</g>\n</g>\n</svg>\n",
            "text/plain": [
              "<graphviz.graphs.Digraph at 0x7947995ea6e0>"
            ]
          },
          "metadata": {},
          "execution_count": 14
        }
      ]
    },
    {
      "cell_type": "code",
      "source": [
        "def analise_posteriori(trace):\n",
        "  fig, axes = plt.subplots(1, 2, figsize=(10, 5))\n",
        "  az.plot_ppc(trace, group='posterior', kind='cumulative', ax=axes[0]);\n",
        "  az.plot_ppc(trace, group='posterior',ax=axes[1]);\n",
        "\n",
        "  return fig, axes"
      ],
      "metadata": {
        "id": "logsrbSC6Ou3"
      },
      "execution_count": 15,
      "outputs": []
    },
    {
      "cell_type": "code",
      "source": [
        "\n",
        "with model_ridge:\n",
        "  trace_pos_ridge = pm.sample_posterior_predictive(trace_ridge)\n",
        "\n",
        "analise_posteriori(trace_pos_ridge)\n"
      ],
      "metadata": {
        "colab": {
          "base_uri": "https://localhost:8080/",
          "height": 598,
          "referenced_widgets": [
            "1209a549459f4bde9ca64e88ea0b12a1",
            "eeee7b55ebce4e1390f09cf6d348c659"
          ]
        },
        "id": "I0kMfJna6QLB",
        "outputId": "89fe48fa-74de-46f9-8c40-1e7085902ba9"
      },
      "execution_count": 16,
      "outputs": [
        {
          "output_type": "display_data",
          "data": {
            "text/plain": [
              "Output()"
            ],
            "application/vnd.jupyter.widget-view+json": {
              "version_major": 2,
              "version_minor": 0,
              "model_id": "1209a549459f4bde9ca64e88ea0b12a1"
            }
          },
          "metadata": {}
        },
        {
          "output_type": "display_data",
          "data": {
            "text/plain": [],
            "text/html": [
              "<pre style=\"white-space:pre;overflow-x:auto;line-height:normal;font-family:Menlo,'DejaVu Sans Mono',consolas,'Courier New',monospace\"></pre>\n"
            ]
          },
          "metadata": {}
        },
        {
          "output_type": "execute_result",
          "data": {
            "text/plain": [
              "(<Figure size 1000x500 with 2 Axes>,\n",
              " array([<Axes: xlabel='Y_obs'>, <Axes: xlabel='Y_obs'>], dtype=object))"
            ]
          },
          "metadata": {},
          "execution_count": 16
        },
        {
          "output_type": "stream",
          "name": "stderr",
          "text": [
            "/usr/local/lib/python3.10/dist-packages/IPython/core/events.py:89: UserWarning: Creating legend with loc=\"best\" can be slow with large amounts of data.\n",
            "  func(*args, **kwargs)\n",
            "/usr/local/lib/python3.10/dist-packages/IPython/core/pylabtools.py:151: UserWarning: Creating legend with loc=\"best\" can be slow with large amounts of data.\n",
            "  fig.canvas.print_figure(bytes_io, **kw)\n"
          ]
        },
        {
          "output_type": "display_data",
          "data": {
            "text/plain": [
              "<Figure size 1000x500 with 2 Axes>"
            ],
            "image/png": "[encoded data removed]"
          },
          "metadata": {}
        }
      ]
    },
    {
      "cell_type": "markdown",
      "source": [
        "LASSO"
      ],
      "metadata": {
        "id": "RUnKDbQt7Q8Y"
      }
    },
    {
      "cell_type": "code",
      "source": [
        "import pymc as pm\n",
        "import pytensor.tensor as pt  # Usar pytensor para a multiplicação de matrizes\n",
        "import numpy as np\n",
        "from sklearn.preprocessing import StandardScaler\n",
        "from sklearn.model_selection import train_test_split\n",
        "from math import sqrt"
      ],
      "metadata": {
        "id": "d8txiMzG8OWw"
      },
      "execution_count": 17,
      "outputs": []
    },
    {
      "cell_type": "code",
      "source": [
        "# Criar o modelo Lasso Bayesiano\n",
        "with pm.Model(coords=coords) as model_lasso:\n",
        "    # Priori para o intercepto (alpha)\n",
        "    alpha = pm.Normal('alpha', mu=0, sigma=10)\n",
        "\n",
        "    # Priori para os coeficientes de regressão (betas) com distribuição Laplace\n",
        "    betas = pm.Laplace('betas', mu=0, b=1/sqrt(2), dims='features')  # b é o parâmetro de escala da Laplace\n",
        "\n",
        "    # Priori para o desvio padrão do erro (epsilon)\n",
        "    epsilon = pm.Gamma('epsilon', alpha=2, beta=1)\n",
        "\n",
        "    # Definir a equação do modelo linear\n",
        "    mu = alpha + pt.dot(X_scaled, betas)\n",
        "\n",
        "    # Definir a verossimilhança (Normal)\n",
        "    likelihood = pm.Normal('Y_obs', mu=mu, sigma=epsilon, observed=y)\n",
        "\n",
        "    # Amostrar da distribuição a priori\n",
        "    lasso_trace_prior = pm.sample_prior_predictive()\n",
        "\n",
        "    # Amostrar da distribuição posterior\n",
        "    trace_lasso = pm.sample(1000, tune=1000, target_accept=0.95)\n",
        "\n",
        "# Exibir o resumo dos parâmetros ajustados\n",
        "\n",
        "az.summary(trace_lasso)"
      ],
      "metadata": {
        "colab": {
          "base_uri": "https://localhost:8080/",
          "height": 492,
          "referenced_widgets": [
            "36b7c1c5bbc34751b096156fd6674ab3",
            "5e925066e869451b82f9eae95c5b0aa7",
            "4f6592649f9a459b9f94f0fef99c0613",
            "941e2a4bd33c47579ed59aa0d121a318"
          ]
        },
        "id": "wJGtk7Zz7SCq",
        "outputId": "b9e48725-75a9-4cdc-afbd-3ae845e5a13d"
      },
      "execution_count": 18,
      "outputs": [
        {
          "output_type": "display_data",
          "data": {
            "text/plain": [
              "Output()"
            ],
            "application/vnd.jupyter.widget-view+json": {
              "version_major": 2,
              "version_minor": 0,
              "model_id": "36b7c1c5bbc34751b096156fd6674ab3"
            }
          },
          "metadata": {}
        },
        {
          "output_type": "display_data",
          "data": {
            "text/plain": [],
            "text/html": [
              "<pre style=\"white-space:pre;overflow-x:auto;line-height:normal;font-family:Menlo,'DejaVu Sans Mono',consolas,'Courier New',monospace\"></pre>\n"
            ]
          },
          "metadata": {}
        },
        {
          "output_type": "display_data",
          "data": {
            "text/plain": [
              "Output()"
            ],
            "application/vnd.jupyter.widget-view+json": {
              "version_major": 2,
              "version_minor": 0,
              "model_id": "4f6592649f9a459b9f94f0fef99c0613"
            }
          },
          "metadata": {}
        },
        {
          "output_type": "display_data",
          "data": {
            "text/plain": [],
            "text/html": [
              "<pre style=\"white-space:pre;overflow-x:auto;line-height:normal;font-family:Menlo,'DejaVu Sans Mono',consolas,'Courier New',monospace\"></pre>\n"
            ]
          },
          "metadata": {}
        },
        {
          "output_type": "execute_result",
          "data": {
            "text/plain": [
              "            mean     sd  hdi_3%  hdi_97%  mcse_mean  mcse_sd  ess_bulk  \\\n",
              "alpha      5.819  0.009   5.802    5.835      0.000    0.000    2441.0   \n",
              "betas[0]   0.086  0.020   0.045    0.121      0.001    0.000    1140.0   \n",
              "betas[1]  -0.219  0.013  -0.244   -0.196      0.000    0.000    1660.0   \n",
              "betas[2]  -0.016  0.012  -0.039    0.005      0.000    0.000    1710.0   \n",
              "betas[3]   0.205  0.024   0.162    0.251      0.001    0.001     854.0   \n",
              "betas[4]  -0.017  0.012  -0.040    0.004      0.000    0.000    1732.0   \n",
              "betas[5]   0.106  0.013   0.081    0.129      0.000    0.000    1610.0   \n",
              "betas[6]  -0.140  0.015  -0.167   -0.111      0.000    0.000    1422.0   \n",
              "betas[7]  -0.161  0.036  -0.228   -0.097      0.001    0.001     799.0   \n",
              "betas[8]   0.070  0.015   0.040    0.096      0.000    0.000    1097.0   \n",
              "betas[9]   0.114  0.012   0.092    0.135      0.000    0.000    1872.0   \n",
              "betas[10]  0.320  0.020   0.282    0.356      0.001    0.000     949.0   \n",
              "epsilon    0.735  0.006   0.723    0.747      0.000    0.000    1973.0   \n",
              "\n",
              "           ess_tail  r_hat  \n",
              "alpha        1543.0    1.0  \n",
              "betas[0]     1043.0    1.0  \n",
              "betas[1]     1497.0    1.0  \n",
              "betas[2]     1374.0    1.0  \n",
              "betas[3]     1146.0    1.0  \n",
              "betas[4]     1319.0    1.0  \n",
              "betas[5]     1368.0    1.0  \n",
              "betas[6]     1422.0    1.0  \n",
              "betas[7]     1013.0    1.0  \n",
              "betas[8]     1260.0    1.0  \n",
              "betas[9]     1543.0    1.0  \n",
              "betas[10]    1122.0    1.0  \n",
              "epsilon      1372.0    1.0  "
            ],
            "text/html": [
              "\n",
              "  <div id=\"df-9d811d88-c5c5-41ae-a146-283598b7fc9d\" class=\"colab-df-container\">\n",
              "    <div>\n",
              "<style scoped>\n",
              "    .dataframe tbody tr th:only-of-type {\n",
              "        vertical-align: middle;\n",
              "    }\n",
              "\n",
              "    .dataframe tbody tr th {\n",
              "        vertical-align: top;\n",
              "    }\n",
              "\n",
              "    .dataframe thead th {\n",
              "        text-align: right;\n",
              "    }\n",
              "</style>\n",
              "<table border=\"1\" class=\"dataframe\">\n",
              "  <thead>\n",
              "    <tr style=\"text-align: right;\">\n",
              "      <th></th>\n",
              "      <th>mean</th>\n",
              "      <th>sd</th>\n",
              "      <th>hdi_3%</th>\n",
              "      <th>hdi_97%</th>\n",
              "      <th>mcse_mean</th>\n",
              "      <th>mcse_sd</th>\n",
              "      <th>ess_bulk</th>\n",
              "      <th>ess_tail</th>\n",
              "      <th>r_hat</th>\n",
              "    </tr>\n",
              "  </thead>\n",
              "  <tbody>\n",
              "    <tr>\n",
              "      <th>alpha</th>\n",
              "      <td>5.819</td>\n",
              "      <td>0.009</td>\n",
              "      <td>5.802</td>\n",
              "      <td>5.835</td>\n",
              "      <td>0.000</td>\n",
              "      <td>0.000</td>\n",
              "      <td>2441.0</td>\n",
              "      <td>1543.0</td>\n",
              "      <td>1.0</td>\n",
              "    </tr>\n",
              "    <tr>\n",
              "      <th>betas[0]</th>\n",
              "      <td>0.086</td>\n",
              "      <td>0.020</td>\n",
              "      <td>0.045</td>\n",
              "      <td>0.121</td>\n",
              "      <td>0.001</td>\n",
              "      <td>0.000</td>\n",
              "      <td>1140.0</td>\n",
              "      <td>1043.0</td>\n",
              "      <td>1.0</td>\n",
              "    </tr>\n",
              "    <tr>\n",
              "      <th>betas[1]</th>\n",
              "      <td>-0.219</td>\n",
              "      <td>0.013</td>\n",
              "      <td>-0.244</td>\n",
              "      <td>-0.196</td>\n",
              "      <td>0.000</td>\n",
              "      <td>0.000</td>\n",
              "      <td>1660.0</td>\n",
              "      <td>1497.0</td>\n",
              "      <td>1.0</td>\n",
              "    </tr>\n",
              "    <tr>\n",
              "      <th>betas[2]</th>\n",
              "      <td>-0.016</td>\n",
              "      <td>0.012</td>\n",
              "      <td>-0.039</td>\n",
              "      <td>0.005</td>\n",
              "      <td>0.000</td>\n",
              "      <td>0.000</td>\n",
              "      <td>1710.0</td>\n",
              "      <td>1374.0</td>\n",
              "      <td>1.0</td>\n",
              "    </tr>\n",
              "    <tr>\n",
              "      <th>betas[3]</th>\n",
              "      <td>0.205</td>\n",
              "      <td>0.024</td>\n",
              "      <td>0.162</td>\n",
              "      <td>0.251</td>\n",
              "      <td>0.001</td>\n",
              "      <td>0.001</td>\n",
              "      <td>854.0</td>\n",
              "      <td>1146.0</td>\n",
              "      <td>1.0</td>\n",
              "    </tr>\n",
              "    <tr>\n",
              "      <th>betas[4]</th>\n",
              "      <td>-0.017</td>\n",
              "      <td>0.012</td>\n",
              "      <td>-0.040</td>\n",
              "      <td>0.004</td>\n",
              "      <td>0.000</td>\n",
              "      <td>0.000</td>\n",
              "      <td>1732.0</td>\n",
              "      <td>1319.0</td>\n",
              "      <td>1.0</td>\n",
              "    </tr>\n",
              "    <tr>\n",
              "      <th>betas[5]</th>\n",
              "      <td>0.106</td>\n",
              "      <td>0.013</td>\n",
              "      <td>0.081</td>\n",
              "      <td>0.129</td>\n",
              "      <td>0.000</td>\n",
              "      <td>0.000</td>\n",
              "      <td>1610.0</td>\n",
              "      <td>1368.0</td>\n",
              "      <td>1.0</td>\n",
              "    </tr>\n",
              "    <tr>\n",
              "      <th>betas[6]</th>\n",
              "      <td>-0.140</td>\n",
              "      <td>0.015</td>\n",
              "      <td>-0.167</td>\n",
              "      <td>-0.111</td>\n",
              "      <td>0.000</td>\n",
              "      <td>0.000</td>\n",
              "      <td>1422.0</td>\n",
              "      <td>1422.0</td>\n",
              "      <td>1.0</td>\n",
              "    </tr>\n",
              "    <tr>\n",
              "      <th>betas[7]</th>\n",
              "      <td>-0.161</td>\n",
              "      <td>0.036</td>\n",
              "      <td>-0.228</td>\n",
              "      <td>-0.097</td>\n",
              "      <td>0.001</td>\n",
              "      <td>0.001</td>\n",
              "      <td>799.0</td>\n",
              "      <td>1013.0</td>\n",
              "      <td>1.0</td>\n",
              "    </tr>\n",
              "    <tr>\n",
              "      <th>betas[8]</th>\n",
              "      <td>0.070</td>\n",
              "      <td>0.015</td>\n",
              "      <td>0.040</td>\n",
              "      <td>0.096</td>\n",
              "      <td>0.000</td>\n",
              "      <td>0.000</td>\n",
              "      <td>1097.0</td>\n",
              "      <td>1260.0</td>\n",
              "      <td>1.0</td>\n",
              "    </tr>\n",
              "    <tr>\n",
              "      <th>betas[9]</th>\n",
              "      <td>0.114</td>\n",
              "      <td>0.012</td>\n",
              "      <td>0.092</td>\n",
              "      <td>0.135</td>\n",
              "      <td>0.000</td>\n",
              "      <td>0.000</td>\n",
              "      <td>1872.0</td>\n",
              "      <td>1543.0</td>\n",
              "      <td>1.0</td>\n",
              "    </tr>\n",
              "    <tr>\n",
              "      <th>betas[10]</th>\n",
              "      <td>0.320</td>\n",
              "      <td>0.020</td>\n",
              "      <td>0.282</td>\n",
              "      <td>0.356</td>\n",
              "      <td>0.001</td>\n",
              "      <td>0.000</td>\n",
              "      <td>949.0</td>\n",
              "      <td>1122.0</td>\n",
              "      <td>1.0</td>\n",
              "    </tr>\n",
              "    <tr>\n",
              "      <th>epsilon</th>\n",
              "      <td>0.735</td>\n",
              "      <td>0.006</td>\n",
              "      <td>0.723</td>\n",
              "      <td>0.747</td>\n",
              "      <td>0.000</td>\n",
              "      <td>0.000</td>\n",
              "      <td>1973.0</td>\n",
              "      <td>1372.0</td>\n",
              "      <td>1.0</td>\n",
              "    </tr>\n",
              "  </tbody>\n",
              "</table>\n",
              "</div>\n",
              "    <div class=\"colab-df-buttons\">\n",
              "\n",
              "  <div class=\"colab-df-container\">\n",
              "    <button class=\"colab-df-convert\" onclick=\"convertToInteractive('df-9d811d88-c5c5-41ae-a146-283598b7fc9d')\"\n",
              "            title=\"Convert this dataframe to an interactive table.\"\n",
              "            style=\"display:none;\">\n",
              "\n",
              "  <svg xmlns=\"http://www.w3.org/2000/svg\" height=\"24px\" viewBox=\"0 -960 960 960\">\n",
              "    <path d=\"M120-120v-720h720v720H120Zm60-500h600v-160H180v160Zm220 220h160v-160H400v160Zm0 220h160v-160H400v160ZM180-400h160v-160H180v160Zm440 0h160v-160H620v160ZM180-180h160v-160H180v160Zm440 0h160v-160H620v160Z\"/>\n",
              "  </svg>\n",
              "    </button>\n",
              "\n",
              "  <style>\n",
              "    .colab-df-container {\n",
              "      display:flex;\n",
              "      gap: 12px;\n",
              "    }\n",
              "\n",
              "    .colab-df-convert {\n",
              "      background-color: #E8F0FE;\n",
              "      border: none;\n",
              "      border-radius: 50%;\n",
              "      cursor: pointer;\n",
              "      display: none;\n",
              "      fill: #1967D2;\n",
              "      height: 32px;\n",
              "      padding: 0 0 0 0;\n",
              "      width: 32px;\n",
              "    }\n",
              "\n",
              "    .colab-df-convert:hover {\n",
              "      background-color: #E2EBFA;\n",
              "      box-shadow: 0px 1px 2px rgba(60, 64, 67, 0.3), 0px 1px 3px 1px rgba(60, 64, 67, 0.15);\n",
              "      fill: #174EA6;\n",
              "    }\n",
              "\n",
              "    .colab-df-buttons div {\n",
              "      margin-bottom: 4px;\n",
              "    }\n",
              "\n",
              "    [theme=dark] .colab-df-convert {\n",
              "      background-color: #3B4455;\n",
              "      fill: #D2E3FC;\n",
              "    }\n",
              "\n",
              "    [theme=dark] .colab-df-convert:hover {\n",
              "      background-color: #434B5C;\n",
              "      box-shadow: 0px 1px 3px 1px rgba(0, 0, 0, 0.15);\n",
              "      filter: drop-shadow(0px 1px 2px rgba(0, 0, 0, 0.3));\n",
              "      fill: #FFFFFF;\n",
              "    }\n",
              "  </style>\n",
              "\n",
              "    <script>\n",
              "      const buttonEl =\n",
              "        document.querySelector('#df-9d811d88-c5c5-41ae-a146-283598b7fc9d button.colab-df-convert');\n",
              "      buttonEl.style.display =\n",
              "        google.colab.kernel.accessAllowed ? 'block' : 'none';\n",
              "\n",
              "      async function convertToInteractive(key) {\n",
              "        const element = document.querySelector('#df-9d811d88-c5c5-41ae-a146-283598b7fc9d');\n",
              "        const dataTable =\n",
              "          await google.colab.kernel.invokeFunction('convertToInteractive',\n",
              "                                                    [key], {});\n",
              "        if (!dataTable) return;\n",
              "\n",
              "        const docLinkHtml = 'Like what you see? Visit the ' +\n",
              "          '<a target=\"_blank\" href=https://colab.research.google.com/notebooks/data_table.ipynb>data table notebook</a>'\n",
              "          + ' to learn more about interactive tables.';\n",
              "        element.innerHTML = '';\n",
              "        dataTable['output_type'] = 'display_data';\n",
              "        await google.colab.output.renderOutput(dataTable, element);\n",
              "        const docLink = document.createElement('div');\n",
              "        docLink.innerHTML = docLinkHtml;\n",
              "        element.appendChild(docLink);\n",
              "      }\n",
              "    </script>\n",
              "  </div>\n",
              "\n",
              "\n",
              "<div id=\"df-b1f1a5d6-40c2-4d86-93b9-012e6cd63ab2\">\n",
              "  <button class=\"colab-df-quickchart\" onclick=\"quickchart('df-b1f1a5d6-40c2-4d86-93b9-012e6cd63ab2')\"\n",
              "            title=\"Suggest charts\"\n",
              "            style=\"display:none;\">\n",
              "\n",
              "<svg xmlns=\"http://www.w3.org/2000/svg\" height=\"24px\"viewBox=\"0 0 24 24\"\n",
              "     width=\"24px\">\n",
              "    <g>\n",
              "        <path d=\"M19 3H5c-1.1 0-2 .9-2 2v14c0 1.1.9 2 2 2h14c1.1 0 2-.9 2-2V5c0-1.1-.9-2-2-2zM9 17H7v-7h2v7zm4 0h-2V7h2v10zm4 0h-2v-4h2v4z\"/>\n",
              "    </g>\n",
              "</svg>\n",
              "  </button>\n",
              "\n",
              "<style>\n",
              "  .colab-df-quickchart {\n",
              "      --bg-color: #E8F0FE;\n",
              "      --fill-color: #1967D2;\n",
              "      --hover-bg-color: #E2EBFA;\n",
              "      --hover-fill-color: #174EA6;\n",
              "      --disabled-fill-color: #AAA;\n",
              "      --disabled-bg-color: #DDD;\n",
              "  }\n",
              "\n",
              "  [theme=dark] .colab-df-quickchart {\n",
              "      --bg-color: #3B4455;\n",
              "      --fill-color: #D2E3FC;\n",
              "      --hover-bg-color: #434B5C;\n",
              "      --hover-fill-color: #FFFFFF;\n",
              "      --disabled-bg-color: #3B4455;\n",
              "      --disabled-fill-color: #666;\n",
              "  }\n",
              "\n",
              "  .colab-df-quickchart {\n",
              "    background-color: var(--bg-color);\n",
              "    border: none;\n",
              "    border-radius: 50%;\n",
              "    cursor: pointer;\n",
              "    display: none;\n",
              "    fill: var(--fill-color);\n",
              "    height: 32px;\n",
              "    padding: 0;\n",
              "    width: 32px;\n",
              "  }\n",
              "\n",
              "  .colab-df-quickchart:hover {\n",
              "    background-color: var(--hover-bg-color);\n",
              "    box-shadow: 0 1px 2px rgba(60, 64, 67, 0.3), 0 1px 3px 1px rgba(60, 64, 67, 0.15);\n",
              "    fill: var(--button-hover-fill-color);\n",
              "  }\n",
              "\n",
              "  .colab-df-quickchart-complete:disabled,\n",
              "  .colab-df-quickchart-complete:disabled:hover {\n",
              "    background-color: var(--disabled-bg-color);\n",
              "    fill: var(--disabled-fill-color);\n",
              "    box-shadow: none;\n",
              "  }\n",
              "\n",
              "  .colab-df-spinner {\n",
              "    border: 2px solid var(--fill-color);\n",
              "    border-color: transparent;\n",
              "    border-bottom-color: var(--fill-color);\n",
              "    animation:\n",
              "      spin 1s steps(1) infinite;\n",
              "  }\n",
              "\n",
              "  @keyframes spin {\n",
              "    0% {\n",
              "      border-color: transparent;\n",
              "      border-bottom-color: var(--fill-color);\n",
              "      border-left-color: var(--fill-color);\n",
              "    }\n",
              "    20% {\n",
              "      border-color: transparent;\n",
              "      border-left-color: var(--fill-color);\n",
              "      border-top-color: var(--fill-color);\n",
              "    }\n",
              "    30% {\n",
              "      border-color: transparent;\n",
              "      border-left-color: var(--fill-color);\n",
              "      border-top-color: var(--fill-color);\n",
              "      border-right-color: var(--fill-color);\n",
              "    }\n",
              "    40% {\n",
              "      border-color: transparent;\n",
              "      border-right-color: var(--fill-color);\n",
              "      border-top-color: var(--fill-color);\n",
              "    }\n",
              "    60% {\n",
              "      border-color: transparent;\n",
              "      border-right-color: var(--fill-color);\n",
              "    }\n",
              "    80% {\n",
              "      border-color: transparent;\n",
              "      border-right-color: var(--fill-color);\n",
              "      border-bottom-color: var(--fill-color);\n",
              "    }\n",
              "    90% {\n",
              "      border-color: transparent;\n",
              "      border-bottom-color: var(--fill-color);\n",
              "    }\n",
              "  }\n",
              "</style>\n",
              "\n",
              "  <script>\n",
              "    async function quickchart(key) {\n",
              "      const quickchartButtonEl =\n",
              "        document.querySelector('#' + key + ' button');\n",
              "      quickchartButtonEl.disabled = true;  // To prevent multiple clicks.\n",
              "      quickchartButtonEl.classList.add('colab-df-spinner');\n",
              "      try {\n",
              "        const charts = await google.colab.kernel.invokeFunction(\n",
              "            'suggestCharts', [key], {});\n",
              "      } catch (error) {\n",
              "        console.error('Error during call to suggestCharts:', error);\n",
              "      }\n",
              "      quickchartButtonEl.classList.remove('colab-df-spinner');\n",
              "      quickchartButtonEl.classList.add('colab-df-quickchart-complete');\n",
              "    }\n",
              "    (() => {\n",
              "      let quickchartButtonEl =\n",
              "        document.querySelector('#df-b1f1a5d6-40c2-4d86-93b9-012e6cd63ab2 button');\n",
              "      quickchartButtonEl.style.display =\n",
              "        google.colab.kernel.accessAllowed ? 'block' : 'none';\n",
              "    })();\n",
              "  </script>\n",
              "</div>\n",
              "\n",
              "    </div>\n",
              "  </div>\n"
            ],
            "application/vnd.google.colaboratory.intrinsic+json": {
              "type": "dataframe",
              "summary": "{\n  \"name\": \"az\",\n  \"rows\": 13,\n  \"fields\": [\n    {\n      \"column\": \"mean\",\n      \"properties\": {\n        \"dtype\": \"number\",\n        \"std\": 1.6075741279714217,\n        \"min\": -0.219,\n        \"max\": 5.819,\n        \"num_unique_values\": 13,\n        \"samples\": [\n          0.32,\n          0.07,\n          5.819\n        ],\n        \"semantic_type\": \"\",\n        \"description\": \"\"\n      }\n    },\n    {\n      \"column\": \"sd\",\n      \"properties\": {\n        \"dtype\": \"number\",\n        \"std\": 0.00770780490219209,\n        \"min\": 0.006,\n        \"max\": 0.036,\n        \"num_unique_values\": 8,\n        \"samples\": [\n          0.02,\n          0.015,\n          0.009\n        ],\n        \"semantic_type\": \"\",\n        \"description\": \"\"\n      }\n    },\n    {\n      \"column\": \"hdi_3%\",\n      \"properties\": {\n        \"dtype\": \"number\",\n        \"std\": 1.612293262437874,\n        \"min\": -0.244,\n        \"max\": 5.802,\n        \"num_unique_values\": 13,\n        \"samples\": [\n          0.282,\n          0.04,\n          5.802\n        ],\n        \"semantic_type\": \"\",\n        \"description\": \"\"\n      }\n    },\n    {\n      \"column\": \"hdi_97%\",\n      \"properties\": {\n        \"dtype\": \"number\",\n        \"std\": 1.603191584437199,\n        \"min\": -0.196,\n        \"max\": 5.835,\n        \"num_unique_values\": 13,\n        \"samples\": [\n          0.356,\n          0.096,\n          5.835\n        ],\n        \"semantic_type\": \"\",\n        \"description\": \"\"\n      }\n    },\n    {\n      \"column\": \"mcse_mean\",\n      \"properties\": {\n        \"dtype\": \"number\",\n        \"std\": 0.0004803844614152615,\n        \"min\": 0.0,\n        \"max\": 0.001,\n        \"num_unique_values\": 2,\n        \"samples\": [\n          0.001,\n          0.0\n        ],\n        \"semantic_type\": \"\",\n        \"description\": \"\"\n      }\n    },\n    {\n      \"column\": \"mcse_sd\",\n      \"properties\": {\n        \"dtype\": \"number\",\n        \"std\": 0.00037553380809940537,\n        \"min\": 0.0,\n        \"max\": 0.001,\n        \"num_unique_values\": 2,\n        \"samples\": [\n          0.001,\n          0.0\n        ],\n        \"semantic_type\": \"\",\n        \"description\": \"\"\n      }\n    },\n    {\n      \"column\": \"ess_bulk\",\n      \"properties\": {\n        \"dtype\": \"number\",\n        \"std\": 490.6765084018552,\n        \"min\": 799.0,\n        \"max\": 2441.0,\n        \"num_unique_values\": 13,\n        \"samples\": [\n          949.0,\n          1097.0\n        ],\n        \"semantic_type\": \"\",\n        \"description\": \"\"\n      }\n    },\n    {\n      \"column\": \"ess_tail\",\n      \"properties\": {\n        \"dtype\": \"number\",\n        \"std\": 180.67214250382673,\n        \"min\": 1013.0,\n        \"max\": 1543.0,\n        \"num_unique_values\": 12,\n        \"samples\": [\n          1122.0,\n          1260.0\n        ],\n        \"semantic_type\": \"\",\n        \"description\": \"\"\n      }\n    },\n    {\n      \"column\": \"r_hat\",\n      \"properties\": {\n        \"dtype\": \"number\",\n        \"std\": 0.0,\n        \"min\": 1.0,\n        \"max\": 1.0,\n        \"num_unique_values\": 1,\n        \"samples\": [\n          1.0\n        ],\n        \"semantic_type\": \"\",\n        \"description\": \"\"\n      }\n    }\n  ]\n}"
            }
          },
          "metadata": {},
          "execution_count": 18
        }
      ]
    },
    {
      "cell_type": "code",
      "source": [
        "# Supondo que 'y' é seu vetor de dados observados\n",
        "analise_priori(lasso_trace_prior, y)"
      ],
      "metadata": {
        "colab": {
          "base_uri": "https://localhost:8080/",
          "height": 1000
        },
        "id": "0b67840z8jqH",
        "outputId": "c27204cb-dea9-488a-9b9b-a2c19595154f"
      },
      "execution_count": 19,
      "outputs": [
        {
          "output_type": "stream",
          "name": "stderr",
          "text": [
            "<ipython-input-6-4581fe9e5373>:43: UserWarning: This figure includes Axes that are not compatible with tight_layout, so results might be incorrect.\n",
            "  plt.tight_layout()\n"
          ]
        },
        {
          "output_type": "execute_result",
          "data": {
            "text/plain": [
              "(<Figure size 1000x1000 with 6 Axes>,\n",
              " array([[<Axes: xlabel='Betas', ylabel='Contagem'>,\n",
              "         <Axes: xlabel='Previsões a Priori (Y_obs)', ylabel='Contagem'>],\n",
              "        [<Axes: title={'center': 'Previsões a Priori'}, xlabel='Observado', ylabel='Previsões'>,\n",
              "         <Axes: >],\n",
              "        [<Axes: xlabel='Y_obs'>, <Axes: xlabel='Y_obs'>]], dtype=object))"
            ]
          },
          "metadata": {},
          "execution_count": 19
        },
        {
          "output_type": "stream",
          "name": "stderr",
          "text": [
            "/usr/local/lib/python3.10/dist-packages/IPython/core/events.py:89: UserWarning: Creating legend with loc=\"best\" can be slow with large amounts of data.\n",
            "  func(*args, **kwargs)\n",
            "/usr/local/lib/python3.10/dist-packages/IPython/core/pylabtools.py:151: UserWarning: Creating legend with loc=\"best\" can be slow with large amounts of data.\n",
            "  fig.canvas.print_figure(bytes_io, **kw)\n"
          ]
        },
        {
          "output_type": "display_data",
          "data": {
            "text/plain": [
              "<Figure size 1000x1000 with 6 Axes>"
            ],
            "image/png": "[encoded data removed]"
          },
          "metadata": {}
        }
      ]
    },
    {
      "cell_type": "code",
      "source": [
        "\n",
        "pm.model_to_graphviz(model_lasso)"
      ],
      "metadata": {
        "colab": {
          "base_uri": "https://localhost:8080/",
          "height": 368
        },
        "id": "VZj-Ou8y8x1u",
        "outputId": "c0f0bcef-9276-4216-e2ee-6cf1ed8951a0"
      },
      "execution_count": 20,
      "outputs": [
        {
          "output_type": "execute_result",
          "data": {
            "image/svg+xml": "<?xml version=\"1.0\" encoding=\"UTF-8\" standalone=\"no\"?>\n<!DOCTYPE svg PUBLIC \"-//W3C//DTD SVG 1.1//EN\"\n \"http://www.w3.org/Graphics/SVG/1.1/DTD/svg11.dtd\">\n<!-- Generated by graphviz version 2.43.0 (0)\n -->\n<!-- Title: %3 Pages: 1 -->\n<svg width=\"314pt\" height=\"260pt\"\n viewBox=\"0.00 0.00 313.72 259.91\" xmlns=\"http://www.w3.org/2000/svg\" xmlns:xlink=\"http://www.w3.org/1999/xlink\">\n<g id=\"graph0\" class=\"graph\" transform=\"scale(1 1) rotate(0) translate(4 255.91)\">\n<title>%3</title>\n<polygon fill=\"white\" stroke=\"transparent\" points=\"-4,4 -4,-255.91 309.72,-255.91 309.72,4 -4,4\"/>\n<g id=\"clust1\" class=\"cluster\">\n<title>clusterfeatures (11)</title>\n<path fill=\"none\" stroke=\"black\" d=\"M209.72,-129.95C209.72,-129.95 285.72,-129.95 285.72,-129.95 291.72,-129.95 297.72,-135.95 297.72,-141.95 297.72,-141.95 297.72,-231.91 297.72,-231.91 297.72,-237.91 291.72,-243.91 285.72,-243.91 285.72,-243.91 209.72,-243.91 209.72,-243.91 203.72,-243.91 197.72,-237.91 197.72,-231.91 197.72,-231.91 197.72,-141.95 197.72,-141.95 197.72,-135.95 203.72,-129.95 209.72,-129.95\"/>\n<text text-anchor=\"middle\" x=\"254.72\" y=\"-137.75\" font-family=\"Times,serif\" font-size=\"14.00\">features (11)</text>\n</g>\n<g id=\"clust2\" class=\"cluster\">\n<title>cluster6497</title>\n<path fill=\"none\" stroke=\"black\" d=\"M106.72,-8C106.72,-8 182.72,-8 182.72,-8 188.72,-8 194.72,-14 194.72,-20 194.72,-20 194.72,-109.95 194.72,-109.95 194.72,-115.95 188.72,-121.95 182.72,-121.95 182.72,-121.95 106.72,-121.95 106.72,-121.95 100.72,-121.95 94.72,-115.95 94.72,-109.95 94.72,-109.95 94.72,-20 94.72,-20 94.72,-14 100.72,-8 106.72,-8\"/>\n<text text-anchor=\"middle\" x=\"172.72\" y=\"-15.8\" font-family=\"Times,serif\" font-size=\"14.00\">6497</text>\n</g>\n<!-- alpha -->\n<g id=\"node1\" class=\"node\">\n<title>alpha</title>\n<ellipse fill=\"none\" stroke=\"black\" cx=\"41.72\" cy=\"-198.43\" rx=\"41.94\" ry=\"37.45\"/>\n<text text-anchor=\"middle\" x=\"41.72\" y=\"-209.73\" font-family=\"Times,serif\" font-size=\"14.00\">alpha</text>\n<text text-anchor=\"middle\" x=\"41.72\" y=\"-194.73\" font-family=\"Times,serif\" font-size=\"14.00\">~</text>\n<text text-anchor=\"middle\" x=\"41.72\" y=\"-179.73\" font-family=\"Times,serif\" font-size=\"14.00\">Normal</text>\n</g>\n<!-- Y_obs -->\n<g id=\"node4\" class=\"node\">\n<title>Y_obs</title>\n<ellipse fill=\"lightgrey\" stroke=\"black\" cx=\"144.72\" cy=\"-76.48\" rx=\"41.94\" ry=\"37.45\"/>\n<text text-anchor=\"middle\" x=\"144.72\" y=\"-87.78\" font-family=\"Times,serif\" font-size=\"14.00\">Y_obs</text>\n<text text-anchor=\"middle\" x=\"144.72\" y=\"-72.78\" font-family=\"Times,serif\" font-size=\"14.00\">~</text>\n<text text-anchor=\"middle\" x=\"144.72\" y=\"-57.78\" font-family=\"Times,serif\" font-size=\"14.00\">Normal</text>\n</g>\n<!-- alpha&#45;&gt;Y_obs -->\n<g id=\"edge2\" class=\"edge\">\n<title>alpha&#45;&gt;Y_obs</title>\n<path fill=\"none\" stroke=\"black\" d=\"M63.73,-166.52C72.43,-154.79 82.72,-141.49 92.72,-129.95 97.98,-123.89 103.77,-117.65 109.52,-111.69\"/>\n<polygon fill=\"black\" stroke=\"black\" points=\"112.25,-113.91 116.75,-104.32 107.25,-109.01 112.25,-113.91\"/>\n</g>\n<!-- epsilon -->\n<g id=\"node2\" class=\"node\">\n<title>epsilon</title>\n<ellipse fill=\"none\" stroke=\"black\" cx=\"144.72\" cy=\"-198.43\" rx=\"43.27\" ry=\"37.45\"/>\n<text text-anchor=\"middle\" x=\"144.72\" y=\"-209.73\" font-family=\"Times,serif\" font-size=\"14.00\">epsilon</text>\n<text text-anchor=\"middle\" x=\"144.72\" y=\"-194.73\" font-family=\"Times,serif\" font-size=\"14.00\">~</text>\n<text text-anchor=\"middle\" x=\"144.72\" y=\"-179.73\" font-family=\"Times,serif\" font-size=\"14.00\">Gamma</text>\n</g>\n<!-- epsilon&#45;&gt;Y_obs -->\n<g id=\"edge3\" class=\"edge\">\n<title>epsilon&#45;&gt;Y_obs</title>\n<path fill=\"none\" stroke=\"black\" d=\"M144.72,-160.79C144.72,-149.38 144.72,-136.65 144.72,-124.63\"/>\n<polygon fill=\"black\" stroke=\"black\" points=\"148.22,-124.31 144.72,-114.31 141.22,-124.31 148.22,-124.31\"/>\n</g>\n<!-- betas -->\n<g id=\"node3\" class=\"node\">\n<title>betas</title>\n<ellipse fill=\"none\" stroke=\"black\" cx=\"247.72\" cy=\"-198.43\" rx=\"41.94\" ry=\"37.45\"/>\n<text text-anchor=\"middle\" x=\"247.72\" y=\"-209.73\" font-family=\"Times,serif\" font-size=\"14.00\">betas</text>\n<text text-anchor=\"middle\" x=\"247.72\" y=\"-194.73\" font-family=\"Times,serif\" font-size=\"14.00\">~</text>\n<text text-anchor=\"middle\" x=\"247.72\" y=\"-179.73\" font-family=\"Times,serif\" font-size=\"14.00\">Laplace</text>\n</g>\n<!-- betas&#45;&gt;Y_obs -->\n<g id=\"edge1\" class=\"edge\">\n<title>betas&#45;&gt;Y_obs</title>\n<path fill=\"none\" stroke=\"black\" d=\"M225.71,-166.52C217.01,-154.79 206.72,-141.49 196.72,-129.95 191.46,-123.89 185.67,-117.65 179.92,-111.69\"/>\n<polygon fill=\"black\" stroke=\"black\" points=\"182.19,-109.01 172.69,-104.32 177.19,-113.91 182.19,-109.01\"/>\n</g>\n</g>\n</svg>\n",
            "text/plain": [
              "<graphviz.graphs.Digraph at 0x794794804280>"
            ]
          },
          "metadata": {},
          "execution_count": 20
        }
      ]
    },
    {
      "cell_type": "code",
      "source": [
        "with model_lasso:\n",
        "  trace_pos_lasso = pm.sample_posterior_predictive(trace_lasso)\n",
        "\n",
        "analise_posteriori(trace_pos_lasso)"
      ],
      "metadata": {
        "colab": {
          "base_uri": "https://localhost:8080/",
          "height": 598,
          "referenced_widgets": [
            "3432da50524649d5a26c69d4a718f857",
            "72ebe628aaaa4829af59606b636dbdfd"
          ]
        },
        "id": "Of8j8Nfb9QY-",
        "outputId": "4ce4c192-554c-499e-dfca-2a43b44533f5"
      },
      "execution_count": 21,
      "outputs": [
        {
          "output_type": "display_data",
          "data": {
            "text/plain": [
              "Output()"
            ],
            "application/vnd.jupyter.widget-view+json": {
              "version_major": 2,
              "version_minor": 0,
              "model_id": "3432da50524649d5a26c69d4a718f857"
            }
          },
          "metadata": {}
        },
        {
          "output_type": "display_data",
          "data": {
            "text/plain": [],
            "text/html": [
              "<pre style=\"white-space:pre;overflow-x:auto;line-height:normal;font-family:Menlo,'DejaVu Sans Mono',consolas,'Courier New',monospace\"></pre>\n"
            ]
          },
          "metadata": {}
        },
        {
          "output_type": "execute_result",
          "data": {
            "text/plain": [
              "(<Figure size 1000x500 with 2 Axes>,\n",
              " array([<Axes: xlabel='Y_obs'>, <Axes: xlabel='Y_obs'>], dtype=object))"
            ]
          },
          "metadata": {},
          "execution_count": 21
        },
        {
          "output_type": "stream",
          "name": "stderr",
          "text": [
            "/usr/local/lib/python3.10/dist-packages/IPython/core/events.py:89: UserWarning: Creating legend with loc=\"best\" can be slow with large amounts of data.\n",
            "  func(*args, **kwargs)\n",
            "/usr/local/lib/python3.10/dist-packages/IPython/core/pylabtools.py:151: UserWarning: Creating legend with loc=\"best\" can be slow with large amounts of data.\n",
            "  fig.canvas.print_figure(bytes_io, **kw)\n"
          ]
        },
        {
          "output_type": "display_data",
          "data": {
            "text/plain": [
              "<Figure size 1000x500 with 2 Axes>"
            ],
            "image/png": "[encoded data removed]"
          },
          "metadata": {}
        }
      ]
    },
    {
      "cell_type": "markdown",
      "source": [
        "HIERARQUICO"
      ],
      "metadata": {
        "id": "xvLsvaBI9zoC"
      }
    },
    {
      "cell_type": "code",
      "source": [
        "# Criar o modelo Bayesiano Hierárquico\n",
        "with pm.Model(coords=coords) as model_hierarchical:\n",
        "    # Priori para o intercepto (alpha)\n",
        "    alpha = pm.Normal('alpha', mu=0, sigma=10)\n",
        "\n",
        "    # Priori hiperparamétrica para o desvio padrão das Laplaces dos betas\n",
        "    b_hyper = pm.Gamma('b_hyper', alpha=2, beta=1)\n",
        "\n",
        "    # Priori hierárquica para os coeficientes de regressão (betas) com distribuição Laplace\n",
        "    betas = pm.Laplace('betas', mu=0, b=b_hyper, dims='features')\n",
        "\n",
        "    # Priori hiperparamétrica para o desvio padrão do erro (epsilon)\n",
        "    epsilon_hyper = pm.Gamma('epsilon_hyper', alpha=2, beta=1)\n",
        "    epsilon = pm.HalfNormal('epsilon', sigma=epsilon_hyper)\n",
        "\n",
        "    # Definir a equação do modelo linear\n",
        "    mu = alpha + pt.dot(X_scaled, betas)\n",
        "\n",
        "    # Definir a verossimilhança (Normal)\n",
        "    likelihood = pm.Normal('Y_obs', mu=mu, sigma=epsilon, observed=y)\n",
        "\n",
        "    # Amostrar da distribuição a priori\n",
        "    trace_prior_hierarchical = pm.sample_prior_predictive()\n",
        "\n",
        "    # Amostrar da distribuição posterior\n",
        "    trace_hierarchical = pm.sample(1000, tune=1000, target_accept=0.95)\n",
        "\n",
        "    # Calcular log_likelihood\n",
        "    pm.compute_log_likelihood(trace_hierarchical)\n",
        "\n",
        "# Exibir o resumo dos parâmetros ajustados\n",
        "\n",
        "az.summary(trace_hierarchical)\n"
      ],
      "metadata": {
        "colab": {
          "base_uri": "https://localhost:8080/",
          "height": 572,
          "referenced_widgets": [
            "f2e94b90ce144b13a414721d626ea52c",
            "cceffd4cb8f141178ace2098bba38718",
            "aa5b6abb176249d5916beb921393ea25",
            "b8d6a7fa81e244cc8548252d19e3b450",
            "06aba12a7c9949a880710bbfc3fc700a",
            "3de590151580465bb6f4fabbfb6d79d6"
          ]
        },
        "id": "GRxd-LR69wf2",
        "outputId": "eb85fd25-d164-482b-fbe8-63a6951d3aea"
      },
      "execution_count": 22,
      "outputs": [
        {
          "output_type": "display_data",
          "data": {
            "text/plain": [
              "Output()"
            ],
            "application/vnd.jupyter.widget-view+json": {
              "version_major": 2,
              "version_minor": 0,
              "model_id": "f2e94b90ce144b13a414721d626ea52c"
            }
          },
          "metadata": {}
        },
        {
          "output_type": "display_data",
          "data": {
            "text/plain": [],
            "text/html": [
              "<pre style=\"white-space:pre;overflow-x:auto;line-height:normal;font-family:Menlo,'DejaVu Sans Mono',consolas,'Courier New',monospace\"></pre>\n"
            ]
          },
          "metadata": {}
        },
        {
          "output_type": "display_data",
          "data": {
            "text/plain": [
              "Output()"
            ],
            "application/vnd.jupyter.widget-view+json": {
              "version_major": 2,
              "version_minor": 0,
              "model_id": "aa5b6abb176249d5916beb921393ea25"
            }
          },
          "metadata": {}
        },
        {
          "output_type": "display_data",
          "data": {
            "text/plain": [],
            "text/html": [
              "<pre style=\"white-space:pre;overflow-x:auto;line-height:normal;font-family:Menlo,'DejaVu Sans Mono',consolas,'Courier New',monospace\"></pre>\n"
            ]
          },
          "metadata": {}
        },
        {
          "output_type": "display_data",
          "data": {
            "text/plain": [
              "Output()"
            ],
            "application/vnd.jupyter.widget-view+json": {
              "version_major": 2,
              "version_minor": 0,
              "model_id": "06aba12a7c9949a880710bbfc3fc700a"
            }
          },
          "metadata": {}
        },
        {
          "output_type": "display_data",
          "data": {
            "text/plain": [],
            "text/html": [
              "<pre style=\"white-space:pre;overflow-x:auto;line-height:normal;font-family:Menlo,'DejaVu Sans Mono',consolas,'Courier New',monospace\"></pre>\n"
            ]
          },
          "metadata": {}
        },
        {
          "output_type": "execute_result",
          "data": {
            "text/plain": [
              "                mean     sd  hdi_3%  hdi_97%  mcse_mean  mcse_sd  ess_bulk  \\\n",
              "alpha          5.818  0.009   5.801    5.834      0.000    0.000    2002.0   \n",
              "b_hyper        0.170  0.060   0.073    0.280      0.001    0.001    2102.0   \n",
              "betas[0]       0.079  0.021   0.042    0.119      0.001    0.001     754.0   \n",
              "betas[1]      -0.219  0.013  -0.242   -0.193      0.000    0.000    1433.0   \n",
              "betas[2]      -0.015  0.012  -0.038    0.005      0.000    0.000    1807.0   \n",
              "betas[3]       0.196  0.025   0.150    0.244      0.001    0.001     766.0   \n",
              "betas[4]      -0.018  0.012  -0.039    0.005      0.000    0.000    2091.0   \n",
              "betas[5]       0.104  0.014   0.077    0.130      0.000    0.000    1878.0   \n",
              "betas[6]      -0.137  0.015  -0.164   -0.108      0.000    0.000    1565.0   \n",
              "betas[7]      -0.148  0.037  -0.212   -0.074      0.001    0.001     644.0   \n",
              "betas[8]       0.065  0.015   0.038    0.094      0.000    0.000    1079.0   \n",
              "betas[9]       0.112  0.011   0.091    0.133      0.000    0.000    1657.0   \n",
              "betas[10]      0.325  0.020   0.288    0.361      0.001    0.000     853.0   \n",
              "epsilon        0.736  0.006   0.724    0.747      0.000    0.000    2288.0   \n",
              "epsilon_hyper  1.597  1.019   0.274    3.449      0.023    0.017    2306.0   \n",
              "\n",
              "               ess_tail  r_hat  \n",
              "alpha            1368.0   1.00  \n",
              "b_hyper          1365.0   1.00  \n",
              "betas[0]          985.0   1.01  \n",
              "betas[1]         1394.0   1.00  \n",
              "betas[2]         1568.0   1.00  \n",
              "betas[3]          962.0   1.00  \n",
              "betas[4]         1443.0   1.00  \n",
              "betas[5]         1255.0   1.00  \n",
              "betas[6]         1421.0   1.00  \n",
              "betas[7]          759.0   1.00  \n",
              "betas[8]         1114.0   1.00  \n",
              "betas[9]         1074.0   1.01  \n",
              "betas[10]        1080.0   1.00  \n",
              "epsilon          1749.0   1.00  \n",
              "epsilon_hyper    1523.0   1.00  "
            ],
            "text/html": [
              "\n",
              "  <div id=\"df-c19cf12b-2a6d-441f-b07e-3ad56473d63d\" class=\"colab-df-container\">\n",
              "    <div>\n",
              "<style scoped>\n",
              "    .dataframe tbody tr th:only-of-type {\n",
              "        vertical-align: middle;\n",
              "    }\n",
              "\n",
              "    .dataframe tbody tr th {\n",
              "        vertical-align: top;\n",
              "    }\n",
              "\n",
              "    .dataframe thead th {\n",
              "        text-align: right;\n",
              "    }\n",
              "</style>\n",
              "<table border=\"1\" class=\"dataframe\">\n",
              "  <thead>\n",
              "    <tr style=\"text-align: right;\">\n",
              "      <th></th>\n",
              "      <th>mean</th>\n",
              "      <th>sd</th>\n",
              "      <th>hdi_3%</th>\n",
              "      <th>hdi_97%</th>\n",
              "      <th>mcse_mean</th>\n",
              "      <th>mcse_sd</th>\n",
              "      <th>ess_bulk</th>\n",
              "      <th>ess_tail</th>\n",
              "      <th>r_hat</th>\n",
              "    </tr>\n",
              "  </thead>\n",
              "  <tbody>\n",
              "    <tr>\n",
              "      <th>alpha</th>\n",
              "      <td>5.818</td>\n",
              "      <td>0.009</td>\n",
              "      <td>5.801</td>\n",
              "      <td>5.834</td>\n",
              "      <td>0.000</td>\n",
              "      <td>0.000</td>\n",
              "      <td>2002.0</td>\n",
              "      <td>1368.0</td>\n",
              "      <td>1.00</td>\n",
              "    </tr>\n",
              "    <tr>\n",
              "      <th>b_hyper</th>\n",
              "      <td>0.170</td>\n",
              "      <td>0.060</td>\n",
              "      <td>0.073</td>\n",
              "      <td>0.280</td>\n",
              "      <td>0.001</td>\n",
              "      <td>0.001</td>\n",
              "      <td>2102.0</td>\n",
              "      <td>1365.0</td>\n",
              "      <td>1.00</td>\n",
              "    </tr>\n",
              "    <tr>\n",
              "      <th>betas[0]</th>\n",
              "      <td>0.079</td>\n",
              "      <td>0.021</td>\n",
              "      <td>0.042</td>\n",
              "      <td>0.119</td>\n",
              "      <td>0.001</td>\n",
              "      <td>0.001</td>\n",
              "      <td>754.0</td>\n",
              "      <td>985.0</td>\n",
              "      <td>1.01</td>\n",
              "    </tr>\n",
              "    <tr>\n",
              "      <th>betas[1]</th>\n",
              "      <td>-0.219</td>\n",
              "      <td>0.013</td>\n",
              "      <td>-0.242</td>\n",
              "      <td>-0.193</td>\n",
              "      <td>0.000</td>\n",
              "      <td>0.000</td>\n",
              "      <td>1433.0</td>\n",
              "      <td>1394.0</td>\n",
              "      <td>1.00</td>\n",
              "    </tr>\n",
              "    <tr>\n",
              "      <th>betas[2]</th>\n",
              "      <td>-0.015</td>\n",
              "      <td>0.012</td>\n",
              "      <td>-0.038</td>\n",
              "      <td>0.005</td>\n",
              "      <td>0.000</td>\n",
              "      <td>0.000</td>\n",
              "      <td>1807.0</td>\n",
              "      <td>1568.0</td>\n",
              "      <td>1.00</td>\n",
              "    </tr>\n",
              "    <tr>\n",
              "      <th>betas[3]</th>\n",
              "      <td>0.196</td>\n",
              "      <td>0.025</td>\n",
              "      <td>0.150</td>\n",
              "      <td>0.244</td>\n",
              "      <td>0.001</td>\n",
              "      <td>0.001</td>\n",
              "      <td>766.0</td>\n",
              "      <td>962.0</td>\n",
              "      <td>1.00</td>\n",
              "    </tr>\n",
              "    <tr>\n",
              "      <th>betas[4]</th>\n",
              "      <td>-0.018</td>\n",
              "      <td>0.012</td>\n",
              "      <td>-0.039</td>\n",
              "      <td>0.005</td>\n",
              "      <td>0.000</td>\n",
              "      <td>0.000</td>\n",
              "      <td>2091.0</td>\n",
              "      <td>1443.0</td>\n",
              "      <td>1.00</td>\n",
              "    </tr>\n",
              "    <tr>\n",
              "      <th>betas[5]</th>\n",
              "      <td>0.104</td>\n",
              "      <td>0.014</td>\n",
              "      <td>0.077</td>\n",
              "      <td>0.130</td>\n",
              "      <td>0.000</td>\n",
              "      <td>0.000</td>\n",
              "      <td>1878.0</td>\n",
              "      <td>1255.0</td>\n",
              "      <td>1.00</td>\n",
              "    </tr>\n",
              "    <tr>\n",
              "      <th>betas[6]</th>\n",
              "      <td>-0.137</td>\n",
              "      <td>0.015</td>\n",
              "      <td>-0.164</td>\n",
              "      <td>-0.108</td>\n",
              "      <td>0.000</td>\n",
              "      <td>0.000</td>\n",
              "      <td>1565.0</td>\n",
              "      <td>1421.0</td>\n",
              "      <td>1.00</td>\n",
              "    </tr>\n",
              "    <tr>\n",
              "      <th>betas[7]</th>\n",
              "      <td>-0.148</td>\n",
              "      <td>0.037</td>\n",
              "      <td>-0.212</td>\n",
              "      <td>-0.074</td>\n",
              "      <td>0.001</td>\n",
              "      <td>0.001</td>\n",
              "      <td>644.0</td>\n",
              "      <td>759.0</td>\n",
              "      <td>1.00</td>\n",
              "    </tr>\n",
              "    <tr>\n",
              "      <th>betas[8]</th>\n",
              "      <td>0.065</td>\n",
              "      <td>0.015</td>\n",
              "      <td>0.038</td>\n",
              "      <td>0.094</td>\n",
              "      <td>0.000</td>\n",
              "      <td>0.000</td>\n",
              "      <td>1079.0</td>\n",
              "      <td>1114.0</td>\n",
              "      <td>1.00</td>\n",
              "    </tr>\n",
              "    <tr>\n",
              "      <th>betas[9]</th>\n",
              "      <td>0.112</td>\n",
              "      <td>0.011</td>\n",
              "      <td>0.091</td>\n",
              "      <td>0.133</td>\n",
              "      <td>0.000</td>\n",
              "      <td>0.000</td>\n",
              "      <td>1657.0</td>\n",
              "      <td>1074.0</td>\n",
              "      <td>1.01</td>\n",
              "    </tr>\n",
              "    <tr>\n",
              "      <th>betas[10]</th>\n",
              "      <td>0.325</td>\n",
              "      <td>0.020</td>\n",
              "      <td>0.288</td>\n",
              "      <td>0.361</td>\n",
              "      <td>0.001</td>\n",
              "      <td>0.000</td>\n",
              "      <td>853.0</td>\n",
              "      <td>1080.0</td>\n",
              "      <td>1.00</td>\n",
              "    </tr>\n",
              "    <tr>\n",
              "      <th>epsilon</th>\n",
              "      <td>0.736</td>\n",
              "      <td>0.006</td>\n",
              "      <td>0.724</td>\n",
              "      <td>0.747</td>\n",
              "      <td>0.000</td>\n",
              "      <td>0.000</td>\n",
              "      <td>2288.0</td>\n",
              "      <td>1749.0</td>\n",
              "      <td>1.00</td>\n",
              "    </tr>\n",
              "    <tr>\n",
              "      <th>epsilon_hyper</th>\n",
              "      <td>1.597</td>\n",
              "      <td>1.019</td>\n",
              "      <td>0.274</td>\n",
              "      <td>3.449</td>\n",
              "      <td>0.023</td>\n",
              "      <td>0.017</td>\n",
              "      <td>2306.0</td>\n",
              "      <td>1523.0</td>\n",
              "      <td>1.00</td>\n",
              "    </tr>\n",
              "  </tbody>\n",
              "</table>\n",
              "</div>\n",
              "    <div class=\"colab-df-buttons\">\n",
              "\n",
              "  <div class=\"colab-df-container\">\n",
              "    <button class=\"colab-df-convert\" onclick=\"convertToInteractive('df-c19cf12b-2a6d-441f-b07e-3ad56473d63d')\"\n",
              "            title=\"Convert this dataframe to an interactive table.\"\n",
              "            style=\"display:none;\">\n",
              "\n",
              "  <svg xmlns=\"http://www.w3.org/2000/svg\" height=\"24px\" viewBox=\"0 -960 960 960\">\n",
              "    <path d=\"M120-120v-720h720v720H120Zm60-500h600v-160H180v160Zm220 220h160v-160H400v160Zm0 220h160v-160H400v160ZM180-400h160v-160H180v160Zm440 0h160v-160H620v160ZM180-180h160v-160H180v160Zm440 0h160v-160H620v160Z\"/>\n",
              "  </svg>\n",
              "    </button>\n",
              "\n",
              "  <style>\n",
              "    .colab-df-container {\n",
              "      display:flex;\n",
              "      gap: 12px;\n",
              "    }\n",
              "\n",
              "    .colab-df-convert {\n",
              "      background-color: #E8F0FE;\n",
              "      border: none;\n",
              "      border-radius: 50%;\n",
              "      cursor: pointer;\n",
              "      display: none;\n",
              "      fill: #1967D2;\n",
              "      height: 32px;\n",
              "      padding: 0 0 0 0;\n",
              "      width: 32px;\n",
              "    }\n",
              "\n",
              "    .colab-df-convert:hover {\n",
              "      background-color: #E2EBFA;\n",
              "      box-shadow: 0px 1px 2px rgba(60, 64, 67, 0.3), 0px 1px 3px 1px rgba(60, 64, 67, 0.15);\n",
              "      fill: #174EA6;\n",
              "    }\n",
              "\n",
              "    .colab-df-buttons div {\n",
              "      margin-bottom: 4px;\n",
              "    }\n",
              "\n",
              "    [theme=dark] .colab-df-convert {\n",
              "      background-color: #3B4455;\n",
              "      fill: #D2E3FC;\n",
              "    }\n",
              "\n",
              "    [theme=dark] .colab-df-convert:hover {\n",
              "      background-color: #434B5C;\n",
              "      box-shadow: 0px 1px 3px 1px rgba(0, 0, 0, 0.15);\n",
              "      filter: drop-shadow(0px 1px 2px rgba(0, 0, 0, 0.3));\n",
              "      fill: #FFFFFF;\n",
              "    }\n",
              "  </style>\n",
              "\n",
              "    <script>\n",
              "      const buttonEl =\n",
              "        document.querySelector('#df-c19cf12b-2a6d-441f-b07e-3ad56473d63d button.colab-df-convert');\n",
              "      buttonEl.style.display =\n",
              "        google.colab.kernel.accessAllowed ? 'block' : 'none';\n",
              "\n",
              "      async function convertToInteractive(key) {\n",
              "        const element = document.querySelector('#df-c19cf12b-2a6d-441f-b07e-3ad56473d63d');\n",
              "        const dataTable =\n",
              "          await google.colab.kernel.invokeFunction('convertToInteractive',\n",
              "                                                    [key], {});\n",
              "        if (!dataTable) return;\n",
              "\n",
              "        const docLinkHtml = 'Like what you see? Visit the ' +\n",
              "          '<a target=\"_blank\" href=https://colab.research.google.com/notebooks/data_table.ipynb>data table notebook</a>'\n",
              "          + ' to learn more about interactive tables.';\n",
              "        element.innerHTML = '';\n",
              "        dataTable['output_type'] = 'display_data';\n",
              "        await google.colab.output.renderOutput(dataTable, element);\n",
              "        const docLink = document.createElement('div');\n",
              "        docLink.innerHTML = docLinkHtml;\n",
              "        element.appendChild(docLink);\n",
              "      }\n",
              "    </script>\n",
              "  </div>\n",
              "\n",
              "\n",
              "<div id=\"df-4180359b-301e-427d-bec5-292cd9e8a88c\">\n",
              "  <button class=\"colab-df-quickchart\" onclick=\"quickchart('df-4180359b-301e-427d-bec5-292cd9e8a88c')\"\n",
              "            title=\"Suggest charts\"\n",
              "            style=\"display:none;\">\n",
              "\n",
              "<svg xmlns=\"http://www.w3.org/2000/svg\" height=\"24px\"viewBox=\"0 0 24 24\"\n",
              "     width=\"24px\">\n",
              "    <g>\n",
              "        <path d=\"M19 3H5c-1.1 0-2 .9-2 2v14c0 1.1.9 2 2 2h14c1.1 0 2-.9 2-2V5c0-1.1-.9-2-2-2zM9 17H7v-7h2v7zm4 0h-2V7h2v10zm4 0h-2v-4h2v4z\"/>\n",
              "    </g>\n",
              "</svg>\n",
              "  </button>\n",
              "\n",
              "<style>\n",
              "  .colab-df-quickchart {\n",
              "      --bg-color: #E8F0FE;\n",
              "      --fill-color: #1967D2;\n",
              "      --hover-bg-color: #E2EBFA;\n",
              "      --hover-fill-color: #174EA6;\n",
              "      --disabled-fill-color: #AAA;\n",
              "      --disabled-bg-color: #DDD;\n",
              "  }\n",
              "\n",
              "  [theme=dark] .colab-df-quickchart {\n",
              "      --bg-color: #3B4455;\n",
              "      --fill-color: #D2E3FC;\n",
              "      --hover-bg-color: #434B5C;\n",
              "      --hover-fill-color: #FFFFFF;\n",
              "      --disabled-bg-color: #3B4455;\n",
              "      --disabled-fill-color: #666;\n",
              "  }\n",
              "\n",
              "  .colab-df-quickchart {\n",
              "    background-color: var(--bg-color);\n",
              "    border: none;\n",
              "    border-radius: 50%;\n",
              "    cursor: pointer;\n",
              "    display: none;\n",
              "    fill: var(--fill-color);\n",
              "    height: 32px;\n",
              "    padding: 0;\n",
              "    width: 32px;\n",
              "  }\n",
              "\n",
              "  .colab-df-quickchart:hover {\n",
              "    background-color: var(--hover-bg-color);\n",
              "    box-shadow: 0 1px 2px rgba(60, 64, 67, 0.3), 0 1px 3px 1px rgba(60, 64, 67, 0.15);\n",
              "    fill: var(--button-hover-fill-color);\n",
              "  }\n",
              "\n",
              "  .colab-df-quickchart-complete:disabled,\n",
              "  .colab-df-quickchart-complete:disabled:hover {\n",
              "    background-color: var(--disabled-bg-color);\n",
              "    fill: var(--disabled-fill-color);\n",
              "    box-shadow: none;\n",
              "  }\n",
              "\n",
              "  .colab-df-spinner {\n",
              "    border: 2px solid var(--fill-color);\n",
              "    border-color: transparent;\n",
              "    border-bottom-color: var(--fill-color);\n",
              "    animation:\n",
              "      spin 1s steps(1) infinite;\n",
              "  }\n",
              "\n",
              "  @keyframes spin {\n",
              "    0% {\n",
              "      border-color: transparent;\n",
              "      border-bottom-color: var(--fill-color);\n",
              "      border-left-color: var(--fill-color);\n",
              "    }\n",
              "    20% {\n",
              "      border-color: transparent;\n",
              "      border-left-color: var(--fill-color);\n",
              "      border-top-color: var(--fill-color);\n",
              "    }\n",
              "    30% {\n",
              "      border-color: transparent;\n",
              "      border-left-color: var(--fill-color);\n",
              "      border-top-color: var(--fill-color);\n",
              "      border-right-color: var(--fill-color);\n",
              "    }\n",
              "    40% {\n",
              "      border-color: transparent;\n",
              "      border-right-color: var(--fill-color);\n",
              "      border-top-color: var(--fill-color);\n",
              "    }\n",
              "    60% {\n",
              "      border-color: transparent;\n",
              "      border-right-color: var(--fill-color);\n",
              "    }\n",
              "    80% {\n",
              "      border-color: transparent;\n",
              "      border-right-color: var(--fill-color);\n",
              "      border-bottom-color: var(--fill-color);\n",
              "    }\n",
              "    90% {\n",
              "      border-color: transparent;\n",
              "      border-bottom-color: var(--fill-color);\n",
              "    }\n",
              "  }\n",
              "</style>\n",
              "\n",
              "  <script>\n",
              "    async function quickchart(key) {\n",
              "      const quickchartButtonEl =\n",
              "        document.querySelector('#' + key + ' button');\n",
              "      quickchartButtonEl.disabled = true;  // To prevent multiple clicks.\n",
              "      quickchartButtonEl.classList.add('colab-df-spinner');\n",
              "      try {\n",
              "        const charts = await google.colab.kernel.invokeFunction(\n",
              "            'suggestCharts', [key], {});\n",
              "      } catch (error) {\n",
              "        console.error('Error during call to suggestCharts:', error);\n",
              "      }\n",
              "      quickchartButtonEl.classList.remove('colab-df-spinner');\n",
              "      quickchartButtonEl.classList.add('colab-df-quickchart-complete');\n",
              "    }\n",
              "    (() => {\n",
              "      let quickchartButtonEl =\n",
              "        document.querySelector('#df-4180359b-301e-427d-bec5-292cd9e8a88c button');\n",
              "      quickchartButtonEl.style.display =\n",
              "        google.colab.kernel.accessAllowed ? 'block' : 'none';\n",
              "    })();\n",
              "  </script>\n",
              "</div>\n",
              "\n",
              "    </div>\n",
              "  </div>\n"
            ],
            "application/vnd.google.colaboratory.intrinsic+json": {
              "type": "dataframe",
              "summary": "{\n  \"name\": \"az\",\n  \"rows\": 15,\n  \"fields\": [\n    {\n      \"column\": \"mean\",\n      \"properties\": {\n        \"dtype\": \"number\",\n        \"std\": 1.5173213552962652,\n        \"min\": -0.219,\n        \"max\": 5.818,\n        \"num_unique_values\": 15,\n        \"samples\": [\n          -0.148,\n          0.112,\n          5.818\n        ],\n        \"semantic_type\": \"\",\n        \"description\": \"\"\n      }\n    },\n    {\n      \"column\": \"sd\",\n      \"properties\": {\n        \"dtype\": \"number\",\n        \"std\": 0.2584803022798191,\n        \"min\": 0.006,\n        \"max\": 1.019,\n        \"num_unique_values\": 13,\n        \"samples\": [\n          0.006,\n          0.011,\n          0.009\n        ],\n        \"semantic_type\": \"\",\n        \"description\": \"\"\n      }\n    },\n    {\n      \"column\": \"hdi_3%\",\n      \"properties\": {\n        \"dtype\": \"number\",\n        \"std\": 1.4969579088779956,\n        \"min\": -0.242,\n        \"max\": 5.801,\n        \"num_unique_values\": 15,\n        \"samples\": [\n          -0.212,\n          0.091,\n          5.801\n        ],\n        \"semantic_type\": \"\",\n        \"description\": \"\"\n      }\n    },\n    {\n      \"column\": \"hdi_97%\",\n      \"properties\": {\n        \"dtype\": \"number\",\n        \"std\": 1.6640012648804716,\n        \"min\": -0.193,\n        \"max\": 5.834,\n        \"num_unique_values\": 14,\n        \"samples\": [\n          0.094,\n          0.361,\n          5.834\n        ],\n        \"semantic_type\": \"\",\n        \"description\": \"\"\n      }\n    },\n    {\n      \"column\": \"mcse_mean\",\n      \"properties\": {\n        \"dtype\": \"number\",\n        \"std\": 0.005865963161282537,\n        \"min\": 0.0,\n        \"max\": 0.023,\n        \"num_unique_values\": 3,\n        \"samples\": [\n          0.0,\n          0.001,\n          0.023\n        ],\n        \"semantic_type\": \"\",\n        \"description\": \"\"\n      }\n    },\n    {\n      \"column\": \"mcse_sd\",\n      \"properties\": {\n        \"dtype\": \"number\",\n        \"std\": 0.004339190181194117,\n        \"min\": 0.0,\n        \"max\": 0.017,\n        \"num_unique_values\": 3,\n        \"samples\": [\n          0.0,\n          0.001,\n          0.017\n        ],\n        \"semantic_type\": \"\",\n        \"description\": \"\"\n      }\n    },\n    {\n      \"column\": \"ess_bulk\",\n      \"properties\": {\n        \"dtype\": \"number\",\n        \"std\": 591.2203682295831,\n        \"min\": 644.0,\n        \"max\": 2306.0,\n        \"num_unique_values\": 15,\n        \"samples\": [\n          644.0,\n          1657.0,\n          2002.0\n        ],\n        \"semantic_type\": \"\",\n        \"description\": \"\"\n      }\n    },\n    {\n      \"column\": \"ess_tail\",\n      \"properties\": {\n        \"dtype\": \"number\",\n        \"std\": 267.9644610409231,\n        \"min\": 759.0,\n        \"max\": 1749.0,\n        \"num_unique_values\": 15,\n        \"samples\": [\n          759.0,\n          1074.0,\n          1368.0\n        ],\n        \"semantic_type\": \"\",\n        \"description\": \"\"\n      }\n    },\n    {\n      \"column\": \"r_hat\",\n      \"properties\": {\n        \"dtype\": \"number\",\n        \"std\": 0.003518657752744987,\n        \"min\": 1.0,\n        \"max\": 1.01,\n        \"num_unique_values\": 2,\n        \"samples\": [\n          1.01,\n          1.0\n        ],\n        \"semantic_type\": \"\",\n        \"description\": \"\"\n      }\n    }\n  ]\n}"
            }
          },
          "metadata": {},
          "execution_count": 22
        }
      ]
    },
    {
      "cell_type": "code",
      "source": [
        "\n",
        "analise_priori(trace_prior_hierarchical,y)"
      ],
      "metadata": {
        "colab": {
          "base_uri": "https://localhost:8080/",
          "height": 1000
        },
        "id": "kfNnnSuB-auQ",
        "outputId": "ef9f5480-1377-4a50-fb86-bc264424f259"
      },
      "execution_count": 23,
      "outputs": [
        {
          "output_type": "stream",
          "name": "stderr",
          "text": [
            "<ipython-input-6-4581fe9e5373>:43: UserWarning: This figure includes Axes that are not compatible with tight_layout, so results might be incorrect.\n",
            "  plt.tight_layout()\n"
          ]
        },
        {
          "output_type": "execute_result",
          "data": {
            "text/plain": [
              "(<Figure size 1000x1000 with 6 Axes>,\n",
              " array([[<Axes: xlabel='Betas', ylabel='Contagem'>,\n",
              "         <Axes: xlabel='Previsões a Priori (Y_obs)', ylabel='Contagem'>],\n",
              "        [<Axes: title={'center': 'Previsões a Priori'}, xlabel='Observado', ylabel='Previsões'>,\n",
              "         <Axes: >],\n",
              "        [<Axes: xlabel='Y_obs'>, <Axes: xlabel='Y_obs'>]], dtype=object))"
            ]
          },
          "metadata": {},
          "execution_count": 23
        },
        {
          "output_type": "stream",
          "name": "stderr",
          "text": [
            "/usr/local/lib/python3.10/dist-packages/IPython/core/events.py:89: UserWarning: Creating legend with loc=\"best\" can be slow with large amounts of data.\n",
            "  func(*args, **kwargs)\n",
            "/usr/local/lib/python3.10/dist-packages/IPython/core/pylabtools.py:151: UserWarning: Creating legend with loc=\"best\" can be slow with large amounts of data.\n",
            "  fig.canvas.print_figure(bytes_io, **kw)\n"
          ]
        },
        {
          "output_type": "display_data",
          "data": {
            "text/plain": [
              "<Figure size 1000x1000 with 6 Axes>"
            ],
            "image/png": "[encoded data removed]"
          },
          "metadata": {}
        }
      ]
    },
    {
      "cell_type": "code",
      "source": [
        "pm.model_to_graphviz(model_hierarchical)"
      ],
      "metadata": {
        "colab": {
          "base_uri": "https://localhost:8080/",
          "height": 494
        },
        "id": "qlu7wFOo-dxJ",
        "outputId": "96d08fd3-c578-4464-b60e-ffeae998f04a"
      },
      "execution_count": 24,
      "outputs": [
        {
          "output_type": "execute_result",
          "data": {
            "image/svg+xml": "<?xml version=\"1.0\" encoding=\"UTF-8\" standalone=\"no\"?>\n<!DOCTYPE svg PUBLIC \"-//W3C//DTD SVG 1.1//EN\"\n \"http://www.w3.org/Graphics/SVG/1.1/DTD/svg11.dtd\">\n<!-- Generated by graphviz version 2.43.0 (0)\n -->\n<!-- Title: %3 Pages: 1 -->\n<svg width=\"351pt\" height=\"355pt\"\n viewBox=\"0.00 0.00 350.76 354.86\" xmlns=\"http://www.w3.org/2000/svg\" xmlns:xlink=\"http://www.w3.org/1999/xlink\">\n<g id=\"graph0\" class=\"graph\" transform=\"scale(1 1) rotate(0) translate(4 350.86)\">\n<title>%3</title>\n<polygon fill=\"white\" stroke=\"transparent\" points=\"-4,4 -4,-350.86 346.76,-350.86 346.76,4 -4,4\"/>\n<g id=\"clust1\" class=\"cluster\">\n<title>clusterfeatures (11)</title>\n<path fill=\"none\" stroke=\"black\" d=\"M246.76,-129.95C246.76,-129.95 322.76,-129.95 322.76,-129.95 328.76,-129.95 334.76,-135.95 334.76,-141.95 334.76,-141.95 334.76,-231.91 334.76,-231.91 334.76,-237.91 328.76,-243.91 322.76,-243.91 322.76,-243.91 246.76,-243.91 246.76,-243.91 240.76,-243.91 234.76,-237.91 234.76,-231.91 234.76,-231.91 234.76,-141.95 234.76,-141.95 234.76,-135.95 240.76,-129.95 246.76,-129.95\"/>\n<text text-anchor=\"middle\" x=\"291.76\" y=\"-137.75\" font-family=\"Times,serif\" font-size=\"14.00\">features (11)</text>\n</g>\n<g id=\"clust2\" class=\"cluster\">\n<title>cluster6497</title>\n<path fill=\"none\" stroke=\"black\" d=\"M145.76,-8C145.76,-8 221.76,-8 221.76,-8 227.76,-8 233.76,-14 233.76,-20 233.76,-20 233.76,-109.95 233.76,-109.95 233.76,-115.95 227.76,-121.95 221.76,-121.95 221.76,-121.95 145.76,-121.95 145.76,-121.95 139.76,-121.95 133.76,-115.95 133.76,-109.95 133.76,-109.95 133.76,-20 133.76,-20 133.76,-14 139.76,-8 145.76,-8\"/>\n<text text-anchor=\"middle\" x=\"211.76\" y=\"-15.8\" font-family=\"Times,serif\" font-size=\"14.00\">6497</text>\n</g>\n<!-- epsilon_hyper -->\n<g id=\"node1\" class=\"node\">\n<title>epsilon_hyper</title>\n<ellipse fill=\"none\" stroke=\"black\" cx=\"65.76\" cy=\"-309.38\" rx=\"65.52\" ry=\"37.45\"/>\n<text text-anchor=\"middle\" x=\"65.76\" y=\"-320.68\" font-family=\"Times,serif\" font-size=\"14.00\">epsilon_hyper</text>\n<text text-anchor=\"middle\" x=\"65.76\" y=\"-305.68\" font-family=\"Times,serif\" font-size=\"14.00\">~</text>\n<text text-anchor=\"middle\" x=\"65.76\" y=\"-290.68\" font-family=\"Times,serif\" font-size=\"14.00\">Gamma</text>\n</g>\n<!-- epsilon -->\n<g id=\"node3\" class=\"node\">\n<title>epsilon</title>\n<ellipse fill=\"none\" stroke=\"black\" cx=\"65.76\" cy=\"-198.43\" rx=\"58.88\" ry=\"37.45\"/>\n<text text-anchor=\"middle\" x=\"65.76\" y=\"-209.73\" font-family=\"Times,serif\" font-size=\"14.00\">epsilon</text>\n<text text-anchor=\"middle\" x=\"65.76\" y=\"-194.73\" font-family=\"Times,serif\" font-size=\"14.00\">~</text>\n<text text-anchor=\"middle\" x=\"65.76\" y=\"-179.73\" font-family=\"Times,serif\" font-size=\"14.00\">HalfNormal</text>\n</g>\n<!-- epsilon_hyper&#45;&gt;epsilon -->\n<g id=\"edge2\" class=\"edge\">\n<title>epsilon_hyper&#45;&gt;epsilon</title>\n<path fill=\"none\" stroke=\"black\" d=\"M65.76,-271.8C65.76,-263.63 65.76,-254.85 65.76,-246.32\"/>\n<polygon fill=\"black\" stroke=\"black\" points=\"69.26,-246.1 65.76,-236.1 62.26,-246.1 69.26,-246.1\"/>\n</g>\n<!-- alpha -->\n<g id=\"node2\" class=\"node\">\n<title>alpha</title>\n<ellipse fill=\"none\" stroke=\"black\" cx=\"183.76\" cy=\"-198.43\" rx=\"41.94\" ry=\"37.45\"/>\n<text text-anchor=\"middle\" x=\"183.76\" y=\"-209.73\" font-family=\"Times,serif\" font-size=\"14.00\">alpha</text>\n<text text-anchor=\"middle\" x=\"183.76\" y=\"-194.73\" font-family=\"Times,serif\" font-size=\"14.00\">~</text>\n<text text-anchor=\"middle\" x=\"183.76\" y=\"-179.73\" font-family=\"Times,serif\" font-size=\"14.00\">Normal</text>\n</g>\n<!-- Y_obs -->\n<g id=\"node6\" class=\"node\">\n<title>Y_obs</title>\n<ellipse fill=\"lightgrey\" stroke=\"black\" cx=\"183.76\" cy=\"-76.48\" rx=\"41.94\" ry=\"37.45\"/>\n<text text-anchor=\"middle\" x=\"183.76\" y=\"-87.78\" font-family=\"Times,serif\" font-size=\"14.00\">Y_obs</text>\n<text text-anchor=\"middle\" x=\"183.76\" y=\"-72.78\" font-family=\"Times,serif\" font-size=\"14.00\">~</text>\n<text text-anchor=\"middle\" x=\"183.76\" y=\"-57.78\" font-family=\"Times,serif\" font-size=\"14.00\">Normal</text>\n</g>\n<!-- alpha&#45;&gt;Y_obs -->\n<g id=\"edge4\" class=\"edge\">\n<title>alpha&#45;&gt;Y_obs</title>\n<path fill=\"none\" stroke=\"black\" d=\"M183.76,-160.79C183.76,-149.38 183.76,-136.65 183.76,-124.63\"/>\n<polygon fill=\"black\" stroke=\"black\" points=\"187.26,-124.31 183.76,-114.31 180.26,-124.31 187.26,-124.31\"/>\n</g>\n<!-- epsilon&#45;&gt;Y_obs -->\n<g id=\"edge5\" class=\"edge\">\n<title>epsilon&#45;&gt;Y_obs</title>\n<path fill=\"none\" stroke=\"black\" d=\"M96.46,-166.23C112.56,-149.85 132.36,-129.73 149.03,-112.79\"/>\n<polygon fill=\"black\" stroke=\"black\" points=\"151.92,-114.83 156.44,-105.25 146.93,-109.93 151.92,-114.83\"/>\n</g>\n<!-- b_hyper -->\n<g id=\"node4\" class=\"node\">\n<title>b_hyper</title>\n<ellipse fill=\"none\" stroke=\"black\" cx=\"284.76\" cy=\"-309.38\" rx=\"43.27\" ry=\"37.45\"/>\n<text text-anchor=\"middle\" x=\"284.76\" y=\"-320.68\" font-family=\"Times,serif\" font-size=\"14.00\">b_hyper</text>\n<text text-anchor=\"middle\" x=\"284.76\" y=\"-305.68\" font-family=\"Times,serif\" font-size=\"14.00\">~</text>\n<text text-anchor=\"middle\" x=\"284.76\" y=\"-290.68\" font-family=\"Times,serif\" font-size=\"14.00\">Gamma</text>\n</g>\n<!-- betas -->\n<g id=\"node5\" class=\"node\">\n<title>betas</title>\n<ellipse fill=\"none\" stroke=\"black\" cx=\"284.76\" cy=\"-198.43\" rx=\"41.94\" ry=\"37.45\"/>\n<text text-anchor=\"middle\" x=\"284.76\" y=\"-209.73\" font-family=\"Times,serif\" font-size=\"14.00\">betas</text>\n<text text-anchor=\"middle\" x=\"284.76\" y=\"-194.73\" font-family=\"Times,serif\" font-size=\"14.00\">~</text>\n<text text-anchor=\"middle\" x=\"284.76\" y=\"-179.73\" font-family=\"Times,serif\" font-size=\"14.00\">Laplace</text>\n</g>\n<!-- b_hyper&#45;&gt;betas -->\n<g id=\"edge1\" class=\"edge\">\n<title>b_hyper&#45;&gt;betas</title>\n<path fill=\"none\" stroke=\"black\" d=\"M284.76,-271.8C284.76,-263.63 284.76,-254.85 284.76,-246.32\"/>\n<polygon fill=\"black\" stroke=\"black\" points=\"288.26,-246.1 284.76,-236.1 281.26,-246.1 288.26,-246.1\"/>\n</g>\n<!-- betas&#45;&gt;Y_obs -->\n<g id=\"edge3\" class=\"edge\">\n<title>betas&#45;&gt;Y_obs</title>\n<path fill=\"none\" stroke=\"black\" d=\"M262.95,-166.2C254.48,-154.55 244.49,-141.4 234.76,-129.95 229.67,-123.96 224.06,-117.8 218.48,-111.91\"/>\n<polygon fill=\"black\" stroke=\"black\" points=\"220.92,-109.39 211.47,-104.61 215.87,-114.24 220.92,-109.39\"/>\n</g>\n</g>\n</svg>\n",
            "text/plain": [
              "<graphviz.graphs.Digraph at 0x79479412bf40>"
            ]
          },
          "metadata": {},
          "execution_count": 24
        }
      ]
    },
    {
      "cell_type": "code",
      "source": [
        "with model_hierarchical:\n",
        "  trace_pos_hierarc = pm.sample_posterior_predictive(trace_hierarchical)\n",
        "\n",
        "\n",
        "# Agora, passe o posterior_predictive para a função de análise posterior\n",
        "az.plot_ppc(posterior_predictive, data_pairs={\"Y_obs\": \"Y_obs\"})"
      ],
      "metadata": {
        "colab": {
          "base_uri": "https://localhost:8080/",
          "height": 496,
          "referenced_widgets": [
            "e0282e8bd3684ed3af7e5d4c772a312a",
            "a9cd742543e34137bf821c2ad812c233"
          ]
        },
        "id": "9V16OZdf-hOo",
        "outputId": "97974b51-3665-4ea4-f69e-72419cbad100"
      },
      "execution_count": 25,
      "outputs": [
        {
          "output_type": "display_data",
          "data": {
            "text/plain": [
              "Output()"
            ],
            "application/vnd.jupyter.widget-view+json": {
              "version_major": 2,
              "version_minor": 0,
              "model_id": "e0282e8bd3684ed3af7e5d4c772a312a"
            }
          },
          "metadata": {}
        },
        {
          "output_type": "display_data",
          "data": {
            "text/plain": [],
            "text/html": [
              "<pre style=\"white-space:pre;overflow-x:auto;line-height:normal;font-family:Menlo,'DejaVu Sans Mono',consolas,'Courier New',monospace\"></pre>\n"
            ]
          },
          "metadata": {}
        },
        {
          "output_type": "execute_result",
          "data": {
            "text/plain": [
              "<Axes: xlabel='Y_obs'>"
            ]
          },
          "metadata": {},
          "execution_count": 25
        },
        {
          "output_type": "display_data",
          "data": {
            "text/plain": [
              "<Figure size 640x480 with 1 Axes>"
            ],
            "image/png": "[encoded data removed]"
          },
          "metadata": {}
        }
      ]
    },
    {
      "cell_type": "markdown",
      "source": [
        "ROBUSTO"
      ],
      "metadata": {
        "id": "vzl0ZLrC-5KD"
      }
    },
    {
      "cell_type": "code",
      "source": [
        "# Criar o modelo Bayesiano Robusto\n",
        "with pm.Model(coords=coords) as model_robust:\n",
        "    # Priori para o intercepto (alpha)\n",
        "    alpha = pm.Normal('alpha', 0, 1)\n",
        "\n",
        "    # Priori para os coeficientes de regressão (betas)\n",
        "    betas = pm.Normal('betas', 0, 1, dims='features')\n",
        "\n",
        "    # Priori para os graus de liberdade da distribuição Student-T (df)\n",
        "    df = pm.Exponential('df', 1)\n",
        "\n",
        "    # Definir a equação do modelo linear\n",
        "    mu = alpha + pt.dot(X_scaled, betas)\n",
        "\n",
        "    # Definir a verossimilhança com distribuição Student-T\n",
        "    likelihood = pm.StudentT('Y_obs', nu=df, mu=mu, observed=y)\n",
        "\n",
        "    # Amostrar da distribuição a priori\n",
        "    robust_trace_prior = pm.sample_prior_predictive()\n",
        "\n",
        "    # Amostrar da distribuição posterior\n",
        "    trace_robust = pm.sample(1000, tune=1000, target_accept=0.95)\n",
        "\n",
        "# Exibir o resumo dos parâmetros ajustados\n",
        "\n",
        "az.summary(trace_robust)"
      ],
      "metadata": {
        "colab": {
          "base_uri": "https://localhost:8080/",
          "height": 492,
          "referenced_widgets": [
            "404a58977eeb4a07912662bc047021c0",
            "96ae4085f6bb40548e501d3932ae0a6a",
            "79032bedafa84c159d5652049895426d",
            "b104bd058d804f8ebe05a5a5eb7ce185"
          ]
        },
        "id": "7JEIF-8v-6fB",
        "outputId": "fc820c7a-f57c-468d-e679-f2bfe0297176"
      },
      "execution_count": 26,
      "outputs": [
        {
          "output_type": "display_data",
          "data": {
            "text/plain": [
              "Output()"
            ],
            "application/vnd.jupyter.widget-view+json": {
              "version_major": 2,
              "version_minor": 0,
              "model_id": "404a58977eeb4a07912662bc047021c0"
            }
          },
          "metadata": {}
        },
        {
          "output_type": "display_data",
          "data": {
            "text/plain": [],
            "text/html": [
              "<pre style=\"white-space:pre;overflow-x:auto;line-height:normal;font-family:Menlo,'DejaVu Sans Mono',consolas,'Courier New',monospace\"></pre>\n"
            ]
          },
          "metadata": {}
        },
        {
          "output_type": "display_data",
          "data": {
            "text/plain": [
              "Output()"
            ],
            "application/vnd.jupyter.widget-view+json": {
              "version_major": 2,
              "version_minor": 0,
              "model_id": "79032bedafa84c159d5652049895426d"
            }
          },
          "metadata": {}
        },
        {
          "output_type": "display_data",
          "data": {
            "text/plain": [],
            "text/html": [
              "<pre style=\"white-space:pre;overflow-x:auto;line-height:normal;font-family:Menlo,'DejaVu Sans Mono',consolas,'Courier New',monospace\"></pre>\n"
            ]
          },
          "metadata": {}
        },
        {
          "output_type": "execute_result",
          "data": {
            "text/plain": [
              "             mean     sd  hdi_3%  hdi_97%  mcse_mean  mcse_sd  ess_bulk  \\\n",
              "alpha       5.817  0.013   5.795    5.842      0.000    0.000    2053.0   \n",
              "betas[0]    0.091  0.028   0.043    0.144      0.001    0.001     923.0   \n",
              "betas[1]   -0.217  0.017  -0.251   -0.186      0.000    0.000    1392.0   \n",
              "betas[2]   -0.016  0.015  -0.044    0.012      0.000    0.000    1692.0   \n",
              "betas[3]    0.209  0.034   0.147    0.271      0.001    0.001     794.0   \n",
              "betas[4]   -0.017  0.016  -0.046    0.015      0.000    0.000    2020.0   \n",
              "betas[5]    0.110  0.018   0.075    0.144      0.000    0.000    1426.0   \n",
              "betas[6]   -0.142  0.021  -0.183   -0.104      0.001    0.000    1401.0   \n",
              "betas[7]   -0.170  0.050  -0.261   -0.076      0.002    0.001     675.0   \n",
              "betas[8]    0.072  0.020   0.035    0.109      0.001    0.000    1039.0   \n",
              "betas[9]    0.115  0.015   0.087    0.144      0.000    0.000    1541.0   \n",
              "betas[10]   0.318  0.027   0.264    0.364      0.001    0.001     885.0   \n",
              "df         40.689  4.534  32.988   49.688      0.098    0.070    2110.0   \n",
              "\n",
              "           ess_tail  r_hat  \n",
              "alpha        1513.0    1.0  \n",
              "betas[0]     1092.0    1.0  \n",
              "betas[1]     1313.0    1.0  \n",
              "betas[2]     1260.0    1.0  \n",
              "betas[3]     1051.0    1.0  \n",
              "betas[4]     1460.0    1.0  \n",
              "betas[5]     1289.0    1.0  \n",
              "betas[6]     1602.0    1.0  \n",
              "betas[7]      938.0    1.0  \n",
              "betas[8]     1483.0    1.0  \n",
              "betas[9]     1396.0    1.0  \n",
              "betas[10]    1106.0    1.0  \n",
              "df           1460.0    1.0  "
            ],
            "text/html": [
              "\n",
              "  <div id=\"df-f574a489-0e8b-4a18-9a4d-55f0d58f95b6\" class=\"colab-df-container\">\n",
              "    <div>\n",
              "<style scoped>\n",
              "    .dataframe tbody tr th:only-of-type {\n",
              "        vertical-align: middle;\n",
              "    }\n",
              "\n",
              "    .dataframe tbody tr th {\n",
              "        vertical-align: top;\n",
              "    }\n",
              "\n",
              "    .dataframe thead th {\n",
              "        text-align: right;\n",
              "    }\n",
              "</style>\n",
              "<table border=\"1\" class=\"dataframe\">\n",
              "  <thead>\n",
              "    <tr style=\"text-align: right;\">\n",
              "      <th></th>\n",
              "      <th>mean</th>\n",
              "      <th>sd</th>\n",
              "      <th>hdi_3%</th>\n",
              "      <th>hdi_97%</th>\n",
              "      <th>mcse_mean</th>\n",
              "      <th>mcse_sd</th>\n",
              "      <th>ess_bulk</th>\n",
              "      <th>ess_tail</th>\n",
              "      <th>r_hat</th>\n",
              "    </tr>\n",
              "  </thead>\n",
              "  <tbody>\n",
              "    <tr>\n",
              "      <th>alpha</th>\n",
              "      <td>5.817</td>\n",
              "      <td>0.013</td>\n",
              "      <td>5.795</td>\n",
              "      <td>5.842</td>\n",
              "      <td>0.000</td>\n",
              "      <td>0.000</td>\n",
              "      <td>2053.0</td>\n",
              "      <td>1513.0</td>\n",
              "      <td>1.0</td>\n",
              "    </tr>\n",
              "    <tr>\n",
              "      <th>betas[0]</th>\n",
              "      <td>0.091</td>\n",
              "      <td>0.028</td>\n",
              "      <td>0.043</td>\n",
              "      <td>0.144</td>\n",
              "      <td>0.001</td>\n",
              "      <td>0.001</td>\n",
              "      <td>923.0</td>\n",
              "      <td>1092.0</td>\n",
              "      <td>1.0</td>\n",
              "    </tr>\n",
              "    <tr>\n",
              "      <th>betas[1]</th>\n",
              "      <td>-0.217</td>\n",
              "      <td>0.017</td>\n",
              "      <td>-0.251</td>\n",
              "      <td>-0.186</td>\n",
              "      <td>0.000</td>\n",
              "      <td>0.000</td>\n",
              "      <td>1392.0</td>\n",
              "      <td>1313.0</td>\n",
              "      <td>1.0</td>\n",
              "    </tr>\n",
              "    <tr>\n",
              "      <th>betas[2]</th>\n",
              "      <td>-0.016</td>\n",
              "      <td>0.015</td>\n",
              "      <td>-0.044</td>\n",
              "      <td>0.012</td>\n",
              "      <td>0.000</td>\n",
              "      <td>0.000</td>\n",
              "      <td>1692.0</td>\n",
              "      <td>1260.0</td>\n",
              "      <td>1.0</td>\n",
              "    </tr>\n",
              "    <tr>\n",
              "      <th>betas[3]</th>\n",
              "      <td>0.209</td>\n",
              "      <td>0.034</td>\n",
              "      <td>0.147</td>\n",
              "      <td>0.271</td>\n",
              "      <td>0.001</td>\n",
              "      <td>0.001</td>\n",
              "      <td>794.0</td>\n",
              "      <td>1051.0</td>\n",
              "      <td>1.0</td>\n",
              "    </tr>\n",
              "    <tr>\n",
              "      <th>betas[4]</th>\n",
              "      <td>-0.017</td>\n",
              "      <td>0.016</td>\n",
              "      <td>-0.046</td>\n",
              "      <td>0.015</td>\n",
              "      <td>0.000</td>\n",
              "      <td>0.000</td>\n",
              "      <td>2020.0</td>\n",
              "      <td>1460.0</td>\n",
              "      <td>1.0</td>\n",
              "    </tr>\n",
              "    <tr>\n",
              "      <th>betas[5]</th>\n",
              "      <td>0.110</td>\n",
              "      <td>0.018</td>\n",
              "      <td>0.075</td>\n",
              "      <td>0.144</td>\n",
              "      <td>0.000</td>\n",
              "      <td>0.000</td>\n",
              "      <td>1426.0</td>\n",
              "      <td>1289.0</td>\n",
              "      <td>1.0</td>\n",
              "    </tr>\n",
              "    <tr>\n",
              "      <th>betas[6]</th>\n",
              "      <td>-0.142</td>\n",
              "      <td>0.021</td>\n",
              "      <td>-0.183</td>\n",
              "      <td>-0.104</td>\n",
              "      <td>0.001</td>\n",
              "      <td>0.000</td>\n",
              "      <td>1401.0</td>\n",
              "      <td>1602.0</td>\n",
              "      <td>1.0</td>\n",
              "    </tr>\n",
              "    <tr>\n",
              "      <th>betas[7]</th>\n",
              "      <td>-0.170</td>\n",
              "      <td>0.050</td>\n",
              "      <td>-0.261</td>\n",
              "      <td>-0.076</td>\n",
              "      <td>0.002</td>\n",
              "      <td>0.001</td>\n",
              "      <td>675.0</td>\n",
              "      <td>938.0</td>\n",
              "      <td>1.0</td>\n",
              "    </tr>\n",
              "    <tr>\n",
              "      <th>betas[8]</th>\n",
              "      <td>0.072</td>\n",
              "      <td>0.020</td>\n",
              "      <td>0.035</td>\n",
              "      <td>0.109</td>\n",
              "      <td>0.001</td>\n",
              "      <td>0.000</td>\n",
              "      <td>1039.0</td>\n",
              "      <td>1483.0</td>\n",
              "      <td>1.0</td>\n",
              "    </tr>\n",
              "    <tr>\n",
              "      <th>betas[9]</th>\n",
              "      <td>0.115</td>\n",
              "      <td>0.015</td>\n",
              "      <td>0.087</td>\n",
              "      <td>0.144</td>\n",
              "      <td>0.000</td>\n",
              "      <td>0.000</td>\n",
              "      <td>1541.0</td>\n",
              "      <td>1396.0</td>\n",
              "      <td>1.0</td>\n",
              "    </tr>\n",
              "    <tr>\n",
              "      <th>betas[10]</th>\n",
              "      <td>0.318</td>\n",
              "      <td>0.027</td>\n",
              "      <td>0.264</td>\n",
              "      <td>0.364</td>\n",
              "      <td>0.001</td>\n",
              "      <td>0.001</td>\n",
              "      <td>885.0</td>\n",
              "      <td>1106.0</td>\n",
              "      <td>1.0</td>\n",
              "    </tr>\n",
              "    <tr>\n",
              "      <th>df</th>\n",
              "      <td>40.689</td>\n",
              "      <td>4.534</td>\n",
              "      <td>32.988</td>\n",
              "      <td>49.688</td>\n",
              "      <td>0.098</td>\n",
              "      <td>0.070</td>\n",
              "      <td>2110.0</td>\n",
              "      <td>1460.0</td>\n",
              "      <td>1.0</td>\n",
              "    </tr>\n",
              "  </tbody>\n",
              "</table>\n",
              "</div>\n",
              "    <div class=\"colab-df-buttons\">\n",
              "\n",
              "  <div class=\"colab-df-container\">\n",
              "    <button class=\"colab-df-convert\" onclick=\"convertToInteractive('df-f574a489-0e8b-4a18-9a4d-55f0d58f95b6')\"\n",
              "            title=\"Convert this dataframe to an interactive table.\"\n",
              "            style=\"display:none;\">\n",
              "\n",
              "  <svg xmlns=\"http://www.w3.org/2000/svg\" height=\"24px\" viewBox=\"0 -960 960 960\">\n",
              "    <path d=\"M120-120v-720h720v720H120Zm60-500h600v-160H180v160Zm220 220h160v-160H400v160Zm0 220h160v-160H400v160ZM180-400h160v-160H180v160Zm440 0h160v-160H620v160ZM180-180h160v-160H180v160Zm440 0h160v-160H620v160Z\"/>\n",
              "  </svg>\n",
              "    </button>\n",
              "\n",
              "  <style>\n",
              "    .colab-df-container {\n",
              "      display:flex;\n",
              "      gap: 12px;\n",
              "    }\n",
              "\n",
              "    .colab-df-convert {\n",
              "      background-color: #E8F0FE;\n",
              "      border: none;\n",
              "      border-radius: 50%;\n",
              "      cursor: pointer;\n",
              "      display: none;\n",
              "      fill: #1967D2;\n",
              "      height: 32px;\n",
              "      padding: 0 0 0 0;\n",
              "      width: 32px;\n",
              "    }\n",
              "\n",
              "    .colab-df-convert:hover {\n",
              "      background-color: #E2EBFA;\n",
              "      box-shadow: 0px 1px 2px rgba(60, 64, 67, 0.3), 0px 1px 3px 1px rgba(60, 64, 67, 0.15);\n",
              "      fill: #174EA6;\n",
              "    }\n",
              "\n",
              "    .colab-df-buttons div {\n",
              "      margin-bottom: 4px;\n",
              "    }\n",
              "\n",
              "    [theme=dark] .colab-df-convert {\n",
              "      background-color: #3B4455;\n",
              "      fill: #D2E3FC;\n",
              "    }\n",
              "\n",
              "    [theme=dark] .colab-df-convert:hover {\n",
              "      background-color: #434B5C;\n",
              "      box-shadow: 0px 1px 3px 1px rgba(0, 0, 0, 0.15);\n",
              "      filter: drop-shadow(0px 1px 2px rgba(0, 0, 0, 0.3));\n",
              "      fill: #FFFFFF;\n",
              "    }\n",
              "  </style>\n",
              "\n",
              "    <script>\n",
              "      const buttonEl =\n",
              "        document.querySelector('#df-f574a489-0e8b-4a18-9a4d-55f0d58f95b6 button.colab-df-convert');\n",
              "      buttonEl.style.display =\n",
              "        google.colab.kernel.accessAllowed ? 'block' : 'none';\n",
              "\n",
              "      async function convertToInteractive(key) {\n",
              "        const element = document.querySelector('#df-f574a489-0e8b-4a18-9a4d-55f0d58f95b6');\n",
              "        const dataTable =\n",
              "          await google.colab.kernel.invokeFunction('convertToInteractive',\n",
              "                                                    [key], {});\n",
              "        if (!dataTable) return;\n",
              "\n",
              "        const docLinkHtml = 'Like what you see? Visit the ' +\n",
              "          '<a target=\"_blank\" href=https://colab.research.google.com/notebooks/data_table.ipynb>data table notebook</a>'\n",
              "          + ' to learn more about interactive tables.';\n",
              "        element.innerHTML = '';\n",
              "        dataTable['output_type'] = 'display_data';\n",
              "        await google.colab.output.renderOutput(dataTable, element);\n",
              "        const docLink = document.createElement('div');\n",
              "        docLink.innerHTML = docLinkHtml;\n",
              "        element.appendChild(docLink);\n",
              "      }\n",
              "    </script>\n",
              "  </div>\n",
              "\n",
              "\n",
              "<div id=\"df-970c55d9-9be6-447b-baba-89beadad5e35\">\n",
              "  <button class=\"colab-df-quickchart\" onclick=\"quickchart('df-970c55d9-9be6-447b-baba-89beadad5e35')\"\n",
              "            title=\"Suggest charts\"\n",
              "            style=\"display:none;\">\n",
              "\n",
              "<svg xmlns=\"http://www.w3.org/2000/svg\" height=\"24px\"viewBox=\"0 0 24 24\"\n",
              "     width=\"24px\">\n",
              "    <g>\n",
              "        <path d=\"M19 3H5c-1.1 0-2 .9-2 2v14c0 1.1.9 2 2 2h14c1.1 0 2-.9 2-2V5c0-1.1-.9-2-2-2zM9 17H7v-7h2v7zm4 0h-2V7h2v10zm4 0h-2v-4h2v4z\"/>\n",
              "    </g>\n",
              "</svg>\n",
              "  </button>\n",
              "\n",
              "<style>\n",
              "  .colab-df-quickchart {\n",
              "      --bg-color: #E8F0FE;\n",
              "      --fill-color: #1967D2;\n",
              "      --hover-bg-color: #E2EBFA;\n",
              "      --hover-fill-color: #174EA6;\n",
              "      --disabled-fill-color: #AAA;\n",
              "      --disabled-bg-color: #DDD;\n",
              "  }\n",
              "\n",
              "  [theme=dark] .colab-df-quickchart {\n",
              "      --bg-color: #3B4455;\n",
              "      --fill-color: #D2E3FC;\n",
              "      --hover-bg-color: #434B5C;\n",
              "      --hover-fill-color: #FFFFFF;\n",
              "      --disabled-bg-color: #3B4455;\n",
              "      --disabled-fill-color: #666;\n",
              "  }\n",
              "\n",
              "  .colab-df-quickchart {\n",
              "    background-color: var(--bg-color);\n",
              "    border: none;\n",
              "    border-radius: 50%;\n",
              "    cursor: pointer;\n",
              "    display: none;\n",
              "    fill: var(--fill-color);\n",
              "    height: 32px;\n",
              "    padding: 0;\n",
              "    width: 32px;\n",
              "  }\n",
              "\n",
              "  .colab-df-quickchart:hover {\n",
              "    background-color: var(--hover-bg-color);\n",
              "    box-shadow: 0 1px 2px rgba(60, 64, 67, 0.3), 0 1px 3px 1px rgba(60, 64, 67, 0.15);\n",
              "    fill: var(--button-hover-fill-color);\n",
              "  }\n",
              "\n",
              "  .colab-df-quickchart-complete:disabled,\n",
              "  .colab-df-quickchart-complete:disabled:hover {\n",
              "    background-color: var(--disabled-bg-color);\n",
              "    fill: var(--disabled-fill-color);\n",
              "    box-shadow: none;\n",
              "  }\n",
              "\n",
              "  .colab-df-spinner {\n",
              "    border: 2px solid var(--fill-color);\n",
              "    border-color: transparent;\n",
              "    border-bottom-color: var(--fill-color);\n",
              "    animation:\n",
              "      spin 1s steps(1) infinite;\n",
              "  }\n",
              "\n",
              "  @keyframes spin {\n",
              "    0% {\n",
              "      border-color: transparent;\n",
              "      border-bottom-color: var(--fill-color);\n",
              "      border-left-color: var(--fill-color);\n",
              "    }\n",
              "    20% {\n",
              "      border-color: transparent;\n",
              "      border-left-color: var(--fill-color);\n",
              "      border-top-color: var(--fill-color);\n",
              "    }\n",
              "    30% {\n",
              "      border-color: transparent;\n",
              "      border-left-color: var(--fill-color);\n",
              "      border-top-color: var(--fill-color);\n",
              "      border-right-color: var(--fill-color);\n",
              "    }\n",
              "    40% {\n",
              "      border-color: transparent;\n",
              "      border-right-color: var(--fill-color);\n",
              "      border-top-color: var(--fill-color);\n",
              "    }\n",
              "    60% {\n",
              "      border-color: transparent;\n",
              "      border-right-color: var(--fill-color);\n",
              "    }\n",
              "    80% {\n",
              "      border-color: transparent;\n",
              "      border-right-color: var(--fill-color);\n",
              "      border-bottom-color: var(--fill-color);\n",
              "    }\n",
              "    90% {\n",
              "      border-color: transparent;\n",
              "      border-bottom-color: var(--fill-color);\n",
              "    }\n",
              "  }\n",
              "</style>\n",
              "\n",
              "  <script>\n",
              "    async function quickchart(key) {\n",
              "      const quickchartButtonEl =\n",
              "        document.querySelector('#' + key + ' button');\n",
              "      quickchartButtonEl.disabled = true;  // To prevent multiple clicks.\n",
              "      quickchartButtonEl.classList.add('colab-df-spinner');\n",
              "      try {\n",
              "        const charts = await google.colab.kernel.invokeFunction(\n",
              "            'suggestCharts', [key], {});\n",
              "      } catch (error) {\n",
              "        console.error('Error during call to suggestCharts:', error);\n",
              "      }\n",
              "      quickchartButtonEl.classList.remove('colab-df-spinner');\n",
              "      quickchartButtonEl.classList.add('colab-df-quickchart-complete');\n",
              "    }\n",
              "    (() => {\n",
              "      let quickchartButtonEl =\n",
              "        document.querySelector('#df-970c55d9-9be6-447b-baba-89beadad5e35 button');\n",
              "      quickchartButtonEl.style.display =\n",
              "        google.colab.kernel.accessAllowed ? 'block' : 'none';\n",
              "    })();\n",
              "  </script>\n",
              "</div>\n",
              "\n",
              "    </div>\n",
              "  </div>\n"
            ],
            "application/vnd.google.colaboratory.intrinsic+json": {
              "type": "dataframe",
              "summary": "{\n  \"name\": \"az\",\n  \"rows\": 13,\n  \"fields\": [\n    {\n      \"column\": \"mean\",\n      \"properties\": {\n        \"dtype\": \"number\",\n        \"std\": 11.257617551502513,\n        \"min\": -0.217,\n        \"max\": 40.689,\n        \"num_unique_values\": 13,\n        \"samples\": [\n          0.318,\n          0.072,\n          5.817\n        ],\n        \"semantic_type\": \"\",\n        \"description\": \"\"\n      }\n    },\n    {\n      \"column\": \"sd\",\n      \"properties\": {\n        \"dtype\": \"number\",\n        \"std\": 1.2512138670209987,\n        \"min\": 0.013,\n        \"max\": 4.534,\n        \"num_unique_values\": 12,\n        \"samples\": [\n          0.027,\n          0.02,\n          0.013\n        ],\n        \"semantic_type\": \"\",\n        \"description\": \"\"\n      }\n    },\n    {\n      \"column\": \"hdi_3%\",\n      \"properties\": {\n        \"dtype\": \"number\",\n        \"std\": 9.161345097746292,\n        \"min\": -0.261,\n        \"max\": 32.988,\n        \"num_unique_values\": 13,\n        \"samples\": [\n          0.264,\n          0.035,\n          5.795\n        ],\n        \"semantic_type\": \"\",\n        \"description\": \"\"\n      }\n    },\n    {\n      \"column\": \"hdi_97%\",\n      \"properties\": {\n        \"dtype\": \"number\",\n        \"std\": 13.720285817367524,\n        \"min\": -0.186,\n        \"max\": 49.688,\n        \"num_unique_values\": 11,\n        \"samples\": [\n          0.015,\n          5.842,\n          0.364\n        ],\n        \"semantic_type\": \"\",\n        \"description\": \"\"\n      }\n    },\n    {\n      \"column\": \"mcse_mean\",\n      \"properties\": {\n        \"dtype\": \"number\",\n        \"std\": 0.027026103241315724,\n        \"min\": 0.0,\n        \"max\": 0.098,\n        \"num_unique_values\": 4,\n        \"samples\": [\n          0.001,\n          0.098,\n          0.0\n        ],\n        \"semantic_type\": \"\",\n        \"description\": \"\"\n      }\n    },\n    {\n      \"column\": \"mcse_sd\",\n      \"properties\": {\n        \"dtype\": \"number\",\n        \"std\": 0.019327806460229847,\n        \"min\": 0.0,\n        \"max\": 0.07,\n        \"num_unique_values\": 3,\n        \"samples\": [\n          0.0,\n          0.001,\n          0.07\n        ],\n        \"semantic_type\": \"\",\n        \"description\": \"\"\n      }\n    },\n    {\n      \"column\": \"ess_bulk\",\n      \"properties\": {\n        \"dtype\": \"number\",\n        \"std\": 494.2976239328296,\n        \"min\": 675.0,\n        \"max\": 2110.0,\n        \"num_unique_values\": 13,\n        \"samples\": [\n          885.0,\n          1039.0,\n          2053.0\n        ],\n        \"semantic_type\": \"\",\n        \"description\": \"\"\n      }\n    },\n    {\n      \"column\": \"ess_tail\",\n      \"properties\": {\n        \"dtype\": \"number\",\n        \"std\": 205.34679859278958,\n        \"min\": 938.0,\n        \"max\": 1602.0,\n        \"num_unique_values\": 12,\n        \"samples\": [\n          1396.0,\n          1483.0,\n          1513.0\n        ],\n        \"semantic_type\": \"\",\n        \"description\": \"\"\n      }\n    },\n    {\n      \"column\": \"r_hat\",\n      \"properties\": {\n        \"dtype\": \"number\",\n        \"std\": 0.0,\n        \"min\": 1.0,\n        \"max\": 1.0,\n        \"num_unique_values\": 1,\n        \"samples\": [\n          1.0\n        ],\n        \"semantic_type\": \"\",\n        \"description\": \"\"\n      }\n    }\n  ]\n}"
            }
          },
          "metadata": {},
          "execution_count": 26
        }
      ]
    },
    {
      "cell_type": "code",
      "source": [
        "# Criar subplots para exibir os gráficos\n",
        "fig, axes = plt.subplots(1, 2, figsize=(8, 6))\n",
        "\n",
        "# Plotar o Posterior Predictive Check cumulativo e regular\n",
        "az.plot_ppc(robust_trace_prior, group='prior', kind='cumulative', ax=axes[0], observed=True)\n",
        "az.plot_ppc(robust_trace_prior, group='prior', ax=axes[1], observed=True)\n",
        "\n",
        "# Ajustar layout\n",
        "plt.tight_layout()\n",
        "plt.show()"
      ],
      "metadata": {
        "colab": {
          "base_uri": "https://localhost:8080/",
          "height": 746
        },
        "id": "6Ua-q0D9-_-p",
        "outputId": "d04b9676-6051-4a5a-c9ae-145252f1f17e"
      },
      "execution_count": 27,
      "outputs": [
        {
          "output_type": "stream",
          "name": "stderr",
          "text": [
            "/usr/local/lib/python3.10/dist-packages/arviz/stats/density_utils.py:250: RuntimeWarning: divide by zero encountered in scalar power\n",
            "  out = t - (2 * N * np.pi**0.5 * f) ** (-0.4)\n",
            "/usr/local/lib/python3.10/dist-packages/arviz/stats/density_utils.py:246: RuntimeWarning: divide by zero encountered in scalar divide\n",
            "  t_j = np.power((c1 * (c2 / (N * f))), (2.0 / (3.0 + 2.0 * j)))\n",
            "/usr/local/lib/python3.10/dist-packages/numpy/core/_methods.py:176: RuntimeWarning: overflow encountered in multiply\n",
            "  x = um.multiply(x, x, out=x)\n",
            "<ipython-input-27-be4523a56207>:9: UserWarning: Creating legend with loc=\"best\" can be slow with large amounts of data.\n",
            "  plt.tight_layout()\n"
          ]
        },
        {
          "output_type": "display_data",
          "data": {
            "text/plain": [
              "<Figure size 800x600 with 2 Axes>"
            ],
            "image/png": "[encoded data removed]"
          },
          "metadata": {}
        }
      ]
    },
    {
      "cell_type": "code",
      "source": [
        "pm.model_to_graphviz(model_robust)"
      ],
      "metadata": {
        "colab": {
          "base_uri": "https://localhost:8080/",
          "height": 368
        },
        "id": "j3H1J6bWAIcR",
        "outputId": "035e8b27-257e-4a3e-e39a-390f38698b79"
      },
      "execution_count": 28,
      "outputs": [
        {
          "output_type": "execute_result",
          "data": {
            "image/svg+xml": "<?xml version=\"1.0\" encoding=\"UTF-8\" standalone=\"no\"?>\n<!DOCTYPE svg PUBLIC \"-//W3C//DTD SVG 1.1//EN\"\n \"http://www.w3.org/Graphics/SVG/1.1/DTD/svg11.dtd\">\n<!-- Generated by graphviz version 2.43.0 (0)\n -->\n<!-- Title: %3 Pages: 1 -->\n<svg width=\"343pt\" height=\"260pt\"\n viewBox=\"0.00 0.00 342.98 259.91\" xmlns=\"http://www.w3.org/2000/svg\" xmlns:xlink=\"http://www.w3.org/1999/xlink\">\n<g id=\"graph0\" class=\"graph\" transform=\"scale(1 1) rotate(0) translate(4 255.91)\">\n<title>%3</title>\n<polygon fill=\"white\" stroke=\"transparent\" points=\"-4,4 -4,-255.91 338.98,-255.91 338.98,4 -4,4\"/>\n<g id=\"clust1\" class=\"cluster\">\n<title>clusterfeatures (11)</title>\n<path fill=\"none\" stroke=\"black\" d=\"M238.98,-129.95C238.98,-129.95 314.98,-129.95 314.98,-129.95 320.98,-129.95 326.98,-135.95 326.98,-141.95 326.98,-141.95 326.98,-231.91 326.98,-231.91 326.98,-237.91 320.98,-243.91 314.98,-243.91 314.98,-243.91 238.98,-243.91 238.98,-243.91 232.98,-243.91 226.98,-237.91 226.98,-231.91 226.98,-231.91 226.98,-141.95 226.98,-141.95 226.98,-135.95 232.98,-129.95 238.98,-129.95\"/>\n<text text-anchor=\"middle\" x=\"283.98\" y=\"-137.75\" font-family=\"Times,serif\" font-size=\"14.00\">features (11)</text>\n</g>\n<g id=\"clust2\" class=\"cluster\">\n<title>cluster6497</title>\n<path fill=\"none\" stroke=\"black\" d=\"M132.98,-8C132.98,-8 218.98,-8 218.98,-8 224.98,-8 230.98,-14 230.98,-20 230.98,-20 230.98,-109.95 230.98,-109.95 230.98,-115.95 224.98,-121.95 218.98,-121.95 218.98,-121.95 132.98,-121.95 132.98,-121.95 126.98,-121.95 120.98,-115.95 120.98,-109.95 120.98,-109.95 120.98,-20 120.98,-20 120.98,-14 126.98,-8 132.98,-8\"/>\n<text text-anchor=\"middle\" x=\"208.98\" y=\"-15.8\" font-family=\"Times,serif\" font-size=\"14.00\">6497</text>\n</g>\n<!-- df -->\n<g id=\"node1\" class=\"node\">\n<title>df</title>\n<ellipse fill=\"none\" stroke=\"black\" cx=\"57.98\" cy=\"-198.43\" rx=\"57.97\" ry=\"37.45\"/>\n<text text-anchor=\"middle\" x=\"57.98\" y=\"-209.73\" font-family=\"Times,serif\" font-size=\"14.00\">df</text>\n<text text-anchor=\"middle\" x=\"57.98\" y=\"-194.73\" font-family=\"Times,serif\" font-size=\"14.00\">~</text>\n<text text-anchor=\"middle\" x=\"57.98\" y=\"-179.73\" font-family=\"Times,serif\" font-size=\"14.00\">Exponential</text>\n</g>\n<!-- Y_obs -->\n<g id=\"node4\" class=\"node\">\n<title>Y_obs</title>\n<ellipse fill=\"lightgrey\" stroke=\"black\" cx=\"175.98\" cy=\"-76.48\" rx=\"46.84\" ry=\"37.45\"/>\n<text text-anchor=\"middle\" x=\"175.98\" y=\"-87.78\" font-family=\"Times,serif\" font-size=\"14.00\">Y_obs</text>\n<text text-anchor=\"middle\" x=\"175.98\" y=\"-72.78\" font-family=\"Times,serif\" font-size=\"14.00\">~</text>\n<text text-anchor=\"middle\" x=\"175.98\" y=\"-57.78\" font-family=\"Times,serif\" font-size=\"14.00\">StudentT</text>\n</g>\n<!-- df&#45;&gt;Y_obs -->\n<g id=\"edge3\" class=\"edge\">\n<title>df&#45;&gt;Y_obs</title>\n<path fill=\"none\" stroke=\"black\" d=\"M88.68,-166.23C104.43,-150.21 123.71,-130.62 140.14,-113.91\"/>\n<polygon fill=\"black\" stroke=\"black\" points=\"142.95,-116.05 147.47,-106.47 137.96,-111.14 142.95,-116.05\"/>\n</g>\n<!-- alpha -->\n<g id=\"node2\" class=\"node\">\n<title>alpha</title>\n<ellipse fill=\"none\" stroke=\"black\" cx=\"175.98\" cy=\"-198.43\" rx=\"41.94\" ry=\"37.45\"/>\n<text text-anchor=\"middle\" x=\"175.98\" y=\"-209.73\" font-family=\"Times,serif\" font-size=\"14.00\">alpha</text>\n<text text-anchor=\"middle\" x=\"175.98\" y=\"-194.73\" font-family=\"Times,serif\" font-size=\"14.00\">~</text>\n<text text-anchor=\"middle\" x=\"175.98\" y=\"-179.73\" font-family=\"Times,serif\" font-size=\"14.00\">Normal</text>\n</g>\n<!-- alpha&#45;&gt;Y_obs -->\n<g id=\"edge2\" class=\"edge\">\n<title>alpha&#45;&gt;Y_obs</title>\n<path fill=\"none\" stroke=\"black\" d=\"M175.98,-160.79C175.98,-149.38 175.98,-136.65 175.98,-124.63\"/>\n<polygon fill=\"black\" stroke=\"black\" points=\"179.48,-124.31 175.98,-114.31 172.48,-124.31 179.48,-124.31\"/>\n</g>\n<!-- betas -->\n<g id=\"node3\" class=\"node\">\n<title>betas</title>\n<ellipse fill=\"none\" stroke=\"black\" cx=\"276.98\" cy=\"-198.43\" rx=\"41.94\" ry=\"37.45\"/>\n<text text-anchor=\"middle\" x=\"276.98\" y=\"-209.73\" font-family=\"Times,serif\" font-size=\"14.00\">betas</text>\n<text text-anchor=\"middle\" x=\"276.98\" y=\"-194.73\" font-family=\"Times,serif\" font-size=\"14.00\">~</text>\n<text text-anchor=\"middle\" x=\"276.98\" y=\"-179.73\" font-family=\"Times,serif\" font-size=\"14.00\">Normal</text>\n</g>\n<!-- betas&#45;&gt;Y_obs -->\n<g id=\"edge1\" class=\"edge\">\n<title>betas&#45;&gt;Y_obs</title>\n<path fill=\"none\" stroke=\"black\" d=\"M255.17,-166.2C246.7,-154.55 236.71,-141.4 226.98,-129.95 222.29,-124.43 217.15,-118.76 212.01,-113.29\"/>\n<polygon fill=\"black\" stroke=\"black\" points=\"214.46,-110.79 205.02,-105.97 209.4,-115.62 214.46,-110.79\"/>\n</g>\n</g>\n</svg>\n",
            "text/plain": [
              "<graphviz.graphs.Digraph at 0x794769d5a050>"
            ]
          },
          "metadata": {},
          "execution_count": 28
        }
      ]
    },
    {
      "cell_type": "code",
      "source": [
        "with model_robust:\n",
        "  trace_pos_robust = pm.sample_posterior_predictive(trace_robust)\n",
        "\n",
        "analise_posteriori(trace_pos_robust)"
      ],
      "metadata": {
        "colab": {
          "base_uri": "https://localhost:8080/",
          "height": 598,
          "referenced_widgets": [
            "02b0f6f48f9348b19b7052bbbe5687c8",
            "0fdd9fe5343142c392c7a053e02514e1"
          ]
        },
        "id": "KOSbMoPvARE_",
        "outputId": "ca11152b-1988-4e9d-d471-7a5287c62866"
      },
      "execution_count": 29,
      "outputs": [
        {
          "output_type": "display_data",
          "data": {
            "text/plain": [
              "Output()"
            ],
            "application/vnd.jupyter.widget-view+json": {
              "version_major": 2,
              "version_minor": 0,
              "model_id": "02b0f6f48f9348b19b7052bbbe5687c8"
            }
          },
          "metadata": {}
        },
        {
          "output_type": "display_data",
          "data": {
            "text/plain": [],
            "text/html": [
              "<pre style=\"white-space:pre;overflow-x:auto;line-height:normal;font-family:Menlo,'DejaVu Sans Mono',consolas,'Courier New',monospace\"></pre>\n"
            ]
          },
          "metadata": {}
        },
        {
          "output_type": "execute_result",
          "data": {
            "text/plain": [
              "(<Figure size 1000x500 with 2 Axes>,\n",
              " array([<Axes: xlabel='Y_obs'>, <Axes: xlabel='Y_obs'>], dtype=object))"
            ]
          },
          "metadata": {},
          "execution_count": 29
        },
        {
          "output_type": "stream",
          "name": "stderr",
          "text": [
            "/usr/local/lib/python3.10/dist-packages/IPython/core/events.py:89: UserWarning: Creating legend with loc=\"best\" can be slow with large amounts of data.\n",
            "  func(*args, **kwargs)\n",
            "/usr/local/lib/python3.10/dist-packages/IPython/core/pylabtools.py:151: UserWarning: Creating legend with loc=\"best\" can be slow with large amounts of data.\n",
            "  fig.canvas.print_figure(bytes_io, **kw)\n"
          ]
        },
        {
          "output_type": "display_data",
          "data": {
            "text/plain": [
              "<Figure size 1000x500 with 2 Axes>"
            ],
            "image/png": "[encoded data removed]"
          },
          "metadata": {}
        }
      ]
    },
    {
      "cell_type": "markdown",
      "source": [
        "COMPARANDO MODELOS"
      ],
      "metadata": {
        "id": "47uY9D3JAV89"
      }
    },
    {
      "cell_type": "code",
      "source": [
        "# Verificar se o log_likelihood já existe antes de recalcular\n",
        "if 'log_likelihood' not in trace_ridge.groups():\n",
        "    with model_ridge:\n",
        "        pm.compute_log_likelihood(trace_ridge)\n",
        "\n",
        "\n",
        "if 'log_likelihood' not in trace_lasso.groups():\n",
        "    with model_lasso:\n",
        "        pm.compute_log_likelihood(trace_lasso)\n",
        "\n",
        "if 'log_likelihood' not in trace_hierarchical.groups():\n",
        "    with model_hierarchical:\n",
        "        pm.compute_log_likelihood(trace_robust)\n",
        "\n",
        "if 'log_likelihood' not in trace_robust.groups():\n",
        "    with model_robust:\n",
        "        pm.compute_log_likelihood(trace_robust)"
      ],
      "metadata": {
        "colab": {
          "base_uri": "https://localhost:8080/",
          "height": 34,
          "referenced_widgets": [
            "0d75a7cc6fd443159063ffc61f669024",
            "4189f8dd120a4744b9ccd784a7c94c7a"
          ]
        },
        "id": "T_8pBKpCBpo2",
        "outputId": "3202df2e-ef63-44a8-8b08-6af05089f35e"
      },
      "execution_count": 31,
      "outputs": [
        {
          "output_type": "display_data",
          "data": {
            "text/plain": [
              "Output()"
            ],
            "application/vnd.jupyter.widget-view+json": {
              "version_major": 2,
              "version_minor": 0,
              "model_id": "0d75a7cc6fd443159063ffc61f669024"
            }
          },
          "metadata": {}
        },
        {
          "output_type": "display_data",
          "data": {
            "text/plain": [],
            "text/html": [
              "<pre style=\"white-space:pre;overflow-x:auto;line-height:normal;font-family:Menlo,'DejaVu Sans Mono',consolas,'Courier New',monospace\"></pre>\n"
            ]
          },
          "metadata": {}
        }
      ]
    },
    {
      "cell_type": "code",
      "source": [
        "# Verifique se o log_likelihood foi corretamente adicionado\n",
        "print(trace_ridge.groups())\n",
        "\n",
        "print(trace_lasso.groups())\n",
        "\n",
        "print(trace_robust.groups())\n",
        "\n",
        "print(trace_hierarchical.groups())"
      ],
      "metadata": {
        "colab": {
          "base_uri": "https://localhost:8080/"
        },
        "id": "z89oMklnCrrf",
        "outputId": "b759a511-8e45-4020-fb4a-4a354fb441b7"
      },
      "execution_count": 32,
      "outputs": [
        {
          "output_type": "stream",
          "name": "stdout",
          "text": [
            "['posterior', 'log_likelihood', 'sample_stats', 'observed_data']\n",
            "['posterior', 'log_likelihood', 'sample_stats', 'observed_data']\n",
            "['posterior', 'log_likelihood', 'sample_stats', 'observed_data']\n",
            "['posterior', 'log_likelihood', 'sample_stats', 'observed_data']\n"
          ]
        }
      ]
    },
    {
      "cell_type": "code",
      "source": [
        "# Amostragem para o modelo Lasso\n",
        "with model_lasso:\n",
        "    trace_lasso = pm.sample(1000, tune=1000, target_accept=0.95, return_inferencedata=True)\n",
        "    # Incluindo o cálculo do log likelihood\n",
        "    trace_lasso = pm.sample(1000, tune=1000, target_accept=0.95, return_inferencedata=True)\n",
        "\n",
        "# Amostragem para o modelo Hierárquico\n",
        "with model_hierarchical:\n",
        "    trace_hierarchical = pm.sample(1000, tune=1000, target_accept=0.95, return_inferencedata=True)\n",
        "\n",
        "# Amostragem para o modelo Robusto\n",
        "with model_robust:\n",
        "    trace_robust = pm.sample(1000, tune=1000, target_accept=0.95, return_inferencedata=True)\n",
        "\n",
        "# Amostragem para o modelo Ridge\n",
        "with model_ridge:\n",
        "    trace_ridge = pm.sample(1000, tune=1000, target_accept=0.95, return_inferencedata=True)\n"
      ],
      "metadata": {
        "colab": {
          "base_uri": "https://localhost:8080/",
          "height": 34,
          "referenced_widgets": [
            "a333e94b1c904b2b80b07114a13b4fa6",
            "f7c9ba99c1ed4562a8cbacd35d0a84bf"
          ]
        },
        "id": "QqZr7hZiBciX",
        "outputId": "5fe9ec4b-1e9d-4ed3-c736-ec130cf2bca3"
      },
      "execution_count": null,
      "outputs": [
        {
          "output_type": "display_data",
          "data": {
            "text/plain": [
              "Output()"
            ],
            "application/vnd.jupyter.widget-view+json": {
              "version_major": 2,
              "version_minor": 0,
              "model_id": "a333e94b1c904b2b80b07114a13b4fa6"
            }
          },
          "metadata": {}
        }
      ]
    },
    {
      "cell_type": "code",
      "source": [
        "import arviz as az\n",
        "import matplotlib.pyplot as plt\n"
      ],
      "metadata": {
        "id": "FE5_M0Ahyt4w"
      },
      "execution_count": null,
      "outputs": []
    },
    {
      "cell_type": "code",
      "source": [
        "# Comparar os modelos com base no LOO (Leave-One-Out Cross-Validation)\n",
        "comparison = az.compare({\n",
        "    'Lasso': trace_lasso,\n",
        "    'Hierarchical': trace_hierarchical,\n",
        "    'Robust': trace_robust,\n",
        "    'Ridge': trace_ridge\n",
        "}, method='LOO')\n"
      ],
      "metadata": {
        "id": "6oFoWuwptfZJ"
      },
      "execution_count": null,
      "outputs": []
    },
    {
      "cell_type": "code",
      "source": [
        "# Plotar a comparação dos modelos\n",
        "az.plot_compare(comparison)\n",
        "plt.show()\n"
      ],
      "metadata": {
        "id": "vizR-_B_ye-S"
      },
      "execution_count": null,
      "outputs": []
    }
  ]
}