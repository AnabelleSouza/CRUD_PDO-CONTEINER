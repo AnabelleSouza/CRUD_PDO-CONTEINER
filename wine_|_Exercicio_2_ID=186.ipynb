{
  "nbformat": 4,
  "nbformat_minor": 0,
  "metadata": {
    "colab": {
      "provenance": [],
      "include_colab_link": true
    },
    "kernelspec": {
      "name": "python3",
      "display_name": "Python 3"
    },
    "language_info": {
      "name": "python"
    },
    "widgets": {
      "application/vnd.jupyter.widget-state+json": {
        "f49caaf870114175a5362fccc0acc67d": {
          "model_module": "@jupyter-widgets/output",
          "model_name": "OutputModel",
          "model_module_version": "1.0.0",
          "state": {
            "_dom_classes": [],
            "_model_module": "@jupyter-widgets/output",
            "_model_module_version": "1.0.0",
            "_model_name": "OutputModel",
            "_view_count": null,
            "_view_module": "@jupyter-widgets/output",
            "_view_module_version": "1.0.0",
            "_view_name": "OutputView",
            "layout": "IPY_MODEL_949efe49b0d8477eb47dee3cd7273903",
            "msg_id": "",
            "outputs": [
              {
                "output_type": "display_data",
                "data": {
                  "text/plain": "Sampling chain 0, 0 divergences \u001b[32m━━━━━━━━━━━━━━━━━━━━━━━━━━━━━━━━━━━━━━━━\u001b[0m \u001b[35m100%\u001b[0m \u001b[36m0:00:00\u001b[0m / \u001b[33m0:00:33\u001b[0m\n",
                  "text/html": "<pre style=\"white-space:pre;overflow-x:auto;line-height:normal;font-family:Menlo,'DejaVu Sans Mono',consolas,'Courier New',monospace\">Sampling chain 0, 0 divergences <span style=\"color: #008000; text-decoration-color: #008000\">━━━━━━━━━━━━━━━━━━━━━━━━━━━━━━━━━━━━━━━━</span> <span style=\"color: #800080; text-decoration-color: #800080\">100%</span> <span style=\"color: #008080; text-decoration-color: #008080\">0:00:00</span> / <span style=\"color: #808000; text-decoration-color: #808000\">0:00:33</span>\n</pre>\n"
                },
                "metadata": {}
              }
            ]
          }
        },
        "949efe49b0d8477eb47dee3cd7273903": {
          "model_module": "@jupyter-widgets/base",
          "model_name": "LayoutModel",
          "model_module_version": "1.2.0",
          "state": {
            "_model_module": "@jupyter-widgets/base",
            "_model_module_version": "1.2.0",
            "_model_name": "LayoutModel",
            "_view_count": null,
            "_view_module": "@jupyter-widgets/base",
            "_view_module_version": "1.2.0",
            "_view_name": "LayoutView",
            "align_content": null,
            "align_items": null,
            "align_self": null,
            "border": null,
            "bottom": null,
            "display": null,
            "flex": null,
            "flex_flow": null,
            "grid_area": null,
            "grid_auto_columns": null,
            "grid_auto_flow": null,
            "grid_auto_rows": null,
            "grid_column": null,
            "grid_gap": null,
            "grid_row": null,
            "grid_template_areas": null,
            "grid_template_columns": null,
            "grid_template_rows": null,
            "height": null,
            "justify_content": null,
            "justify_items": null,
            "left": null,
            "margin": null,
            "max_height": null,
            "max_width": null,
            "min_height": null,
            "min_width": null,
            "object_fit": null,
            "object_position": null,
            "order": null,
            "overflow": null,
            "overflow_x": null,
            "overflow_y": null,
            "padding": null,
            "right": null,
            "top": null,
            "visibility": null,
            "width": null
          }
        },
        "ab367769bb234036b5834fc0881ffee9": {
          "model_module": "@jupyter-widgets/output",
          "model_name": "OutputModel",
          "model_module_version": "1.0.0",
          "state": {
            "_dom_classes": [],
            "_model_module": "@jupyter-widgets/output",
            "_model_module_version": "1.0.0",
            "_model_name": "OutputModel",
            "_view_count": null,
            "_view_module": "@jupyter-widgets/output",
            "_view_module_version": "1.0.0",
            "_view_name": "OutputView",
            "layout": "IPY_MODEL_37bde69046174c4ebb11f722a721d7d4",
            "msg_id": "",
            "outputs": [
              {
                "output_type": "display_data",
                "data": {
                  "text/plain": "Sampling chain 1, 0 divergences \u001b[32m━━━━━━━━━━━━━━━━━━━━━━━━━━━━━━━━━━━━━━━━\u001b[0m \u001b[35m100%\u001b[0m \u001b[36m0:00:00\u001b[0m / \u001b[33m0:00:27\u001b[0m\n",
                  "text/html": "<pre style=\"white-space:pre;overflow-x:auto;line-height:normal;font-family:Menlo,'DejaVu Sans Mono',consolas,'Courier New',monospace\">Sampling chain 1, 0 divergences <span style=\"color: #008000; text-decoration-color: #008000\">━━━━━━━━━━━━━━━━━━━━━━━━━━━━━━━━━━━━━━━━</span> <span style=\"color: #800080; text-decoration-color: #800080\">100%</span> <span style=\"color: #008080; text-decoration-color: #008080\">0:00:00</span> / <span style=\"color: #808000; text-decoration-color: #808000\">0:00:27</span>\n</pre>\n"
                },
                "metadata": {}
              }
            ]
          }
        },
        "37bde69046174c4ebb11f722a721d7d4": {
          "model_module": "@jupyter-widgets/base",
          "model_name": "LayoutModel",
          "model_module_version": "1.2.0",
          "state": {
            "_model_module": "@jupyter-widgets/base",
            "_model_module_version": "1.2.0",
            "_model_name": "LayoutModel",
            "_view_count": null,
            "_view_module": "@jupyter-widgets/base",
            "_view_module_version": "1.2.0",
            "_view_name": "LayoutView",
            "align_content": null,
            "align_items": null,
            "align_self": null,
            "border": null,
            "bottom": null,
            "display": null,
            "flex": null,
            "flex_flow": null,
            "grid_area": null,
            "grid_auto_columns": null,
            "grid_auto_flow": null,
            "grid_auto_rows": null,
            "grid_column": null,
            "grid_gap": null,
            "grid_row": null,
            "grid_template_areas": null,
            "grid_template_columns": null,
            "grid_template_rows": null,
            "height": null,
            "justify_content": null,
            "justify_items": null,
            "left": null,
            "margin": null,
            "max_height": null,
            "max_width": null,
            "min_height": null,
            "min_width": null,
            "object_fit": null,
            "object_position": null,
            "order": null,
            "overflow": null,
            "overflow_x": null,
            "overflow_y": null,
            "padding": null,
            "right": null,
            "top": null,
            "visibility": null,
            "width": null
          }
        },
        "55cc908f1ba043a69d9f811f95a0077b": {
          "model_module": "@jupyter-widgets/output",
          "model_name": "OutputModel",
          "model_module_version": "1.0.0",
          "state": {
            "_dom_classes": [],
            "_model_module": "@jupyter-widgets/output",
            "_model_module_version": "1.0.0",
            "_model_name": "OutputModel",
            "_view_count": null,
            "_view_module": "@jupyter-widgets/output",
            "_view_module_version": "1.0.0",
            "_view_name": "OutputView",
            "layout": "IPY_MODEL_d29965ba398149feaad39af925ee0d28",
            "msg_id": "",
            "outputs": [
              {
                "output_type": "display_data",
                "data": {
                  "text/plain": "Sampling ... \u001b[32m━━━━━━━━━━━━━━━━━━━━━━━━━━━━━━━━━━━━━━━━\u001b[0m \u001b[35m100%\u001b[0m \u001b[36m0:00:00\u001b[0m / \u001b[33m0:00:01\u001b[0m\n",
                  "text/html": "<pre style=\"white-space:pre;overflow-x:auto;line-height:normal;font-family:Menlo,'DejaVu Sans Mono',consolas,'Courier New',monospace\">Sampling ... <span style=\"color: #008000; text-decoration-color: #008000\">━━━━━━━━━━━━━━━━━━━━━━━━━━━━━━━━━━━━━━━━</span> <span style=\"color: #800080; text-decoration-color: #800080\">100%</span> <span style=\"color: #008080; text-decoration-color: #008080\">0:00:00</span> / <span style=\"color: #808000; text-decoration-color: #808000\">0:00:01</span>\n</pre>\n"
                },
                "metadata": {}
              }
            ]
          }
        },
        "d29965ba398149feaad39af925ee0d28": {
          "model_module": "@jupyter-widgets/base",
          "model_name": "LayoutModel",
          "model_module_version": "1.2.0",
          "state": {
            "_model_module": "@jupyter-widgets/base",
            "_model_module_version": "1.2.0",
            "_model_name": "LayoutModel",
            "_view_count": null,
            "_view_module": "@jupyter-widgets/base",
            "_view_module_version": "1.2.0",
            "_view_name": "LayoutView",
            "align_content": null,
            "align_items": null,
            "align_self": null,
            "border": null,
            "bottom": null,
            "display": null,
            "flex": null,
            "flex_flow": null,
            "grid_area": null,
            "grid_auto_columns": null,
            "grid_auto_flow": null,
            "grid_auto_rows": null,
            "grid_column": null,
            "grid_gap": null,
            "grid_row": null,
            "grid_template_areas": null,
            "grid_template_columns": null,
            "grid_template_rows": null,
            "height": null,
            "justify_content": null,
            "justify_items": null,
            "left": null,
            "margin": null,
            "max_height": null,
            "max_width": null,
            "min_height": null,
            "min_width": null,
            "object_fit": null,
            "object_position": null,
            "order": null,
            "overflow": null,
            "overflow_x": null,
            "overflow_y": null,
            "padding": null,
            "right": null,
            "top": null,
            "visibility": null,
            "width": null
          }
        },
        "d4fad603714942ac90abc51f0494682a": {
          "model_module": "@jupyter-widgets/output",
          "model_name": "OutputModel",
          "model_module_version": "1.0.0",
          "state": {
            "_dom_classes": [],
            "_model_module": "@jupyter-widgets/output",
            "_model_module_version": "1.0.0",
            "_model_name": "OutputModel",
            "_view_count": null,
            "_view_module": "@jupyter-widgets/output",
            "_view_module_version": "1.0.0",
            "_view_name": "OutputView",
            "layout": "IPY_MODEL_01ea62e1b92f4f1b976161aab33e9630",
            "msg_id": "",
            "outputs": [
              {
                "output_type": "display_data",
                "data": {
                  "text/plain": "Sampling ... \u001b[32m━━━━━━━━━━━━━━━━━━━━━━━━━━━━━━━━━━━━━━━━\u001b[0m \u001b[35m100%\u001b[0m \u001b[36m0:00:00\u001b[0m / \u001b[33m0:00:01\u001b[0m\n",
                  "text/html": "<pre style=\"white-space:pre;overflow-x:auto;line-height:normal;font-family:Menlo,'DejaVu Sans Mono',consolas,'Courier New',monospace\">Sampling ... <span style=\"color: #008000; text-decoration-color: #008000\">━━━━━━━━━━━━━━━━━━━━━━━━━━━━━━━━━━━━━━━━</span> <span style=\"color: #800080; text-decoration-color: #800080\">100%</span> <span style=\"color: #008080; text-decoration-color: #008080\">0:00:00</span> / <span style=\"color: #808000; text-decoration-color: #808000\">0:00:01</span>\n</pre>\n"
                },
                "metadata": {}
              }
            ]
          }
        },
        "01ea62e1b92f4f1b976161aab33e9630": {
          "model_module": "@jupyter-widgets/base",
          "model_name": "LayoutModel",
          "model_module_version": "1.2.0",
          "state": {
            "_model_module": "@jupyter-widgets/base",
            "_model_module_version": "1.2.0",
            "_model_name": "LayoutModel",
            "_view_count": null,
            "_view_module": "@jupyter-widgets/base",
            "_view_module_version": "1.2.0",
            "_view_name": "LayoutView",
            "align_content": null,
            "align_items": null,
            "align_self": null,
            "border": null,
            "bottom": null,
            "display": null,
            "flex": null,
            "flex_flow": null,
            "grid_area": null,
            "grid_auto_columns": null,
            "grid_auto_flow": null,
            "grid_auto_rows": null,
            "grid_column": null,
            "grid_gap": null,
            "grid_row": null,
            "grid_template_areas": null,
            "grid_template_columns": null,
            "grid_template_rows": null,
            "height": null,
            "justify_content": null,
            "justify_items": null,
            "left": null,
            "margin": null,
            "max_height": null,
            "max_width": null,
            "min_height": null,
            "min_width": null,
            "object_fit": null,
            "object_position": null,
            "order": null,
            "overflow": null,
            "overflow_x": null,
            "overflow_y": null,
            "padding": null,
            "right": null,
            "top": null,
            "visibility": null,
            "width": null
          }
        },
        "6f49969c68144c018acc7c367007dd1e": {
          "model_module": "@jupyter-widgets/output",
          "model_name": "OutputModel",
          "model_module_version": "1.0.0",
          "state": {
            "_dom_classes": [],
            "_model_module": "@jupyter-widgets/output",
            "_model_module_version": "1.0.0",
            "_model_name": "OutputModel",
            "_view_count": null,
            "_view_module": "@jupyter-widgets/output",
            "_view_module_version": "1.0.0",
            "_view_name": "OutputView",
            "layout": "IPY_MODEL_797f7ed4335c4114b7b0afb2bb3af9b5",
            "msg_id": "",
            "outputs": [
              {
                "output_type": "display_data",
                "data": {
                  "text/plain": "Sampling chain 0, 0 divergences \u001b[32m━━━━━━━━━━━━━━━━━━━━━━━━━━━━━━━━━━━━━━━━\u001b[0m \u001b[35m100%\u001b[0m \u001b[36m0:00:00\u001b[0m / \u001b[33m0:00:30\u001b[0m\n",
                  "text/html": "<pre style=\"white-space:pre;overflow-x:auto;line-height:normal;font-family:Menlo,'DejaVu Sans Mono',consolas,'Courier New',monospace\">Sampling chain 0, 0 divergences <span style=\"color: #008000; text-decoration-color: #008000\">━━━━━━━━━━━━━━━━━━━━━━━━━━━━━━━━━━━━━━━━</span> <span style=\"color: #800080; text-decoration-color: #800080\">100%</span> <span style=\"color: #008080; text-decoration-color: #008080\">0:00:00</span> / <span style=\"color: #808000; text-decoration-color: #808000\">0:00:30</span>\n</pre>\n"
                },
                "metadata": {}
              }
            ]
          }
        },
        "797f7ed4335c4114b7b0afb2bb3af9b5": {
          "model_module": "@jupyter-widgets/base",
          "model_name": "LayoutModel",
          "model_module_version": "1.2.0",
          "state": {
            "_model_module": "@jupyter-widgets/base",
            "_model_module_version": "1.2.0",
            "_model_name": "LayoutModel",
            "_view_count": null,
            "_view_module": "@jupyter-widgets/base",
            "_view_module_version": "1.2.0",
            "_view_name": "LayoutView",
            "align_content": null,
            "align_items": null,
            "align_self": null,
            "border": null,
            "bottom": null,
            "display": null,
            "flex": null,
            "flex_flow": null,
            "grid_area": null,
            "grid_auto_columns": null,
            "grid_auto_flow": null,
            "grid_auto_rows": null,
            "grid_column": null,
            "grid_gap": null,
            "grid_row": null,
            "grid_template_areas": null,
            "grid_template_columns": null,
            "grid_template_rows": null,
            "height": null,
            "justify_content": null,
            "justify_items": null,
            "left": null,
            "margin": null,
            "max_height": null,
            "max_width": null,
            "min_height": null,
            "min_width": null,
            "object_fit": null,
            "object_position": null,
            "order": null,
            "overflow": null,
            "overflow_x": null,
            "overflow_y": null,
            "padding": null,
            "right": null,
            "top": null,
            "visibility": null,
            "width": null
          }
        },
        "309710e67e0a4eb099fa605c0d4201b0": {
          "model_module": "@jupyter-widgets/output",
          "model_name": "OutputModel",
          "model_module_version": "1.0.0",
          "state": {
            "_dom_classes": [],
            "_model_module": "@jupyter-widgets/output",
            "_model_module_version": "1.0.0",
            "_model_name": "OutputModel",
            "_view_count": null,
            "_view_module": "@jupyter-widgets/output",
            "_view_module_version": "1.0.0",
            "_view_name": "OutputView",
            "layout": "IPY_MODEL_03d3a3736d364be69087a916b2f105a4",
            "msg_id": "",
            "outputs": [
              {
                "output_type": "display_data",
                "data": {
                  "text/plain": "Sampling chain 1, 0 divergences \u001b[32m━━━━━━━━━━━━━━━━━━━━━━━━━━━━━━━━━━━━━━━━\u001b[0m \u001b[35m100%\u001b[0m \u001b[36m0:00:00\u001b[0m / \u001b[33m0:00:29\u001b[0m\n",
                  "text/html": "<pre style=\"white-space:pre;overflow-x:auto;line-height:normal;font-family:Menlo,'DejaVu Sans Mono',consolas,'Courier New',monospace\">Sampling chain 1, 0 divergences <span style=\"color: #008000; text-decoration-color: #008000\">━━━━━━━━━━━━━━━━━━━━━━━━━━━━━━━━━━━━━━━━</span> <span style=\"color: #800080; text-decoration-color: #800080\">100%</span> <span style=\"color: #008080; text-decoration-color: #008080\">0:00:00</span> / <span style=\"color: #808000; text-decoration-color: #808000\">0:00:29</span>\n</pre>\n"
                },
                "metadata": {}
              }
            ]
          }
        },
        "03d3a3736d364be69087a916b2f105a4": {
          "model_module": "@jupyter-widgets/base",
          "model_name": "LayoutModel",
          "model_module_version": "1.2.0",
          "state": {
            "_model_module": "@jupyter-widgets/base",
            "_model_module_version": "1.2.0",
            "_model_name": "LayoutModel",
            "_view_count": null,
            "_view_module": "@jupyter-widgets/base",
            "_view_module_version": "1.2.0",
            "_view_name": "LayoutView",
            "align_content": null,
            "align_items": null,
            "align_self": null,
            "border": null,
            "bottom": null,
            "display": null,
            "flex": null,
            "flex_flow": null,
            "grid_area": null,
            "grid_auto_columns": null,
            "grid_auto_flow": null,
            "grid_auto_rows": null,
            "grid_column": null,
            "grid_gap": null,
            "grid_row": null,
            "grid_template_areas": null,
            "grid_template_columns": null,
            "grid_template_rows": null,
            "height": null,
            "justify_content": null,
            "justify_items": null,
            "left": null,
            "margin": null,
            "max_height": null,
            "max_width": null,
            "min_height": null,
            "min_width": null,
            "object_fit": null,
            "object_position": null,
            "order": null,
            "overflow": null,
            "overflow_x": null,
            "overflow_y": null,
            "padding": null,
            "right": null,
            "top": null,
            "visibility": null,
            "width": null
          }
        },
        "ca59cb6fecae489ca907ca54b8aa7657": {
          "model_module": "@jupyter-widgets/output",
          "model_name": "OutputModel",
          "model_module_version": "1.0.0",
          "state": {
            "_dom_classes": [],
            "_model_module": "@jupyter-widgets/output",
            "_model_module_version": "1.0.0",
            "_model_name": "OutputModel",
            "_view_count": null,
            "_view_module": "@jupyter-widgets/output",
            "_view_module_version": "1.0.0",
            "_view_name": "OutputView",
            "layout": "IPY_MODEL_8b70b5b935204b9588010e23a3b7b3d8",
            "msg_id": "",
            "outputs": [
              {
                "output_type": "display_data",
                "data": {
                  "text/plain": "Sampling ... \u001b[32m━━━━━━━━━━━━━━━━━━━━━━━━━━━━━━━━━━━━━━━━\u001b[0m \u001b[35m100%\u001b[0m \u001b[36m0:00:00\u001b[0m / \u001b[33m0:00:00\u001b[0m\n",
                  "text/html": "<pre style=\"white-space:pre;overflow-x:auto;line-height:normal;font-family:Menlo,'DejaVu Sans Mono',consolas,'Courier New',monospace\">Sampling ... <span style=\"color: #008000; text-decoration-color: #008000\">━━━━━━━━━━━━━━━━━━━━━━━━━━━━━━━━━━━━━━━━</span> <span style=\"color: #800080; text-decoration-color: #800080\">100%</span> <span style=\"color: #008080; text-decoration-color: #008080\">0:00:00</span> / <span style=\"color: #808000; text-decoration-color: #808000\">0:00:00</span>\n</pre>\n"
                },
                "metadata": {}
              }
            ]
          }
        },
        "8b70b5b935204b9588010e23a3b7b3d8": {
          "model_module": "@jupyter-widgets/base",
          "model_name": "LayoutModel",
          "model_module_version": "1.2.0",
          "state": {
            "_model_module": "@jupyter-widgets/base",
            "_model_module_version": "1.2.0",
            "_model_name": "LayoutModel",
            "_view_count": null,
            "_view_module": "@jupyter-widgets/base",
            "_view_module_version": "1.2.0",
            "_view_name": "LayoutView",
            "align_content": null,
            "align_items": null,
            "align_self": null,
            "border": null,
            "bottom": null,
            "display": null,
            "flex": null,
            "flex_flow": null,
            "grid_area": null,
            "grid_auto_columns": null,
            "grid_auto_flow": null,
            "grid_auto_rows": null,
            "grid_column": null,
            "grid_gap": null,
            "grid_row": null,
            "grid_template_areas": null,
            "grid_template_columns": null,
            "grid_template_rows": null,
            "height": null,
            "justify_content": null,
            "justify_items": null,
            "left": null,
            "margin": null,
            "max_height": null,
            "max_width": null,
            "min_height": null,
            "min_width": null,
            "object_fit": null,
            "object_position": null,
            "order": null,
            "overflow": null,
            "overflow_x": null,
            "overflow_y": null,
            "padding": null,
            "right": null,
            "top": null,
            "visibility": null,
            "width": null
          }
        },
        "73b5d62bc0104cee8f08f91aa2154058": {
          "model_module": "@jupyter-widgets/output",
          "model_name": "OutputModel",
          "model_module_version": "1.0.0",
          "state": {
            "_dom_classes": [],
            "_model_module": "@jupyter-widgets/output",
            "_model_module_version": "1.0.0",
            "_model_name": "OutputModel",
            "_view_count": null,
            "_view_module": "@jupyter-widgets/output",
            "_view_module_version": "1.0.0",
            "_view_name": "OutputView",
            "layout": "IPY_MODEL_cc767d4fa0184e34a374e26a6e67fb93",
            "msg_id": "",
            "outputs": [
              {
                "output_type": "display_data",
                "data": {
                  "text/plain": "Sampling chain 0, 0 divergences \u001b[32m━━━━━━━━━━━━━━━━━━━━━━━━━━━━━━━━━━━━━━━━\u001b[0m \u001b[35m100%\u001b[0m \u001b[36m0:00:00\u001b[0m / \u001b[33m0:00:35\u001b[0m\n",
                  "text/html": "<pre style=\"white-space:pre;overflow-x:auto;line-height:normal;font-family:Menlo,'DejaVu Sans Mono',consolas,'Courier New',monospace\">Sampling chain 0, 0 divergences <span style=\"color: #008000; text-decoration-color: #008000\">━━━━━━━━━━━━━━━━━━━━━━━━━━━━━━━━━━━━━━━━</span> <span style=\"color: #800080; text-decoration-color: #800080\">100%</span> <span style=\"color: #008080; text-decoration-color: #008080\">0:00:00</span> / <span style=\"color: #808000; text-decoration-color: #808000\">0:00:35</span>\n</pre>\n"
                },
                "metadata": {}
              }
            ]
          }
        },
        "cc767d4fa0184e34a374e26a6e67fb93": {
          "model_module": "@jupyter-widgets/base",
          "model_name": "LayoutModel",
          "model_module_version": "1.2.0",
          "state": {
            "_model_module": "@jupyter-widgets/base",
            "_model_module_version": "1.2.0",
            "_model_name": "LayoutModel",
            "_view_count": null,
            "_view_module": "@jupyter-widgets/base",
            "_view_module_version": "1.2.0",
            "_view_name": "LayoutView",
            "align_content": null,
            "align_items": null,
            "align_self": null,
            "border": null,
            "bottom": null,
            "display": null,
            "flex": null,
            "flex_flow": null,
            "grid_area": null,
            "grid_auto_columns": null,
            "grid_auto_flow": null,
            "grid_auto_rows": null,
            "grid_column": null,
            "grid_gap": null,
            "grid_row": null,
            "grid_template_areas": null,
            "grid_template_columns": null,
            "grid_template_rows": null,
            "height": null,
            "justify_content": null,
            "justify_items": null,
            "left": null,
            "margin": null,
            "max_height": null,
            "max_width": null,
            "min_height": null,
            "min_width": null,
            "object_fit": null,
            "object_position": null,
            "order": null,
            "overflow": null,
            "overflow_x": null,
            "overflow_y": null,
            "padding": null,
            "right": null,
            "top": null,
            "visibility": null,
            "width": null
          }
        },
        "f221df7aa00a42539520f0c6dbb5f117": {
          "model_module": "@jupyter-widgets/output",
          "model_name": "OutputModel",
          "model_module_version": "1.0.0",
          "state": {
            "_dom_classes": [],
            "_model_module": "@jupyter-widgets/output",
            "_model_module_version": "1.0.0",
            "_model_name": "OutputModel",
            "_view_count": null,
            "_view_module": "@jupyter-widgets/output",
            "_view_module_version": "1.0.0",
            "_view_name": "OutputView",
            "layout": "IPY_MODEL_08a7a6b080764086bcb7e95e993bd3d1",
            "msg_id": "",
            "outputs": [
              {
                "output_type": "display_data",
                "data": {
                  "text/plain": "Sampling chain 1, 0 divergences \u001b[32m━━━━━━━━━━━━━━━━━━━━━━━━━━━━━━━━━━━━━━━━\u001b[0m \u001b[35m100%\u001b[0m \u001b[36m0:00:00\u001b[0m / \u001b[33m0:00:37\u001b[0m\n",
                  "text/html": "<pre style=\"white-space:pre;overflow-x:auto;line-height:normal;font-family:Menlo,'DejaVu Sans Mono',consolas,'Courier New',monospace\">Sampling chain 1, 0 divergences <span style=\"color: #008000; text-decoration-color: #008000\">━━━━━━━━━━━━━━━━━━━━━━━━━━━━━━━━━━━━━━━━</span> <span style=\"color: #800080; text-decoration-color: #800080\">100%</span> <span style=\"color: #008080; text-decoration-color: #008080\">0:00:00</span> / <span style=\"color: #808000; text-decoration-color: #808000\">0:00:37</span>\n</pre>\n"
                },
                "metadata": {}
              }
            ]
          }
        },
        "08a7a6b080764086bcb7e95e993bd3d1": {
          "model_module": "@jupyter-widgets/base",
          "model_name": "LayoutModel",
          "model_module_version": "1.2.0",
          "state": {
            "_model_module": "@jupyter-widgets/base",
            "_model_module_version": "1.2.0",
            "_model_name": "LayoutModel",
            "_view_count": null,
            "_view_module": "@jupyter-widgets/base",
            "_view_module_version": "1.2.0",
            "_view_name": "LayoutView",
            "align_content": null,
            "align_items": null,
            "align_self": null,
            "border": null,
            "bottom": null,
            "display": null,
            "flex": null,
            "flex_flow": null,
            "grid_area": null,
            "grid_auto_columns": null,
            "grid_auto_flow": null,
            "grid_auto_rows": null,
            "grid_column": null,
            "grid_gap": null,
            "grid_row": null,
            "grid_template_areas": null,
            "grid_template_columns": null,
            "grid_template_rows": null,
            "height": null,
            "justify_content": null,
            "justify_items": null,
            "left": null,
            "margin": null,
            "max_height": null,
            "max_width": null,
            "min_height": null,
            "min_width": null,
            "object_fit": null,
            "object_position": null,
            "order": null,
            "overflow": null,
            "overflow_x": null,
            "overflow_y": null,
            "padding": null,
            "right": null,
            "top": null,
            "visibility": null,
            "width": null
          }
        },
        "7f605ae674ab4fd2877c02dc9025da2d": {
          "model_module": "@jupyter-widgets/output",
          "model_name": "OutputModel",
          "model_module_version": "1.0.0",
          "state": {
            "_dom_classes": [],
            "_model_module": "@jupyter-widgets/output",
            "_model_module_version": "1.0.0",
            "_model_name": "OutputModel",
            "_view_count": null,
            "_view_module": "@jupyter-widgets/output",
            "_view_module_version": "1.0.0",
            "_view_name": "OutputView",
            "layout": "IPY_MODEL_6584b9d5335a44778222117ee6ce476a",
            "msg_id": "",
            "outputs": [
              {
                "output_type": "display_data",
                "data": {
                  "text/plain": "Computing ... \u001b[32m━━━━━━━━━━━━━━━━━━━━━━━━━━━━━━━━━━━━━━━━\u001b[0m \u001b[35m100%\u001b[0m \u001b[36m0:00:00\u001b[0m\n",
                  "text/html": "<pre style=\"white-space:pre;overflow-x:auto;line-height:normal;font-family:Menlo,'DejaVu Sans Mono',consolas,'Courier New',monospace\">Computing ... <span style=\"color: #008000; text-decoration-color: #008000\">━━━━━━━━━━━━━━━━━━━━━━━━━━━━━━━━━━━━━━━━</span> <span style=\"color: #800080; text-decoration-color: #800080\">100%</span> <span style=\"color: #008080; text-decoration-color: #008080\">0:00:00</span>\n</pre>\n"
                },
                "metadata": {}
              }
            ]
          }
        },
        "6584b9d5335a44778222117ee6ce476a": {
          "model_module": "@jupyter-widgets/base",
          "model_name": "LayoutModel",
          "model_module_version": "1.2.0",
          "state": {
            "_model_module": "@jupyter-widgets/base",
            "_model_module_version": "1.2.0",
            "_model_name": "LayoutModel",
            "_view_count": null,
            "_view_module": "@jupyter-widgets/base",
            "_view_module_version": "1.2.0",
            "_view_name": "LayoutView",
            "align_content": null,
            "align_items": null,
            "align_self": null,
            "border": null,
            "bottom": null,
            "display": null,
            "flex": null,
            "flex_flow": null,
            "grid_area": null,
            "grid_auto_columns": null,
            "grid_auto_flow": null,
            "grid_auto_rows": null,
            "grid_column": null,
            "grid_gap": null,
            "grid_row": null,
            "grid_template_areas": null,
            "grid_template_columns": null,
            "grid_template_rows": null,
            "height": null,
            "justify_content": null,
            "justify_items": null,
            "left": null,
            "margin": null,
            "max_height": null,
            "max_width": null,
            "min_height": null,
            "min_width": null,
            "object_fit": null,
            "object_position": null,
            "order": null,
            "overflow": null,
            "overflow_x": null,
            "overflow_y": null,
            "padding": null,
            "right": null,
            "top": null,
            "visibility": null,
            "width": null
          }
        },
        "562fb012145643ecb2fad60e12cc98f1": {
          "model_module": "@jupyter-widgets/output",
          "model_name": "OutputModel",
          "model_module_version": "1.0.0",
          "state": {
            "_dom_classes": [],
            "_model_module": "@jupyter-widgets/output",
            "_model_module_version": "1.0.0",
            "_model_name": "OutputModel",
            "_view_count": null,
            "_view_module": "@jupyter-widgets/output",
            "_view_module_version": "1.0.0",
            "_view_name": "OutputView",
            "layout": "IPY_MODEL_e3148db4507d488ebbe0f960a9db3424",
            "msg_id": "",
            "outputs": [
              {
                "output_type": "display_data",
                "data": {
                  "text/plain": "Sampling ... \u001b[32m━━━━━━━━━━━━━━━━━━━━━━━━━━━━━━━━━━━━━━━━\u001b[0m \u001b[35m100%\u001b[0m \u001b[36m0:00:00\u001b[0m / \u001b[33m0:00:01\u001b[0m\n",
                  "text/html": "<pre style=\"white-space:pre;overflow-x:auto;line-height:normal;font-family:Menlo,'DejaVu Sans Mono',consolas,'Courier New',monospace\">Sampling ... <span style=\"color: #008000; text-decoration-color: #008000\">━━━━━━━━━━━━━━━━━━━━━━━━━━━━━━━━━━━━━━━━</span> <span style=\"color: #800080; text-decoration-color: #800080\">100%</span> <span style=\"color: #008080; text-decoration-color: #008080\">0:00:00</span> / <span style=\"color: #808000; text-decoration-color: #808000\">0:00:01</span>\n</pre>\n"
                },
                "metadata": {}
              }
            ]
          }
        },
        "e3148db4507d488ebbe0f960a9db3424": {
          "model_module": "@jupyter-widgets/base",
          "model_name": "LayoutModel",
          "model_module_version": "1.2.0",
          "state": {
            "_model_module": "@jupyter-widgets/base",
            "_model_module_version": "1.2.0",
            "_model_name": "LayoutModel",
            "_view_count": null,
            "_view_module": "@jupyter-widgets/base",
            "_view_module_version": "1.2.0",
            "_view_name": "LayoutView",
            "align_content": null,
            "align_items": null,
            "align_self": null,
            "border": null,
            "bottom": null,
            "display": null,
            "flex": null,
            "flex_flow": null,
            "grid_area": null,
            "grid_auto_columns": null,
            "grid_auto_flow": null,
            "grid_auto_rows": null,
            "grid_column": null,
            "grid_gap": null,
            "grid_row": null,
            "grid_template_areas": null,
            "grid_template_columns": null,
            "grid_template_rows": null,
            "height": null,
            "justify_content": null,
            "justify_items": null,
            "left": null,
            "margin": null,
            "max_height": null,
            "max_width": null,
            "min_height": null,
            "min_width": null,
            "object_fit": null,
            "object_position": null,
            "order": null,
            "overflow": null,
            "overflow_x": null,
            "overflow_y": null,
            "padding": null,
            "right": null,
            "top": null,
            "visibility": null,
            "width": null
          }
        },
        "6546ef0b26d24292b3c4bfc13d34c674": {
          "model_module": "@jupyter-widgets/output",
          "model_name": "OutputModel",
          "model_module_version": "1.0.0",
          "state": {
            "_dom_classes": [],
            "_model_module": "@jupyter-widgets/output",
            "_model_module_version": "1.0.0",
            "_model_name": "OutputModel",
            "_view_count": null,
            "_view_module": "@jupyter-widgets/output",
            "_view_module_version": "1.0.0",
            "_view_name": "OutputView",
            "layout": "IPY_MODEL_4069ccbfa6154accabc51cb5b3565789",
            "msg_id": "",
            "outputs": [
              {
                "output_type": "display_data",
                "data": {
                  "text/plain": "Sampling chain 0, 0 divergences \u001b[32m━━━━━━━━━━━━━━━━━━━━━━━━━━━━━━━━━━━━━━━━\u001b[0m \u001b[35m100%\u001b[0m \u001b[36m0:00:00\u001b[0m / \u001b[33m0:00:39\u001b[0m\n",
                  "text/html": "<pre style=\"white-space:pre;overflow-x:auto;line-height:normal;font-family:Menlo,'DejaVu Sans Mono',consolas,'Courier New',monospace\">Sampling chain 0, 0 divergences <span style=\"color: #008000; text-decoration-color: #008000\">━━━━━━━━━━━━━━━━━━━━━━━━━━━━━━━━━━━━━━━━</span> <span style=\"color: #800080; text-decoration-color: #800080\">100%</span> <span style=\"color: #008080; text-decoration-color: #008080\">0:00:00</span> / <span style=\"color: #808000; text-decoration-color: #808000\">0:00:39</span>\n</pre>\n"
                },
                "metadata": {}
              }
            ]
          }
        },
        "4069ccbfa6154accabc51cb5b3565789": {
          "model_module": "@jupyter-widgets/base",
          "model_name": "LayoutModel",
          "model_module_version": "1.2.0",
          "state": {
            "_model_module": "@jupyter-widgets/base",
            "_model_module_version": "1.2.0",
            "_model_name": "LayoutModel",
            "_view_count": null,
            "_view_module": "@jupyter-widgets/base",
            "_view_module_version": "1.2.0",
            "_view_name": "LayoutView",
            "align_content": null,
            "align_items": null,
            "align_self": null,
            "border": null,
            "bottom": null,
            "display": null,
            "flex": null,
            "flex_flow": null,
            "grid_area": null,
            "grid_auto_columns": null,
            "grid_auto_flow": null,
            "grid_auto_rows": null,
            "grid_column": null,
            "grid_gap": null,
            "grid_row": null,
            "grid_template_areas": null,
            "grid_template_columns": null,
            "grid_template_rows": null,
            "height": null,
            "justify_content": null,
            "justify_items": null,
            "left": null,
            "margin": null,
            "max_height": null,
            "max_width": null,
            "min_height": null,
            "min_width": null,
            "object_fit": null,
            "object_position": null,
            "order": null,
            "overflow": null,
            "overflow_x": null,
            "overflow_y": null,
            "padding": null,
            "right": null,
            "top": null,
            "visibility": null,
            "width": null
          }
        },
        "f93bc4a8be464ecf930d0f3cc38a1243": {
          "model_module": "@jupyter-widgets/output",
          "model_name": "OutputModel",
          "model_module_version": "1.0.0",
          "state": {
            "_dom_classes": [],
            "_model_module": "@jupyter-widgets/output",
            "_model_module_version": "1.0.0",
            "_model_name": "OutputModel",
            "_view_count": null,
            "_view_module": "@jupyter-widgets/output",
            "_view_module_version": "1.0.0",
            "_view_name": "OutputView",
            "layout": "IPY_MODEL_4f81a937c98a42b4ab172e89cab38621",
            "msg_id": "",
            "outputs": [
              {
                "output_type": "display_data",
                "data": {
                  "text/plain": "Sampling chain 1, 0 divergences \u001b[32m━━━━━━━━━━━━━━━━━━━━━━━━━━━━━━━━━━━━━━━━\u001b[0m \u001b[35m100%\u001b[0m \u001b[36m0:00:00\u001b[0m / \u001b[33m0:00:41\u001b[0m\n",
                  "text/html": "<pre style=\"white-space:pre;overflow-x:auto;line-height:normal;font-family:Menlo,'DejaVu Sans Mono',consolas,'Courier New',monospace\">Sampling chain 1, 0 divergences <span style=\"color: #008000; text-decoration-color: #008000\">━━━━━━━━━━━━━━━━━━━━━━━━━━━━━━━━━━━━━━━━</span> <span style=\"color: #800080; text-decoration-color: #800080\">100%</span> <span style=\"color: #008080; text-decoration-color: #008080\">0:00:00</span> / <span style=\"color: #808000; text-decoration-color: #808000\">0:00:41</span>\n</pre>\n"
                },
                "metadata": {}
              }
            ]
          }
        },
        "4f81a937c98a42b4ab172e89cab38621": {
          "model_module": "@jupyter-widgets/base",
          "model_name": "LayoutModel",
          "model_module_version": "1.2.0",
          "state": {
            "_model_module": "@jupyter-widgets/base",
            "_model_module_version": "1.2.0",
            "_model_name": "LayoutModel",
            "_view_count": null,
            "_view_module": "@jupyter-widgets/base",
            "_view_module_version": "1.2.0",
            "_view_name": "LayoutView",
            "align_content": null,
            "align_items": null,
            "align_self": null,
            "border": null,
            "bottom": null,
            "display": null,
            "flex": null,
            "flex_flow": null,
            "grid_area": null,
            "grid_auto_columns": null,
            "grid_auto_flow": null,
            "grid_auto_rows": null,
            "grid_column": null,
            "grid_gap": null,
            "grid_row": null,
            "grid_template_areas": null,
            "grid_template_columns": null,
            "grid_template_rows": null,
            "height": null,
            "justify_content": null,
            "justify_items": null,
            "left": null,
            "margin": null,
            "max_height": null,
            "max_width": null,
            "min_height": null,
            "min_width": null,
            "object_fit": null,
            "object_position": null,
            "order": null,
            "overflow": null,
            "overflow_x": null,
            "overflow_y": null,
            "padding": null,
            "right": null,
            "top": null,
            "visibility": null,
            "width": null
          }
        },
        "598c53aa7d8e4e80bc2b109b661d188c": {
          "model_module": "@jupyter-widgets/output",
          "model_name": "OutputModel",
          "model_module_version": "1.0.0",
          "state": {
            "_dom_classes": [],
            "_model_module": "@jupyter-widgets/output",
            "_model_module_version": "1.0.0",
            "_model_name": "OutputModel",
            "_view_count": null,
            "_view_module": "@jupyter-widgets/output",
            "_view_module_version": "1.0.0",
            "_view_name": "OutputView",
            "layout": "IPY_MODEL_cf4a9c436ca748c880a0c615401fb745",
            "msg_id": "",
            "outputs": [
              {
                "output_type": "display_data",
                "data": {
                  "text/plain": "Sampling ... \u001b[32m━━━━━━━━━━━━━━━━━━━━━━━━━━━━━━━━━━━━━━━━\u001b[0m \u001b[35m100%\u001b[0m \u001b[36m0:00:00\u001b[0m / \u001b[33m0:00:02\u001b[0m\n",
                  "text/html": "<pre style=\"white-space:pre;overflow-x:auto;line-height:normal;font-family:Menlo,'DejaVu Sans Mono',consolas,'Courier New',monospace\">Sampling ... <span style=\"color: #008000; text-decoration-color: #008000\">━━━━━━━━━━━━━━━━━━━━━━━━━━━━━━━━━━━━━━━━</span> <span style=\"color: #800080; text-decoration-color: #800080\">100%</span> <span style=\"color: #008080; text-decoration-color: #008080\">0:00:00</span> / <span style=\"color: #808000; text-decoration-color: #808000\">0:00:02</span>\n</pre>\n"
                },
                "metadata": {}
              }
            ]
          }
        },
        "cf4a9c436ca748c880a0c615401fb745": {
          "model_module": "@jupyter-widgets/base",
          "model_name": "LayoutModel",
          "model_module_version": "1.2.0",
          "state": {
            "_model_module": "@jupyter-widgets/base",
            "_model_module_version": "1.2.0",
            "_model_name": "LayoutModel",
            "_view_count": null,
            "_view_module": "@jupyter-widgets/base",
            "_view_module_version": "1.2.0",
            "_view_name": "LayoutView",
            "align_content": null,
            "align_items": null,
            "align_self": null,
            "border": null,
            "bottom": null,
            "display": null,
            "flex": null,
            "flex_flow": null,
            "grid_area": null,
            "grid_auto_columns": null,
            "grid_auto_flow": null,
            "grid_auto_rows": null,
            "grid_column": null,
            "grid_gap": null,
            "grid_row": null,
            "grid_template_areas": null,
            "grid_template_columns": null,
            "grid_template_rows": null,
            "height": null,
            "justify_content": null,
            "justify_items": null,
            "left": null,
            "margin": null,
            "max_height": null,
            "max_width": null,
            "min_height": null,
            "min_width": null,
            "object_fit": null,
            "object_position": null,
            "order": null,
            "overflow": null,
            "overflow_x": null,
            "overflow_y": null,
            "padding": null,
            "right": null,
            "top": null,
            "visibility": null,
            "width": null
          }
        },
        "92f8dbbfe5f44c6cb2f07db7f776793d": {
          "model_module": "@jupyter-widgets/output",
          "model_name": "OutputModel",
          "model_module_version": "1.0.0",
          "state": {
            "_dom_classes": [],
            "_model_module": "@jupyter-widgets/output",
            "_model_module_version": "1.0.0",
            "_model_name": "OutputModel",
            "_view_count": null,
            "_view_module": "@jupyter-widgets/output",
            "_view_module_version": "1.0.0",
            "_view_name": "OutputView",
            "layout": "IPY_MODEL_eb29c423fc0f4b15a9bd3e3ff6be58cd",
            "msg_id": "",
            "outputs": [
              {
                "output_type": "display_data",
                "data": {
                  "text/plain": "Computing ... \u001b[32m━━━━━━━━━━━━━━━━━━━━━━━━━━━━━━━━━━━━━━━━\u001b[0m \u001b[35m100%\u001b[0m \u001b[36m0:00:00\u001b[0m\n",
                  "text/html": "<pre style=\"white-space:pre;overflow-x:auto;line-height:normal;font-family:Menlo,'DejaVu Sans Mono',consolas,'Courier New',monospace\">Computing ... <span style=\"color: #008000; text-decoration-color: #008000\">━━━━━━━━━━━━━━━━━━━━━━━━━━━━━━━━━━━━━━━━</span> <span style=\"color: #800080; text-decoration-color: #800080\">100%</span> <span style=\"color: #008080; text-decoration-color: #008080\">0:00:00</span>\n</pre>\n"
                },
                "metadata": {}
              }
            ]
          }
        },
        "eb29c423fc0f4b15a9bd3e3ff6be58cd": {
          "model_module": "@jupyter-widgets/base",
          "model_name": "LayoutModel",
          "model_module_version": "1.2.0",
          "state": {
            "_model_module": "@jupyter-widgets/base",
            "_model_module_version": "1.2.0",
            "_model_name": "LayoutModel",
            "_view_count": null,
            "_view_module": "@jupyter-widgets/base",
            "_view_module_version": "1.2.0",
            "_view_name": "LayoutView",
            "align_content": null,
            "align_items": null,
            "align_self": null,
            "border": null,
            "bottom": null,
            "display": null,
            "flex": null,
            "flex_flow": null,
            "grid_area": null,
            "grid_auto_columns": null,
            "grid_auto_flow": null,
            "grid_auto_rows": null,
            "grid_column": null,
            "grid_gap": null,
            "grid_row": null,
            "grid_template_areas": null,
            "grid_template_columns": null,
            "grid_template_rows": null,
            "height": null,
            "justify_content": null,
            "justify_items": null,
            "left": null,
            "margin": null,
            "max_height": null,
            "max_width": null,
            "min_height": null,
            "min_width": null,
            "object_fit": null,
            "object_position": null,
            "order": null,
            "overflow": null,
            "overflow_x": null,
            "overflow_y": null,
            "padding": null,
            "right": null,
            "top": null,
            "visibility": null,
            "width": null
          }
        },
        "7a0ceea08c4a4636923f6498c05778dc": {
          "model_module": "@jupyter-widgets/output",
          "model_name": "OutputModel",
          "model_module_version": "1.0.0",
          "state": {
            "_dom_classes": [],
            "_model_module": "@jupyter-widgets/output",
            "_model_module_version": "1.0.0",
            "_model_name": "OutputModel",
            "_view_count": null,
            "_view_module": "@jupyter-widgets/output",
            "_view_module_version": "1.0.0",
            "_view_name": "OutputView",
            "layout": "IPY_MODEL_3dd28f7614e84069ab9aad99e038a04d",
            "msg_id": "",
            "outputs": [
              {
                "output_type": "display_data",
                "data": {
                  "text/plain": "Computing ... \u001b[32m━━━━━━━━━━━━━━━━━━━━━━━━━━━━━━━━━━━━━━━━\u001b[0m \u001b[35m100%\u001b[0m \u001b[36m0:00:00\u001b[0m\n",
                  "text/html": "<pre style=\"white-space:pre;overflow-x:auto;line-height:normal;font-family:Menlo,'DejaVu Sans Mono',consolas,'Courier New',monospace\">Computing ... <span style=\"color: #008000; text-decoration-color: #008000\">━━━━━━━━━━━━━━━━━━━━━━━━━━━━━━━━━━━━━━━━</span> <span style=\"color: #800080; text-decoration-color: #800080\">100%</span> <span style=\"color: #008080; text-decoration-color: #008080\">0:00:00</span>\n</pre>\n"
                },
                "metadata": {}
              }
            ]
          }
        },
        "3dd28f7614e84069ab9aad99e038a04d": {
          "model_module": "@jupyter-widgets/base",
          "model_name": "LayoutModel",
          "model_module_version": "1.2.0",
          "state": {
            "_model_module": "@jupyter-widgets/base",
            "_model_module_version": "1.2.0",
            "_model_name": "LayoutModel",
            "_view_count": null,
            "_view_module": "@jupyter-widgets/base",
            "_view_module_version": "1.2.0",
            "_view_name": "LayoutView",
            "align_content": null,
            "align_items": null,
            "align_self": null,
            "border": null,
            "bottom": null,
            "display": null,
            "flex": null,
            "flex_flow": null,
            "grid_area": null,
            "grid_auto_columns": null,
            "grid_auto_flow": null,
            "grid_auto_rows": null,
            "grid_column": null,
            "grid_gap": null,
            "grid_row": null,
            "grid_template_areas": null,
            "grid_template_columns": null,
            "grid_template_rows": null,
            "height": null,
            "justify_content": null,
            "justify_items": null,
            "left": null,
            "margin": null,
            "max_height": null,
            "max_width": null,
            "min_height": null,
            "min_width": null,
            "object_fit": null,
            "object_position": null,
            "order": null,
            "overflow": null,
            "overflow_x": null,
            "overflow_y": null,
            "padding": null,
            "right": null,
            "top": null,
            "visibility": null,
            "width": null
          }
        },
        "b493d66556314067a71c542fbe4ad918": {
          "model_module": "@jupyter-widgets/output",
          "model_name": "OutputModel",
          "model_module_version": "1.0.0",
          "state": {
            "_dom_classes": [],
            "_model_module": "@jupyter-widgets/output",
            "_model_module_version": "1.0.0",
            "_model_name": "OutputModel",
            "_view_count": null,
            "_view_module": "@jupyter-widgets/output",
            "_view_module_version": "1.0.0",
            "_view_name": "OutputView",
            "layout": "IPY_MODEL_52ca5d3ca52f4d0e9ad70768aea63a9b",
            "msg_id": "",
            "outputs": [
              {
                "output_type": "display_data",
                "data": {
                  "text/plain": "Computing ... \u001b[32m━━━━━━━━━━━━━━━━━━━━━━━━━━━━━━━━━━━━━━━━\u001b[0m \u001b[35m100%\u001b[0m \u001b[36m0:00:00\u001b[0m\n",
                  "text/html": "<pre style=\"white-space:pre;overflow-x:auto;line-height:normal;font-family:Menlo,'DejaVu Sans Mono',consolas,'Courier New',monospace\">Computing ... <span style=\"color: #008000; text-decoration-color: #008000\">━━━━━━━━━━━━━━━━━━━━━━━━━━━━━━━━━━━━━━━━</span> <span style=\"color: #800080; text-decoration-color: #800080\">100%</span> <span style=\"color: #008080; text-decoration-color: #008080\">0:00:00</span>\n</pre>\n"
                },
                "metadata": {}
              }
            ]
          }
        },
        "52ca5d3ca52f4d0e9ad70768aea63a9b": {
          "model_module": "@jupyter-widgets/base",
          "model_name": "LayoutModel",
          "model_module_version": "1.2.0",
          "state": {
            "_model_module": "@jupyter-widgets/base",
            "_model_module_version": "1.2.0",
            "_model_name": "LayoutModel",
            "_view_count": null,
            "_view_module": "@jupyter-widgets/base",
            "_view_module_version": "1.2.0",
            "_view_name": "LayoutView",
            "align_content": null,
            "align_items": null,
            "align_self": null,
            "border": null,
            "bottom": null,
            "display": null,
            "flex": null,
            "flex_flow": null,
            "grid_area": null,
            "grid_auto_columns": null,
            "grid_auto_flow": null,
            "grid_auto_rows": null,
            "grid_column": null,
            "grid_gap": null,
            "grid_row": null,
            "grid_template_areas": null,
            "grid_template_columns": null,
            "grid_template_rows": null,
            "height": null,
            "justify_content": null,
            "justify_items": null,
            "left": null,
            "margin": null,
            "max_height": null,
            "max_width": null,
            "min_height": null,
            "min_width": null,
            "object_fit": null,
            "object_position": null,
            "order": null,
            "overflow": null,
            "overflow_x": null,
            "overflow_y": null,
            "padding": null,
            "right": null,
            "top": null,
            "visibility": null,
            "width": null
          }
        }
      }
    }
  },
  "cells": [
    {
      "cell_type": "markdown",
      "metadata": {
        "id": "view-in-github",
        "colab_type": "text"
      },
      "source": [
        "<a href=\"https://colab.research.google.com/github/AnabelleSouza/CRUD_PDO-CONTEINER/blob/main/wine_%7C_Exercicio_2_ID%3D186.ipynb\" target=\"_parent\"><img src=\"https://colab.research.google.com/assets/colab-badge.svg\" alt=\"Open In Colab\"/></a>"
      ]
    },
    {
      "cell_type": "markdown",
      "source": [
        "#Exercício 2\n"
      ],
      "metadata": {
        "id": "SAIUbsY4y91S"
      }
    },
    {
      "cell_type": "code",
      "source": [
        "pip install ucimlrepo"
      ],
      "metadata": {
        "id": "NKWFsAtOzECZ",
        "colab": {
          "base_uri": "https://localhost:8080/"
        },
        "outputId": "06be981e-88cf-483b-a03c-d7e8f4720dec"
      },
      "execution_count": 2,
      "outputs": [
        {
          "output_type": "stream",
          "name": "stdout",
          "text": [
            "Requirement already satisfied: ucimlrepo in /usr/local/lib/python3.10/dist-packages (0.0.7)\n",
            "Requirement already satisfied: pandas>=1.0.0 in /usr/local/lib/python3.10/dist-packages (from ucimlrepo) (2.1.4)\n",
            "Requirement already satisfied: certifi>=2020.12.5 in /usr/local/lib/python3.10/dist-packages (from ucimlrepo) (2024.8.30)\n",
            "Requirement already satisfied: numpy<2,>=1.22.4 in /usr/local/lib/python3.10/dist-packages (from pandas>=1.0.0->ucimlrepo) (1.26.4)\n",
            "Requirement already satisfied: python-dateutil>=2.8.2 in /usr/local/lib/python3.10/dist-packages (from pandas>=1.0.0->ucimlrepo) (2.8.2)\n",
            "Requirement already satisfied: pytz>=2020.1 in /usr/local/lib/python3.10/dist-packages (from pandas>=1.0.0->ucimlrepo) (2024.2)\n",
            "Requirement already satisfied: tzdata>=2022.1 in /usr/local/lib/python3.10/dist-packages (from pandas>=1.0.0->ucimlrepo) (2024.1)\n",
            "Requirement already satisfied: six>=1.5 in /usr/local/lib/python3.10/dist-packages (from python-dateutil>=2.8.2->pandas>=1.0.0->ucimlrepo) (1.16.0)\n"
          ]
        }
      ]
    },
    {
      "cell_type": "code",
      "source": [
        "from ucimlrepo import fetch_ucirepo\n",
        "\n",
        "# fetch dataset\n",
        "wine_quality = fetch_ucirepo(id=186)\n",
        "\n",
        "# data (as pandas dataframes)\n",
        "X = wine_quality.data.features\n",
        "y = wine_quality.data.targets\n",
        "\n",
        "# metadata\n",
        "print(wine_quality.metadata)\n",
        "\n",
        "# variable information\n",
        "print(wine_quality.variables)\n"
      ],
      "metadata": {
        "colab": {
          "base_uri": "https://localhost:8080/"
        },
        "id": "OI44Pcp31_dL",
        "outputId": "dc3aee34-d3d0-4251-ac90-539d5f4ac4ca"
      },
      "execution_count": 3,
      "outputs": [
        {
          "output_type": "stream",
          "name": "stdout",
          "text": [
            "{'uci_id': 186, 'name': 'Wine Quality', 'repository_url': 'https://archive.ics.uci.edu/dataset/186/wine+quality', 'data_url': 'https://archive.ics.uci.edu/static/public/186/data.csv', 'abstract': 'Two datasets are included, related to red and white vinho verde wine samples, from the north of Portugal. The goal is to model wine quality based on physicochemical tests (see [Cortez et al., 2009], http://www3.dsi.uminho.pt/pcortez/wine/).', 'area': 'Business', 'tasks': ['Classification', 'Regression'], 'characteristics': ['Multivariate'], 'num_instances': 4898, 'num_features': 11, 'feature_types': ['Real'], 'demographics': [], 'target_col': ['quality'], 'index_col': None, 'has_missing_values': 'no', 'missing_values_symbol': None, 'year_of_dataset_creation': 2009, 'last_updated': 'Wed Nov 15 2023', 'dataset_doi': '10.24432/C56S3T', 'creators': ['Paulo Cortez', 'A. Cerdeira', 'F. Almeida', 'T. Matos', 'J. Reis'], 'intro_paper': {'ID': 252, 'type': 'NATIVE', 'title': 'Modeling wine preferences by data mining from physicochemical properties', 'authors': 'P. Cortez, A. Cerdeira, Fernando Almeida, Telmo Matos, J. Reis', 'venue': 'Decision Support Systems', 'year': 2009, 'journal': None, 'DOI': None, 'URL': 'https://www.semanticscholar.org/paper/Modeling-wine-preferences-by-data-mining-from-Cortez-Cerdeira/bf15a0ccc14ac1deb5cea570c870389c16be019c', 'sha': None, 'corpus': None, 'arxiv': None, 'mag': None, 'acl': None, 'pmid': None, 'pmcid': None}, 'additional_info': {'summary': 'The two datasets are related to red and white variants of the Portuguese \"Vinho Verde\" wine. For more details, consult: http://www.vinhoverde.pt/en/ or the reference [Cortez et al., 2009].  Due to privacy and logistic issues, only physicochemical (inputs) and sensory (the output) variables are available (e.g. there is no data about grape types, wine brand, wine selling price, etc.).\\n\\nThese datasets can be viewed as classification or regression tasks.  The classes are ordered and not balanced (e.g. there are many more normal wines than excellent or poor ones). Outlier detection algorithms could be used to detect the few excellent or poor wines. Also, we are not sure if all input variables are relevant. So it could be interesting to test feature selection methods.\\n', 'purpose': None, 'funded_by': None, 'instances_represent': None, 'recommended_data_splits': None, 'sensitive_data': None, 'preprocessing_description': None, 'variable_info': 'For more information, read [Cortez et al., 2009].\\r\\nInput variables (based on physicochemical tests):\\r\\n   1 - fixed acidity\\r\\n   2 - volatile acidity\\r\\n   3 - citric acid\\r\\n   4 - residual sugar\\r\\n   5 - chlorides\\r\\n   6 - free sulfur dioxide\\r\\n   7 - total sulfur dioxide\\r\\n   8 - density\\r\\n   9 - pH\\r\\n   10 - sulphates\\r\\n   11 - alcohol\\r\\nOutput variable (based on sensory data): \\r\\n   12 - quality (score between 0 and 10)', 'citation': None}}\n",
            "                    name     role         type demographic  \\\n",
            "0          fixed_acidity  Feature   Continuous        None   \n",
            "1       volatile_acidity  Feature   Continuous        None   \n",
            "2            citric_acid  Feature   Continuous        None   \n",
            "3         residual_sugar  Feature   Continuous        None   \n",
            "4              chlorides  Feature   Continuous        None   \n",
            "5    free_sulfur_dioxide  Feature   Continuous        None   \n",
            "6   total_sulfur_dioxide  Feature   Continuous        None   \n",
            "7                density  Feature   Continuous        None   \n",
            "8                     pH  Feature   Continuous        None   \n",
            "9              sulphates  Feature   Continuous        None   \n",
            "10               alcohol  Feature   Continuous        None   \n",
            "11               quality   Target      Integer        None   \n",
            "12                 color    Other  Categorical        None   \n",
            "\n",
            "               description units missing_values  \n",
            "0                     None  None             no  \n",
            "1                     None  None             no  \n",
            "2                     None  None             no  \n",
            "3                     None  None             no  \n",
            "4                     None  None             no  \n",
            "5                     None  None             no  \n",
            "6                     None  None             no  \n",
            "7                     None  None             no  \n",
            "8                     None  None             no  \n",
            "9                     None  None             no  \n",
            "10                    None  None             no  \n",
            "11  score between 0 and 10  None             no  \n",
            "12            red or white  None             no  \n"
          ]
        }
      ]
    },
    {
      "cell_type": "code",
      "source": [
        "import pandas as pd\n",
        "from sklearn.linear_model import Ridge, Lasso\n",
        "from sklearn.model_selection import train_test_split\n",
        "from sklearn.preprocessing import StandardScaler\n",
        "import pymc as pm\n",
        "import numpy as np\n",
        "import arviz as az"
      ],
      "metadata": {
        "id": "hkK0eZfN2CsG"
      },
      "execution_count": 4,
      "outputs": []
    },
    {
      "cell_type": "code",
      "source": [
        "# Padronizar os dados\n",
        "scaler = StandardScaler()\n",
        "X_scaled = scaler.fit_transform(X)\n",
        "\n",
        "# Separar dados em treino e teste\n",
        "X_train, X_test, y_train, y_test = train_test_split(X_scaled, y, test_size=0.3, random_state=42)\n"
      ],
      "metadata": {
        "id": "DFm9BHsY23c4"
      },
      "execution_count": 5,
      "outputs": []
    },
    {
      "cell_type": "code",
      "source": [
        "import matplotlib.pyplot as plt\n",
        "import seaborn as sns\n",
        "import numpy as np\n",
        "import arviz as az\n",
        "\n",
        "\n",
        "def analise_priori(trace, y):\n",
        "    fig, axes = plt.subplots(3, 2, figsize=(10, 10), gridspec_kw={'hspace': 0.4, 'wspace': 0.3})\n",
        "\n",
        "    # Acessar os valores dos betas a partir do grupo 'prior'\n",
        "    betas_values = trace.prior['betas'].values.flatten()  # Acessa os betas do grupo 'prior' e achata\n",
        "    sns.histplot(betas_values, bins=20, kde=True, ax=axes[0][0])\n",
        "    axes[0][0].set_xlabel(\"Betas\")\n",
        "    axes[0][0].set_ylabel(\"Contagem\")\n",
        "\n",
        "    # Histograma para as previsões da variável dependente (priors)\n",
        "    y_obs_values = trace.prior_predictive['Y_obs'].values.flatten()  # Acessa as previsões a priori de Y_obs\n",
        "    sns.histplot(y_obs_values, bins=20, kde=True, ax=axes[0][1])\n",
        "    axes[0][1].set_xlabel(\"Previsões a Priori (Y_obs)\")\n",
        "    axes[0][1].set_ylabel(\"Contagem\")\n",
        "\n",
        "    # Previsões a priori\n",
        "    prior_samples = trace.prior_predictive['Y_obs'].values  # Acessa os valores de Y_obs a partir da distribuição preditiva\n",
        "    prior_samples_reshaped = prior_samples.reshape(len(y), -1)\n",
        "\n",
        "    # Cálculo da média e desvio padrão das previsões a priori\n",
        "    mean_pred = np.mean(prior_samples_reshaped, axis=1)\n",
        "    std_pred = np.std(prior_samples_reshaped, axis=1)\n",
        "\n",
        "    # Plotar as previsões médias a priori\n",
        "    sns.lineplot(x=range(len(y)), y=mean_pred, ax=axes[1][0])\n",
        "    axes[1][0].fill_between(range(len(y)), mean_pred - std_pred, mean_pred + std_pred, alpha=0.2)\n",
        "\n",
        "    axes[1][0].set_title(\"Previsões a Priori\")\n",
        "    axes[1][0].set_xlabel(\"Observado\")\n",
        "    axes[1][0].set_ylabel(\"Previsões\")\n",
        "    axes[1][0].legend(['Previsões Médias'])\n",
        "\n",
        "    # Gráficos cumulativos da priori usando Arviz\n",
        "    az.plot_ppc(trace, group='prior', kind='cumulative', ax=axes[2][0], observed=True)\n",
        "    az.plot_ppc(trace, group='prior', ax=axes[2][1], observed=True)\n",
        "\n",
        "    plt.tight_layout()\n",
        "    return fig, axes"
      ],
      "metadata": {
        "id": "27DCx4AA24Ww"
      },
      "execution_count": 6,
      "outputs": []
    },
    {
      "cell_type": "markdown",
      "source": [
        "RIDGE"
      ],
      "metadata": {
        "id": "-6yXB1-E7Mjx"
      }
    },
    {
      "cell_type": "code",
      "source": [
        "import pymc as pm\n",
        "import arviz as az\n",
        "import pytensor.tensor as pt\n",
        "import numpy as np\n",
        "from sklearn.preprocessing import StandardScaler\n",
        "from sklearn.model_selection import train_test_split\n",
        "\n",
        "# Certificar que y tenha a forma correta\n",
        "y = y.to_numpy().reshape(-1)\n",
        "\n",
        "# Definir as coordenadas do modelo (quantidade de features)\n",
        "coords = {'features': np.arange(X_scaled.shape[1])}\n",
        "\n",
        "# Criar o modelo Ridge Bayesiano\n",
        "with pm.Model(coords=coords) as model_ridge:\n",
        "    # Priori para o intercepto (alpha)\n",
        "    alpha = pm.Normal('alpha', mu=0, sigma=10)\n",
        "\n",
        "    # Priori para os coeficientes de regressão (betas)\n",
        "    betas = pm.Normal('betas', mu=0, sigma=10, dims='features')\n",
        "\n",
        "    # Priori para o desvio padrão do erro (epsilon)\n",
        "    epsilon = pm.Gamma('epsilon', alpha=2, beta=1)  # Gamma prior para epsilon\n",
        "\n",
        "    # Definir a equação do modelo linear\n",
        "    mu = alpha + pt.dot(X_scaled, betas)  # Substituir tt.dot por pt.dot\n",
        "\n",
        "    # Definir a verossimilhança (Normal)\n",
        "    likelihood = pm.Normal('Y_obs', mu=mu, sigma=epsilon, observed=y)\n",
        "\n",
        "    # Amostrar da distribuição a priori (para análise a priori)\n",
        "    ridge_trace_prior = pm.sample_prior_predictive()\n",
        "\n",
        "    # Amostrar da distribuição posterior (para ajuste do modelo)\n",
        "    trace_ridge = pm.sample(1000, tune=1000, target_accept=0.95)\n",
        "\n",
        "# Exibir o resumo dos parâmetros ajustados\n",
        "\n",
        "az.summary(trace_ridge)"
      ],
      "metadata": {
        "colab": {
          "base_uri": "https://localhost:8080/",
          "height": 492,
          "referenced_widgets": [
            "f49caaf870114175a5362fccc0acc67d",
            "949efe49b0d8477eb47dee3cd7273903",
            "ab367769bb234036b5834fc0881ffee9",
            "37bde69046174c4ebb11f722a721d7d4"
          ]
        },
        "id": "SZB1MjhZ3Dwt",
        "outputId": "4fdbd81e-dd8c-4e22-c40f-da6dace48a60"
      },
      "execution_count": 7,
      "outputs": [
        {
          "output_type": "display_data",
          "data": {
            "text/plain": [
              "Output()"
            ],
            "application/vnd.jupyter.widget-view+json": {
              "version_major": 2,
              "version_minor": 0,
              "model_id": "f49caaf870114175a5362fccc0acc67d"
            }
          },
          "metadata": {}
        },
        {
          "output_type": "display_data",
          "data": {
            "text/plain": [],
            "text/html": [
              "<pre style=\"white-space:pre;overflow-x:auto;line-height:normal;font-family:Menlo,'DejaVu Sans Mono',consolas,'Courier New',monospace\"></pre>\n"
            ]
          },
          "metadata": {}
        },
        {
          "output_type": "display_data",
          "data": {
            "text/plain": [
              "Output()"
            ],
            "application/vnd.jupyter.widget-view+json": {
              "version_major": 2,
              "version_minor": 0,
              "model_id": "ab367769bb234036b5834fc0881ffee9"
            }
          },
          "metadata": {}
        },
        {
          "output_type": "display_data",
          "data": {
            "text/plain": [],
            "text/html": [
              "<pre style=\"white-space:pre;overflow-x:auto;line-height:normal;font-family:Menlo,'DejaVu Sans Mono',consolas,'Courier New',monospace\"></pre>\n"
            ]
          },
          "metadata": {}
        },
        {
          "output_type": "execute_result",
          "data": {
            "text/plain": [
              "            mean     sd  hdi_3%  hdi_97%  mcse_mean  mcse_sd  ess_bulk  \\\n",
              "alpha      5.818  0.009   5.801    5.834      0.000    0.000    1958.0   \n",
              "betas[0]   0.087  0.020   0.051    0.126      0.001    0.000     967.0   \n",
              "betas[1]  -0.218  0.013  -0.243   -0.195      0.000    0.000    1318.0   \n",
              "betas[2]  -0.016  0.011  -0.036    0.007      0.000    0.000    1658.0   \n",
              "betas[3]   0.207  0.024   0.158    0.248      0.001    0.001     872.0   \n",
              "betas[4]  -0.017  0.012  -0.040    0.006      0.000    0.000    1483.0   \n",
              "betas[5]   0.106  0.013   0.082    0.130      0.000    0.000    1874.0   \n",
              "betas[6]  -0.141  0.015  -0.168   -0.110      0.000    0.000    1703.0   \n",
              "betas[7]  -0.165  0.036  -0.230   -0.094      0.001    0.001     796.0   \n",
              "betas[8]   0.070  0.015   0.045    0.100      0.000    0.000    1177.0   \n",
              "betas[9]   0.114  0.011   0.093    0.136      0.000    0.000    1921.0   \n",
              "betas[10]  0.318  0.020   0.281    0.355      0.001    0.000     949.0   \n",
              "epsilon    0.736  0.007   0.723    0.749      0.000    0.000    2211.0   \n",
              "\n",
              "           ess_tail  r_hat  \n",
              "alpha        1163.0    1.0  \n",
              "betas[0]     1251.0    1.0  \n",
              "betas[1]     1341.0    1.0  \n",
              "betas[2]     1438.0    1.0  \n",
              "betas[3]     1016.0    1.0  \n",
              "betas[4]     1228.0    1.0  \n",
              "betas[5]     1355.0    1.0  \n",
              "betas[6]     1269.0    1.0  \n",
              "betas[7]      976.0    1.0  \n",
              "betas[8]     1369.0    1.0  \n",
              "betas[9]     1292.0    1.0  \n",
              "betas[10]    1329.0    1.0  \n",
              "epsilon      1237.0    1.0  "
            ],
            "text/html": [
              "\n",
              "  <div id=\"df-dd53eb1a-272f-4558-9ad3-7f63b45441fc\" class=\"colab-df-container\">\n",
              "    <div>\n",
              "<style scoped>\n",
              "    .dataframe tbody tr th:only-of-type {\n",
              "        vertical-align: middle;\n",
              "    }\n",
              "\n",
              "    .dataframe tbody tr th {\n",
              "        vertical-align: top;\n",
              "    }\n",
              "\n",
              "    .dataframe thead th {\n",
              "        text-align: right;\n",
              "    }\n",
              "</style>\n",
              "<table border=\"1\" class=\"dataframe\">\n",
              "  <thead>\n",
              "    <tr style=\"text-align: right;\">\n",
              "      <th></th>\n",
              "      <th>mean</th>\n",
              "      <th>sd</th>\n",
              "      <th>hdi_3%</th>\n",
              "      <th>hdi_97%</th>\n",
              "      <th>mcse_mean</th>\n",
              "      <th>mcse_sd</th>\n",
              "      <th>ess_bulk</th>\n",
              "      <th>ess_tail</th>\n",
              "      <th>r_hat</th>\n",
              "    </tr>\n",
              "  </thead>\n",
              "  <tbody>\n",
              "    <tr>\n",
              "      <th>alpha</th>\n",
              "      <td>5.818</td>\n",
              "      <td>0.009</td>\n",
              "      <td>5.801</td>\n",
              "      <td>5.834</td>\n",
              "      <td>0.000</td>\n",
              "      <td>0.000</td>\n",
              "      <td>1958.0</td>\n",
              "      <td>1163.0</td>\n",
              "      <td>1.0</td>\n",
              "    </tr>\n",
              "    <tr>\n",
              "      <th>betas[0]</th>\n",
              "      <td>0.087</td>\n",
              "      <td>0.020</td>\n",
              "      <td>0.051</td>\n",
              "      <td>0.126</td>\n",
              "      <td>0.001</td>\n",
              "      <td>0.000</td>\n",
              "      <td>967.0</td>\n",
              "      <td>1251.0</td>\n",
              "      <td>1.0</td>\n",
              "    </tr>\n",
              "    <tr>\n",
              "      <th>betas[1]</th>\n",
              "      <td>-0.218</td>\n",
              "      <td>0.013</td>\n",
              "      <td>-0.243</td>\n",
              "      <td>-0.195</td>\n",
              "      <td>0.000</td>\n",
              "      <td>0.000</td>\n",
              "      <td>1318.0</td>\n",
              "      <td>1341.0</td>\n",
              "      <td>1.0</td>\n",
              "    </tr>\n",
              "    <tr>\n",
              "      <th>betas[2]</th>\n",
              "      <td>-0.016</td>\n",
              "      <td>0.011</td>\n",
              "      <td>-0.036</td>\n",
              "      <td>0.007</td>\n",
              "      <td>0.000</td>\n",
              "      <td>0.000</td>\n",
              "      <td>1658.0</td>\n",
              "      <td>1438.0</td>\n",
              "      <td>1.0</td>\n",
              "    </tr>\n",
              "    <tr>\n",
              "      <th>betas[3]</th>\n",
              "      <td>0.207</td>\n",
              "      <td>0.024</td>\n",
              "      <td>0.158</td>\n",
              "      <td>0.248</td>\n",
              "      <td>0.001</td>\n",
              "      <td>0.001</td>\n",
              "      <td>872.0</td>\n",
              "      <td>1016.0</td>\n",
              "      <td>1.0</td>\n",
              "    </tr>\n",
              "    <tr>\n",
              "      <th>betas[4]</th>\n",
              "      <td>-0.017</td>\n",
              "      <td>0.012</td>\n",
              "      <td>-0.040</td>\n",
              "      <td>0.006</td>\n",
              "      <td>0.000</td>\n",
              "      <td>0.000</td>\n",
              "      <td>1483.0</td>\n",
              "      <td>1228.0</td>\n",
              "      <td>1.0</td>\n",
              "    </tr>\n",
              "    <tr>\n",
              "      <th>betas[5]</th>\n",
              "      <td>0.106</td>\n",
              "      <td>0.013</td>\n",
              "      <td>0.082</td>\n",
              "      <td>0.130</td>\n",
              "      <td>0.000</td>\n",
              "      <td>0.000</td>\n",
              "      <td>1874.0</td>\n",
              "      <td>1355.0</td>\n",
              "      <td>1.0</td>\n",
              "    </tr>\n",
              "    <tr>\n",
              "      <th>betas[6]</th>\n",
              "      <td>-0.141</td>\n",
              "      <td>0.015</td>\n",
              "      <td>-0.168</td>\n",
              "      <td>-0.110</td>\n",
              "      <td>0.000</td>\n",
              "      <td>0.000</td>\n",
              "      <td>1703.0</td>\n",
              "      <td>1269.0</td>\n",
              "      <td>1.0</td>\n",
              "    </tr>\n",
              "    <tr>\n",
              "      <th>betas[7]</th>\n",
              "      <td>-0.165</td>\n",
              "      <td>0.036</td>\n",
              "      <td>-0.230</td>\n",
              "      <td>-0.094</td>\n",
              "      <td>0.001</td>\n",
              "      <td>0.001</td>\n",
              "      <td>796.0</td>\n",
              "      <td>976.0</td>\n",
              "      <td>1.0</td>\n",
              "    </tr>\n",
              "    <tr>\n",
              "      <th>betas[8]</th>\n",
              "      <td>0.070</td>\n",
              "      <td>0.015</td>\n",
              "      <td>0.045</td>\n",
              "      <td>0.100</td>\n",
              "      <td>0.000</td>\n",
              "      <td>0.000</td>\n",
              "      <td>1177.0</td>\n",
              "      <td>1369.0</td>\n",
              "      <td>1.0</td>\n",
              "    </tr>\n",
              "    <tr>\n",
              "      <th>betas[9]</th>\n",
              "      <td>0.114</td>\n",
              "      <td>0.011</td>\n",
              "      <td>0.093</td>\n",
              "      <td>0.136</td>\n",
              "      <td>0.000</td>\n",
              "      <td>0.000</td>\n",
              "      <td>1921.0</td>\n",
              "      <td>1292.0</td>\n",
              "      <td>1.0</td>\n",
              "    </tr>\n",
              "    <tr>\n",
              "      <th>betas[10]</th>\n",
              "      <td>0.318</td>\n",
              "      <td>0.020</td>\n",
              "      <td>0.281</td>\n",
              "      <td>0.355</td>\n",
              "      <td>0.001</td>\n",
              "      <td>0.000</td>\n",
              "      <td>949.0</td>\n",
              "      <td>1329.0</td>\n",
              "      <td>1.0</td>\n",
              "    </tr>\n",
              "    <tr>\n",
              "      <th>epsilon</th>\n",
              "      <td>0.736</td>\n",
              "      <td>0.007</td>\n",
              "      <td>0.723</td>\n",
              "      <td>0.749</td>\n",
              "      <td>0.000</td>\n",
              "      <td>0.000</td>\n",
              "      <td>2211.0</td>\n",
              "      <td>1237.0</td>\n",
              "      <td>1.0</td>\n",
              "    </tr>\n",
              "  </tbody>\n",
              "</table>\n",
              "</div>\n",
              "    <div class=\"colab-df-buttons\">\n",
              "\n",
              "  <div class=\"colab-df-container\">\n",
              "    <button class=\"colab-df-convert\" onclick=\"convertToInteractive('df-dd53eb1a-272f-4558-9ad3-7f63b45441fc')\"\n",
              "            title=\"Convert this dataframe to an interactive table.\"\n",
              "            style=\"display:none;\">\n",
              "\n",
              "  <svg xmlns=\"http://www.w3.org/2000/svg\" height=\"24px\" viewBox=\"0 -960 960 960\">\n",
              "    <path d=\"M120-120v-720h720v720H120Zm60-500h600v-160H180v160Zm220 220h160v-160H400v160Zm0 220h160v-160H400v160ZM180-400h160v-160H180v160Zm440 0h160v-160H620v160ZM180-180h160v-160H180v160Zm440 0h160v-160H620v160Z\"/>\n",
              "  </svg>\n",
              "    </button>\n",
              "\n",
              "  <style>\n",
              "    .colab-df-container {\n",
              "      display:flex;\n",
              "      gap: 12px;\n",
              "    }\n",
              "\n",
              "    .colab-df-convert {\n",
              "      background-color: #E8F0FE;\n",
              "      border: none;\n",
              "      border-radius: 50%;\n",
              "      cursor: pointer;\n",
              "      display: none;\n",
              "      fill: #1967D2;\n",
              "      height: 32px;\n",
              "      padding: 0 0 0 0;\n",
              "      width: 32px;\n",
              "    }\n",
              "\n",
              "    .colab-df-convert:hover {\n",
              "      background-color: #E2EBFA;\n",
              "      box-shadow: 0px 1px 2px rgba(60, 64, 67, 0.3), 0px 1px 3px 1px rgba(60, 64, 67, 0.15);\n",
              "      fill: #174EA6;\n",
              "    }\n",
              "\n",
              "    .colab-df-buttons div {\n",
              "      margin-bottom: 4px;\n",
              "    }\n",
              "\n",
              "    [theme=dark] .colab-df-convert {\n",
              "      background-color: #3B4455;\n",
              "      fill: #D2E3FC;\n",
              "    }\n",
              "\n",
              "    [theme=dark] .colab-df-convert:hover {\n",
              "      background-color: #434B5C;\n",
              "      box-shadow: 0px 1px 3px 1px rgba(0, 0, 0, 0.15);\n",
              "      filter: drop-shadow(0px 1px 2px rgba(0, 0, 0, 0.3));\n",
              "      fill: #FFFFFF;\n",
              "    }\n",
              "  </style>\n",
              "\n",
              "    <script>\n",
              "      const buttonEl =\n",
              "        document.querySelector('#df-dd53eb1a-272f-4558-9ad3-7f63b45441fc button.colab-df-convert');\n",
              "      buttonEl.style.display =\n",
              "        google.colab.kernel.accessAllowed ? 'block' : 'none';\n",
              "\n",
              "      async function convertToInteractive(key) {\n",
              "        const element = document.querySelector('#df-dd53eb1a-272f-4558-9ad3-7f63b45441fc');\n",
              "        const dataTable =\n",
              "          await google.colab.kernel.invokeFunction('convertToInteractive',\n",
              "                                                    [key], {});\n",
              "        if (!dataTable) return;\n",
              "\n",
              "        const docLinkHtml = 'Like what you see? Visit the ' +\n",
              "          '<a target=\"_blank\" href=https://colab.research.google.com/notebooks/data_table.ipynb>data table notebook</a>'\n",
              "          + ' to learn more about interactive tables.';\n",
              "        element.innerHTML = '';\n",
              "        dataTable['output_type'] = 'display_data';\n",
              "        await google.colab.output.renderOutput(dataTable, element);\n",
              "        const docLink = document.createElement('div');\n",
              "        docLink.innerHTML = docLinkHtml;\n",
              "        element.appendChild(docLink);\n",
              "      }\n",
              "    </script>\n",
              "  </div>\n",
              "\n",
              "\n",
              "<div id=\"df-8e23092c-3e6f-484b-a03b-55473ebe869a\">\n",
              "  <button class=\"colab-df-quickchart\" onclick=\"quickchart('df-8e23092c-3e6f-484b-a03b-55473ebe869a')\"\n",
              "            title=\"Suggest charts\"\n",
              "            style=\"display:none;\">\n",
              "\n",
              "<svg xmlns=\"http://www.w3.org/2000/svg\" height=\"24px\"viewBox=\"0 0 24 24\"\n",
              "     width=\"24px\">\n",
              "    <g>\n",
              "        <path d=\"M19 3H5c-1.1 0-2 .9-2 2v14c0 1.1.9 2 2 2h14c1.1 0 2-.9 2-2V5c0-1.1-.9-2-2-2zM9 17H7v-7h2v7zm4 0h-2V7h2v10zm4 0h-2v-4h2v4z\"/>\n",
              "    </g>\n",
              "</svg>\n",
              "  </button>\n",
              "\n",
              "<style>\n",
              "  .colab-df-quickchart {\n",
              "      --bg-color: #E8F0FE;\n",
              "      --fill-color: #1967D2;\n",
              "      --hover-bg-color: #E2EBFA;\n",
              "      --hover-fill-color: #174EA6;\n",
              "      --disabled-fill-color: #AAA;\n",
              "      --disabled-bg-color: #DDD;\n",
              "  }\n",
              "\n",
              "  [theme=dark] .colab-df-quickchart {\n",
              "      --bg-color: #3B4455;\n",
              "      --fill-color: #D2E3FC;\n",
              "      --hover-bg-color: #434B5C;\n",
              "      --hover-fill-color: #FFFFFF;\n",
              "      --disabled-bg-color: #3B4455;\n",
              "      --disabled-fill-color: #666;\n",
              "  }\n",
              "\n",
              "  .colab-df-quickchart {\n",
              "    background-color: var(--bg-color);\n",
              "    border: none;\n",
              "    border-radius: 50%;\n",
              "    cursor: pointer;\n",
              "    display: none;\n",
              "    fill: var(--fill-color);\n",
              "    height: 32px;\n",
              "    padding: 0;\n",
              "    width: 32px;\n",
              "  }\n",
              "\n",
              "  .colab-df-quickchart:hover {\n",
              "    background-color: var(--hover-bg-color);\n",
              "    box-shadow: 0 1px 2px rgba(60, 64, 67, 0.3), 0 1px 3px 1px rgba(60, 64, 67, 0.15);\n",
              "    fill: var(--button-hover-fill-color);\n",
              "  }\n",
              "\n",
              "  .colab-df-quickchart-complete:disabled,\n",
              "  .colab-df-quickchart-complete:disabled:hover {\n",
              "    background-color: var(--disabled-bg-color);\n",
              "    fill: var(--disabled-fill-color);\n",
              "    box-shadow: none;\n",
              "  }\n",
              "\n",
              "  .colab-df-spinner {\n",
              "    border: 2px solid var(--fill-color);\n",
              "    border-color: transparent;\n",
              "    border-bottom-color: var(--fill-color);\n",
              "    animation:\n",
              "      spin 1s steps(1) infinite;\n",
              "  }\n",
              "\n",
              "  @keyframes spin {\n",
              "    0% {\n",
              "      border-color: transparent;\n",
              "      border-bottom-color: var(--fill-color);\n",
              "      border-left-color: var(--fill-color);\n",
              "    }\n",
              "    20% {\n",
              "      border-color: transparent;\n",
              "      border-left-color: var(--fill-color);\n",
              "      border-top-color: var(--fill-color);\n",
              "    }\n",
              "    30% {\n",
              "      border-color: transparent;\n",
              "      border-left-color: var(--fill-color);\n",
              "      border-top-color: var(--fill-color);\n",
              "      border-right-color: var(--fill-color);\n",
              "    }\n",
              "    40% {\n",
              "      border-color: transparent;\n",
              "      border-right-color: var(--fill-color);\n",
              "      border-top-color: var(--fill-color);\n",
              "    }\n",
              "    60% {\n",
              "      border-color: transparent;\n",
              "      border-right-color: var(--fill-color);\n",
              "    }\n",
              "    80% {\n",
              "      border-color: transparent;\n",
              "      border-right-color: var(--fill-color);\n",
              "      border-bottom-color: var(--fill-color);\n",
              "    }\n",
              "    90% {\n",
              "      border-color: transparent;\n",
              "      border-bottom-color: var(--fill-color);\n",
              "    }\n",
              "  }\n",
              "</style>\n",
              "\n",
              "  <script>\n",
              "    async function quickchart(key) {\n",
              "      const quickchartButtonEl =\n",
              "        document.querySelector('#' + key + ' button');\n",
              "      quickchartButtonEl.disabled = true;  // To prevent multiple clicks.\n",
              "      quickchartButtonEl.classList.add('colab-df-spinner');\n",
              "      try {\n",
              "        const charts = await google.colab.kernel.invokeFunction(\n",
              "            'suggestCharts', [key], {});\n",
              "      } catch (error) {\n",
              "        console.error('Error during call to suggestCharts:', error);\n",
              "      }\n",
              "      quickchartButtonEl.classList.remove('colab-df-spinner');\n",
              "      quickchartButtonEl.classList.add('colab-df-quickchart-complete');\n",
              "    }\n",
              "    (() => {\n",
              "      let quickchartButtonEl =\n",
              "        document.querySelector('#df-8e23092c-3e6f-484b-a03b-55473ebe869a button');\n",
              "      quickchartButtonEl.style.display =\n",
              "        google.colab.kernel.accessAllowed ? 'block' : 'none';\n",
              "    })();\n",
              "  </script>\n",
              "</div>\n",
              "\n",
              "    </div>\n",
              "  </div>\n"
            ],
            "application/vnd.google.colaboratory.intrinsic+json": {
              "type": "dataframe",
              "summary": "{\n  \"name\": \"az\",\n  \"rows\": 13,\n  \"fields\": [\n    {\n      \"column\": \"mean\",\n      \"properties\": {\n        \"dtype\": \"number\",\n        \"std\": 1.6074156994285052,\n        \"min\": -0.218,\n        \"max\": 5.818,\n        \"num_unique_values\": 13,\n        \"samples\": [\n          0.318,\n          0.07,\n          5.818\n        ],\n        \"semantic_type\": \"\",\n        \"description\": \"\"\n      }\n    },\n    {\n      \"column\": \"sd\",\n      \"properties\": {\n        \"dtype\": \"number\",\n        \"std\": 0.007701148765456509,\n        \"min\": 0.007,\n        \"max\": 0.036,\n        \"num_unique_values\": 9,\n        \"samples\": [\n          0.036,\n          0.02,\n          0.012\n        ],\n        \"semantic_type\": \"\",\n        \"description\": \"\"\n      }\n    },\n    {\n      \"column\": \"hdi_3%\",\n      \"properties\": {\n        \"dtype\": \"number\",\n        \"std\": 1.6117873300891459,\n        \"min\": -0.243,\n        \"max\": 5.801,\n        \"num_unique_values\": 13,\n        \"samples\": [\n          0.281,\n          0.045,\n          5.801\n        ],\n        \"semantic_type\": \"\",\n        \"description\": \"\"\n      }\n    },\n    {\n      \"column\": \"hdi_97%\",\n      \"properties\": {\n        \"dtype\": \"number\",\n        \"std\": 1.6024500232216532,\n        \"min\": -0.195,\n        \"max\": 5.834,\n        \"num_unique_values\": 13,\n        \"samples\": [\n          0.355,\n          0.1,\n          5.834\n        ],\n        \"semantic_type\": \"\",\n        \"description\": \"\"\n      }\n    },\n    {\n      \"column\": \"mcse_mean\",\n      \"properties\": {\n        \"dtype\": \"number\",\n        \"std\": 0.0004803844614152615,\n        \"min\": 0.0,\n        \"max\": 0.001,\n        \"num_unique_values\": 2,\n        \"samples\": [\n          0.001,\n          0.0\n        ],\n        \"semantic_type\": \"\",\n        \"description\": \"\"\n      }\n    },\n    {\n      \"column\": \"mcse_sd\",\n      \"properties\": {\n        \"dtype\": \"number\",\n        \"std\": 0.00037553380809940537,\n        \"min\": 0.0,\n        \"max\": 0.001,\n        \"num_unique_values\": 2,\n        \"samples\": [\n          0.001,\n          0.0\n        ],\n        \"semantic_type\": \"\",\n        \"description\": \"\"\n      }\n    },\n    {\n      \"column\": \"ess_bulk\",\n      \"properties\": {\n        \"dtype\": \"number\",\n        \"std\": 473.03115580157544,\n        \"min\": 796.0,\n        \"max\": 2211.0,\n        \"num_unique_values\": 13,\n        \"samples\": [\n          949.0,\n          1177.0\n        ],\n        \"semantic_type\": \"\",\n        \"description\": \"\"\n      }\n    },\n    {\n      \"column\": \"ess_tail\",\n      \"properties\": {\n        \"dtype\": \"number\",\n        \"std\": 133.92066154908133,\n        \"min\": 976.0,\n        \"max\": 1438.0,\n        \"num_unique_values\": 13,\n        \"samples\": [\n          1329.0,\n          1369.0\n        ],\n        \"semantic_type\": \"\",\n        \"description\": \"\"\n      }\n    },\n    {\n      \"column\": \"r_hat\",\n      \"properties\": {\n        \"dtype\": \"number\",\n        \"std\": 0.0,\n        \"min\": 1.0,\n        \"max\": 1.0,\n        \"num_unique_values\": 1,\n        \"samples\": [\n          1.0\n        ],\n        \"semantic_type\": \"\",\n        \"description\": \"\"\n      }\n    }\n  ]\n}"
            }
          },
          "metadata": {},
          "execution_count": 7
        }
      ]
    },
    {
      "cell_type": "code",
      "source": [
        "# Amostrar da distribuição posterior preditiva\n",
        "posterior_predictive = pm.sample_posterior_predictive(trace_ridge, model=model_ridge)\n",
        "\n",
        " # Imprimir as chaves do posterior_predictive\n",
        "print(posterior_predictive.keys())\n"
      ],
      "metadata": {
        "colab": {
          "base_uri": "https://localhost:8080/",
          "height": 86,
          "referenced_widgets": [
            "55cc908f1ba043a69d9f811f95a0077b",
            "d29965ba398149feaad39af925ee0d28"
          ]
        },
        "id": "CP-hR5jb3-HJ",
        "outputId": "0bab2ba0-61e3-4d75-a589-b3d7afa318e3"
      },
      "execution_count": 8,
      "outputs": [
        {
          "output_type": "display_data",
          "data": {
            "text/plain": [
              "Output()"
            ],
            "application/vnd.jupyter.widget-view+json": {
              "version_major": 2,
              "version_minor": 0,
              "model_id": "55cc908f1ba043a69d9f811f95a0077b"
            }
          },
          "metadata": {}
        },
        {
          "output_type": "display_data",
          "data": {
            "text/plain": [],
            "text/html": [
              "<pre style=\"white-space:pre;overflow-x:auto;line-height:normal;font-family:Menlo,'DejaVu Sans Mono',consolas,'Courier New',monospace\"></pre>\n"
            ]
          },
          "metadata": {}
        },
        {
          "output_type": "stream",
          "name": "stdout",
          "text": [
            "KeysView(Inference data with groups:\n",
            "\t> posterior_predictive\n",
            "\t> observed_data)\n"
          ]
        }
      ]
    },
    {
      "cell_type": "code",
      "source": [
        "# Verificar as chaves do posterior_predictive\n",
        "print(posterior_predictive['posterior_predictive'].keys())\n",
        "\n",
        "# Verificar as chaves do observed_data\n",
        "print(posterior_predictive['observed_data'].keys())"
      ],
      "metadata": {
        "colab": {
          "base_uri": "https://localhost:8080/"
        },
        "id": "Kju7RykY4tZi",
        "outputId": "0126cade-3ec2-4b4e-af30-b03cb2213340"
      },
      "execution_count": 9,
      "outputs": [
        {
          "output_type": "stream",
          "name": "stdout",
          "text": [
            "KeysView(<xarray.Dataset> Size: 104MB\n",
            "Dimensions:      (chain: 2, draw: 1000, Y_obs_dim_2: 6497)\n",
            "Coordinates:\n",
            "  * chain        (chain) int64 16B 0 1\n",
            "  * draw         (draw) int64 8kB 0 1 2 3 4 5 6 ... 993 994 995 996 997 998 999\n",
            "  * Y_obs_dim_2  (Y_obs_dim_2) int64 52kB 0 1 2 3 4 ... 6492 6493 6494 6495 6496\n",
            "Data variables:\n",
            "    Y_obs        (chain, draw, Y_obs_dim_2) float64 104MB 5.263 3.497 ... 5.994\n",
            "Attributes:\n",
            "    created_at:                 2024-09-26T00:32:01.042078+00:00\n",
            "    arviz_version:              0.19.0\n",
            "    inference_library:          pymc\n",
            "    inference_library_version:  5.16.2)\n",
            "KeysView(<xarray.Dataset> Size: 104kB\n",
            "Dimensions:      (Y_obs_dim_0: 6497)\n",
            "Coordinates:\n",
            "  * Y_obs_dim_0  (Y_obs_dim_0) int64 52kB 0 1 2 3 4 ... 6492 6493 6494 6495 6496\n",
            "Data variables:\n",
            "    Y_obs        (Y_obs_dim_0) float64 52kB 5.0 5.0 5.0 6.0 ... 5.0 6.0 7.0 6.0\n",
            "Attributes:\n",
            "    created_at:                 2024-09-26T00:32:01.048547+00:00\n",
            "    arviz_version:              0.19.0\n",
            "    inference_library:          pymc\n",
            "    inference_library_version:  5.16.2)\n"
          ]
        }
      ]
    },
    {
      "cell_type": "code",
      "source": [
        "# Acessar dados preditivos de Y_obs\n",
        "y_obs_pred = posterior_predictive['posterior_predictive']['Y_obs']\n",
        "print(y_obs_pred)\n",
        "\n",
        "# Cálculo da média ou outras estatísticas\n",
        "y_obs_mean = y_obs_pred.mean(axis=0)\n",
        "print(y_obs_mean)\n"
      ],
      "metadata": {
        "colab": {
          "base_uri": "https://localhost:8080/"
        },
        "id": "hRcwh26A4zvn",
        "outputId": "ad72b497-51a3-45c9-a1a1-7db082c414ce"
      },
      "execution_count": 10,
      "outputs": [
        {
          "output_type": "stream",
          "name": "stdout",
          "text": [
            "<xarray.DataArray 'Y_obs' (chain: 2, draw: 1000, Y_obs_dim_2: 6497)> Size: 104MB\n",
            "array([[[5.26269852, 3.49748859, 4.96240587, ..., 4.62780142,\n",
            "         6.22759925, 6.96002572],\n",
            "        [5.79778419, 5.13239121, 4.7478605 , ..., 6.29952909,\n",
            "         5.92261672, 6.65452543],\n",
            "        [6.22306233, 4.71102422, 4.17623665, ..., 6.35521428,\n",
            "         4.49638734, 6.10293584],\n",
            "        ...,\n",
            "        [4.02432919, 5.64960363, 4.01337185, ..., 5.61807346,\n",
            "         6.96599813, 6.48207947],\n",
            "        [5.85107118, 4.73164438, 5.37195725, ..., 4.60681422,\n",
            "         5.80511286, 5.73602625],\n",
            "        [4.44365668, 4.29586188, 4.99339684, ..., 5.64957425,\n",
            "         6.74021481, 5.80735788]],\n",
            "\n",
            "       [[5.3323858 , 5.58470956, 4.70088942, ..., 5.19023208,\n",
            "         5.46328304, 7.34536095],\n",
            "        [4.21458558, 3.47071798, 4.4917595 , ..., 6.51944148,\n",
            "         6.23385504, 5.34211622],\n",
            "        [4.41294187, 5.95751624, 4.54764222, ..., 5.14103755,\n",
            "         6.56520123, 5.55368767],\n",
            "        ...,\n",
            "        [5.31372872, 5.51926998, 4.17886892, ..., 3.82432934,\n",
            "         6.33616281, 5.97142591],\n",
            "        [4.30971914, 5.60959467, 6.05640602, ..., 5.365588  ,\n",
            "         6.80079116, 6.35594239],\n",
            "        [6.09870707, 5.41565778, 5.59321225, ..., 4.71629868,\n",
            "         5.53926919, 5.99419276]]])\n",
            "Coordinates:\n",
            "  * chain        (chain) int64 16B 0 1\n",
            "  * draw         (draw) int64 8kB 0 1 2 3 4 5 6 ... 993 994 995 996 997 998 999\n",
            "  * Y_obs_dim_2  (Y_obs_dim_2) int64 52kB 0 1 2 3 4 ... 6492 6493 6494 6495 6496\n",
            "<xarray.DataArray 'Y_obs' (draw: 1000, Y_obs_dim_2: 6497)> Size: 52MB\n",
            "array([[5.29754216, 4.54109907, 4.83164765, ..., 4.90901675, 5.84544114,\n",
            "        7.15269333],\n",
            "       [5.00618488, 4.30155459, 4.61981   , ..., 6.40948528, 6.07823588,\n",
            "        5.99832083],\n",
            "       [5.3180021 , 5.33427023, 4.36193944, ..., 5.74812591, 5.53079429,\n",
            "        5.82831176],\n",
            "       ...,\n",
            "       [4.66902896, 5.5844368 , 4.09612039, ..., 4.7212014 , 6.65108047,\n",
            "        6.22675269],\n",
            "       [5.08039516, 5.17061953, 5.71418164, ..., 4.98620111, 6.30295201,\n",
            "        6.04598432],\n",
            "       [5.27118187, 4.85575983, 5.29330455, ..., 5.18293646, 6.139742  ,\n",
            "        5.90077532]])\n",
            "Coordinates:\n",
            "  * draw         (draw) int64 8kB 0 1 2 3 4 5 6 ... 993 994 995 996 997 998 999\n",
            "  * Y_obs_dim_2  (Y_obs_dim_2) int64 52kB 0 1 2 3 4 ... 6492 6493 6494 6495 6496\n"
          ]
        }
      ]
    },
    {
      "cell_type": "code",
      "source": [
        "# Certifique-se de que y está disponível\n",
        "print(y)"
      ],
      "metadata": {
        "colab": {
          "base_uri": "https://localhost:8080/"
        },
        "id": "C9XMZnxz429x",
        "outputId": "e59c6cad-ab2d-4299-d0de-3027add07945"
      },
      "execution_count": 11,
      "outputs": [
        {
          "output_type": "stream",
          "name": "stdout",
          "text": [
            "[5 5 5 ... 6 7 6]\n"
          ]
        }
      ]
    },
    {
      "cell_type": "code",
      "source": [
        "print(ridge_trace_prior.keys())\n"
      ],
      "metadata": {
        "colab": {
          "base_uri": "https://localhost:8080/"
        },
        "id": "RZT43dmq45qn",
        "outputId": "3b21c0f5-8bdd-4db7-ae01-d5f0c6665e25"
      },
      "execution_count": 12,
      "outputs": [
        {
          "output_type": "stream",
          "name": "stdout",
          "text": [
            "KeysView(Inference data with groups:\n",
            "\t> prior\n",
            "\t> prior_predictive\n",
            "\t> observed_data)\n"
          ]
        }
      ]
    },
    {
      "cell_type": "code",
      "source": [
        "analise_priori(ridge_trace_prior, y)\n"
      ],
      "metadata": {
        "colab": {
          "base_uri": "https://localhost:8080/",
          "height": 1000
        },
        "id": "c3aY_Red6GUP",
        "outputId": "2bd7f8bd-c3f2-4ce2-af68-98a228da95c9"
      },
      "execution_count": 13,
      "outputs": [
        {
          "output_type": "stream",
          "name": "stderr",
          "text": [
            "<ipython-input-6-4581fe9e5373>:43: UserWarning: This figure includes Axes that are not compatible with tight_layout, so results might be incorrect.\n",
            "  plt.tight_layout()\n"
          ]
        },
        {
          "output_type": "execute_result",
          "data": {
            "text/plain": [
              "(<Figure size 1000x1000 with 6 Axes>,\n",
              " array([[<Axes: xlabel='Betas', ylabel='Contagem'>,\n",
              "         <Axes: xlabel='Previsões a Priori (Y_obs)', ylabel='Contagem'>],\n",
              "        [<Axes: title={'center': 'Previsões a Priori'}, xlabel='Observado', ylabel='Previsões'>,\n",
              "         <Axes: >],\n",
              "        [<Axes: xlabel='Y_obs'>, <Axes: xlabel='Y_obs'>]], dtype=object))"
            ]
          },
          "metadata": {},
          "execution_count": 13
        },
        {
          "output_type": "stream",
          "name": "stderr",
          "text": [
            "/usr/local/lib/python3.10/dist-packages/IPython/core/events.py:89: UserWarning: Creating legend with loc=\"best\" can be slow with large amounts of data.\n",
            "  func(*args, **kwargs)\n",
            "/usr/local/lib/python3.10/dist-packages/IPython/core/pylabtools.py:151: UserWarning: Creating legend with loc=\"best\" can be slow with large amounts of data.\n",
            "  fig.canvas.print_figure(bytes_io, **kw)\n"
          ]
        },
        {
          "output_type": "display_data",
          "data": {
            "text/plain": [
              "<Figure size 1000x1000 with 6 Axes>"
            ],
            "image/png": "[encoded data removed]"
          },
          "metadata": {}
        }
      ]
    },
    {
      "cell_type": "code",
      "source": [
        "pm.model_to_graphviz(model_ridge)"
      ],
      "metadata": {
        "colab": {
          "base_uri": "https://localhost:8080/",
          "height": 368
        },
        "id": "6U_t5y5t5apm",
        "outputId": "e4d15334-47c9-4c63-dd3e-11177adcd7d6"
      },
      "execution_count": 14,
      "outputs": [
        {
          "output_type": "execute_result",
          "data": {
            "image/svg+xml": "<?xml version=\"1.0\" encoding=\"UTF-8\" standalone=\"no\"?>\n<!DOCTYPE svg PUBLIC \"-//W3C//DTD SVG 1.1//EN\"\n \"http://www.w3.org/Graphics/SVG/1.1/DTD/svg11.dtd\">\n<!-- Generated by graphviz version 2.43.0 (0)\n -->\n<!-- Title: %3 Pages: 1 -->\n<svg width=\"313pt\" height=\"260pt\"\n viewBox=\"0.00 0.00 313.13 259.91\" xmlns=\"http://www.w3.org/2000/svg\" xmlns:xlink=\"http://www.w3.org/1999/xlink\">\n<g id=\"graph0\" class=\"graph\" transform=\"scale(1 1) rotate(0) translate(4 255.91)\">\n<title>%3</title>\n<polygon fill=\"white\" stroke=\"transparent\" points=\"-4,4 -4,-255.91 309.13,-255.91 309.13,4 -4,4\"/>\n<g id=\"clust1\" class=\"cluster\">\n<title>clusterfeatures (11)</title>\n<path fill=\"none\" stroke=\"black\" d=\"M209.13,-129.95C209.13,-129.95 285.13,-129.95 285.13,-129.95 291.13,-129.95 297.13,-135.95 297.13,-141.95 297.13,-141.95 297.13,-231.91 297.13,-231.91 297.13,-237.91 291.13,-243.91 285.13,-243.91 285.13,-243.91 209.13,-243.91 209.13,-243.91 203.13,-243.91 197.13,-237.91 197.13,-231.91 197.13,-231.91 197.13,-141.95 197.13,-141.95 197.13,-135.95 203.13,-129.95 209.13,-129.95\"/>\n<text text-anchor=\"middle\" x=\"254.13\" y=\"-137.75\" font-family=\"Times,serif\" font-size=\"14.00\">features (11)</text>\n</g>\n<g id=\"clust2\" class=\"cluster\">\n<title>cluster6497</title>\n<path fill=\"none\" stroke=\"black\" d=\"M108.13,-8C108.13,-8 184.13,-8 184.13,-8 190.13,-8 196.13,-14 196.13,-20 196.13,-20 196.13,-109.95 196.13,-109.95 196.13,-115.95 190.13,-121.95 184.13,-121.95 184.13,-121.95 108.13,-121.95 108.13,-121.95 102.13,-121.95 96.13,-115.95 96.13,-109.95 96.13,-109.95 96.13,-20 96.13,-20 96.13,-14 102.13,-8 108.13,-8\"/>\n<text text-anchor=\"middle\" x=\"174.13\" y=\"-15.8\" font-family=\"Times,serif\" font-size=\"14.00\">6497</text>\n</g>\n<!-- epsilon -->\n<g id=\"node1\" class=\"node\">\n<title>epsilon</title>\n<ellipse fill=\"none\" stroke=\"black\" cx=\"43.13\" cy=\"-198.43\" rx=\"43.27\" ry=\"37.45\"/>\n<text text-anchor=\"middle\" x=\"43.13\" y=\"-209.73\" font-family=\"Times,serif\" font-size=\"14.00\">epsilon</text>\n<text text-anchor=\"middle\" x=\"43.13\" y=\"-194.73\" font-family=\"Times,serif\" font-size=\"14.00\">~</text>\n<text text-anchor=\"middle\" x=\"43.13\" y=\"-179.73\" font-family=\"Times,serif\" font-size=\"14.00\">Gamma</text>\n</g>\n<!-- Y_obs -->\n<g id=\"node4\" class=\"node\">\n<title>Y_obs</title>\n<ellipse fill=\"lightgrey\" stroke=\"black\" cx=\"146.13\" cy=\"-76.48\" rx=\"41.94\" ry=\"37.45\"/>\n<text text-anchor=\"middle\" x=\"146.13\" y=\"-87.78\" font-family=\"Times,serif\" font-size=\"14.00\">Y_obs</text>\n<text text-anchor=\"middle\" x=\"146.13\" y=\"-72.78\" font-family=\"Times,serif\" font-size=\"14.00\">~</text>\n<text text-anchor=\"middle\" x=\"146.13\" y=\"-57.78\" font-family=\"Times,serif\" font-size=\"14.00\">Normal</text>\n</g>\n<!-- epsilon&#45;&gt;Y_obs -->\n<g id=\"edge2\" class=\"edge\">\n<title>epsilon&#45;&gt;Y_obs</title>\n<path fill=\"none\" stroke=\"black\" d=\"M65.97,-166.27C74.79,-154.64 85.16,-141.47 95.13,-129.95 100.28,-124.01 105.92,-117.88 111.51,-111.99\"/>\n<polygon fill=\"black\" stroke=\"black\" points=\"114.12,-114.33 118.53,-104.7 109.07,-109.48 114.12,-114.33\"/>\n</g>\n<!-- alpha -->\n<g id=\"node2\" class=\"node\">\n<title>alpha</title>\n<ellipse fill=\"none\" stroke=\"black\" cx=\"146.13\" cy=\"-198.43\" rx=\"41.94\" ry=\"37.45\"/>\n<text text-anchor=\"middle\" x=\"146.13\" y=\"-209.73\" font-family=\"Times,serif\" font-size=\"14.00\">alpha</text>\n<text text-anchor=\"middle\" x=\"146.13\" y=\"-194.73\" font-family=\"Times,serif\" font-size=\"14.00\">~</text>\n<text text-anchor=\"middle\" x=\"146.13\" y=\"-179.73\" font-family=\"Times,serif\" font-size=\"14.00\">Normal</text>\n</g>\n<!-- alpha&#45;&gt;Y_obs -->\n<g id=\"edge3\" class=\"edge\">\n<title>alpha&#45;&gt;Y_obs</title>\n<path fill=\"none\" stroke=\"black\" d=\"M146.13,-160.79C146.13,-149.38 146.13,-136.65 146.13,-124.63\"/>\n<polygon fill=\"black\" stroke=\"black\" points=\"149.63,-124.31 146.13,-114.31 142.63,-124.31 149.63,-124.31\"/>\n</g>\n<!-- betas -->\n<g id=\"node3\" class=\"node\">\n<title>betas</title>\n<ellipse fill=\"none\" stroke=\"black\" cx=\"247.13\" cy=\"-198.43\" rx=\"41.94\" ry=\"37.45\"/>\n<text text-anchor=\"middle\" x=\"247.13\" y=\"-209.73\" font-family=\"Times,serif\" font-size=\"14.00\">betas</text>\n<text text-anchor=\"middle\" x=\"247.13\" y=\"-194.73\" font-family=\"Times,serif\" font-size=\"14.00\">~</text>\n<text text-anchor=\"middle\" x=\"247.13\" y=\"-179.73\" font-family=\"Times,serif\" font-size=\"14.00\">Normal</text>\n</g>\n<!-- betas&#45;&gt;Y_obs -->\n<g id=\"edge1\" class=\"edge\">\n<title>betas&#45;&gt;Y_obs</title>\n<path fill=\"none\" stroke=\"black\" d=\"M225.32,-166.2C216.85,-154.55 206.86,-141.4 197.13,-129.95 192.04,-123.96 186.43,-117.8 180.85,-111.91\"/>\n<polygon fill=\"black\" stroke=\"black\" points=\"183.3,-109.39 173.84,-104.61 178.25,-114.24 183.3,-109.39\"/>\n</g>\n</g>\n</svg>\n",
            "text/plain": [
              "<graphviz.graphs.Digraph at 0x7d3a4c2e00a0>"
            ]
          },
          "metadata": {},
          "execution_count": 14
        }
      ]
    },
    {
      "cell_type": "code",
      "source": [
        "def analise_posteriori(trace):\n",
        "  fig, axes = plt.subplots(1, 2, figsize=(10, 5))\n",
        "  az.plot_ppc(trace, group='posterior', kind='cumulative', ax=axes[0]);\n",
        "  az.plot_ppc(trace, group='posterior',ax=axes[1]);\n",
        "\n",
        "  return fig, axes"
      ],
      "metadata": {
        "id": "logsrbSC6Ou3"
      },
      "execution_count": 15,
      "outputs": []
    },
    {
      "cell_type": "code",
      "source": [
        "\n",
        "with model_ridge:\n",
        "  trace_pos_ridge = pm.sample_posterior_predictive(trace_ridge)\n",
        "\n",
        "analise_posteriori(trace_pos_ridge)\n"
      ],
      "metadata": {
        "colab": {
          "base_uri": "https://localhost:8080/",
          "height": 598,
          "referenced_widgets": [
            "d4fad603714942ac90abc51f0494682a",
            "01ea62e1b92f4f1b976161aab33e9630"
          ]
        },
        "id": "I0kMfJna6QLB",
        "outputId": "7922f1fd-6e29-4a9d-b8b2-3b45c7d571cb"
      },
      "execution_count": 16,
      "outputs": [
        {
          "output_type": "display_data",
          "data": {
            "text/plain": [
              "Output()"
            ],
            "application/vnd.jupyter.widget-view+json": {
              "version_major": 2,
              "version_minor": 0,
              "model_id": "d4fad603714942ac90abc51f0494682a"
            }
          },
          "metadata": {}
        },
        {
          "output_type": "display_data",
          "data": {
            "text/plain": [],
            "text/html": [
              "<pre style=\"white-space:pre;overflow-x:auto;line-height:normal;font-family:Menlo,'DejaVu Sans Mono',consolas,'Courier New',monospace\"></pre>\n"
            ]
          },
          "metadata": {}
        },
        {
          "output_type": "execute_result",
          "data": {
            "text/plain": [
              "(<Figure size 1000x500 with 2 Axes>,\n",
              " array([<Axes: xlabel='Y_obs'>, <Axes: xlabel='Y_obs'>], dtype=object))"
            ]
          },
          "metadata": {},
          "execution_count": 16
        },
        {
          "output_type": "stream",
          "name": "stderr",
          "text": [
            "/usr/local/lib/python3.10/dist-packages/IPython/core/events.py:89: UserWarning: Creating legend with loc=\"best\" can be slow with large amounts of data.\n",
            "  func(*args, **kwargs)\n",
            "/usr/local/lib/python3.10/dist-packages/IPython/core/pylabtools.py:151: UserWarning: Creating legend with loc=\"best\" can be slow with large amounts of data.\n",
            "  fig.canvas.print_figure(bytes_io, **kw)\n"
          ]
        },
        {
          "output_type": "display_data",
          "data": {
            "text/plain": [
              "<Figure size 1000x500 with 2 Axes>"
            ],
            "image/png": "[encoded data removed]"
          },
          "metadata": {}
        }
      ]
    },
    {
      "cell_type": "markdown",
      "source": [
        "LASSO"
      ],
      "metadata": {
        "id": "RUnKDbQt7Q8Y"
      }
    },
    {
      "cell_type": "code",
      "source": [
        "import pymc as pm\n",
        "import pytensor.tensor as pt  # Usar pytensor para a multiplicação de matrizes\n",
        "import numpy as np\n",
        "from sklearn.preprocessing import StandardScaler\n",
        "from sklearn.model_selection import train_test_split\n",
        "from math import sqrt"
      ],
      "metadata": {
        "id": "d8txiMzG8OWw"
      },
      "execution_count": 17,
      "outputs": []
    },
    {
      "cell_type": "code",
      "source": [
        "# Criar o modelo Lasso Bayesiano\n",
        "with pm.Model(coords=coords) as model_lasso:\n",
        "    # Priori para o intercepto (alpha)\n",
        "    alpha = pm.Normal('alpha', mu=0, sigma=10)\n",
        "\n",
        "    # Priori para os coeficientes de regressão (betas) com distribuição Laplace\n",
        "    betas = pm.Laplace('betas', mu=0, b=1/sqrt(2), dims='features')  # b é o parâmetro de escala da Laplace\n",
        "\n",
        "    # Priori para o desvio padrão do erro (epsilon)\n",
        "    epsilon = pm.Gamma('epsilon', alpha=2, beta=1)\n",
        "\n",
        "    # Definir a equação do modelo linear\n",
        "    mu = alpha + pt.dot(X_scaled, betas)\n",
        "\n",
        "    # Definir a verossimilhança (Normal)\n",
        "    likelihood = pm.Normal('Y_obs', mu=mu, sigma=epsilon, observed=y)\n",
        "\n",
        "    # Amostrar da distribuição a priori\n",
        "    lasso_trace_prior = pm.sample_prior_predictive()\n",
        "\n",
        "    # Amostrar da distribuição posterior\n",
        "    trace_lasso = pm.sample(1000, tune=1000, target_accept=0.95)\n",
        "\n",
        "# Exibir o resumo dos parâmetros ajustados\n",
        "\n",
        "az.summary(trace_lasso)"
      ],
      "metadata": {
        "colab": {
          "base_uri": "https://localhost:8080/",
          "height": 492,
          "referenced_widgets": [
            "6f49969c68144c018acc7c367007dd1e",
            "797f7ed4335c4114b7b0afb2bb3af9b5",
            "309710e67e0a4eb099fa605c0d4201b0",
            "03d3a3736d364be69087a916b2f105a4"
          ]
        },
        "id": "wJGtk7Zz7SCq",
        "outputId": "d8a0a913-03cb-4995-d7fd-751c5173f722"
      },
      "execution_count": 18,
      "outputs": [
        {
          "output_type": "display_data",
          "data": {
            "text/plain": [
              "Output()"
            ],
            "application/vnd.jupyter.widget-view+json": {
              "version_major": 2,
              "version_minor": 0,
              "model_id": "6f49969c68144c018acc7c367007dd1e"
            }
          },
          "metadata": {}
        },
        {
          "output_type": "display_data",
          "data": {
            "text/plain": [],
            "text/html": [
              "<pre style=\"white-space:pre;overflow-x:auto;line-height:normal;font-family:Menlo,'DejaVu Sans Mono',consolas,'Courier New',monospace\"></pre>\n"
            ]
          },
          "metadata": {}
        },
        {
          "output_type": "display_data",
          "data": {
            "text/plain": [
              "Output()"
            ],
            "application/vnd.jupyter.widget-view+json": {
              "version_major": 2,
              "version_minor": 0,
              "model_id": "309710e67e0a4eb099fa605c0d4201b0"
            }
          },
          "metadata": {}
        },
        {
          "output_type": "display_data",
          "data": {
            "text/plain": [],
            "text/html": [
              "<pre style=\"white-space:pre;overflow-x:auto;line-height:normal;font-family:Menlo,'DejaVu Sans Mono',consolas,'Courier New',monospace\"></pre>\n"
            ]
          },
          "metadata": {}
        },
        {
          "output_type": "execute_result",
          "data": {
            "text/plain": [
              "            mean     sd  hdi_3%  hdi_97%  mcse_mean  mcse_sd  ess_bulk  \\\n",
              "alpha      5.819  0.009   5.801    5.835      0.000    0.000    1964.0   \n",
              "betas[0]   0.087  0.019   0.053    0.125      0.001    0.000     981.0   \n",
              "betas[1]  -0.218  0.013  -0.242   -0.194      0.000    0.000    1571.0   \n",
              "betas[2]  -0.016  0.012  -0.039    0.007      0.000    0.000    1813.0   \n",
              "betas[3]   0.206  0.024   0.162    0.251      0.001    0.001    1038.0   \n",
              "betas[4]  -0.017  0.012  -0.038    0.005      0.000    0.000    1753.0   \n",
              "betas[5]   0.105  0.013   0.081    0.130      0.000    0.000    1794.0   \n",
              "betas[6]  -0.139  0.015  -0.167   -0.110      0.000    0.000    1962.0   \n",
              "betas[7]  -0.163  0.035  -0.230   -0.098      0.001    0.001     928.0   \n",
              "betas[8]   0.070  0.014   0.046    0.098      0.000    0.000    1208.0   \n",
              "betas[9]   0.114  0.011   0.092    0.134      0.000    0.000    1941.0   \n",
              "betas[10]  0.319  0.020   0.281    0.355      0.001    0.000    1132.0   \n",
              "epsilon    0.736  0.006   0.723    0.747      0.000    0.000    2330.0   \n",
              "\n",
              "           ess_tail  r_hat  \n",
              "alpha        1309.0    1.0  \n",
              "betas[0]     1124.0    1.0  \n",
              "betas[1]     1390.0    1.0  \n",
              "betas[2]     1533.0    1.0  \n",
              "betas[3]     1270.0    1.0  \n",
              "betas[4]     1288.0    1.0  \n",
              "betas[5]     1507.0    1.0  \n",
              "betas[6]     1530.0    1.0  \n",
              "betas[7]     1103.0    1.0  \n",
              "betas[8]     1584.0    1.0  \n",
              "betas[9]     1360.0    1.0  \n",
              "betas[10]    1196.0    1.0  \n",
              "epsilon      1483.0    1.0  "
            ],
            "text/html": [
              "\n",
              "  <div id=\"df-45e2254b-2a66-4d1b-bd04-24980104a2a7\" class=\"colab-df-container\">\n",
              "    <div>\n",
              "<style scoped>\n",
              "    .dataframe tbody tr th:only-of-type {\n",
              "        vertical-align: middle;\n",
              "    }\n",
              "\n",
              "    .dataframe tbody tr th {\n",
              "        vertical-align: top;\n",
              "    }\n",
              "\n",
              "    .dataframe thead th {\n",
              "        text-align: right;\n",
              "    }\n",
              "</style>\n",
              "<table border=\"1\" class=\"dataframe\">\n",
              "  <thead>\n",
              "    <tr style=\"text-align: right;\">\n",
              "      <th></th>\n",
              "      <th>mean</th>\n",
              "      <th>sd</th>\n",
              "      <th>hdi_3%</th>\n",
              "      <th>hdi_97%</th>\n",
              "      <th>mcse_mean</th>\n",
              "      <th>mcse_sd</th>\n",
              "      <th>ess_bulk</th>\n",
              "      <th>ess_tail</th>\n",
              "      <th>r_hat</th>\n",
              "    </tr>\n",
              "  </thead>\n",
              "  <tbody>\n",
              "    <tr>\n",
              "      <th>alpha</th>\n",
              "      <td>5.819</td>\n",
              "      <td>0.009</td>\n",
              "      <td>5.801</td>\n",
              "      <td>5.835</td>\n",
              "      <td>0.000</td>\n",
              "      <td>0.000</td>\n",
              "      <td>1964.0</td>\n",
              "      <td>1309.0</td>\n",
              "      <td>1.0</td>\n",
              "    </tr>\n",
              "    <tr>\n",
              "      <th>betas[0]</th>\n",
              "      <td>0.087</td>\n",
              "      <td>0.019</td>\n",
              "      <td>0.053</td>\n",
              "      <td>0.125</td>\n",
              "      <td>0.001</td>\n",
              "      <td>0.000</td>\n",
              "      <td>981.0</td>\n",
              "      <td>1124.0</td>\n",
              "      <td>1.0</td>\n",
              "    </tr>\n",
              "    <tr>\n",
              "      <th>betas[1]</th>\n",
              "      <td>-0.218</td>\n",
              "      <td>0.013</td>\n",
              "      <td>-0.242</td>\n",
              "      <td>-0.194</td>\n",
              "      <td>0.000</td>\n",
              "      <td>0.000</td>\n",
              "      <td>1571.0</td>\n",
              "      <td>1390.0</td>\n",
              "      <td>1.0</td>\n",
              "    </tr>\n",
              "    <tr>\n",
              "      <th>betas[2]</th>\n",
              "      <td>-0.016</td>\n",
              "      <td>0.012</td>\n",
              "      <td>-0.039</td>\n",
              "      <td>0.007</td>\n",
              "      <td>0.000</td>\n",
              "      <td>0.000</td>\n",
              "      <td>1813.0</td>\n",
              "      <td>1533.0</td>\n",
              "      <td>1.0</td>\n",
              "    </tr>\n",
              "    <tr>\n",
              "      <th>betas[3]</th>\n",
              "      <td>0.206</td>\n",
              "      <td>0.024</td>\n",
              "      <td>0.162</td>\n",
              "      <td>0.251</td>\n",
              "      <td>0.001</td>\n",
              "      <td>0.001</td>\n",
              "      <td>1038.0</td>\n",
              "      <td>1270.0</td>\n",
              "      <td>1.0</td>\n",
              "    </tr>\n",
              "    <tr>\n",
              "      <th>betas[4]</th>\n",
              "      <td>-0.017</td>\n",
              "      <td>0.012</td>\n",
              "      <td>-0.038</td>\n",
              "      <td>0.005</td>\n",
              "      <td>0.000</td>\n",
              "      <td>0.000</td>\n",
              "      <td>1753.0</td>\n",
              "      <td>1288.0</td>\n",
              "      <td>1.0</td>\n",
              "    </tr>\n",
              "    <tr>\n",
              "      <th>betas[5]</th>\n",
              "      <td>0.105</td>\n",
              "      <td>0.013</td>\n",
              "      <td>0.081</td>\n",
              "      <td>0.130</td>\n",
              "      <td>0.000</td>\n",
              "      <td>0.000</td>\n",
              "      <td>1794.0</td>\n",
              "      <td>1507.0</td>\n",
              "      <td>1.0</td>\n",
              "    </tr>\n",
              "    <tr>\n",
              "      <th>betas[6]</th>\n",
              "      <td>-0.139</td>\n",
              "      <td>0.015</td>\n",
              "      <td>-0.167</td>\n",
              "      <td>-0.110</td>\n",
              "      <td>0.000</td>\n",
              "      <td>0.000</td>\n",
              "      <td>1962.0</td>\n",
              "      <td>1530.0</td>\n",
              "      <td>1.0</td>\n",
              "    </tr>\n",
              "    <tr>\n",
              "      <th>betas[7]</th>\n",
              "      <td>-0.163</td>\n",
              "      <td>0.035</td>\n",
              "      <td>-0.230</td>\n",
              "      <td>-0.098</td>\n",
              "      <td>0.001</td>\n",
              "      <td>0.001</td>\n",
              "      <td>928.0</td>\n",
              "      <td>1103.0</td>\n",
              "      <td>1.0</td>\n",
              "    </tr>\n",
              "    <tr>\n",
              "      <th>betas[8]</th>\n",
              "      <td>0.070</td>\n",
              "      <td>0.014</td>\n",
              "      <td>0.046</td>\n",
              "      <td>0.098</td>\n",
              "      <td>0.000</td>\n",
              "      <td>0.000</td>\n",
              "      <td>1208.0</td>\n",
              "      <td>1584.0</td>\n",
              "      <td>1.0</td>\n",
              "    </tr>\n",
              "    <tr>\n",
              "      <th>betas[9]</th>\n",
              "      <td>0.114</td>\n",
              "      <td>0.011</td>\n",
              "      <td>0.092</td>\n",
              "      <td>0.134</td>\n",
              "      <td>0.000</td>\n",
              "      <td>0.000</td>\n",
              "      <td>1941.0</td>\n",
              "      <td>1360.0</td>\n",
              "      <td>1.0</td>\n",
              "    </tr>\n",
              "    <tr>\n",
              "      <th>betas[10]</th>\n",
              "      <td>0.319</td>\n",
              "      <td>0.020</td>\n",
              "      <td>0.281</td>\n",
              "      <td>0.355</td>\n",
              "      <td>0.001</td>\n",
              "      <td>0.000</td>\n",
              "      <td>1132.0</td>\n",
              "      <td>1196.0</td>\n",
              "      <td>1.0</td>\n",
              "    </tr>\n",
              "    <tr>\n",
              "      <th>epsilon</th>\n",
              "      <td>0.736</td>\n",
              "      <td>0.006</td>\n",
              "      <td>0.723</td>\n",
              "      <td>0.747</td>\n",
              "      <td>0.000</td>\n",
              "      <td>0.000</td>\n",
              "      <td>2330.0</td>\n",
              "      <td>1483.0</td>\n",
              "      <td>1.0</td>\n",
              "    </tr>\n",
              "  </tbody>\n",
              "</table>\n",
              "</div>\n",
              "    <div class=\"colab-df-buttons\">\n",
              "\n",
              "  <div class=\"colab-df-container\">\n",
              "    <button class=\"colab-df-convert\" onclick=\"convertToInteractive('df-45e2254b-2a66-4d1b-bd04-24980104a2a7')\"\n",
              "            title=\"Convert this dataframe to an interactive table.\"\n",
              "            style=\"display:none;\">\n",
              "\n",
              "  <svg xmlns=\"http://www.w3.org/2000/svg\" height=\"24px\" viewBox=\"0 -960 960 960\">\n",
              "    <path d=\"M120-120v-720h720v720H120Zm60-500h600v-160H180v160Zm220 220h160v-160H400v160Zm0 220h160v-160H400v160ZM180-400h160v-160H180v160Zm440 0h160v-160H620v160ZM180-180h160v-160H180v160Zm440 0h160v-160H620v160Z\"/>\n",
              "  </svg>\n",
              "    </button>\n",
              "\n",
              "  <style>\n",
              "    .colab-df-container {\n",
              "      display:flex;\n",
              "      gap: 12px;\n",
              "    }\n",
              "\n",
              "    .colab-df-convert {\n",
              "      background-color: #E8F0FE;\n",
              "      border: none;\n",
              "      border-radius: 50%;\n",
              "      cursor: pointer;\n",
              "      display: none;\n",
              "      fill: #1967D2;\n",
              "      height: 32px;\n",
              "      padding: 0 0 0 0;\n",
              "      width: 32px;\n",
              "    }\n",
              "\n",
              "    .colab-df-convert:hover {\n",
              "      background-color: #E2EBFA;\n",
              "      box-shadow: 0px 1px 2px rgba(60, 64, 67, 0.3), 0px 1px 3px 1px rgba(60, 64, 67, 0.15);\n",
              "      fill: #174EA6;\n",
              "    }\n",
              "\n",
              "    .colab-df-buttons div {\n",
              "      margin-bottom: 4px;\n",
              "    }\n",
              "\n",
              "    [theme=dark] .colab-df-convert {\n",
              "      background-color: #3B4455;\n",
              "      fill: #D2E3FC;\n",
              "    }\n",
              "\n",
              "    [theme=dark] .colab-df-convert:hover {\n",
              "      background-color: #434B5C;\n",
              "      box-shadow: 0px 1px 3px 1px rgba(0, 0, 0, 0.15);\n",
              "      filter: drop-shadow(0px 1px 2px rgba(0, 0, 0, 0.3));\n",
              "      fill: #FFFFFF;\n",
              "    }\n",
              "  </style>\n",
              "\n",
              "    <script>\n",
              "      const buttonEl =\n",
              "        document.querySelector('#df-45e2254b-2a66-4d1b-bd04-24980104a2a7 button.colab-df-convert');\n",
              "      buttonEl.style.display =\n",
              "        google.colab.kernel.accessAllowed ? 'block' : 'none';\n",
              "\n",
              "      async function convertToInteractive(key) {\n",
              "        const element = document.querySelector('#df-45e2254b-2a66-4d1b-bd04-24980104a2a7');\n",
              "        const dataTable =\n",
              "          await google.colab.kernel.invokeFunction('convertToInteractive',\n",
              "                                                    [key], {});\n",
              "        if (!dataTable) return;\n",
              "\n",
              "        const docLinkHtml = 'Like what you see? Visit the ' +\n",
              "          '<a target=\"_blank\" href=https://colab.research.google.com/notebooks/data_table.ipynb>data table notebook</a>'\n",
              "          + ' to learn more about interactive tables.';\n",
              "        element.innerHTML = '';\n",
              "        dataTable['output_type'] = 'display_data';\n",
              "        await google.colab.output.renderOutput(dataTable, element);\n",
              "        const docLink = document.createElement('div');\n",
              "        docLink.innerHTML = docLinkHtml;\n",
              "        element.appendChild(docLink);\n",
              "      }\n",
              "    </script>\n",
              "  </div>\n",
              "\n",
              "\n",
              "<div id=\"df-7af31a7f-ce5b-47a4-90d2-bef9d5aa8e11\">\n",
              "  <button class=\"colab-df-quickchart\" onclick=\"quickchart('df-7af31a7f-ce5b-47a4-90d2-bef9d5aa8e11')\"\n",
              "            title=\"Suggest charts\"\n",
              "            style=\"display:none;\">\n",
              "\n",
              "<svg xmlns=\"http://www.w3.org/2000/svg\" height=\"24px\"viewBox=\"0 0 24 24\"\n",
              "     width=\"24px\">\n",
              "    <g>\n",
              "        <path d=\"M19 3H5c-1.1 0-2 .9-2 2v14c0 1.1.9 2 2 2h14c1.1 0 2-.9 2-2V5c0-1.1-.9-2-2-2zM9 17H7v-7h2v7zm4 0h-2V7h2v10zm4 0h-2v-4h2v4z\"/>\n",
              "    </g>\n",
              "</svg>\n",
              "  </button>\n",
              "\n",
              "<style>\n",
              "  .colab-df-quickchart {\n",
              "      --bg-color: #E8F0FE;\n",
              "      --fill-color: #1967D2;\n",
              "      --hover-bg-color: #E2EBFA;\n",
              "      --hover-fill-color: #174EA6;\n",
              "      --disabled-fill-color: #AAA;\n",
              "      --disabled-bg-color: #DDD;\n",
              "  }\n",
              "\n",
              "  [theme=dark] .colab-df-quickchart {\n",
              "      --bg-color: #3B4455;\n",
              "      --fill-color: #D2E3FC;\n",
              "      --hover-bg-color: #434B5C;\n",
              "      --hover-fill-color: #FFFFFF;\n",
              "      --disabled-bg-color: #3B4455;\n",
              "      --disabled-fill-color: #666;\n",
              "  }\n",
              "\n",
              "  .colab-df-quickchart {\n",
              "    background-color: var(--bg-color);\n",
              "    border: none;\n",
              "    border-radius: 50%;\n",
              "    cursor: pointer;\n",
              "    display: none;\n",
              "    fill: var(--fill-color);\n",
              "    height: 32px;\n",
              "    padding: 0;\n",
              "    width: 32px;\n",
              "  }\n",
              "\n",
              "  .colab-df-quickchart:hover {\n",
              "    background-color: var(--hover-bg-color);\n",
              "    box-shadow: 0 1px 2px rgba(60, 64, 67, 0.3), 0 1px 3px 1px rgba(60, 64, 67, 0.15);\n",
              "    fill: var(--button-hover-fill-color);\n",
              "  }\n",
              "\n",
              "  .colab-df-quickchart-complete:disabled,\n",
              "  .colab-df-quickchart-complete:disabled:hover {\n",
              "    background-color: var(--disabled-bg-color);\n",
              "    fill: var(--disabled-fill-color);\n",
              "    box-shadow: none;\n",
              "  }\n",
              "\n",
              "  .colab-df-spinner {\n",
              "    border: 2px solid var(--fill-color);\n",
              "    border-color: transparent;\n",
              "    border-bottom-color: var(--fill-color);\n",
              "    animation:\n",
              "      spin 1s steps(1) infinite;\n",
              "  }\n",
              "\n",
              "  @keyframes spin {\n",
              "    0% {\n",
              "      border-color: transparent;\n",
              "      border-bottom-color: var(--fill-color);\n",
              "      border-left-color: var(--fill-color);\n",
              "    }\n",
              "    20% {\n",
              "      border-color: transparent;\n",
              "      border-left-color: var(--fill-color);\n",
              "      border-top-color: var(--fill-color);\n",
              "    }\n",
              "    30% {\n",
              "      border-color: transparent;\n",
              "      border-left-color: var(--fill-color);\n",
              "      border-top-color: var(--fill-color);\n",
              "      border-right-color: var(--fill-color);\n",
              "    }\n",
              "    40% {\n",
              "      border-color: transparent;\n",
              "      border-right-color: var(--fill-color);\n",
              "      border-top-color: var(--fill-color);\n",
              "    }\n",
              "    60% {\n",
              "      border-color: transparent;\n",
              "      border-right-color: var(--fill-color);\n",
              "    }\n",
              "    80% {\n",
              "      border-color: transparent;\n",
              "      border-right-color: var(--fill-color);\n",
              "      border-bottom-color: var(--fill-color);\n",
              "    }\n",
              "    90% {\n",
              "      border-color: transparent;\n",
              "      border-bottom-color: var(--fill-color);\n",
              "    }\n",
              "  }\n",
              "</style>\n",
              "\n",
              "  <script>\n",
              "    async function quickchart(key) {\n",
              "      const quickchartButtonEl =\n",
              "        document.querySelector('#' + key + ' button');\n",
              "      quickchartButtonEl.disabled = true;  // To prevent multiple clicks.\n",
              "      quickchartButtonEl.classList.add('colab-df-spinner');\n",
              "      try {\n",
              "        const charts = await google.colab.kernel.invokeFunction(\n",
              "            'suggestCharts', [key], {});\n",
              "      } catch (error) {\n",
              "        console.error('Error during call to suggestCharts:', error);\n",
              "      }\n",
              "      quickchartButtonEl.classList.remove('colab-df-spinner');\n",
              "      quickchartButtonEl.classList.add('colab-df-quickchart-complete');\n",
              "    }\n",
              "    (() => {\n",
              "      let quickchartButtonEl =\n",
              "        document.querySelector('#df-7af31a7f-ce5b-47a4-90d2-bef9d5aa8e11 button');\n",
              "      quickchartButtonEl.style.display =\n",
              "        google.colab.kernel.accessAllowed ? 'block' : 'none';\n",
              "    })();\n",
              "  </script>\n",
              "</div>\n",
              "\n",
              "    </div>\n",
              "  </div>\n"
            ],
            "application/vnd.google.colaboratory.intrinsic+json": {
              "type": "dataframe",
              "summary": "{\n  \"name\": \"az\",\n  \"rows\": 13,\n  \"fields\": [\n    {\n      \"column\": \"mean\",\n      \"properties\": {\n        \"dtype\": \"number\",\n        \"std\": 1.6075760738868108,\n        \"min\": -0.218,\n        \"max\": 5.819,\n        \"num_unique_values\": 13,\n        \"samples\": [\n          0.319,\n          0.07,\n          5.819\n        ],\n        \"semantic_type\": \"\",\n        \"description\": \"\"\n      }\n    },\n    {\n      \"column\": \"sd\",\n      \"properties\": {\n        \"dtype\": \"number\",\n        \"std\": 0.007511529599427599,\n        \"min\": 0.006,\n        \"max\": 0.035,\n        \"num_unique_values\": 11,\n        \"samples\": [\n          0.015,\n          0.009,\n          0.02\n        ],\n        \"semantic_type\": \"\",\n        \"description\": \"\"\n      }\n    },\n    {\n      \"column\": \"hdi_3%\",\n      \"properties\": {\n        \"dtype\": \"number\",\n        \"std\": 1.6116441477492354,\n        \"min\": -0.242,\n        \"max\": 5.801,\n        \"num_unique_values\": 13,\n        \"samples\": [\n          0.281,\n          0.046,\n          5.801\n        ],\n        \"semantic_type\": \"\",\n        \"description\": \"\"\n      }\n    },\n    {\n      \"column\": \"hdi_97%\",\n      \"properties\": {\n        \"dtype\": \"number\",\n        \"std\": 1.6028973006435117,\n        \"min\": -0.194,\n        \"max\": 5.835,\n        \"num_unique_values\": 13,\n        \"samples\": [\n          0.355,\n          0.098,\n          5.835\n        ],\n        \"semantic_type\": \"\",\n        \"description\": \"\"\n      }\n    },\n    {\n      \"column\": \"mcse_mean\",\n      \"properties\": {\n        \"dtype\": \"number\",\n        \"std\": 0.0004803844614152615,\n        \"min\": 0.0,\n        \"max\": 0.001,\n        \"num_unique_values\": 2,\n        \"samples\": [\n          0.001,\n          0.0\n        ],\n        \"semantic_type\": \"\",\n        \"description\": \"\"\n      }\n    },\n    {\n      \"column\": \"mcse_sd\",\n      \"properties\": {\n        \"dtype\": \"number\",\n        \"std\": 0.00037553380809940537,\n        \"min\": 0.0,\n        \"max\": 0.001,\n        \"num_unique_values\": 2,\n        \"samples\": [\n          0.001,\n          0.0\n        ],\n        \"semantic_type\": \"\",\n        \"description\": \"\"\n      }\n    },\n    {\n      \"column\": \"ess_bulk\",\n      \"properties\": {\n        \"dtype\": \"number\",\n        \"std\": 459.3338543408158,\n        \"min\": 928.0,\n        \"max\": 2330.0,\n        \"num_unique_values\": 13,\n        \"samples\": [\n          1132.0,\n          1208.0\n        ],\n        \"semantic_type\": \"\",\n        \"description\": \"\"\n      }\n    },\n    {\n      \"column\": \"ess_tail\",\n      \"properties\": {\n        \"dtype\": \"number\",\n        \"std\": 161.0300975212159,\n        \"min\": 1103.0,\n        \"max\": 1584.0,\n        \"num_unique_values\": 13,\n        \"samples\": [\n          1196.0,\n          1584.0\n        ],\n        \"semantic_type\": \"\",\n        \"description\": \"\"\n      }\n    },\n    {\n      \"column\": \"r_hat\",\n      \"properties\": {\n        \"dtype\": \"number\",\n        \"std\": 0.0,\n        \"min\": 1.0,\n        \"max\": 1.0,\n        \"num_unique_values\": 1,\n        \"samples\": [\n          1.0\n        ],\n        \"semantic_type\": \"\",\n        \"description\": \"\"\n      }\n    }\n  ]\n}"
            }
          },
          "metadata": {},
          "execution_count": 18
        }
      ]
    },
    {
      "cell_type": "code",
      "source": [
        "# Supondo que 'y' é seu vetor de dados observados\n",
        "analise_priori(lasso_trace_prior, y)"
      ],
      "metadata": {
        "colab": {
          "base_uri": "https://localhost:8080/",
          "height": 1000
        },
        "id": "0b67840z8jqH",
        "outputId": "0d31f1fd-2aae-46f3-c1cd-b44cebe65f38"
      },
      "execution_count": 19,
      "outputs": [
        {
          "output_type": "stream",
          "name": "stderr",
          "text": [
            "<ipython-input-6-4581fe9e5373>:43: UserWarning: This figure includes Axes that are not compatible with tight_layout, so results might be incorrect.\n",
            "  plt.tight_layout()\n"
          ]
        },
        {
          "output_type": "execute_result",
          "data": {
            "text/plain": [
              "(<Figure size 1000x1000 with 6 Axes>,\n",
              " array([[<Axes: xlabel='Betas', ylabel='Contagem'>,\n",
              "         <Axes: xlabel='Previsões a Priori (Y_obs)', ylabel='Contagem'>],\n",
              "        [<Axes: title={'center': 'Previsões a Priori'}, xlabel='Observado', ylabel='Previsões'>,\n",
              "         <Axes: >],\n",
              "        [<Axes: xlabel='Y_obs'>, <Axes: xlabel='Y_obs'>]], dtype=object))"
            ]
          },
          "metadata": {},
          "execution_count": 19
        },
        {
          "output_type": "stream",
          "name": "stderr",
          "text": [
            "/usr/local/lib/python3.10/dist-packages/IPython/core/events.py:89: UserWarning: Creating legend with loc=\"best\" can be slow with large amounts of data.\n",
            "  func(*args, **kwargs)\n",
            "/usr/local/lib/python3.10/dist-packages/IPython/core/pylabtools.py:151: UserWarning: Creating legend with loc=\"best\" can be slow with large amounts of data.\n",
            "  fig.canvas.print_figure(bytes_io, **kw)\n"
          ]
        },
        {
          "output_type": "display_data",
          "data": {
            "text/plain": [
              "<Figure size 1000x1000 with 6 Axes>"
            ],
            "image/png": "[encoded data removed]"
          },
          "metadata": {}
        }
      ]
    },
    {
      "cell_type": "code",
      "source": [
        "\n",
        "pm.model_to_graphviz(model_lasso)"
      ],
      "metadata": {
        "colab": {
          "base_uri": "https://localhost:8080/",
          "height": 368
        },
        "id": "VZj-Ou8y8x1u",
        "outputId": "3a40c8ad-6b23-4af5-a178-abf691d4f052"
      },
      "execution_count": 20,
      "outputs": [
        {
          "output_type": "execute_result",
          "data": {
            "image/svg+xml": "<?xml version=\"1.0\" encoding=\"UTF-8\" standalone=\"no\"?>\n<!DOCTYPE svg PUBLIC \"-//W3C//DTD SVG 1.1//EN\"\n \"http://www.w3.org/Graphics/SVG/1.1/DTD/svg11.dtd\">\n<!-- Generated by graphviz version 2.43.0 (0)\n -->\n<!-- Title: %3 Pages: 1 -->\n<svg width=\"313pt\" height=\"260pt\"\n viewBox=\"0.00 0.00 313.13 259.91\" xmlns=\"http://www.w3.org/2000/svg\" xmlns:xlink=\"http://www.w3.org/1999/xlink\">\n<g id=\"graph0\" class=\"graph\" transform=\"scale(1 1) rotate(0) translate(4 255.91)\">\n<title>%3</title>\n<polygon fill=\"white\" stroke=\"transparent\" points=\"-4,4 -4,-255.91 309.13,-255.91 309.13,4 -4,4\"/>\n<g id=\"clust1\" class=\"cluster\">\n<title>clusterfeatures (11)</title>\n<path fill=\"none\" stroke=\"black\" d=\"M209.13,-129.95C209.13,-129.95 285.13,-129.95 285.13,-129.95 291.13,-129.95 297.13,-135.95 297.13,-141.95 297.13,-141.95 297.13,-231.91 297.13,-231.91 297.13,-237.91 291.13,-243.91 285.13,-243.91 285.13,-243.91 209.13,-243.91 209.13,-243.91 203.13,-243.91 197.13,-237.91 197.13,-231.91 197.13,-231.91 197.13,-141.95 197.13,-141.95 197.13,-135.95 203.13,-129.95 209.13,-129.95\"/>\n<text text-anchor=\"middle\" x=\"254.13\" y=\"-137.75\" font-family=\"Times,serif\" font-size=\"14.00\">features (11)</text>\n</g>\n<g id=\"clust2\" class=\"cluster\">\n<title>cluster6497</title>\n<path fill=\"none\" stroke=\"black\" d=\"M108.13,-8C108.13,-8 184.13,-8 184.13,-8 190.13,-8 196.13,-14 196.13,-20 196.13,-20 196.13,-109.95 196.13,-109.95 196.13,-115.95 190.13,-121.95 184.13,-121.95 184.13,-121.95 108.13,-121.95 108.13,-121.95 102.13,-121.95 96.13,-115.95 96.13,-109.95 96.13,-109.95 96.13,-20 96.13,-20 96.13,-14 102.13,-8 108.13,-8\"/>\n<text text-anchor=\"middle\" x=\"174.13\" y=\"-15.8\" font-family=\"Times,serif\" font-size=\"14.00\">6497</text>\n</g>\n<!-- epsilon -->\n<g id=\"node1\" class=\"node\">\n<title>epsilon</title>\n<ellipse fill=\"none\" stroke=\"black\" cx=\"43.13\" cy=\"-198.43\" rx=\"43.27\" ry=\"37.45\"/>\n<text text-anchor=\"middle\" x=\"43.13\" y=\"-209.73\" font-family=\"Times,serif\" font-size=\"14.00\">epsilon</text>\n<text text-anchor=\"middle\" x=\"43.13\" y=\"-194.73\" font-family=\"Times,serif\" font-size=\"14.00\">~</text>\n<text text-anchor=\"middle\" x=\"43.13\" y=\"-179.73\" font-family=\"Times,serif\" font-size=\"14.00\">Gamma</text>\n</g>\n<!-- Y_obs -->\n<g id=\"node4\" class=\"node\">\n<title>Y_obs</title>\n<ellipse fill=\"lightgrey\" stroke=\"black\" cx=\"146.13\" cy=\"-76.48\" rx=\"41.94\" ry=\"37.45\"/>\n<text text-anchor=\"middle\" x=\"146.13\" y=\"-87.78\" font-family=\"Times,serif\" font-size=\"14.00\">Y_obs</text>\n<text text-anchor=\"middle\" x=\"146.13\" y=\"-72.78\" font-family=\"Times,serif\" font-size=\"14.00\">~</text>\n<text text-anchor=\"middle\" x=\"146.13\" y=\"-57.78\" font-family=\"Times,serif\" font-size=\"14.00\">Normal</text>\n</g>\n<!-- epsilon&#45;&gt;Y_obs -->\n<g id=\"edge2\" class=\"edge\">\n<title>epsilon&#45;&gt;Y_obs</title>\n<path fill=\"none\" stroke=\"black\" d=\"M65.97,-166.27C74.79,-154.64 85.16,-141.47 95.13,-129.95 100.28,-124.01 105.92,-117.88 111.51,-111.99\"/>\n<polygon fill=\"black\" stroke=\"black\" points=\"114.12,-114.33 118.53,-104.7 109.07,-109.48 114.12,-114.33\"/>\n</g>\n<!-- alpha -->\n<g id=\"node2\" class=\"node\">\n<title>alpha</title>\n<ellipse fill=\"none\" stroke=\"black\" cx=\"146.13\" cy=\"-198.43\" rx=\"41.94\" ry=\"37.45\"/>\n<text text-anchor=\"middle\" x=\"146.13\" y=\"-209.73\" font-family=\"Times,serif\" font-size=\"14.00\">alpha</text>\n<text text-anchor=\"middle\" x=\"146.13\" y=\"-194.73\" font-family=\"Times,serif\" font-size=\"14.00\">~</text>\n<text text-anchor=\"middle\" x=\"146.13\" y=\"-179.73\" font-family=\"Times,serif\" font-size=\"14.00\">Normal</text>\n</g>\n<!-- alpha&#45;&gt;Y_obs -->\n<g id=\"edge3\" class=\"edge\">\n<title>alpha&#45;&gt;Y_obs</title>\n<path fill=\"none\" stroke=\"black\" d=\"M146.13,-160.79C146.13,-149.38 146.13,-136.65 146.13,-124.63\"/>\n<polygon fill=\"black\" stroke=\"black\" points=\"149.63,-124.31 146.13,-114.31 142.63,-124.31 149.63,-124.31\"/>\n</g>\n<!-- betas -->\n<g id=\"node3\" class=\"node\">\n<title>betas</title>\n<ellipse fill=\"none\" stroke=\"black\" cx=\"247.13\" cy=\"-198.43\" rx=\"41.94\" ry=\"37.45\"/>\n<text text-anchor=\"middle\" x=\"247.13\" y=\"-209.73\" font-family=\"Times,serif\" font-size=\"14.00\">betas</text>\n<text text-anchor=\"middle\" x=\"247.13\" y=\"-194.73\" font-family=\"Times,serif\" font-size=\"14.00\">~</text>\n<text text-anchor=\"middle\" x=\"247.13\" y=\"-179.73\" font-family=\"Times,serif\" font-size=\"14.00\">Laplace</text>\n</g>\n<!-- betas&#45;&gt;Y_obs -->\n<g id=\"edge1\" class=\"edge\">\n<title>betas&#45;&gt;Y_obs</title>\n<path fill=\"none\" stroke=\"black\" d=\"M225.32,-166.2C216.85,-154.55 206.86,-141.4 197.13,-129.95 192.04,-123.96 186.43,-117.8 180.85,-111.91\"/>\n<polygon fill=\"black\" stroke=\"black\" points=\"183.3,-109.39 173.84,-104.61 178.25,-114.24 183.3,-109.39\"/>\n</g>\n</g>\n</svg>\n",
            "text/plain": [
              "<graphviz.graphs.Digraph at 0x7d3a2e8e84c0>"
            ]
          },
          "metadata": {},
          "execution_count": 20
        }
      ]
    },
    {
      "cell_type": "code",
      "source": [
        "with model_lasso:\n",
        "  trace_pos_lasso = pm.sample_posterior_predictive(trace_lasso)\n",
        "\n",
        "analise_posteriori(trace_pos_lasso)"
      ],
      "metadata": {
        "colab": {
          "base_uri": "https://localhost:8080/",
          "height": 598,
          "referenced_widgets": [
            "ca59cb6fecae489ca907ca54b8aa7657",
            "8b70b5b935204b9588010e23a3b7b3d8"
          ]
        },
        "id": "Of8j8Nfb9QY-",
        "outputId": "399f6eca-4791-4f09-f27d-a78bd46e8609"
      },
      "execution_count": 21,
      "outputs": [
        {
          "output_type": "display_data",
          "data": {
            "text/plain": [
              "Output()"
            ],
            "application/vnd.jupyter.widget-view+json": {
              "version_major": 2,
              "version_minor": 0,
              "model_id": "ca59cb6fecae489ca907ca54b8aa7657"
            }
          },
          "metadata": {}
        },
        {
          "output_type": "display_data",
          "data": {
            "text/plain": [],
            "text/html": [
              "<pre style=\"white-space:pre;overflow-x:auto;line-height:normal;font-family:Menlo,'DejaVu Sans Mono',consolas,'Courier New',monospace\"></pre>\n"
            ]
          },
          "metadata": {}
        },
        {
          "output_type": "execute_result",
          "data": {
            "text/plain": [
              "(<Figure size 1000x500 with 2 Axes>,\n",
              " array([<Axes: xlabel='Y_obs'>, <Axes: xlabel='Y_obs'>], dtype=object))"
            ]
          },
          "metadata": {},
          "execution_count": 21
        },
        {
          "output_type": "stream",
          "name": "stderr",
          "text": [
            "/usr/local/lib/python3.10/dist-packages/IPython/core/events.py:89: UserWarning: Creating legend with loc=\"best\" can be slow with large amounts of data.\n",
            "  func(*args, **kwargs)\n",
            "/usr/local/lib/python3.10/dist-packages/IPython/core/pylabtools.py:151: UserWarning: Creating legend with loc=\"best\" can be slow with large amounts of data.\n",
            "  fig.canvas.print_figure(bytes_io, **kw)\n"
          ]
        },
        {
          "output_type": "display_data",
          "data": {
            "text/plain": [
              "<Figure size 1000x500 with 2 Axes>"
            ],
            "image/png": "[encoded data removed]"
          },
          "metadata": {}
        }
      ]
    },
    {
      "cell_type": "markdown",
      "source": [
        "HIERARQUICO"
      ],
      "metadata": {
        "id": "xvLsvaBI9zoC"
      }
    },
    {
      "cell_type": "code",
      "source": [
        "# Criar o modelo Bayesiano Hierárquico\n",
        "with pm.Model(coords=coords) as model_hierarchical:\n",
        "    # Priori para o intercepto (alpha)\n",
        "    alpha = pm.Normal('alpha', mu=0, sigma=10)\n",
        "\n",
        "    # Priori hiperparamétrica para o desvio padrão das Laplaces dos betas\n",
        "    b_hyper = pm.Gamma('b_hyper', alpha=2, beta=1)\n",
        "\n",
        "    # Priori hierárquica para os coeficientes de regressão (betas) com distribuição Laplace\n",
        "    betas = pm.Laplace('betas', mu=0, b=b_hyper, dims='features')\n",
        "\n",
        "    # Priori hiperparamétrica para o desvio padrão do erro (epsilon)\n",
        "    epsilon_hyper = pm.Gamma('epsilon_hyper', alpha=2, beta=1)\n",
        "    epsilon = pm.HalfNormal('epsilon', sigma=epsilon_hyper)\n",
        "\n",
        "    # Definir a equação do modelo linear\n",
        "    mu = alpha + pt.dot(X_scaled, betas)\n",
        "\n",
        "    # Definir a verossimilhança (Normal)\n",
        "    likelihood = pm.Normal('Y_obs', mu=mu, sigma=epsilon, observed=y)\n",
        "\n",
        "    # Amostrar da distribuição a priori\n",
        "    trace_prior_hierarchical = pm.sample_prior_predictive()\n",
        "\n",
        "    # Amostrar da distribuição posterior\n",
        "    trace_hierarchical = pm.sample(1000, tune=1000, target_accept=0.95)\n",
        "\n",
        "    # Calcular log_likelihood\n",
        "    pm.compute_log_likelihood(trace_hierarchical)\n",
        "\n",
        "# Exibir o resumo dos parâmetros ajustados\n",
        "\n",
        "az.summary(trace_hierarchical)\n"
      ],
      "metadata": {
        "colab": {
          "base_uri": "https://localhost:8080/",
          "height": 572,
          "referenced_widgets": [
            "73b5d62bc0104cee8f08f91aa2154058",
            "cc767d4fa0184e34a374e26a6e67fb93",
            "f221df7aa00a42539520f0c6dbb5f117",
            "08a7a6b080764086bcb7e95e993bd3d1",
            "7f605ae674ab4fd2877c02dc9025da2d",
            "6584b9d5335a44778222117ee6ce476a"
          ]
        },
        "id": "GRxd-LR69wf2",
        "outputId": "28e0bbe1-27be-48f1-9239-89bf9b594dcd"
      },
      "execution_count": 22,
      "outputs": [
        {
          "output_type": "display_data",
          "data": {
            "text/plain": [
              "Output()"
            ],
            "application/vnd.jupyter.widget-view+json": {
              "version_major": 2,
              "version_minor": 0,
              "model_id": "73b5d62bc0104cee8f08f91aa2154058"
            }
          },
          "metadata": {}
        },
        {
          "output_type": "display_data",
          "data": {
            "text/plain": [],
            "text/html": [
              "<pre style=\"white-space:pre;overflow-x:auto;line-height:normal;font-family:Menlo,'DejaVu Sans Mono',consolas,'Courier New',monospace\"></pre>\n"
            ]
          },
          "metadata": {}
        },
        {
          "output_type": "display_data",
          "data": {
            "text/plain": [
              "Output()"
            ],
            "application/vnd.jupyter.widget-view+json": {
              "version_major": 2,
              "version_minor": 0,
              "model_id": "f221df7aa00a42539520f0c6dbb5f117"
            }
          },
          "metadata": {}
        },
        {
          "output_type": "display_data",
          "data": {
            "text/plain": [],
            "text/html": [
              "<pre style=\"white-space:pre;overflow-x:auto;line-height:normal;font-family:Menlo,'DejaVu Sans Mono',consolas,'Courier New',monospace\"></pre>\n"
            ]
          },
          "metadata": {}
        },
        {
          "output_type": "display_data",
          "data": {
            "text/plain": [
              "Output()"
            ],
            "application/vnd.jupyter.widget-view+json": {
              "version_major": 2,
              "version_minor": 0,
              "model_id": "7f605ae674ab4fd2877c02dc9025da2d"
            }
          },
          "metadata": {}
        },
        {
          "output_type": "display_data",
          "data": {
            "text/plain": [],
            "text/html": [
              "<pre style=\"white-space:pre;overflow-x:auto;line-height:normal;font-family:Menlo,'DejaVu Sans Mono',consolas,'Courier New',monospace\"></pre>\n"
            ]
          },
          "metadata": {}
        },
        {
          "output_type": "execute_result",
          "data": {
            "text/plain": [
              "                mean     sd  hdi_3%  hdi_97%  mcse_mean  mcse_sd  ess_bulk  \\\n",
              "alpha          5.818  0.009   5.801    5.836      0.000    0.000    1943.0   \n",
              "b_hyper        0.173  0.064   0.074    0.287      0.002    0.001    1946.0   \n",
              "betas[0]       0.078  0.020   0.040    0.117      0.001    0.000     906.0   \n",
              "betas[1]      -0.219  0.012  -0.242   -0.196      0.000    0.000    1495.0   \n",
              "betas[2]      -0.014  0.012  -0.036    0.008      0.000    0.000    1550.0   \n",
              "betas[3]       0.196  0.025   0.150    0.242      0.001    0.001     797.0   \n",
              "betas[4]      -0.017  0.011  -0.037    0.005      0.000    0.000    1663.0   \n",
              "betas[5]       0.104  0.013   0.079    0.130      0.000    0.000    1623.0   \n",
              "betas[6]      -0.137  0.016  -0.164   -0.105      0.000    0.000    1422.0   \n",
              "betas[7]      -0.148  0.036  -0.220   -0.084      0.001    0.001     738.0   \n",
              "betas[8]       0.065  0.014   0.039    0.093      0.000    0.000     886.0   \n",
              "betas[9]       0.112  0.011   0.093    0.134      0.000    0.000    1842.0   \n",
              "betas[10]      0.326  0.019   0.291    0.364      0.001    0.000     935.0   \n",
              "epsilon        0.735  0.006   0.723    0.747      0.000    0.000    2621.0   \n",
              "epsilon_hyper  1.610  1.061   0.325    3.625      0.027    0.020    1934.0   \n",
              "\n",
              "               ess_tail  r_hat  \n",
              "alpha            1139.0   1.00  \n",
              "b_hyper          1204.0   1.00  \n",
              "betas[0]         1124.0   1.01  \n",
              "betas[1]         1549.0   1.00  \n",
              "betas[2]         1369.0   1.00  \n",
              "betas[3]         1150.0   1.01  \n",
              "betas[4]         1270.0   1.00  \n",
              "betas[5]         1577.0   1.00  \n",
              "betas[6]         1320.0   1.00  \n",
              "betas[7]          938.0   1.01  \n",
              "betas[8]         1273.0   1.01  \n",
              "betas[9]         1426.0   1.00  \n",
              "betas[10]        1132.0   1.01  \n",
              "epsilon          1496.0   1.00  \n",
              "epsilon_hyper    1304.0   1.00  "
            ],
            "text/html": [
              "\n",
              "  <div id=\"df-967636ed-4c4b-4df3-a923-6e515e9b9cd8\" class=\"colab-df-container\">\n",
              "    <div>\n",
              "<style scoped>\n",
              "    .dataframe tbody tr th:only-of-type {\n",
              "        vertical-align: middle;\n",
              "    }\n",
              "\n",
              "    .dataframe tbody tr th {\n",
              "        vertical-align: top;\n",
              "    }\n",
              "\n",
              "    .dataframe thead th {\n",
              "        text-align: right;\n",
              "    }\n",
              "</style>\n",
              "<table border=\"1\" class=\"dataframe\">\n",
              "  <thead>\n",
              "    <tr style=\"text-align: right;\">\n",
              "      <th></th>\n",
              "      <th>mean</th>\n",
              "      <th>sd</th>\n",
              "      <th>hdi_3%</th>\n",
              "      <th>hdi_97%</th>\n",
              "      <th>mcse_mean</th>\n",
              "      <th>mcse_sd</th>\n",
              "      <th>ess_bulk</th>\n",
              "      <th>ess_tail</th>\n",
              "      <th>r_hat</th>\n",
              "    </tr>\n",
              "  </thead>\n",
              "  <tbody>\n",
              "    <tr>\n",
              "      <th>alpha</th>\n",
              "      <td>5.818</td>\n",
              "      <td>0.009</td>\n",
              "      <td>5.801</td>\n",
              "      <td>5.836</td>\n",
              "      <td>0.000</td>\n",
              "      <td>0.000</td>\n",
              "      <td>1943.0</td>\n",
              "      <td>1139.0</td>\n",
              "      <td>1.00</td>\n",
              "    </tr>\n",
              "    <tr>\n",
              "      <th>b_hyper</th>\n",
              "      <td>0.173</td>\n",
              "      <td>0.064</td>\n",
              "      <td>0.074</td>\n",
              "      <td>0.287</td>\n",
              "      <td>0.002</td>\n",
              "      <td>0.001</td>\n",
              "      <td>1946.0</td>\n",
              "      <td>1204.0</td>\n",
              "      <td>1.00</td>\n",
              "    </tr>\n",
              "    <tr>\n",
              "      <th>betas[0]</th>\n",
              "      <td>0.078</td>\n",
              "      <td>0.020</td>\n",
              "      <td>0.040</td>\n",
              "      <td>0.117</td>\n",
              "      <td>0.001</td>\n",
              "      <td>0.000</td>\n",
              "      <td>906.0</td>\n",
              "      <td>1124.0</td>\n",
              "      <td>1.01</td>\n",
              "    </tr>\n",
              "    <tr>\n",
              "      <th>betas[1]</th>\n",
              "      <td>-0.219</td>\n",
              "      <td>0.012</td>\n",
              "      <td>-0.242</td>\n",
              "      <td>-0.196</td>\n",
              "      <td>0.000</td>\n",
              "      <td>0.000</td>\n",
              "      <td>1495.0</td>\n",
              "      <td>1549.0</td>\n",
              "      <td>1.00</td>\n",
              "    </tr>\n",
              "    <tr>\n",
              "      <th>betas[2]</th>\n",
              "      <td>-0.014</td>\n",
              "      <td>0.012</td>\n",
              "      <td>-0.036</td>\n",
              "      <td>0.008</td>\n",
              "      <td>0.000</td>\n",
              "      <td>0.000</td>\n",
              "      <td>1550.0</td>\n",
              "      <td>1369.0</td>\n",
              "      <td>1.00</td>\n",
              "    </tr>\n",
              "    <tr>\n",
              "      <th>betas[3]</th>\n",
              "      <td>0.196</td>\n",
              "      <td>0.025</td>\n",
              "      <td>0.150</td>\n",
              "      <td>0.242</td>\n",
              "      <td>0.001</td>\n",
              "      <td>0.001</td>\n",
              "      <td>797.0</td>\n",
              "      <td>1150.0</td>\n",
              "      <td>1.01</td>\n",
              "    </tr>\n",
              "    <tr>\n",
              "      <th>betas[4]</th>\n",
              "      <td>-0.017</td>\n",
              "      <td>0.011</td>\n",
              "      <td>-0.037</td>\n",
              "      <td>0.005</td>\n",
              "      <td>0.000</td>\n",
              "      <td>0.000</td>\n",
              "      <td>1663.0</td>\n",
              "      <td>1270.0</td>\n",
              "      <td>1.00</td>\n",
              "    </tr>\n",
              "    <tr>\n",
              "      <th>betas[5]</th>\n",
              "      <td>0.104</td>\n",
              "      <td>0.013</td>\n",
              "      <td>0.079</td>\n",
              "      <td>0.130</td>\n",
              "      <td>0.000</td>\n",
              "      <td>0.000</td>\n",
              "      <td>1623.0</td>\n",
              "      <td>1577.0</td>\n",
              "      <td>1.00</td>\n",
              "    </tr>\n",
              "    <tr>\n",
              "      <th>betas[6]</th>\n",
              "      <td>-0.137</td>\n",
              "      <td>0.016</td>\n",
              "      <td>-0.164</td>\n",
              "      <td>-0.105</td>\n",
              "      <td>0.000</td>\n",
              "      <td>0.000</td>\n",
              "      <td>1422.0</td>\n",
              "      <td>1320.0</td>\n",
              "      <td>1.00</td>\n",
              "    </tr>\n",
              "    <tr>\n",
              "      <th>betas[7]</th>\n",
              "      <td>-0.148</td>\n",
              "      <td>0.036</td>\n",
              "      <td>-0.220</td>\n",
              "      <td>-0.084</td>\n",
              "      <td>0.001</td>\n",
              "      <td>0.001</td>\n",
              "      <td>738.0</td>\n",
              "      <td>938.0</td>\n",
              "      <td>1.01</td>\n",
              "    </tr>\n",
              "    <tr>\n",
              "      <th>betas[8]</th>\n",
              "      <td>0.065</td>\n",
              "      <td>0.014</td>\n",
              "      <td>0.039</td>\n",
              "      <td>0.093</td>\n",
              "      <td>0.000</td>\n",
              "      <td>0.000</td>\n",
              "      <td>886.0</td>\n",
              "      <td>1273.0</td>\n",
              "      <td>1.01</td>\n",
              "    </tr>\n",
              "    <tr>\n",
              "      <th>betas[9]</th>\n",
              "      <td>0.112</td>\n",
              "      <td>0.011</td>\n",
              "      <td>0.093</td>\n",
              "      <td>0.134</td>\n",
              "      <td>0.000</td>\n",
              "      <td>0.000</td>\n",
              "      <td>1842.0</td>\n",
              "      <td>1426.0</td>\n",
              "      <td>1.00</td>\n",
              "    </tr>\n",
              "    <tr>\n",
              "      <th>betas[10]</th>\n",
              "      <td>0.326</td>\n",
              "      <td>0.019</td>\n",
              "      <td>0.291</td>\n",
              "      <td>0.364</td>\n",
              "      <td>0.001</td>\n",
              "      <td>0.000</td>\n",
              "      <td>935.0</td>\n",
              "      <td>1132.0</td>\n",
              "      <td>1.01</td>\n",
              "    </tr>\n",
              "    <tr>\n",
              "      <th>epsilon</th>\n",
              "      <td>0.735</td>\n",
              "      <td>0.006</td>\n",
              "      <td>0.723</td>\n",
              "      <td>0.747</td>\n",
              "      <td>0.000</td>\n",
              "      <td>0.000</td>\n",
              "      <td>2621.0</td>\n",
              "      <td>1496.0</td>\n",
              "      <td>1.00</td>\n",
              "    </tr>\n",
              "    <tr>\n",
              "      <th>epsilon_hyper</th>\n",
              "      <td>1.610</td>\n",
              "      <td>1.061</td>\n",
              "      <td>0.325</td>\n",
              "      <td>3.625</td>\n",
              "      <td>0.027</td>\n",
              "      <td>0.020</td>\n",
              "      <td>1934.0</td>\n",
              "      <td>1304.0</td>\n",
              "      <td>1.00</td>\n",
              "    </tr>\n",
              "  </tbody>\n",
              "</table>\n",
              "</div>\n",
              "    <div class=\"colab-df-buttons\">\n",
              "\n",
              "  <div class=\"colab-df-container\">\n",
              "    <button class=\"colab-df-convert\" onclick=\"convertToInteractive('df-967636ed-4c4b-4df3-a923-6e515e9b9cd8')\"\n",
              "            title=\"Convert this dataframe to an interactive table.\"\n",
              "            style=\"display:none;\">\n",
              "\n",
              "  <svg xmlns=\"http://www.w3.org/2000/svg\" height=\"24px\" viewBox=\"0 -960 960 960\">\n",
              "    <path d=\"M120-120v-720h720v720H120Zm60-500h600v-160H180v160Zm220 220h160v-160H400v160Zm0 220h160v-160H400v160ZM180-400h160v-160H180v160Zm440 0h160v-160H620v160ZM180-180h160v-160H180v160Zm440 0h160v-160H620v160Z\"/>\n",
              "  </svg>\n",
              "    </button>\n",
              "\n",
              "  <style>\n",
              "    .colab-df-container {\n",
              "      display:flex;\n",
              "      gap: 12px;\n",
              "    }\n",
              "\n",
              "    .colab-df-convert {\n",
              "      background-color: #E8F0FE;\n",
              "      border: none;\n",
              "      border-radius: 50%;\n",
              "      cursor: pointer;\n",
              "      display: none;\n",
              "      fill: #1967D2;\n",
              "      height: 32px;\n",
              "      padding: 0 0 0 0;\n",
              "      width: 32px;\n",
              "    }\n",
              "\n",
              "    .colab-df-convert:hover {\n",
              "      background-color: #E2EBFA;\n",
              "      box-shadow: 0px 1px 2px rgba(60, 64, 67, 0.3), 0px 1px 3px 1px rgba(60, 64, 67, 0.15);\n",
              "      fill: #174EA6;\n",
              "    }\n",
              "\n",
              "    .colab-df-buttons div {\n",
              "      margin-bottom: 4px;\n",
              "    }\n",
              "\n",
              "    [theme=dark] .colab-df-convert {\n",
              "      background-color: #3B4455;\n",
              "      fill: #D2E3FC;\n",
              "    }\n",
              "\n",
              "    [theme=dark] .colab-df-convert:hover {\n",
              "      background-color: #434B5C;\n",
              "      box-shadow: 0px 1px 3px 1px rgba(0, 0, 0, 0.15);\n",
              "      filter: drop-shadow(0px 1px 2px rgba(0, 0, 0, 0.3));\n",
              "      fill: #FFFFFF;\n",
              "    }\n",
              "  </style>\n",
              "\n",
              "    <script>\n",
              "      const buttonEl =\n",
              "        document.querySelector('#df-967636ed-4c4b-4df3-a923-6e515e9b9cd8 button.colab-df-convert');\n",
              "      buttonEl.style.display =\n",
              "        google.colab.kernel.accessAllowed ? 'block' : 'none';\n",
              "\n",
              "      async function convertToInteractive(key) {\n",
              "        const element = document.querySelector('#df-967636ed-4c4b-4df3-a923-6e515e9b9cd8');\n",
              "        const dataTable =\n",
              "          await google.colab.kernel.invokeFunction('convertToInteractive',\n",
              "                                                    [key], {});\n",
              "        if (!dataTable) return;\n",
              "\n",
              "        const docLinkHtml = 'Like what you see? Visit the ' +\n",
              "          '<a target=\"_blank\" href=https://colab.research.google.com/notebooks/data_table.ipynb>data table notebook</a>'\n",
              "          + ' to learn more about interactive tables.';\n",
              "        element.innerHTML = '';\n",
              "        dataTable['output_type'] = 'display_data';\n",
              "        await google.colab.output.renderOutput(dataTable, element);\n",
              "        const docLink = document.createElement('div');\n",
              "        docLink.innerHTML = docLinkHtml;\n",
              "        element.appendChild(docLink);\n",
              "      }\n",
              "    </script>\n",
              "  </div>\n",
              "\n",
              "\n",
              "<div id=\"df-8e9bd2f7-ebee-4a0e-9a67-3b51cd941d5e\">\n",
              "  <button class=\"colab-df-quickchart\" onclick=\"quickchart('df-8e9bd2f7-ebee-4a0e-9a67-3b51cd941d5e')\"\n",
              "            title=\"Suggest charts\"\n",
              "            style=\"display:none;\">\n",
              "\n",
              "<svg xmlns=\"http://www.w3.org/2000/svg\" height=\"24px\"viewBox=\"0 0 24 24\"\n",
              "     width=\"24px\">\n",
              "    <g>\n",
              "        <path d=\"M19 3H5c-1.1 0-2 .9-2 2v14c0 1.1.9 2 2 2h14c1.1 0 2-.9 2-2V5c0-1.1-.9-2-2-2zM9 17H7v-7h2v7zm4 0h-2V7h2v10zm4 0h-2v-4h2v4z\"/>\n",
              "    </g>\n",
              "</svg>\n",
              "  </button>\n",
              "\n",
              "<style>\n",
              "  .colab-df-quickchart {\n",
              "      --bg-color: #E8F0FE;\n",
              "      --fill-color: #1967D2;\n",
              "      --hover-bg-color: #E2EBFA;\n",
              "      --hover-fill-color: #174EA6;\n",
              "      --disabled-fill-color: #AAA;\n",
              "      --disabled-bg-color: #DDD;\n",
              "  }\n",
              "\n",
              "  [theme=dark] .colab-df-quickchart {\n",
              "      --bg-color: #3B4455;\n",
              "      --fill-color: #D2E3FC;\n",
              "      --hover-bg-color: #434B5C;\n",
              "      --hover-fill-color: #FFFFFF;\n",
              "      --disabled-bg-color: #3B4455;\n",
              "      --disabled-fill-color: #666;\n",
              "  }\n",
              "\n",
              "  .colab-df-quickchart {\n",
              "    background-color: var(--bg-color);\n",
              "    border: none;\n",
              "    border-radius: 50%;\n",
              "    cursor: pointer;\n",
              "    display: none;\n",
              "    fill: var(--fill-color);\n",
              "    height: 32px;\n",
              "    padding: 0;\n",
              "    width: 32px;\n",
              "  }\n",
              "\n",
              "  .colab-df-quickchart:hover {\n",
              "    background-color: var(--hover-bg-color);\n",
              "    box-shadow: 0 1px 2px rgba(60, 64, 67, 0.3), 0 1px 3px 1px rgba(60, 64, 67, 0.15);\n",
              "    fill: var(--button-hover-fill-color);\n",
              "  }\n",
              "\n",
              "  .colab-df-quickchart-complete:disabled,\n",
              "  .colab-df-quickchart-complete:disabled:hover {\n",
              "    background-color: var(--disabled-bg-color);\n",
              "    fill: var(--disabled-fill-color);\n",
              "    box-shadow: none;\n",
              "  }\n",
              "\n",
              "  .colab-df-spinner {\n",
              "    border: 2px solid var(--fill-color);\n",
              "    border-color: transparent;\n",
              "    border-bottom-color: var(--fill-color);\n",
              "    animation:\n",
              "      spin 1s steps(1) infinite;\n",
              "  }\n",
              "\n",
              "  @keyframes spin {\n",
              "    0% {\n",
              "      border-color: transparent;\n",
              "      border-bottom-color: var(--fill-color);\n",
              "      border-left-color: var(--fill-color);\n",
              "    }\n",
              "    20% {\n",
              "      border-color: transparent;\n",
              "      border-left-color: var(--fill-color);\n",
              "      border-top-color: var(--fill-color);\n",
              "    }\n",
              "    30% {\n",
              "      border-color: transparent;\n",
              "      border-left-color: var(--fill-color);\n",
              "      border-top-color: var(--fill-color);\n",
              "      border-right-color: var(--fill-color);\n",
              "    }\n",
              "    40% {\n",
              "      border-color: transparent;\n",
              "      border-right-color: var(--fill-color);\n",
              "      border-top-color: var(--fill-color);\n",
              "    }\n",
              "    60% {\n",
              "      border-color: transparent;\n",
              "      border-right-color: var(--fill-color);\n",
              "    }\n",
              "    80% {\n",
              "      border-color: transparent;\n",
              "      border-right-color: var(--fill-color);\n",
              "      border-bottom-color: var(--fill-color);\n",
              "    }\n",
              "    90% {\n",
              "      border-color: transparent;\n",
              "      border-bottom-color: var(--fill-color);\n",
              "    }\n",
              "  }\n",
              "</style>\n",
              "\n",
              "  <script>\n",
              "    async function quickchart(key) {\n",
              "      const quickchartButtonEl =\n",
              "        document.querySelector('#' + key + ' button');\n",
              "      quickchartButtonEl.disabled = true;  // To prevent multiple clicks.\n",
              "      quickchartButtonEl.classList.add('colab-df-spinner');\n",
              "      try {\n",
              "        const charts = await google.colab.kernel.invokeFunction(\n",
              "            'suggestCharts', [key], {});\n",
              "      } catch (error) {\n",
              "        console.error('Error during call to suggestCharts:', error);\n",
              "      }\n",
              "      quickchartButtonEl.classList.remove('colab-df-spinner');\n",
              "      quickchartButtonEl.classList.add('colab-df-quickchart-complete');\n",
              "    }\n",
              "    (() => {\n",
              "      let quickchartButtonEl =\n",
              "        document.querySelector('#df-8e9bd2f7-ebee-4a0e-9a67-3b51cd941d5e button');\n",
              "      quickchartButtonEl.style.display =\n",
              "        google.colab.kernel.accessAllowed ? 'block' : 'none';\n",
              "    })();\n",
              "  </script>\n",
              "</div>\n",
              "\n",
              "    </div>\n",
              "  </div>\n"
            ],
            "application/vnd.google.colaboratory.intrinsic+json": {
              "type": "dataframe",
              "summary": "{\n  \"name\": \"az\",\n  \"rows\": 15,\n  \"fields\": [\n    {\n      \"column\": \"mean\",\n      \"properties\": {\n        \"dtype\": \"number\",\n        \"std\": 1.5178395454442097,\n        \"min\": -0.219,\n        \"max\": 5.818,\n        \"num_unique_values\": 15,\n        \"samples\": [\n          -0.148,\n          0.112,\n          5.818\n        ],\n        \"semantic_type\": \"\",\n        \"description\": \"\"\n      }\n    },\n    {\n      \"column\": \"sd\",\n      \"properties\": {\n        \"dtype\": \"number\",\n        \"std\": 0.2693931805266898,\n        \"min\": 0.006,\n        \"max\": 1.061,\n        \"num_unique_values\": 13,\n        \"samples\": [\n          0.006,\n          0.014,\n          0.009\n        ],\n        \"semantic_type\": \"\",\n        \"description\": \"\"\n      }\n    },\n    {\n      \"column\": \"hdi_3%\",\n      \"properties\": {\n        \"dtype\": \"number\",\n        \"std\": 1.4966250349496681,\n        \"min\": -0.242,\n        \"max\": 5.801,\n        \"num_unique_values\": 15,\n        \"samples\": [\n          -0.22,\n          0.093,\n          5.801\n        ],\n        \"semantic_type\": \"\",\n        \"description\": \"\"\n      }\n    },\n    {\n      \"column\": \"hdi_97%\",\n      \"properties\": {\n        \"dtype\": \"number\",\n        \"std\": 1.6856027267363305,\n        \"min\": -0.196,\n        \"max\": 5.836,\n        \"num_unique_values\": 15,\n        \"samples\": [\n          -0.084,\n          0.134,\n          5.836\n        ],\n        \"semantic_type\": \"\",\n        \"description\": \"\"\n      }\n    },\n    {\n      \"column\": \"mcse_mean\",\n      \"properties\": {\n        \"dtype\": \"number\",\n        \"std\": 0.006888914490479821,\n        \"min\": 0.0,\n        \"max\": 0.027,\n        \"num_unique_values\": 4,\n        \"samples\": [\n          0.002,\n          0.027,\n          0.0\n        ],\n        \"semantic_type\": \"\",\n        \"description\": \"\"\n      }\n    },\n    {\n      \"column\": \"mcse_sd\",\n      \"properties\": {\n        \"dtype\": \"number\",\n        \"std\": 0.005125101625008685,\n        \"min\": 0.0,\n        \"max\": 0.02,\n        \"num_unique_values\": 3,\n        \"samples\": [\n          0.0,\n          0.001,\n          0.02\n        ],\n        \"semantic_type\": \"\",\n        \"description\": \"\"\n      }\n    },\n    {\n      \"column\": \"ess_bulk\",\n      \"properties\": {\n        \"dtype\": \"number\",\n        \"std\": 543.0537288159915,\n        \"min\": 738.0,\n        \"max\": 2621.0,\n        \"num_unique_values\": 15,\n        \"samples\": [\n          738.0,\n          1842.0,\n          1943.0\n        ],\n        \"semantic_type\": \"\",\n        \"description\": \"\"\n      }\n    },\n    {\n      \"column\": \"ess_tail\",\n      \"properties\": {\n        \"dtype\": \"number\",\n        \"std\": 178.12774976992,\n        \"min\": 938.0,\n        \"max\": 1577.0,\n        \"num_unique_values\": 15,\n        \"samples\": [\n          938.0,\n          1426.0,\n          1139.0\n        ],\n        \"semantic_type\": \"\",\n        \"description\": \"\"\n      }\n    },\n    {\n      \"column\": \"r_hat\",\n      \"properties\": {\n        \"dtype\": \"number\",\n        \"std\": 0.004879500364742669,\n        \"min\": 1.0,\n        \"max\": 1.01,\n        \"num_unique_values\": 2,\n        \"samples\": [\n          1.01,\n          1.0\n        ],\n        \"semantic_type\": \"\",\n        \"description\": \"\"\n      }\n    }\n  ]\n}"
            }
          },
          "metadata": {},
          "execution_count": 22
        }
      ]
    },
    {
      "cell_type": "code",
      "source": [
        "\n",
        "analise_priori(trace_prior_hierarchical,y)"
      ],
      "metadata": {
        "colab": {
          "base_uri": "https://localhost:8080/",
          "height": 1000
        },
        "id": "kfNnnSuB-auQ",
        "outputId": "021fc1df-6183-4197-91f9-d32f692b6c6b"
      },
      "execution_count": 23,
      "outputs": [
        {
          "output_type": "stream",
          "name": "stderr",
          "text": [
            "<ipython-input-6-4581fe9e5373>:43: UserWarning: This figure includes Axes that are not compatible with tight_layout, so results might be incorrect.\n",
            "  plt.tight_layout()\n"
          ]
        },
        {
          "output_type": "execute_result",
          "data": {
            "text/plain": [
              "(<Figure size 1000x1000 with 6 Axes>,\n",
              " array([[<Axes: xlabel='Betas', ylabel='Contagem'>,\n",
              "         <Axes: xlabel='Previsões a Priori (Y_obs)', ylabel='Contagem'>],\n",
              "        [<Axes: title={'center': 'Previsões a Priori'}, xlabel='Observado', ylabel='Previsões'>,\n",
              "         <Axes: >],\n",
              "        [<Axes: xlabel='Y_obs'>, <Axes: xlabel='Y_obs'>]], dtype=object))"
            ]
          },
          "metadata": {},
          "execution_count": 23
        },
        {
          "output_type": "stream",
          "name": "stderr",
          "text": [
            "/usr/local/lib/python3.10/dist-packages/IPython/core/events.py:89: UserWarning: Creating legend with loc=\"best\" can be slow with large amounts of data.\n",
            "  func(*args, **kwargs)\n",
            "/usr/local/lib/python3.10/dist-packages/IPython/core/pylabtools.py:151: UserWarning: Creating legend with loc=\"best\" can be slow with large amounts of data.\n",
            "  fig.canvas.print_figure(bytes_io, **kw)\n"
          ]
        },
        {
          "output_type": "display_data",
          "data": {
            "text/plain": [
              "<Figure size 1000x1000 with 6 Axes>"
            ],
            "image/png": "[encoded data removed]"
          },
          "metadata": {}
        }
      ]
    },
    {
      "cell_type": "code",
      "source": [
        "pm.model_to_graphviz(model_hierarchical)"
      ],
      "metadata": {
        "colab": {
          "base_uri": "https://localhost:8080/",
          "height": 494
        },
        "id": "qlu7wFOo-dxJ",
        "outputId": "ca79048a-d8fd-482d-9035-193d2218ca93"
      },
      "execution_count": 24,
      "outputs": [
        {
          "output_type": "execute_result",
          "data": {
            "image/svg+xml": "<?xml version=\"1.0\" encoding=\"UTF-8\" standalone=\"no\"?>\n<!DOCTYPE svg PUBLIC \"-//W3C//DTD SVG 1.1//EN\"\n \"http://www.w3.org/Graphics/SVG/1.1/DTD/svg11.dtd\">\n<!-- Generated by graphviz version 2.43.0 (0)\n -->\n<!-- Title: %3 Pages: 1 -->\n<svg width=\"351pt\" height=\"355pt\"\n viewBox=\"0.00 0.00 350.76 354.86\" xmlns=\"http://www.w3.org/2000/svg\" xmlns:xlink=\"http://www.w3.org/1999/xlink\">\n<g id=\"graph0\" class=\"graph\" transform=\"scale(1 1) rotate(0) translate(4 350.86)\">\n<title>%3</title>\n<polygon fill=\"white\" stroke=\"transparent\" points=\"-4,4 -4,-350.86 346.76,-350.86 346.76,4 -4,4\"/>\n<g id=\"clust1\" class=\"cluster\">\n<title>clusterfeatures (11)</title>\n<path fill=\"none\" stroke=\"black\" d=\"M246.76,-129.95C246.76,-129.95 322.76,-129.95 322.76,-129.95 328.76,-129.95 334.76,-135.95 334.76,-141.95 334.76,-141.95 334.76,-231.91 334.76,-231.91 334.76,-237.91 328.76,-243.91 322.76,-243.91 322.76,-243.91 246.76,-243.91 246.76,-243.91 240.76,-243.91 234.76,-237.91 234.76,-231.91 234.76,-231.91 234.76,-141.95 234.76,-141.95 234.76,-135.95 240.76,-129.95 246.76,-129.95\"/>\n<text text-anchor=\"middle\" x=\"291.76\" y=\"-137.75\" font-family=\"Times,serif\" font-size=\"14.00\">features (11)</text>\n</g>\n<g id=\"clust2\" class=\"cluster\">\n<title>cluster6497</title>\n<path fill=\"none\" stroke=\"black\" d=\"M145.76,-8C145.76,-8 221.76,-8 221.76,-8 227.76,-8 233.76,-14 233.76,-20 233.76,-20 233.76,-109.95 233.76,-109.95 233.76,-115.95 227.76,-121.95 221.76,-121.95 221.76,-121.95 145.76,-121.95 145.76,-121.95 139.76,-121.95 133.76,-115.95 133.76,-109.95 133.76,-109.95 133.76,-20 133.76,-20 133.76,-14 139.76,-8 145.76,-8\"/>\n<text text-anchor=\"middle\" x=\"211.76\" y=\"-15.8\" font-family=\"Times,serif\" font-size=\"14.00\">6497</text>\n</g>\n<!-- epsilon_hyper -->\n<g id=\"node1\" class=\"node\">\n<title>epsilon_hyper</title>\n<ellipse fill=\"none\" stroke=\"black\" cx=\"65.76\" cy=\"-309.38\" rx=\"65.52\" ry=\"37.45\"/>\n<text text-anchor=\"middle\" x=\"65.76\" y=\"-320.68\" font-family=\"Times,serif\" font-size=\"14.00\">epsilon_hyper</text>\n<text text-anchor=\"middle\" x=\"65.76\" y=\"-305.68\" font-family=\"Times,serif\" font-size=\"14.00\">~</text>\n<text text-anchor=\"middle\" x=\"65.76\" y=\"-290.68\" font-family=\"Times,serif\" font-size=\"14.00\">Gamma</text>\n</g>\n<!-- epsilon -->\n<g id=\"node3\" class=\"node\">\n<title>epsilon</title>\n<ellipse fill=\"none\" stroke=\"black\" cx=\"65.76\" cy=\"-198.43\" rx=\"58.88\" ry=\"37.45\"/>\n<text text-anchor=\"middle\" x=\"65.76\" y=\"-209.73\" font-family=\"Times,serif\" font-size=\"14.00\">epsilon</text>\n<text text-anchor=\"middle\" x=\"65.76\" y=\"-194.73\" font-family=\"Times,serif\" font-size=\"14.00\">~</text>\n<text text-anchor=\"middle\" x=\"65.76\" y=\"-179.73\" font-family=\"Times,serif\" font-size=\"14.00\">HalfNormal</text>\n</g>\n<!-- epsilon_hyper&#45;&gt;epsilon -->\n<g id=\"edge2\" class=\"edge\">\n<title>epsilon_hyper&#45;&gt;epsilon</title>\n<path fill=\"none\" stroke=\"black\" d=\"M65.76,-271.8C65.76,-263.63 65.76,-254.85 65.76,-246.32\"/>\n<polygon fill=\"black\" stroke=\"black\" points=\"69.26,-246.1 65.76,-236.1 62.26,-246.1 69.26,-246.1\"/>\n</g>\n<!-- b_hyper -->\n<g id=\"node2\" class=\"node\">\n<title>b_hyper</title>\n<ellipse fill=\"none\" stroke=\"black\" cx=\"284.76\" cy=\"-309.38\" rx=\"43.27\" ry=\"37.45\"/>\n<text text-anchor=\"middle\" x=\"284.76\" y=\"-320.68\" font-family=\"Times,serif\" font-size=\"14.00\">b_hyper</text>\n<text text-anchor=\"middle\" x=\"284.76\" y=\"-305.68\" font-family=\"Times,serif\" font-size=\"14.00\">~</text>\n<text text-anchor=\"middle\" x=\"284.76\" y=\"-290.68\" font-family=\"Times,serif\" font-size=\"14.00\">Gamma</text>\n</g>\n<!-- betas -->\n<g id=\"node5\" class=\"node\">\n<title>betas</title>\n<ellipse fill=\"none\" stroke=\"black\" cx=\"284.76\" cy=\"-198.43\" rx=\"41.94\" ry=\"37.45\"/>\n<text text-anchor=\"middle\" x=\"284.76\" y=\"-209.73\" font-family=\"Times,serif\" font-size=\"14.00\">betas</text>\n<text text-anchor=\"middle\" x=\"284.76\" y=\"-194.73\" font-family=\"Times,serif\" font-size=\"14.00\">~</text>\n<text text-anchor=\"middle\" x=\"284.76\" y=\"-179.73\" font-family=\"Times,serif\" font-size=\"14.00\">Laplace</text>\n</g>\n<!-- b_hyper&#45;&gt;betas -->\n<g id=\"edge1\" class=\"edge\">\n<title>b_hyper&#45;&gt;betas</title>\n<path fill=\"none\" stroke=\"black\" d=\"M284.76,-271.8C284.76,-263.63 284.76,-254.85 284.76,-246.32\"/>\n<polygon fill=\"black\" stroke=\"black\" points=\"288.26,-246.1 284.76,-236.1 281.26,-246.1 288.26,-246.1\"/>\n</g>\n<!-- Y_obs -->\n<g id=\"node6\" class=\"node\">\n<title>Y_obs</title>\n<ellipse fill=\"lightgrey\" stroke=\"black\" cx=\"183.76\" cy=\"-76.48\" rx=\"41.94\" ry=\"37.45\"/>\n<text text-anchor=\"middle\" x=\"183.76\" y=\"-87.78\" font-family=\"Times,serif\" font-size=\"14.00\">Y_obs</text>\n<text text-anchor=\"middle\" x=\"183.76\" y=\"-72.78\" font-family=\"Times,serif\" font-size=\"14.00\">~</text>\n<text text-anchor=\"middle\" x=\"183.76\" y=\"-57.78\" font-family=\"Times,serif\" font-size=\"14.00\">Normal</text>\n</g>\n<!-- epsilon&#45;&gt;Y_obs -->\n<g id=\"edge4\" class=\"edge\">\n<title>epsilon&#45;&gt;Y_obs</title>\n<path fill=\"none\" stroke=\"black\" d=\"M96.46,-166.23C112.56,-149.85 132.36,-129.73 149.03,-112.79\"/>\n<polygon fill=\"black\" stroke=\"black\" points=\"151.92,-114.83 156.44,-105.25 146.93,-109.93 151.92,-114.83\"/>\n</g>\n<!-- alpha -->\n<g id=\"node4\" class=\"node\">\n<title>alpha</title>\n<ellipse fill=\"none\" stroke=\"black\" cx=\"183.76\" cy=\"-198.43\" rx=\"41.94\" ry=\"37.45\"/>\n<text text-anchor=\"middle\" x=\"183.76\" y=\"-209.73\" font-family=\"Times,serif\" font-size=\"14.00\">alpha</text>\n<text text-anchor=\"middle\" x=\"183.76\" y=\"-194.73\" font-family=\"Times,serif\" font-size=\"14.00\">~</text>\n<text text-anchor=\"middle\" x=\"183.76\" y=\"-179.73\" font-family=\"Times,serif\" font-size=\"14.00\">Normal</text>\n</g>\n<!-- alpha&#45;&gt;Y_obs -->\n<g id=\"edge5\" class=\"edge\">\n<title>alpha&#45;&gt;Y_obs</title>\n<path fill=\"none\" stroke=\"black\" d=\"M183.76,-160.79C183.76,-149.38 183.76,-136.65 183.76,-124.63\"/>\n<polygon fill=\"black\" stroke=\"black\" points=\"187.26,-124.31 183.76,-114.31 180.26,-124.31 187.26,-124.31\"/>\n</g>\n<!-- betas&#45;&gt;Y_obs -->\n<g id=\"edge3\" class=\"edge\">\n<title>betas&#45;&gt;Y_obs</title>\n<path fill=\"none\" stroke=\"black\" d=\"M262.95,-166.2C254.48,-154.55 244.49,-141.4 234.76,-129.95 229.67,-123.96 224.06,-117.8 218.48,-111.91\"/>\n<polygon fill=\"black\" stroke=\"black\" points=\"220.92,-109.39 211.47,-104.61 215.87,-114.24 220.92,-109.39\"/>\n</g>\n</g>\n</svg>\n",
            "text/plain": [
              "<graphviz.graphs.Digraph at 0x7d3a5b7c5e70>"
            ]
          },
          "metadata": {},
          "execution_count": 24
        }
      ]
    },
    {
      "cell_type": "code",
      "source": [
        "with model_hierarchical:\n",
        "  trace_pos_hierarc = pm.sample_posterior_predictive(trace_hierarchical)\n",
        "\n",
        "\n",
        "# Agora, passe o posterior_predictive para a função de análise posterior\n",
        "az.plot_ppc(posterior_predictive, data_pairs={\"Y_obs\": \"Y_obs\"})"
      ],
      "metadata": {
        "colab": {
          "base_uri": "https://localhost:8080/",
          "height": 565,
          "referenced_widgets": [
            "562fb012145643ecb2fad60e12cc98f1",
            "e3148db4507d488ebbe0f960a9db3424"
          ]
        },
        "id": "9V16OZdf-hOo",
        "outputId": "268c842b-d393-4812-af97-0ec8b3eb9e31"
      },
      "execution_count": 25,
      "outputs": [
        {
          "output_type": "display_data",
          "data": {
            "text/plain": [
              "Output()"
            ],
            "application/vnd.jupyter.widget-view+json": {
              "version_major": 2,
              "version_minor": 0,
              "model_id": "562fb012145643ecb2fad60e12cc98f1"
            }
          },
          "metadata": {}
        },
        {
          "output_type": "display_data",
          "data": {
            "text/plain": [],
            "text/html": [
              "<pre style=\"white-space:pre;overflow-x:auto;line-height:normal;font-family:Menlo,'DejaVu Sans Mono',consolas,'Courier New',monospace\"></pre>\n"
            ]
          },
          "metadata": {}
        },
        {
          "output_type": "execute_result",
          "data": {
            "text/plain": [
              "<Axes: xlabel='Y_obs'>"
            ]
          },
          "metadata": {},
          "execution_count": 25
        },
        {
          "output_type": "stream",
          "name": "stderr",
          "text": [
            "/usr/local/lib/python3.10/dist-packages/IPython/core/events.py:89: UserWarning: Creating legend with loc=\"best\" can be slow with large amounts of data.\n",
            "  func(*args, **kwargs)\n",
            "/usr/local/lib/python3.10/dist-packages/IPython/core/pylabtools.py:151: UserWarning: Creating legend with loc=\"best\" can be slow with large amounts of data.\n",
            "  fig.canvas.print_figure(bytes_io, **kw)\n"
          ]
        },
        {
          "output_type": "display_data",
          "data": {
            "text/plain": [
              "<Figure size 640x480 with 1 Axes>"
            ],
            "image/png": "[encoded data removed]"
          },
          "metadata": {}
        }
      ]
    },
    {
      "cell_type": "markdown",
      "source": [
        "ROBUSTO"
      ],
      "metadata": {
        "id": "vzl0ZLrC-5KD"
      }
    },
    {
      "cell_type": "code",
      "source": [
        "# Criar o modelo Bayesiano Robusto\n",
        "with pm.Model(coords=coords) as model_robust:\n",
        "    # Priori para o intercepto (alpha)\n",
        "    alpha = pm.Normal('alpha', 0, 1)\n",
        "\n",
        "    # Priori para os coeficientes de regressão (betas)\n",
        "    betas = pm.Normal('betas', 0, 1, dims='features')\n",
        "\n",
        "    # Priori para os graus de liberdade da distribuição Student-T (df)\n",
        "    df = pm.Exponential('df', 1)\n",
        "\n",
        "    # Definir a equação do modelo linear\n",
        "    mu = alpha + pt.dot(X_scaled, betas)\n",
        "\n",
        "    # Definir a verossimilhança com distribuição Student-T\n",
        "    likelihood = pm.StudentT('Y_obs', nu=df, mu=mu, observed=y)\n",
        "\n",
        "    # Amostrar da distribuição a priori\n",
        "    robust_trace_prior = pm.sample_prior_predictive()\n",
        "\n",
        "    # Amostrar da distribuição posterior\n",
        "    trace_robust = pm.sample(1000, tune=1000, target_accept=0.95)\n",
        "\n",
        "# Exibir o resumo dos parâmetros ajustados\n",
        "\n",
        "az.summary(trace_robust)"
      ],
      "metadata": {
        "colab": {
          "base_uri": "https://localhost:8080/",
          "height": 492,
          "referenced_widgets": [
            "6546ef0b26d24292b3c4bfc13d34c674",
            "4069ccbfa6154accabc51cb5b3565789",
            "f93bc4a8be464ecf930d0f3cc38a1243",
            "4f81a937c98a42b4ab172e89cab38621"
          ]
        },
        "id": "7JEIF-8v-6fB",
        "outputId": "62cd11a3-df3d-4bb0-c1ef-c46a0847711a"
      },
      "execution_count": 26,
      "outputs": [
        {
          "output_type": "display_data",
          "data": {
            "text/plain": [
              "Output()"
            ],
            "application/vnd.jupyter.widget-view+json": {
              "version_major": 2,
              "version_minor": 0,
              "model_id": "6546ef0b26d24292b3c4bfc13d34c674"
            }
          },
          "metadata": {}
        },
        {
          "output_type": "display_data",
          "data": {
            "text/plain": [],
            "text/html": [
              "<pre style=\"white-space:pre;overflow-x:auto;line-height:normal;font-family:Menlo,'DejaVu Sans Mono',consolas,'Courier New',monospace\"></pre>\n"
            ]
          },
          "metadata": {}
        },
        {
          "output_type": "display_data",
          "data": {
            "text/plain": [
              "Output()"
            ],
            "application/vnd.jupyter.widget-view+json": {
              "version_major": 2,
              "version_minor": 0,
              "model_id": "f93bc4a8be464ecf930d0f3cc38a1243"
            }
          },
          "metadata": {}
        },
        {
          "output_type": "display_data",
          "data": {
            "text/plain": [],
            "text/html": [
              "<pre style=\"white-space:pre;overflow-x:auto;line-height:normal;font-family:Menlo,'DejaVu Sans Mono',consolas,'Courier New',monospace\"></pre>\n"
            ]
          },
          "metadata": {}
        },
        {
          "output_type": "execute_result",
          "data": {
            "text/plain": [
              "             mean     sd  hdi_3%  hdi_97%  mcse_mean  mcse_sd  ess_bulk  \\\n",
              "alpha       5.817  0.013   5.792    5.842      0.000    0.000    2031.0   \n",
              "betas[0]    0.090  0.028   0.037    0.141      0.001    0.001     882.0   \n",
              "betas[1]   -0.217  0.017  -0.248   -0.185      0.000    0.000    1702.0   \n",
              "betas[2]   -0.016  0.016  -0.045    0.012      0.000    0.000    1818.0   \n",
              "betas[3]    0.207  0.033   0.140    0.264      0.001    0.001     783.0   \n",
              "betas[4]   -0.017  0.016  -0.045    0.013      0.000    0.000    1937.0   \n",
              "betas[5]    0.110  0.019   0.076    0.146      0.000    0.000    1855.0   \n",
              "betas[6]   -0.142  0.021  -0.181   -0.104      0.001    0.000    1716.0   \n",
              "betas[7]   -0.167  0.049  -0.260   -0.079      0.002    0.001     769.0   \n",
              "betas[8]    0.071  0.020   0.033    0.109      0.001    0.000     976.0   \n",
              "betas[9]    0.115  0.016   0.084    0.143      0.000    0.000    1786.0   \n",
              "betas[10]   0.318  0.027   0.270    0.371      0.001    0.001    1004.0   \n",
              "df         40.642  4.505  32.777   49.299      0.119    0.087    1481.0   \n",
              "\n",
              "           ess_tail  r_hat  \n",
              "alpha        1453.0   1.01  \n",
              "betas[0]     1109.0   1.00  \n",
              "betas[1]     1311.0   1.00  \n",
              "betas[2]     1394.0   1.00  \n",
              "betas[3]     1079.0   1.00  \n",
              "betas[4]     1434.0   1.00  \n",
              "betas[5]     1703.0   1.00  \n",
              "betas[6]     1549.0   1.00  \n",
              "betas[7]     1019.0   1.00  \n",
              "betas[8]      965.0   1.00  \n",
              "betas[9]     1684.0   1.00  \n",
              "betas[10]    1130.0   1.00  \n",
              "df           1324.0   1.00  "
            ],
            "text/html": [
              "\n",
              "  <div id=\"df-04fa52eb-84da-4d21-9519-f54313aa97f2\" class=\"colab-df-container\">\n",
              "    <div>\n",
              "<style scoped>\n",
              "    .dataframe tbody tr th:only-of-type {\n",
              "        vertical-align: middle;\n",
              "    }\n",
              "\n",
              "    .dataframe tbody tr th {\n",
              "        vertical-align: top;\n",
              "    }\n",
              "\n",
              "    .dataframe thead th {\n",
              "        text-align: right;\n",
              "    }\n",
              "</style>\n",
              "<table border=\"1\" class=\"dataframe\">\n",
              "  <thead>\n",
              "    <tr style=\"text-align: right;\">\n",
              "      <th></th>\n",
              "      <th>mean</th>\n",
              "      <th>sd</th>\n",
              "      <th>hdi_3%</th>\n",
              "      <th>hdi_97%</th>\n",
              "      <th>mcse_mean</th>\n",
              "      <th>mcse_sd</th>\n",
              "      <th>ess_bulk</th>\n",
              "      <th>ess_tail</th>\n",
              "      <th>r_hat</th>\n",
              "    </tr>\n",
              "  </thead>\n",
              "  <tbody>\n",
              "    <tr>\n",
              "      <th>alpha</th>\n",
              "      <td>5.817</td>\n",
              "      <td>0.013</td>\n",
              "      <td>5.792</td>\n",
              "      <td>5.842</td>\n",
              "      <td>0.000</td>\n",
              "      <td>0.000</td>\n",
              "      <td>2031.0</td>\n",
              "      <td>1453.0</td>\n",
              "      <td>1.01</td>\n",
              "    </tr>\n",
              "    <tr>\n",
              "      <th>betas[0]</th>\n",
              "      <td>0.090</td>\n",
              "      <td>0.028</td>\n",
              "      <td>0.037</td>\n",
              "      <td>0.141</td>\n",
              "      <td>0.001</td>\n",
              "      <td>0.001</td>\n",
              "      <td>882.0</td>\n",
              "      <td>1109.0</td>\n",
              "      <td>1.00</td>\n",
              "    </tr>\n",
              "    <tr>\n",
              "      <th>betas[1]</th>\n",
              "      <td>-0.217</td>\n",
              "      <td>0.017</td>\n",
              "      <td>-0.248</td>\n",
              "      <td>-0.185</td>\n",
              "      <td>0.000</td>\n",
              "      <td>0.000</td>\n",
              "      <td>1702.0</td>\n",
              "      <td>1311.0</td>\n",
              "      <td>1.00</td>\n",
              "    </tr>\n",
              "    <tr>\n",
              "      <th>betas[2]</th>\n",
              "      <td>-0.016</td>\n",
              "      <td>0.016</td>\n",
              "      <td>-0.045</td>\n",
              "      <td>0.012</td>\n",
              "      <td>0.000</td>\n",
              "      <td>0.000</td>\n",
              "      <td>1818.0</td>\n",
              "      <td>1394.0</td>\n",
              "      <td>1.00</td>\n",
              "    </tr>\n",
              "    <tr>\n",
              "      <th>betas[3]</th>\n",
              "      <td>0.207</td>\n",
              "      <td>0.033</td>\n",
              "      <td>0.140</td>\n",
              "      <td>0.264</td>\n",
              "      <td>0.001</td>\n",
              "      <td>0.001</td>\n",
              "      <td>783.0</td>\n",
              "      <td>1079.0</td>\n",
              "      <td>1.00</td>\n",
              "    </tr>\n",
              "    <tr>\n",
              "      <th>betas[4]</th>\n",
              "      <td>-0.017</td>\n",
              "      <td>0.016</td>\n",
              "      <td>-0.045</td>\n",
              "      <td>0.013</td>\n",
              "      <td>0.000</td>\n",
              "      <td>0.000</td>\n",
              "      <td>1937.0</td>\n",
              "      <td>1434.0</td>\n",
              "      <td>1.00</td>\n",
              "    </tr>\n",
              "    <tr>\n",
              "      <th>betas[5]</th>\n",
              "      <td>0.110</td>\n",
              "      <td>0.019</td>\n",
              "      <td>0.076</td>\n",
              "      <td>0.146</td>\n",
              "      <td>0.000</td>\n",
              "      <td>0.000</td>\n",
              "      <td>1855.0</td>\n",
              "      <td>1703.0</td>\n",
              "      <td>1.00</td>\n",
              "    </tr>\n",
              "    <tr>\n",
              "      <th>betas[6]</th>\n",
              "      <td>-0.142</td>\n",
              "      <td>0.021</td>\n",
              "      <td>-0.181</td>\n",
              "      <td>-0.104</td>\n",
              "      <td>0.001</td>\n",
              "      <td>0.000</td>\n",
              "      <td>1716.0</td>\n",
              "      <td>1549.0</td>\n",
              "      <td>1.00</td>\n",
              "    </tr>\n",
              "    <tr>\n",
              "      <th>betas[7]</th>\n",
              "      <td>-0.167</td>\n",
              "      <td>0.049</td>\n",
              "      <td>-0.260</td>\n",
              "      <td>-0.079</td>\n",
              "      <td>0.002</td>\n",
              "      <td>0.001</td>\n",
              "      <td>769.0</td>\n",
              "      <td>1019.0</td>\n",
              "      <td>1.00</td>\n",
              "    </tr>\n",
              "    <tr>\n",
              "      <th>betas[8]</th>\n",
              "      <td>0.071</td>\n",
              "      <td>0.020</td>\n",
              "      <td>0.033</td>\n",
              "      <td>0.109</td>\n",
              "      <td>0.001</td>\n",
              "      <td>0.000</td>\n",
              "      <td>976.0</td>\n",
              "      <td>965.0</td>\n",
              "      <td>1.00</td>\n",
              "    </tr>\n",
              "    <tr>\n",
              "      <th>betas[9]</th>\n",
              "      <td>0.115</td>\n",
              "      <td>0.016</td>\n",
              "      <td>0.084</td>\n",
              "      <td>0.143</td>\n",
              "      <td>0.000</td>\n",
              "      <td>0.000</td>\n",
              "      <td>1786.0</td>\n",
              "      <td>1684.0</td>\n",
              "      <td>1.00</td>\n",
              "    </tr>\n",
              "    <tr>\n",
              "      <th>betas[10]</th>\n",
              "      <td>0.318</td>\n",
              "      <td>0.027</td>\n",
              "      <td>0.270</td>\n",
              "      <td>0.371</td>\n",
              "      <td>0.001</td>\n",
              "      <td>0.001</td>\n",
              "      <td>1004.0</td>\n",
              "      <td>1130.0</td>\n",
              "      <td>1.00</td>\n",
              "    </tr>\n",
              "    <tr>\n",
              "      <th>df</th>\n",
              "      <td>40.642</td>\n",
              "      <td>4.505</td>\n",
              "      <td>32.777</td>\n",
              "      <td>49.299</td>\n",
              "      <td>0.119</td>\n",
              "      <td>0.087</td>\n",
              "      <td>1481.0</td>\n",
              "      <td>1324.0</td>\n",
              "      <td>1.00</td>\n",
              "    </tr>\n",
              "  </tbody>\n",
              "</table>\n",
              "</div>\n",
              "    <div class=\"colab-df-buttons\">\n",
              "\n",
              "  <div class=\"colab-df-container\">\n",
              "    <button class=\"colab-df-convert\" onclick=\"convertToInteractive('df-04fa52eb-84da-4d21-9519-f54313aa97f2')\"\n",
              "            title=\"Convert this dataframe to an interactive table.\"\n",
              "            style=\"display:none;\">\n",
              "\n",
              "  <svg xmlns=\"http://www.w3.org/2000/svg\" height=\"24px\" viewBox=\"0 -960 960 960\">\n",
              "    <path d=\"M120-120v-720h720v720H120Zm60-500h600v-160H180v160Zm220 220h160v-160H400v160Zm0 220h160v-160H400v160ZM180-400h160v-160H180v160Zm440 0h160v-160H620v160ZM180-180h160v-160H180v160Zm440 0h160v-160H620v160Z\"/>\n",
              "  </svg>\n",
              "    </button>\n",
              "\n",
              "  <style>\n",
              "    .colab-df-container {\n",
              "      display:flex;\n",
              "      gap: 12px;\n",
              "    }\n",
              "\n",
              "    .colab-df-convert {\n",
              "      background-color: #E8F0FE;\n",
              "      border: none;\n",
              "      border-radius: 50%;\n",
              "      cursor: pointer;\n",
              "      display: none;\n",
              "      fill: #1967D2;\n",
              "      height: 32px;\n",
              "      padding: 0 0 0 0;\n",
              "      width: 32px;\n",
              "    }\n",
              "\n",
              "    .colab-df-convert:hover {\n",
              "      background-color: #E2EBFA;\n",
              "      box-shadow: 0px 1px 2px rgba(60, 64, 67, 0.3), 0px 1px 3px 1px rgba(60, 64, 67, 0.15);\n",
              "      fill: #174EA6;\n",
              "    }\n",
              "\n",
              "    .colab-df-buttons div {\n",
              "      margin-bottom: 4px;\n",
              "    }\n",
              "\n",
              "    [theme=dark] .colab-df-convert {\n",
              "      background-color: #3B4455;\n",
              "      fill: #D2E3FC;\n",
              "    }\n",
              "\n",
              "    [theme=dark] .colab-df-convert:hover {\n",
              "      background-color: #434B5C;\n",
              "      box-shadow: 0px 1px 3px 1px rgba(0, 0, 0, 0.15);\n",
              "      filter: drop-shadow(0px 1px 2px rgba(0, 0, 0, 0.3));\n",
              "      fill: #FFFFFF;\n",
              "    }\n",
              "  </style>\n",
              "\n",
              "    <script>\n",
              "      const buttonEl =\n",
              "        document.querySelector('#df-04fa52eb-84da-4d21-9519-f54313aa97f2 button.colab-df-convert');\n",
              "      buttonEl.style.display =\n",
              "        google.colab.kernel.accessAllowed ? 'block' : 'none';\n",
              "\n",
              "      async function convertToInteractive(key) {\n",
              "        const element = document.querySelector('#df-04fa52eb-84da-4d21-9519-f54313aa97f2');\n",
              "        const dataTable =\n",
              "          await google.colab.kernel.invokeFunction('convertToInteractive',\n",
              "                                                    [key], {});\n",
              "        if (!dataTable) return;\n",
              "\n",
              "        const docLinkHtml = 'Like what you see? Visit the ' +\n",
              "          '<a target=\"_blank\" href=https://colab.research.google.com/notebooks/data_table.ipynb>data table notebook</a>'\n",
              "          + ' to learn more about interactive tables.';\n",
              "        element.innerHTML = '';\n",
              "        dataTable['output_type'] = 'display_data';\n",
              "        await google.colab.output.renderOutput(dataTable, element);\n",
              "        const docLink = document.createElement('div');\n",
              "        docLink.innerHTML = docLinkHtml;\n",
              "        element.appendChild(docLink);\n",
              "      }\n",
              "    </script>\n",
              "  </div>\n",
              "\n",
              "\n",
              "<div id=\"df-26503e69-baa3-4cb8-a564-3040a0c91a60\">\n",
              "  <button class=\"colab-df-quickchart\" onclick=\"quickchart('df-26503e69-baa3-4cb8-a564-3040a0c91a60')\"\n",
              "            title=\"Suggest charts\"\n",
              "            style=\"display:none;\">\n",
              "\n",
              "<svg xmlns=\"http://www.w3.org/2000/svg\" height=\"24px\"viewBox=\"0 0 24 24\"\n",
              "     width=\"24px\">\n",
              "    <g>\n",
              "        <path d=\"M19 3H5c-1.1 0-2 .9-2 2v14c0 1.1.9 2 2 2h14c1.1 0 2-.9 2-2V5c0-1.1-.9-2-2-2zM9 17H7v-7h2v7zm4 0h-2V7h2v10zm4 0h-2v-4h2v4z\"/>\n",
              "    </g>\n",
              "</svg>\n",
              "  </button>\n",
              "\n",
              "<style>\n",
              "  .colab-df-quickchart {\n",
              "      --bg-color: #E8F0FE;\n",
              "      --fill-color: #1967D2;\n",
              "      --hover-bg-color: #E2EBFA;\n",
              "      --hover-fill-color: #174EA6;\n",
              "      --disabled-fill-color: #AAA;\n",
              "      --disabled-bg-color: #DDD;\n",
              "  }\n",
              "\n",
              "  [theme=dark] .colab-df-quickchart {\n",
              "      --bg-color: #3B4455;\n",
              "      --fill-color: #D2E3FC;\n",
              "      --hover-bg-color: #434B5C;\n",
              "      --hover-fill-color: #FFFFFF;\n",
              "      --disabled-bg-color: #3B4455;\n",
              "      --disabled-fill-color: #666;\n",
              "  }\n",
              "\n",
              "  .colab-df-quickchart {\n",
              "    background-color: var(--bg-color);\n",
              "    border: none;\n",
              "    border-radius: 50%;\n",
              "    cursor: pointer;\n",
              "    display: none;\n",
              "    fill: var(--fill-color);\n",
              "    height: 32px;\n",
              "    padding: 0;\n",
              "    width: 32px;\n",
              "  }\n",
              "\n",
              "  .colab-df-quickchart:hover {\n",
              "    background-color: var(--hover-bg-color);\n",
              "    box-shadow: 0 1px 2px rgba(60, 64, 67, 0.3), 0 1px 3px 1px rgba(60, 64, 67, 0.15);\n",
              "    fill: var(--button-hover-fill-color);\n",
              "  }\n",
              "\n",
              "  .colab-df-quickchart-complete:disabled,\n",
              "  .colab-df-quickchart-complete:disabled:hover {\n",
              "    background-color: var(--disabled-bg-color);\n",
              "    fill: var(--disabled-fill-color);\n",
              "    box-shadow: none;\n",
              "  }\n",
              "\n",
              "  .colab-df-spinner {\n",
              "    border: 2px solid var(--fill-color);\n",
              "    border-color: transparent;\n",
              "    border-bottom-color: var(--fill-color);\n",
              "    animation:\n",
              "      spin 1s steps(1) infinite;\n",
              "  }\n",
              "\n",
              "  @keyframes spin {\n",
              "    0% {\n",
              "      border-color: transparent;\n",
              "      border-bottom-color: var(--fill-color);\n",
              "      border-left-color: var(--fill-color);\n",
              "    }\n",
              "    20% {\n",
              "      border-color: transparent;\n",
              "      border-left-color: var(--fill-color);\n",
              "      border-top-color: var(--fill-color);\n",
              "    }\n",
              "    30% {\n",
              "      border-color: transparent;\n",
              "      border-left-color: var(--fill-color);\n",
              "      border-top-color: var(--fill-color);\n",
              "      border-right-color: var(--fill-color);\n",
              "    }\n",
              "    40% {\n",
              "      border-color: transparent;\n",
              "      border-right-color: var(--fill-color);\n",
              "      border-top-color: var(--fill-color);\n",
              "    }\n",
              "    60% {\n",
              "      border-color: transparent;\n",
              "      border-right-color: var(--fill-color);\n",
              "    }\n",
              "    80% {\n",
              "      border-color: transparent;\n",
              "      border-right-color: var(--fill-color);\n",
              "      border-bottom-color: var(--fill-color);\n",
              "    }\n",
              "    90% {\n",
              "      border-color: transparent;\n",
              "      border-bottom-color: var(--fill-color);\n",
              "    }\n",
              "  }\n",
              "</style>\n",
              "\n",
              "  <script>\n",
              "    async function quickchart(key) {\n",
              "      const quickchartButtonEl =\n",
              "        document.querySelector('#' + key + ' button');\n",
              "      quickchartButtonEl.disabled = true;  // To prevent multiple clicks.\n",
              "      quickchartButtonEl.classList.add('colab-df-spinner');\n",
              "      try {\n",
              "        const charts = await google.colab.kernel.invokeFunction(\n",
              "            'suggestCharts', [key], {});\n",
              "      } catch (error) {\n",
              "        console.error('Error during call to suggestCharts:', error);\n",
              "      }\n",
              "      quickchartButtonEl.classList.remove('colab-df-spinner');\n",
              "      quickchartButtonEl.classList.add('colab-df-quickchart-complete');\n",
              "    }\n",
              "    (() => {\n",
              "      let quickchartButtonEl =\n",
              "        document.querySelector('#df-26503e69-baa3-4cb8-a564-3040a0c91a60 button');\n",
              "      quickchartButtonEl.style.display =\n",
              "        google.colab.kernel.accessAllowed ? 'block' : 'none';\n",
              "    })();\n",
              "  </script>\n",
              "</div>\n",
              "\n",
              "    </div>\n",
              "  </div>\n"
            ],
            "application/vnd.google.colaboratory.intrinsic+json": {
              "type": "dataframe",
              "summary": "{\n  \"name\": \"az\",\n  \"rows\": 13,\n  \"fields\": [\n    {\n      \"column\": \"mean\",\n      \"properties\": {\n        \"dtype\": \"number\",\n        \"std\": 11.244734210925529,\n        \"min\": -0.217,\n        \"max\": 40.642,\n        \"num_unique_values\": 13,\n        \"samples\": [\n          0.318,\n          0.071,\n          5.817\n        ],\n        \"semantic_type\": \"\",\n        \"description\": \"\"\n      }\n    },\n    {\n      \"column\": \"sd\",\n      \"properties\": {\n        \"dtype\": \"number\",\n        \"std\": 1.2431440909119227,\n        \"min\": 0.013,\n        \"max\": 4.505,\n        \"num_unique_values\": 11,\n        \"samples\": [\n          0.019,\n          0.013,\n          0.027\n        ],\n        \"semantic_type\": \"\",\n        \"description\": \"\"\n      }\n    },\n    {\n      \"column\": \"hdi_3%\",\n      \"properties\": {\n        \"dtype\": \"number\",\n        \"std\": 9.103789072378543,\n        \"min\": -0.26,\n        \"max\": 32.777,\n        \"num_unique_values\": 12,\n        \"samples\": [\n          0.27,\n          0.084,\n          5.792\n        ],\n        \"semantic_type\": \"\",\n        \"description\": \"\"\n      }\n    },\n    {\n      \"column\": \"hdi_97%\",\n      \"properties\": {\n        \"dtype\": \"number\",\n        \"std\": 13.613299946592576,\n        \"min\": -0.185,\n        \"max\": 49.299,\n        \"num_unique_values\": 13,\n        \"samples\": [\n          0.371,\n          0.109,\n          5.842\n        ],\n        \"semantic_type\": \"\",\n        \"description\": \"\"\n      }\n    },\n    {\n      \"column\": \"mcse_mean\",\n      \"properties\": {\n        \"dtype\": \"number\",\n        \"std\": 0.03284911113811304,\n        \"min\": 0.0,\n        \"max\": 0.119,\n        \"num_unique_values\": 4,\n        \"samples\": [\n          0.001,\n          0.119,\n          0.0\n        ],\n        \"semantic_type\": \"\",\n        \"description\": \"\"\n      }\n    },\n    {\n      \"column\": \"mcse_sd\",\n      \"properties\": {\n        \"dtype\": \"number\",\n        \"std\": 0.024041630560342614,\n        \"min\": 0.0,\n        \"max\": 0.087,\n        \"num_unique_values\": 3,\n        \"samples\": [\n          0.0,\n          0.001,\n          0.087\n        ],\n        \"semantic_type\": \"\",\n        \"description\": \"\"\n      }\n    },\n    {\n      \"column\": \"ess_bulk\",\n      \"properties\": {\n        \"dtype\": \"number\",\n        \"std\": 480.9912707774462,\n        \"min\": 769.0,\n        \"max\": 2031.0,\n        \"num_unique_values\": 13,\n        \"samples\": [\n          1004.0,\n          976.0,\n          2031.0\n        ],\n        \"semantic_type\": \"\",\n        \"description\": \"\"\n      }\n    },\n    {\n      \"column\": \"ess_tail\",\n      \"properties\": {\n        \"dtype\": \"number\",\n        \"std\": 245.49426856331272,\n        \"min\": 965.0,\n        \"max\": 1703.0,\n        \"num_unique_values\": 13,\n        \"samples\": [\n          1130.0,\n          965.0,\n          1453.0\n        ],\n        \"semantic_type\": \"\",\n        \"description\": \"\"\n      }\n    },\n    {\n      \"column\": \"r_hat\",\n      \"properties\": {\n        \"dtype\": \"number\",\n        \"std\": 0.002773500981126148,\n        \"min\": 1.0,\n        \"max\": 1.01,\n        \"num_unique_values\": 2,\n        \"samples\": [\n          1.0,\n          1.01\n        ],\n        \"semantic_type\": \"\",\n        \"description\": \"\"\n      }\n    }\n  ]\n}"
            }
          },
          "metadata": {},
          "execution_count": 26
        }
      ]
    },
    {
      "cell_type": "code",
      "source": [
        "sns.histplot(robust_trace_prior.prior['betas'].values.flatten(), bins=20)"
      ],
      "metadata": {
        "colab": {
          "base_uri": "https://localhost:8080/",
          "height": 447
        },
        "id": "G_ZcQw_Tc5X4",
        "outputId": "bb60bc43-8234-4f78-a979-e2fd5971337f"
      },
      "execution_count": 28,
      "outputs": [
        {
          "output_type": "execute_result",
          "data": {
            "text/plain": [
              "<Axes: ylabel='Count'>"
            ]
          },
          "metadata": {},
          "execution_count": 28
        },
        {
          "output_type": "display_data",
          "data": {
            "text/plain": [
              "<Figure size 640x480 with 1 Axes>"
            ],
            "image/png": "[encoded data removed]"
          },
          "metadata": {}
        }
      ]
    },
    {
      "cell_type": "code",
      "source": [
        "# Criar subplots para exibir os gráficos\n",
        "fig, axes = plt.subplots(1, 2, figsize=(8, 6))\n",
        "\n",
        "# Plotar o Posterior Predictive Check cumulativo e regular\n",
        "az.plot_ppc(robust_trace_prior, group='prior', kind='cumulative', ax=axes[0], observed=True)\n",
        "az.plot_ppc(robust_trace_prior, group='prior', ax=axes[1], observed=True)\n",
        "\n",
        "# Ajustar layout\n",
        "plt.tight_layout()\n",
        "plt.show()"
      ],
      "metadata": {
        "colab": {
          "base_uri": "https://localhost:8080/",
          "height": 746
        },
        "id": "6Ua-q0D9-_-p",
        "outputId": "989c143d-e2ef-4406-c5f1-91dc281f2b5a"
      },
      "execution_count": 29,
      "outputs": [
        {
          "output_type": "stream",
          "name": "stderr",
          "text": [
            "/usr/local/lib/python3.10/dist-packages/numpy/core/_methods.py:176: RuntimeWarning: overflow encountered in multiply\n",
            "  x = um.multiply(x, x, out=x)\n",
            "/usr/local/lib/python3.10/dist-packages/arviz/stats/density_utils.py:250: RuntimeWarning: divide by zero encountered in scalar power\n",
            "  out = t - (2 * N * np.pi**0.5 * f) ** (-0.4)\n",
            "<ipython-input-29-be4523a56207>:9: UserWarning: Creating legend with loc=\"best\" can be slow with large amounts of data.\n",
            "  plt.tight_layout()\n",
            "/usr/local/lib/python3.10/dist-packages/IPython/core/pylabtools.py:151: UserWarning: Creating legend with loc=\"best\" can be slow with large amounts of data.\n",
            "  fig.canvas.print_figure(bytes_io, **kw)\n"
          ]
        },
        {
          "output_type": "display_data",
          "data": {
            "text/plain": [
              "<Figure size 800x600 with 2 Axes>"
            ],
            "image/png": "[encoded data removed]"
          },
          "metadata": {}
        }
      ]
    },
    {
      "cell_type": "code",
      "source": [
        "pm.model_to_graphviz(model_robust)"
      ],
      "metadata": {
        "colab": {
          "base_uri": "https://localhost:8080/",
          "height": 368
        },
        "id": "j3H1J6bWAIcR",
        "outputId": "f00ab71b-a23b-48ef-f21b-0504e2a8a7aa"
      },
      "execution_count": 30,
      "outputs": [
        {
          "output_type": "execute_result",
          "data": {
            "image/svg+xml": "<?xml version=\"1.0\" encoding=\"UTF-8\" standalone=\"no\"?>\n<!DOCTYPE svg PUBLIC \"-//W3C//DTD SVG 1.1//EN\"\n \"http://www.w3.org/Graphics/SVG/1.1/DTD/svg11.dtd\">\n<!-- Generated by graphviz version 2.43.0 (0)\n -->\n<!-- Title: %3 Pages: 1 -->\n<svg width=\"344pt\" height=\"260pt\"\n viewBox=\"0.00 0.00 343.72 259.91\" xmlns=\"http://www.w3.org/2000/svg\" xmlns:xlink=\"http://www.w3.org/1999/xlink\">\n<g id=\"graph0\" class=\"graph\" transform=\"scale(1 1) rotate(0) translate(4 255.91)\">\n<title>%3</title>\n<polygon fill=\"white\" stroke=\"transparent\" points=\"-4,4 -4,-255.91 339.72,-255.91 339.72,4 -4,4\"/>\n<g id=\"clust1\" class=\"cluster\">\n<title>clusterfeatures (11)</title>\n<path fill=\"none\" stroke=\"black\" d=\"M239.72,-129.95C239.72,-129.95 315.72,-129.95 315.72,-129.95 321.72,-129.95 327.72,-135.95 327.72,-141.95 327.72,-141.95 327.72,-231.91 327.72,-231.91 327.72,-237.91 321.72,-243.91 315.72,-243.91 315.72,-243.91 239.72,-243.91 239.72,-243.91 233.72,-243.91 227.72,-237.91 227.72,-231.91 227.72,-231.91 227.72,-141.95 227.72,-141.95 227.72,-135.95 233.72,-129.95 239.72,-129.95\"/>\n<text text-anchor=\"middle\" x=\"284.72\" y=\"-137.75\" font-family=\"Times,serif\" font-size=\"14.00\">features (11)</text>\n</g>\n<g id=\"clust2\" class=\"cluster\">\n<title>cluster6497</title>\n<path fill=\"none\" stroke=\"black\" d=\"M116.72,-8C116.72,-8 202.72,-8 202.72,-8 208.72,-8 214.72,-14 214.72,-20 214.72,-20 214.72,-109.95 214.72,-109.95 214.72,-115.95 208.72,-121.95 202.72,-121.95 202.72,-121.95 116.72,-121.95 116.72,-121.95 110.72,-121.95 104.72,-115.95 104.72,-109.95 104.72,-109.95 104.72,-20 104.72,-20 104.72,-14 110.72,-8 116.72,-8\"/>\n<text text-anchor=\"middle\" x=\"192.72\" y=\"-15.8\" font-family=\"Times,serif\" font-size=\"14.00\">6497</text>\n</g>\n<!-- alpha -->\n<g id=\"node1\" class=\"node\">\n<title>alpha</title>\n<ellipse fill=\"none\" stroke=\"black\" cx=\"41.72\" cy=\"-198.43\" rx=\"41.94\" ry=\"37.45\"/>\n<text text-anchor=\"middle\" x=\"41.72\" y=\"-209.73\" font-family=\"Times,serif\" font-size=\"14.00\">alpha</text>\n<text text-anchor=\"middle\" x=\"41.72\" y=\"-194.73\" font-family=\"Times,serif\" font-size=\"14.00\">~</text>\n<text text-anchor=\"middle\" x=\"41.72\" y=\"-179.73\" font-family=\"Times,serif\" font-size=\"14.00\">Normal</text>\n</g>\n<!-- Y_obs -->\n<g id=\"node4\" class=\"node\">\n<title>Y_obs</title>\n<ellipse fill=\"lightgrey\" stroke=\"black\" cx=\"159.72\" cy=\"-76.48\" rx=\"46.84\" ry=\"37.45\"/>\n<text text-anchor=\"middle\" x=\"159.72\" y=\"-87.78\" font-family=\"Times,serif\" font-size=\"14.00\">Y_obs</text>\n<text text-anchor=\"middle\" x=\"159.72\" y=\"-72.78\" font-family=\"Times,serif\" font-size=\"14.00\">~</text>\n<text text-anchor=\"middle\" x=\"159.72\" y=\"-57.78\" font-family=\"Times,serif\" font-size=\"14.00\">StudentT</text>\n</g>\n<!-- alpha&#45;&gt;Y_obs -->\n<g id=\"edge2\" class=\"edge\">\n<title>alpha&#45;&gt;Y_obs</title>\n<path fill=\"none\" stroke=\"black\" d=\"M62.98,-165.83C71.59,-154.02 82.01,-140.84 92.72,-129.95 100.18,-122.37 108.74,-114.9 117.19,-108.08\"/>\n<polygon fill=\"black\" stroke=\"black\" points=\"119.53,-110.69 125.23,-101.76 115.2,-105.19 119.53,-110.69\"/>\n</g>\n<!-- df -->\n<g id=\"node2\" class=\"node\">\n<title>df</title>\n<ellipse fill=\"none\" stroke=\"black\" cx=\"159.72\" cy=\"-198.43\" rx=\"57.97\" ry=\"37.45\"/>\n<text text-anchor=\"middle\" x=\"159.72\" y=\"-209.73\" font-family=\"Times,serif\" font-size=\"14.00\">df</text>\n<text text-anchor=\"middle\" x=\"159.72\" y=\"-194.73\" font-family=\"Times,serif\" font-size=\"14.00\">~</text>\n<text text-anchor=\"middle\" x=\"159.72\" y=\"-179.73\" font-family=\"Times,serif\" font-size=\"14.00\">Exponential</text>\n</g>\n<!-- df&#45;&gt;Y_obs -->\n<g id=\"edge3\" class=\"edge\">\n<title>df&#45;&gt;Y_obs</title>\n<path fill=\"none\" stroke=\"black\" d=\"M159.72,-160.79C159.72,-149.38 159.72,-136.65 159.72,-124.63\"/>\n<polygon fill=\"black\" stroke=\"black\" points=\"163.22,-124.31 159.72,-114.31 156.22,-124.31 163.22,-124.31\"/>\n</g>\n<!-- betas -->\n<g id=\"node3\" class=\"node\">\n<title>betas</title>\n<ellipse fill=\"none\" stroke=\"black\" cx=\"277.72\" cy=\"-198.43\" rx=\"41.94\" ry=\"37.45\"/>\n<text text-anchor=\"middle\" x=\"277.72\" y=\"-209.73\" font-family=\"Times,serif\" font-size=\"14.00\">betas</text>\n<text text-anchor=\"middle\" x=\"277.72\" y=\"-194.73\" font-family=\"Times,serif\" font-size=\"14.00\">~</text>\n<text text-anchor=\"middle\" x=\"277.72\" y=\"-179.73\" font-family=\"Times,serif\" font-size=\"14.00\">Normal</text>\n</g>\n<!-- betas&#45;&gt;Y_obs -->\n<g id=\"edge1\" class=\"edge\">\n<title>betas&#45;&gt;Y_obs</title>\n<path fill=\"none\" stroke=\"black\" d=\"M256.45,-165.83C247.85,-154.02 237.42,-140.84 226.72,-129.95 219.26,-122.37 210.7,-114.9 202.25,-108.08\"/>\n<polygon fill=\"black\" stroke=\"black\" points=\"204.24,-105.19 194.21,-101.76 199.91,-110.69 204.24,-105.19\"/>\n</g>\n</g>\n</svg>\n",
            "text/plain": [
              "<graphviz.graphs.Digraph at 0x7d3a091f55a0>"
            ]
          },
          "metadata": {},
          "execution_count": 30
        }
      ]
    },
    {
      "cell_type": "code",
      "source": [
        "with model_robust:\n",
        "  trace_pos_robust = pm.sample_posterior_predictive(trace_robust)\n",
        "\n",
        "analise_posteriori(trace_pos_robust)"
      ],
      "metadata": {
        "colab": {
          "base_uri": "https://localhost:8080/",
          "height": 598,
          "referenced_widgets": [
            "598c53aa7d8e4e80bc2b109b661d188c",
            "cf4a9c436ca748c880a0c615401fb745"
          ]
        },
        "id": "KOSbMoPvARE_",
        "outputId": "bde095ac-78c7-408f-96d6-ff04ad8dcbc0"
      },
      "execution_count": 31,
      "outputs": [
        {
          "output_type": "display_data",
          "data": {
            "text/plain": [
              "Output()"
            ],
            "application/vnd.jupyter.widget-view+json": {
              "version_major": 2,
              "version_minor": 0,
              "model_id": "598c53aa7d8e4e80bc2b109b661d188c"
            }
          },
          "metadata": {}
        },
        {
          "output_type": "display_data",
          "data": {
            "text/plain": [],
            "text/html": [
              "<pre style=\"white-space:pre;overflow-x:auto;line-height:normal;font-family:Menlo,'DejaVu Sans Mono',consolas,'Courier New',monospace\"></pre>\n"
            ]
          },
          "metadata": {}
        },
        {
          "output_type": "execute_result",
          "data": {
            "text/plain": [
              "(<Figure size 1000x500 with 2 Axes>,\n",
              " array([<Axes: xlabel='Y_obs'>, <Axes: xlabel='Y_obs'>], dtype=object))"
            ]
          },
          "metadata": {},
          "execution_count": 31
        },
        {
          "output_type": "stream",
          "name": "stderr",
          "text": [
            "/usr/local/lib/python3.10/dist-packages/IPython/core/events.py:89: UserWarning: Creating legend with loc=\"best\" can be slow with large amounts of data.\n",
            "  func(*args, **kwargs)\n",
            "/usr/local/lib/python3.10/dist-packages/IPython/core/pylabtools.py:151: UserWarning: Creating legend with loc=\"best\" can be slow with large amounts of data.\n",
            "  fig.canvas.print_figure(bytes_io, **kw)\n"
          ]
        },
        {
          "output_type": "display_data",
          "data": {
            "text/plain": [
              "<Figure size 1000x500 with 2 Axes>"
            ],
            "image/png": "[encoded data removed]"
          },
          "metadata": {}
        }
      ]
    },
    {
      "cell_type": "markdown",
      "source": [
        "COMPARANDO MODELOS"
      ],
      "metadata": {
        "id": "47uY9D3JAV89"
      }
    },
    {
      "cell_type": "code",
      "source": [
        "# Verificar se o log_likelihood já existe antes de recalcular\n",
        "if 'log_likelihood' not in trace_ridge.groups():\n",
        "    with model_ridge:\n",
        "        pm.compute_log_likelihood(trace_ridge)\n",
        "\n",
        "\n",
        "if 'log_likelihood' not in trace_lasso.groups():\n",
        "    with model_lasso:\n",
        "        pm.compute_log_likelihood(trace_lasso)\n",
        "\n",
        "if 'log_likelihood' not in trace_hierarchical.groups():\n",
        "    with model_hierarchical:\n",
        "        pm.compute_log_likelihood(trace_robust)\n",
        "\n",
        "if 'log_likelihood' not in trace_robust.groups():\n",
        "    with model_robust:\n",
        "        pm.compute_log_likelihood(trace_robust)"
      ],
      "metadata": {
        "id": "T_8pBKpCBpo2"
      },
      "execution_count": 37,
      "outputs": []
    },
    {
      "cell_type": "code",
      "source": [
        "# Verifique se o log_likelihood foi corretamente adicionado\n",
        "print(trace_ridge.groups())\n",
        "\n",
        "print(trace_lasso.groups())\n",
        "\n",
        "print(trace_robust.groups())\n",
        "\n",
        "print(trace_hierarchical.groups())"
      ],
      "metadata": {
        "colab": {
          "base_uri": "https://localhost:8080/"
        },
        "id": "z89oMklnCrrf",
        "outputId": "a956eafd-6ff9-467a-b768-02dad2e37909"
      },
      "execution_count": 32,
      "outputs": [
        {
          "output_type": "stream",
          "name": "stdout",
          "text": [
            "['posterior', 'sample_stats', 'observed_data']\n",
            "['posterior', 'sample_stats', 'observed_data']\n",
            "['posterior', 'sample_stats', 'observed_data']\n",
            "['posterior', 'log_likelihood', 'sample_stats', 'observed_data']\n"
          ]
        }
      ]
    },
    {
      "cell_type": "code",
      "source": [
        "# # Amostragem para o modelo Lasso\n",
        "# with model_lasso:\n",
        "#     trace_lasso = pm.sample(1000, tune=1000, target_accept=0.95, return_inferencedata=True)\n",
        "#     # Incluindo o cálculo do log likelihood\n",
        "#     trace_lasso = pm.sample(1000, tune=1000, target_accept=0.95, return_inferencedata=True)\n",
        "\n",
        "# # Amostragem para o modelo Hierárquico\n",
        "# with model_hierarchical:\n",
        "#     trace_hierarchical = pm.sample(1000, tune=1000, target_accept=0.95, return_inferencedata=True)\n",
        "\n",
        "# # Amostragem para o modelo Robusto\n",
        "# with model_robust:\n",
        "#     trace_robust = pm.sample(1000, tune=1000, target_accept=0.95, return_inferencedata=True)\n",
        "\n",
        "# # Amostragem para o modelo Ridge\n",
        "# with model_ridge:\n",
        "#     trace_ridge = pm.sample(1000, tune=1000, target_accept=0.95, return_inferencedata=True)\n"
      ],
      "metadata": {
        "id": "QqZr7hZiBciX"
      },
      "execution_count": null,
      "outputs": []
    },
    {
      "cell_type": "code",
      "source": [
        "import arviz as az\n",
        "import matplotlib.pyplot as plt"
      ],
      "metadata": {
        "id": "6oFoWuwptfZJ"
      },
      "execution_count": 33,
      "outputs": []
    },
    {
      "cell_type": "code",
      "source": [
        "\n",
        "\n",
        "# Verificar se o log_likelihood já existe antes de recalcular\n",
        "if 'log_likelihood' not in trace_ridge.groups():\n",
        "    with model_ridge:\n",
        "        pm.compute_log_likelihood(trace_ridge)\n",
        "\n",
        "\n",
        "if 'log_likelihood' not in trace_lasso.groups():\n",
        "    with model_lasso:\n",
        "        pm.compute_log_likelihood(trace_lasso)\n",
        "\n",
        "if 'log_likelihood' not in trace_robust.groups():\n",
        "    with model_robust:\n",
        "        pm.compute_log_likelihood(trace_robust)\n",
        "\n",
        "if 'log_likelihood' not in trace_hierarchical.groups():\n",
        "    with model_hierarchical:\n",
        "        pm.compute_log_likelihood(trace_hierarchical)\n",
        ""
      ],
      "metadata": {
        "colab": {
          "base_uri": "https://localhost:8080/",
          "height": 69,
          "referenced_widgets": [
            "92f8dbbfe5f44c6cb2f07db7f776793d",
            "eb29c423fc0f4b15a9bd3e3ff6be58cd",
            "7a0ceea08c4a4636923f6498c05778dc",
            "3dd28f7614e84069ab9aad99e038a04d",
            "b493d66556314067a71c542fbe4ad918",
            "52ca5d3ca52f4d0e9ad70768aea63a9b"
          ]
        },
        "id": "qU9yKSRydEJ9",
        "outputId": "648d7637-1475-473f-ef7f-28368a49d8ea"
      },
      "execution_count": 34,
      "outputs": [
        {
          "output_type": "display_data",
          "data": {
            "text/plain": [
              "Output()"
            ],
            "application/vnd.jupyter.widget-view+json": {
              "version_major": 2,
              "version_minor": 0,
              "model_id": "92f8dbbfe5f44c6cb2f07db7f776793d"
            }
          },
          "metadata": {}
        },
        {
          "output_type": "display_data",
          "data": {
            "text/plain": [],
            "text/html": [
              "<pre style=\"white-space:pre;overflow-x:auto;line-height:normal;font-family:Menlo,'DejaVu Sans Mono',consolas,'Courier New',monospace\"></pre>\n"
            ]
          },
          "metadata": {}
        },
        {
          "output_type": "display_data",
          "data": {
            "text/plain": [
              "Output()"
            ],
            "application/vnd.jupyter.widget-view+json": {
              "version_major": 2,
              "version_minor": 0,
              "model_id": "7a0ceea08c4a4636923f6498c05778dc"
            }
          },
          "metadata": {}
        },
        {
          "output_type": "display_data",
          "data": {
            "text/plain": [],
            "text/html": [
              "<pre style=\"white-space:pre;overflow-x:auto;line-height:normal;font-family:Menlo,'DejaVu Sans Mono',consolas,'Courier New',monospace\"></pre>\n"
            ]
          },
          "metadata": {}
        },
        {
          "output_type": "display_data",
          "data": {
            "text/plain": [
              "Output()"
            ],
            "application/vnd.jupyter.widget-view+json": {
              "version_major": 2,
              "version_minor": 0,
              "model_id": "b493d66556314067a71c542fbe4ad918"
            }
          },
          "metadata": {}
        },
        {
          "output_type": "display_data",
          "data": {
            "text/plain": [],
            "text/html": [
              "<pre style=\"white-space:pre;overflow-x:auto;line-height:normal;font-family:Menlo,'DejaVu Sans Mono',consolas,'Courier New',monospace\"></pre>\n"
            ]
          },
          "metadata": {}
        }
      ]
    },
    {
      "cell_type": "code",
      "source": [
        "\n",
        "\n",
        "\n",
        "# Verifique se o log_likelihood foi corretamente adicionado\n",
        "print(trace_ridge.groups())\n",
        "\n",
        "print(trace_lasso.groups())\n",
        "\n",
        "print(trace_robust.groups())\n",
        "\n",
        "print(trace_hierarchical.groups())\n"
      ],
      "metadata": {
        "colab": {
          "base_uri": "https://localhost:8080/"
        },
        "id": "7EVIbPEkdFcE",
        "outputId": "f3097922-f752-419d-8e8c-911509f3b96c"
      },
      "execution_count": 35,
      "outputs": [
        {
          "output_type": "stream",
          "name": "stdout",
          "text": [
            "['posterior', 'log_likelihood', 'sample_stats', 'observed_data']\n",
            "['posterior', 'log_likelihood', 'sample_stats', 'observed_data']\n",
            "['posterior', 'log_likelihood', 'sample_stats', 'observed_data']\n",
            "['posterior', 'log_likelihood', 'sample_stats', 'observed_data']\n"
          ]
        }
      ]
    },
    {
      "cell_type": "code",
      "source": [
        "# Comparar os modelos usando o critério WAIC (ou LOO, se preferir)\n",
        "comparison = az.compare({\n",
        "    \"Ridge\": trace_ridge,\n",
        "    \"Lasso\": trace_lasso,\n",
        "    \"Hierarchical\": trace_hierarchical,\n",
        "    \"Robust\": trace_robust\n",
        "}, ic=\"waic\")  # Você pode usar \"loo\" no lugar de \"waic\" se preferir\n",
        "\n",
        "# Plotar a comparação\n",
        "az.plot_compare(comparison)\n",
        "plt.title(\"Comparação dos Modelos\")\n",
        "plt.show()\n"
      ],
      "metadata": {
        "colab": {
          "base_uri": "https://localhost:8080/",
          "height": 626
        },
        "id": "VZun4cq1dFuL",
        "outputId": "a33ba3d2-133a-4a2b-8087-7dc0b94f7a36"
      },
      "execution_count": 36,
      "outputs": [
        {
          "output_type": "stream",
          "name": "stderr",
          "text": [
            "/usr/local/lib/python3.10/dist-packages/arviz/stats/stats.py:1647: UserWarning: For one or more samples the posterior variance of the log predictive densities exceeds 0.4. This could be indication of WAIC starting to fail. \n",
            "See http://arxiv.org/abs/1507.04544 for details\n",
            "  warnings.warn(\n",
            "/usr/local/lib/python3.10/dist-packages/arviz/stats/stats.py:1647: UserWarning: For one or more samples the posterior variance of the log predictive densities exceeds 0.4. This could be indication of WAIC starting to fail. \n",
            "See http://arxiv.org/abs/1507.04544 for details\n",
            "  warnings.warn(\n",
            "/usr/local/lib/python3.10/dist-packages/arviz/stats/stats.py:1647: UserWarning: For one or more samples the posterior variance of the log predictive densities exceeds 0.4. This could be indication of WAIC starting to fail. \n",
            "See http://arxiv.org/abs/1507.04544 for details\n",
            "  warnings.warn(\n",
            "/usr/local/lib/python3.10/dist-packages/arviz/stats/stats.py:1647: UserWarning: For one or more samples the posterior variance of the log predictive densities exceeds 0.4. This could be indication of WAIC starting to fail. \n",
            "See http://arxiv.org/abs/1507.04544 for details\n",
            "  warnings.warn(\n"
          ]
        },
        {
          "output_type": "display_data",
          "data": {
            "text/plain": [
              "<Figure size 600x400 with 1 Axes>"
            ],
            "image/png": "[encoded data removed]"
          },
          "metadata": {}
        }
      ]
    }
  ]
}