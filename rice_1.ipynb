{
  "nbformat": 4,
  "nbformat_minor": 0,
  "metadata": {
    "colab": {
      "provenance": [],
      "authorship_tag": "ABX9TyNBftBlLoNLcj3yPvw04hO2",
      "include_colab_link": true
    },
    "kernelspec": {
      "name": "python3",
      "display_name": "Python 3"
    },
    "language_info": {
      "name": "python"
    },
    "widgets": {
      "application/vnd.jupyter.widget-state+json": {
        "1cdb91b7a0844aa59cd4b6a50acf8bcd": {
          "model_module": "@jupyter-widgets/output",
          "model_name": "OutputModel",
          "model_module_version": "1.0.0",
          "state": {
            "_dom_classes": [],
            "_model_module": "@jupyter-widgets/output",
            "_model_module_version": "1.0.0",
            "_model_name": "OutputModel",
            "_view_count": null,
            "_view_module": "@jupyter-widgets/output",
            "_view_module_version": "1.0.0",
            "_view_name": "OutputView",
            "layout": "IPY_MODEL_3177b3dd23a04f208b46da04133ad816",
            "msg_id": "",
            "outputs": [
              {
                "output_type": "display_data",
                "data": {
                  "text/plain": "Sampling chain 0, 0 divergences \u001b[32m━━━━━━━━━━━━━━━━━━━━━━━━━━━━━━━━━━━━━━━━\u001b[0m \u001b[35m100%\u001b[0m \u001b[36m0:00:00\u001b[0m / \u001b[33m0:01:10\u001b[0m\n",
                  "text/html": "<pre style=\"white-space:pre;overflow-x:auto;line-height:normal;font-family:Menlo,'DejaVu Sans Mono',consolas,'Courier New',monospace\">Sampling chain 0, 0 divergences <span style=\"color: #008000; text-decoration-color: #008000\">━━━━━━━━━━━━━━━━━━━━━━━━━━━━━━━━━━━━━━━━</span> <span style=\"color: #800080; text-decoration-color: #800080\">100%</span> <span style=\"color: #008080; text-decoration-color: #008080\">0:00:00</span> / <span style=\"color: #808000; text-decoration-color: #808000\">0:01:10</span>\n</pre>\n"
                },
                "metadata": {}
              }
            ]
          }
        },
        "3177b3dd23a04f208b46da04133ad816": {
          "model_module": "@jupyter-widgets/base",
          "model_name": "LayoutModel",
          "model_module_version": "1.2.0",
          "state": {
            "_model_module": "@jupyter-widgets/base",
            "_model_module_version": "1.2.0",
            "_model_name": "LayoutModel",
            "_view_count": null,
            "_view_module": "@jupyter-widgets/base",
            "_view_module_version": "1.2.0",
            "_view_name": "LayoutView",
            "align_content": null,
            "align_items": null,
            "align_self": null,
            "border": null,
            "bottom": null,
            "display": null,
            "flex": null,
            "flex_flow": null,
            "grid_area": null,
            "grid_auto_columns": null,
            "grid_auto_flow": null,
            "grid_auto_rows": null,
            "grid_column": null,
            "grid_gap": null,
            "grid_row": null,
            "grid_template_areas": null,
            "grid_template_columns": null,
            "grid_template_rows": null,
            "height": null,
            "justify_content": null,
            "justify_items": null,
            "left": null,
            "margin": null,
            "max_height": null,
            "max_width": null,
            "min_height": null,
            "min_width": null,
            "object_fit": null,
            "object_position": null,
            "order": null,
            "overflow": null,
            "overflow_x": null,
            "overflow_y": null,
            "padding": null,
            "right": null,
            "top": null,
            "visibility": null,
            "width": null
          }
        },
        "ade054b45cff404f86689b5a34fd1f40": {
          "model_module": "@jupyter-widgets/output",
          "model_name": "OutputModel",
          "model_module_version": "1.0.0",
          "state": {
            "_dom_classes": [],
            "_model_module": "@jupyter-widgets/output",
            "_model_module_version": "1.0.0",
            "_model_name": "OutputModel",
            "_view_count": null,
            "_view_module": "@jupyter-widgets/output",
            "_view_module_version": "1.0.0",
            "_view_name": "OutputView",
            "layout": "IPY_MODEL_e5f6db69a7a84e8d9267a395a46a43c0",
            "msg_id": "",
            "outputs": [
              {
                "output_type": "display_data",
                "data": {
                  "text/plain": "Sampling chain 1, 0 divergences \u001b[32m━━━━━━━━━━━━━━━━━━━━━━━━━━━━━━━━━━━━━━━━\u001b[0m \u001b[35m100%\u001b[0m \u001b[36m0:00:00\u001b[0m / \u001b[33m0:01:10\u001b[0m\n",
                  "text/html": "<pre style=\"white-space:pre;overflow-x:auto;line-height:normal;font-family:Menlo,'DejaVu Sans Mono',consolas,'Courier New',monospace\">Sampling chain 1, 0 divergences <span style=\"color: #008000; text-decoration-color: #008000\">━━━━━━━━━━━━━━━━━━━━━━━━━━━━━━━━━━━━━━━━</span> <span style=\"color: #800080; text-decoration-color: #800080\">100%</span> <span style=\"color: #008080; text-decoration-color: #008080\">0:00:00</span> / <span style=\"color: #808000; text-decoration-color: #808000\">0:01:10</span>\n</pre>\n"
                },
                "metadata": {}
              }
            ]
          }
        },
        "e5f6db69a7a84e8d9267a395a46a43c0": {
          "model_module": "@jupyter-widgets/base",
          "model_name": "LayoutModel",
          "model_module_version": "1.2.0",
          "state": {
            "_model_module": "@jupyter-widgets/base",
            "_model_module_version": "1.2.0",
            "_model_name": "LayoutModel",
            "_view_count": null,
            "_view_module": "@jupyter-widgets/base",
            "_view_module_version": "1.2.0",
            "_view_name": "LayoutView",
            "align_content": null,
            "align_items": null,
            "align_self": null,
            "border": null,
            "bottom": null,
            "display": null,
            "flex": null,
            "flex_flow": null,
            "grid_area": null,
            "grid_auto_columns": null,
            "grid_auto_flow": null,
            "grid_auto_rows": null,
            "grid_column": null,
            "grid_gap": null,
            "grid_row": null,
            "grid_template_areas": null,
            "grid_template_columns": null,
            "grid_template_rows": null,
            "height": null,
            "justify_content": null,
            "justify_items": null,
            "left": null,
            "margin": null,
            "max_height": null,
            "max_width": null,
            "min_height": null,
            "min_width": null,
            "object_fit": null,
            "object_position": null,
            "order": null,
            "overflow": null,
            "overflow_x": null,
            "overflow_y": null,
            "padding": null,
            "right": null,
            "top": null,
            "visibility": null,
            "width": null
          }
        },
        "6373051ce1924c97b5a901671d6dab23": {
          "model_module": "@jupyter-widgets/output",
          "model_name": "OutputModel",
          "model_module_version": "1.0.0",
          "state": {
            "_dom_classes": [],
            "_model_module": "@jupyter-widgets/output",
            "_model_module_version": "1.0.0",
            "_model_name": "OutputModel",
            "_view_count": null,
            "_view_module": "@jupyter-widgets/output",
            "_view_module_version": "1.0.0",
            "_view_name": "OutputView",
            "layout": "IPY_MODEL_a248177733d9498cb53f6f8a0dcc17b3",
            "msg_id": "",
            "outputs": [
              {
                "output_type": "display_data",
                "data": {
                  "text/plain": "Sampling chain 0, 0 divergences \u001b[32m━━━━━━━━━━━━━━━━━━━━━━━━━━━━━━━━━━━━━━━━\u001b[0m \u001b[35m100%\u001b[0m \u001b[36m0:00:00\u001b[0m / \u001b[33m0:07:15\u001b[0m\n",
                  "text/html": "<pre style=\"white-space:pre;overflow-x:auto;line-height:normal;font-family:Menlo,'DejaVu Sans Mono',consolas,'Courier New',monospace\">Sampling chain 0, 0 divergences <span style=\"color: #008000; text-decoration-color: #008000\">━━━━━━━━━━━━━━━━━━━━━━━━━━━━━━━━━━━━━━━━</span> <span style=\"color: #800080; text-decoration-color: #800080\">100%</span> <span style=\"color: #008080; text-decoration-color: #008080\">0:00:00</span> / <span style=\"color: #808000; text-decoration-color: #808000\">0:07:15</span>\n</pre>\n"
                },
                "metadata": {}
              }
            ]
          }
        },
        "a248177733d9498cb53f6f8a0dcc17b3": {
          "model_module": "@jupyter-widgets/base",
          "model_name": "LayoutModel",
          "model_module_version": "1.2.0",
          "state": {
            "_model_module": "@jupyter-widgets/base",
            "_model_module_version": "1.2.0",
            "_model_name": "LayoutModel",
            "_view_count": null,
            "_view_module": "@jupyter-widgets/base",
            "_view_module_version": "1.2.0",
            "_view_name": "LayoutView",
            "align_content": null,
            "align_items": null,
            "align_self": null,
            "border": null,
            "bottom": null,
            "display": null,
            "flex": null,
            "flex_flow": null,
            "grid_area": null,
            "grid_auto_columns": null,
            "grid_auto_flow": null,
            "grid_auto_rows": null,
            "grid_column": null,
            "grid_gap": null,
            "grid_row": null,
            "grid_template_areas": null,
            "grid_template_columns": null,
            "grid_template_rows": null,
            "height": null,
            "justify_content": null,
            "justify_items": null,
            "left": null,
            "margin": null,
            "max_height": null,
            "max_width": null,
            "min_height": null,
            "min_width": null,
            "object_fit": null,
            "object_position": null,
            "order": null,
            "overflow": null,
            "overflow_x": null,
            "overflow_y": null,
            "padding": null,
            "right": null,
            "top": null,
            "visibility": null,
            "width": null
          }
        },
        "5439ffde18a2453fbeba1ef374a36970": {
          "model_module": "@jupyter-widgets/output",
          "model_name": "OutputModel",
          "model_module_version": "1.0.0",
          "state": {
            "_dom_classes": [],
            "_model_module": "@jupyter-widgets/output",
            "_model_module_version": "1.0.0",
            "_model_name": "OutputModel",
            "_view_count": null,
            "_view_module": "@jupyter-widgets/output",
            "_view_module_version": "1.0.0",
            "_view_name": "OutputView",
            "layout": "IPY_MODEL_c3d2d0c4931a4760a169c1cc2a1eb948",
            "msg_id": "",
            "outputs": [
              {
                "output_type": "display_data",
                "data": {
                  "text/plain": "Sampling chain 1, 0 divergences \u001b[32m━━━━━━━━━━━━━━━━━━━━━━━━━━━━━━━━━━━━━━━━\u001b[0m \u001b[35m100%\u001b[0m \u001b[36m0:00:00\u001b[0m / \u001b[33m0:07:26\u001b[0m\n",
                  "text/html": "<pre style=\"white-space:pre;overflow-x:auto;line-height:normal;font-family:Menlo,'DejaVu Sans Mono',consolas,'Courier New',monospace\">Sampling chain 1, 0 divergences <span style=\"color: #008000; text-decoration-color: #008000\">━━━━━━━━━━━━━━━━━━━━━━━━━━━━━━━━━━━━━━━━</span> <span style=\"color: #800080; text-decoration-color: #800080\">100%</span> <span style=\"color: #008080; text-decoration-color: #008080\">0:00:00</span> / <span style=\"color: #808000; text-decoration-color: #808000\">0:07:26</span>\n</pre>\n"
                },
                "metadata": {}
              }
            ]
          }
        },
        "c3d2d0c4931a4760a169c1cc2a1eb948": {
          "model_module": "@jupyter-widgets/base",
          "model_name": "LayoutModel",
          "model_module_version": "1.2.0",
          "state": {
            "_model_module": "@jupyter-widgets/base",
            "_model_module_version": "1.2.0",
            "_model_name": "LayoutModel",
            "_view_count": null,
            "_view_module": "@jupyter-widgets/base",
            "_view_module_version": "1.2.0",
            "_view_name": "LayoutView",
            "align_content": null,
            "align_items": null,
            "align_self": null,
            "border": null,
            "bottom": null,
            "display": null,
            "flex": null,
            "flex_flow": null,
            "grid_area": null,
            "grid_auto_columns": null,
            "grid_auto_flow": null,
            "grid_auto_rows": null,
            "grid_column": null,
            "grid_gap": null,
            "grid_row": null,
            "grid_template_areas": null,
            "grid_template_columns": null,
            "grid_template_rows": null,
            "height": null,
            "justify_content": null,
            "justify_items": null,
            "left": null,
            "margin": null,
            "max_height": null,
            "max_width": null,
            "min_height": null,
            "min_width": null,
            "object_fit": null,
            "object_position": null,
            "order": null,
            "overflow": null,
            "overflow_x": null,
            "overflow_y": null,
            "padding": null,
            "right": null,
            "top": null,
            "visibility": null,
            "width": null
          }
        },
        "cfa8f0ac0b094a9aaf8b1a4cdcb72b2c": {
          "model_module": "@jupyter-widgets/output",
          "model_name": "OutputModel",
          "model_module_version": "1.0.0",
          "state": {
            "_dom_classes": [],
            "_model_module": "@jupyter-widgets/output",
            "_model_module_version": "1.0.0",
            "_model_name": "OutputModel",
            "_view_count": null,
            "_view_module": "@jupyter-widgets/output",
            "_view_module_version": "1.0.0",
            "_view_name": "OutputView",
            "layout": "IPY_MODEL_f0c8800bb0e94ac8aa2d6a0fd4463429",
            "msg_id": "",
            "outputs": [
              {
                "output_type": "display_data",
                "data": {
                  "text/plain": "Sampling ... \u001b[32m━━━━━━━━━━━━━━━━━━━━━━━━━━━━━━━━━━━━━━━━\u001b[0m \u001b[35m100%\u001b[0m \u001b[36m0:00:00\u001b[0m / \u001b[33m0:00:20\u001b[0m\n",
                  "text/html": "<pre style=\"white-space:pre;overflow-x:auto;line-height:normal;font-family:Menlo,'DejaVu Sans Mono',consolas,'Courier New',monospace\">Sampling ... <span style=\"color: #008000; text-decoration-color: #008000\">━━━━━━━━━━━━━━━━━━━━━━━━━━━━━━━━━━━━━━━━</span> <span style=\"color: #800080; text-decoration-color: #800080\">100%</span> <span style=\"color: #008080; text-decoration-color: #008080\">0:00:00</span> / <span style=\"color: #808000; text-decoration-color: #808000\">0:00:20</span>\n</pre>\n"
                },
                "metadata": {}
              }
            ]
          }
        },
        "f0c8800bb0e94ac8aa2d6a0fd4463429": {
          "model_module": "@jupyter-widgets/base",
          "model_name": "LayoutModel",
          "model_module_version": "1.2.0",
          "state": {
            "_model_module": "@jupyter-widgets/base",
            "_model_module_version": "1.2.0",
            "_model_name": "LayoutModel",
            "_view_count": null,
            "_view_module": "@jupyter-widgets/base",
            "_view_module_version": "1.2.0",
            "_view_name": "LayoutView",
            "align_content": null,
            "align_items": null,
            "align_self": null,
            "border": null,
            "bottom": null,
            "display": null,
            "flex": null,
            "flex_flow": null,
            "grid_area": null,
            "grid_auto_columns": null,
            "grid_auto_flow": null,
            "grid_auto_rows": null,
            "grid_column": null,
            "grid_gap": null,
            "grid_row": null,
            "grid_template_areas": null,
            "grid_template_columns": null,
            "grid_template_rows": null,
            "height": null,
            "justify_content": null,
            "justify_items": null,
            "left": null,
            "margin": null,
            "max_height": null,
            "max_width": null,
            "min_height": null,
            "min_width": null,
            "object_fit": null,
            "object_position": null,
            "order": null,
            "overflow": null,
            "overflow_x": null,
            "overflow_y": null,
            "padding": null,
            "right": null,
            "top": null,
            "visibility": null,
            "width": null
          }
        }
      }
    }
  },
  "cells": [
    {
      "cell_type": "markdown",
      "metadata": {
        "id": "view-in-github",
        "colab_type": "text"
      },
      "source": [
        "<a href=\"https://colab.research.google.com/github/AnabelleSouza/CRUD_PDO-CONTEINER/blob/main/rice_1.ipynb\" target=\"_parent\"><img src=\"https://colab.research.google.com/assets/colab-badge.svg\" alt=\"Open In Colab\"/></a>"
      ]
    },
    {
      "cell_type": "code",
      "execution_count": 1,
      "metadata": {
        "colab": {
          "base_uri": "https://localhost:8080/"
        },
        "id": "TDg1W4XrJyGp",
        "outputId": "3a303267-3edd-4539-803f-1c13fb7da4b8"
      },
      "outputs": [
        {
          "output_type": "stream",
          "name": "stdout",
          "text": [
            "Collecting ucimlrepo\n",
            "  Downloading ucimlrepo-0.0.7-py3-none-any.whl.metadata (5.5 kB)\n",
            "Requirement already satisfied: pandas>=1.0.0 in /usr/local/lib/python3.10/dist-packages (from ucimlrepo) (2.1.4)\n",
            "Requirement already satisfied: certifi>=2020.12.5 in /usr/local/lib/python3.10/dist-packages (from ucimlrepo) (2024.8.30)\n",
            "Requirement already satisfied: numpy<2,>=1.22.4 in /usr/local/lib/python3.10/dist-packages (from pandas>=1.0.0->ucimlrepo) (1.26.4)\n",
            "Requirement already satisfied: python-dateutil>=2.8.2 in /usr/local/lib/python3.10/dist-packages (from pandas>=1.0.0->ucimlrepo) (2.8.2)\n",
            "Requirement already satisfied: pytz>=2020.1 in /usr/local/lib/python3.10/dist-packages (from pandas>=1.0.0->ucimlrepo) (2024.2)\n",
            "Requirement already satisfied: tzdata>=2022.1 in /usr/local/lib/python3.10/dist-packages (from pandas>=1.0.0->ucimlrepo) (2024.1)\n",
            "Requirement already satisfied: six>=1.5 in /usr/local/lib/python3.10/dist-packages (from python-dateutil>=2.8.2->pandas>=1.0.0->ucimlrepo) (1.16.0)\n",
            "Downloading ucimlrepo-0.0.7-py3-none-any.whl (8.0 kB)\n",
            "Installing collected packages: ucimlrepo\n",
            "Successfully installed ucimlrepo-0.0.7\n"
          ]
        }
      ],
      "source": [
        "pip install ucimlrepo"
      ]
    },
    {
      "cell_type": "code",
      "source": [
        "from ucimlrepo import fetch_ucirepo\n",
        "\n",
        "# fetch dataset\n",
        "rice_cammeo_and_osmancik = fetch_ucirepo(id=545)\n",
        "\n",
        "# data (as pandas dataframes)\n",
        "X = rice_cammeo_and_osmancik.data.features\n",
        "y = rice_cammeo_and_osmancik.data.targets\n",
        "\n",
        "# metadata\n",
        "print(rice_cammeo_and_osmancik.metadata)\n",
        "\n",
        "# variable information\n",
        "print(rice_cammeo_and_osmancik.variables)\n"
      ],
      "metadata": {
        "colab": {
          "base_uri": "https://localhost:8080/"
        },
        "id": "xvi1W07pKKdv",
        "outputId": "b81730d4-bcb7-4e52-d6e0-62c9cd5423b6"
      },
      "execution_count": 2,
      "outputs": [
        {
          "output_type": "stream",
          "name": "stdout",
          "text": [
            "{'uci_id': 545, 'name': 'Rice (Cammeo and Osmancik)', 'repository_url': 'https://archive.ics.uci.edu/dataset/545/rice+cammeo+and+osmancik', 'data_url': 'https://archive.ics.uci.edu/static/public/545/data.csv', 'abstract': \"A total of 3810 rice grain's images were taken for the two species, processed and feature inferences were made. 7 morphological features were obtained for each grain of rice.\", 'area': 'Biology', 'tasks': ['Classification'], 'characteristics': ['Multivariate'], 'num_instances': 3810, 'num_features': 7, 'feature_types': ['Real'], 'demographics': [], 'target_col': ['Class'], 'index_col': None, 'has_missing_values': 'no', 'missing_values_symbol': None, 'year_of_dataset_creation': 2019, 'last_updated': 'Fri Nov 03 2023', 'dataset_doi': '10.24432/C5MW4Z', 'creators': [], 'intro_paper': {'ID': 276, 'type': 'NATIVE', 'title': 'Classification of Rice Varieties Using Artificial Intelligence Methods', 'authors': 'Ilkay Cinar, M. Koklu', 'venue': 'International Journal of Intelligent Systems and Applications in Engineering', 'year': 2019, 'journal': None, 'DOI': '10.18201/ijisae.2019355381', 'URL': 'https://www.semanticscholar.org/paper/4e508bb906c8fdc04ead6f20bd8918fcb3605d1c', 'sha': None, 'corpus': None, 'arxiv': None, 'mag': None, 'acl': None, 'pmid': None, 'pmcid': None}, 'additional_info': {'summary': \"Among  the certified rice grown in TURKEY,  the  Osmancik species, which has a large planting area since 1997 and the Cammeo species grown since 2014 have been selected for the study.  When  looking  at  the  general  characteristics  of  Osmancik species, they have a wide, long, glassy and dull appearance.  When looking at the general characteristics of the Cammeo species, they have wide and long, glassy and dull in appearance.  A total of 3810 rice grain's images were taken for the two species, processed and feature inferences were made. 7 morphological features were obtained for each grain of rice. \", 'purpose': None, 'funded_by': None, 'instances_represent': None, 'recommended_data_splits': None, 'sensitive_data': None, 'preprocessing_description': None, 'variable_info': '1.) Area: Returns  the  number  of  pixels  within  the boundaries of the rice grain.\\r\\n2.) Perimeter: Calculates the circumference by calculating  the  distance  between  pixels around the boundaries of the rice grain.\\r\\n3.) Major Axis Length: The longest line that can be drawn on the rice  grain,  i.e.  the  main  axis  distance, gives.\\r\\n4.) Minor Axis Length: The shortest line that can be drawn on the rice  grain,  i.e.  the  small  axis  distance, gives.\\r\\n5.) Eccentricity: It measures how round the ellipse, which has  the  same  moments  as  the  rice  grain, is.\\r\\n6.) Convex Area: Returns  the  pixel  count  of  the  smallest convex shell of the region formed by the rice grain.\\r\\n7.) Extent: Returns the ratio of the regionformed by the rice grain to the bounding box pixels.\\r\\n8.) Class: Cammeo and Osmancik rices', 'citation': None}}\n",
            "                name     role        type demographic  \\\n",
            "0               Area  Feature     Integer        None   \n",
            "1          Perimeter  Feature  Continuous        None   \n",
            "2  Major_Axis_Length  Feature  Continuous        None   \n",
            "3  Minor_Axis_Length  Feature  Continuous        None   \n",
            "4       Eccentricity  Feature  Continuous        None   \n",
            "5        Convex_Area  Feature     Integer        None   \n",
            "6             Extent  Feature  Continuous        None   \n",
            "7              Class   Target      Binary        None   \n",
            "\n",
            "                                         description units missing_values  \n",
            "0  Returns the number of pixels within the bounda...    px             no  \n",
            "1  Calculates the circumference by calculating th...    px             no  \n",
            "2  The longest line that can be drawn on the rice...  None             no  \n",
            "3  The shortest line that can be drawn on the ric...  None             no  \n",
            "4  It measures how round the ellipse, which has t...  None             no  \n",
            "5  Returns the pixel count of the smallest convex...  None             no  \n",
            "6  Returns the ratio of the region formed by the ...  None             no  \n",
            "7                                Cammeo and Osmancik  None             no  \n"
          ]
        }
      ]
    },
    {
      "cell_type": "code",
      "source": [
        "# # Verifique se 'y' foi carregado corretamente como uma série\n",
        "print(X.shape)\n",
        "print(y.shape)\n",
        "\n",
        "# # Certifique-se de que y está no formato correto (1D)\n",
        "y = y.squeeze()\n",
        "\n",
        "# # Verifique novamente o formato de y\n",
        "print(y.shape)"
      ],
      "metadata": {
        "colab": {
          "base_uri": "https://localhost:8080/"
        },
        "id": "QpBii0auKRXu",
        "outputId": "1c673966-8128-434a-c8e3-f396fadd9248"
      },
      "execution_count": 3,
      "outputs": [
        {
          "output_type": "stream",
          "name": "stdout",
          "text": [
            "(3810, 7)\n",
            "(3810, 1)\n",
            "(3810,)\n"
          ]
        }
      ]
    },
    {
      "cell_type": "code",
      "source": [
        "\n",
        "\n",
        "# Verifique as colunas que são categóricas\n",
        "categorical_columns = X.select_dtypes(include=['object']).columns\n",
        "\n",
        "# Aplicar LabelEncoder para transformar categorias em números\n",
        "label_encoders = {}\n",
        "for column in categorical_columns:\n",
        "    le = LabelEncoder()\n",
        "    X[column] = le.fit_transform(X[column])\n",
        "    label_encoders[column] = le\n",
        "\n",
        "# Verifique se todas as colunas foram transformadas\n",
        "print(X.head())\n"
      ],
      "metadata": {
        "colab": {
          "base_uri": "https://localhost:8080/"
        },
        "id": "J7znqcPtKd6N",
        "outputId": "b9ebbdfa-c796-4bd0-a982-67e1b00aec88"
      },
      "execution_count": 4,
      "outputs": [
        {
          "output_type": "stream",
          "name": "stdout",
          "text": [
            "    Area   Perimeter  Major_Axis_Length  Minor_Axis_Length  Eccentricity  \\\n",
            "0  15231  525.578979         229.749878          85.093788      0.928882   \n",
            "1  14656  494.311005         206.020065          91.730972      0.895405   \n",
            "2  14634  501.122009         214.106781          87.768288      0.912118   \n",
            "3  13176  458.342987         193.337387          87.448395      0.891861   \n",
            "4  14688  507.166992         211.743378          89.312454      0.906691   \n",
            "\n",
            "   Convex_Area    Extent  \n",
            "0        15617  0.572896  \n",
            "1        15072  0.615436  \n",
            "2        14954  0.693259  \n",
            "3        13368  0.640669  \n",
            "4        15262  0.646024  \n"
          ]
        }
      ]
    },
    {
      "cell_type": "code",
      "source": [
        "# Verificar as primeiras linhas dos dados e das classes\n",
        "print(X.head())\n",
        "print(y.head())\n"
      ],
      "metadata": {
        "colab": {
          "base_uri": "https://localhost:8080/"
        },
        "id": "iuAho4wXK1Rx",
        "outputId": "4c81c224-8ac1-42f6-d519-c07a6b0ff63a"
      },
      "execution_count": 5,
      "outputs": [
        {
          "output_type": "stream",
          "name": "stdout",
          "text": [
            "    Area   Perimeter  Major_Axis_Length  Minor_Axis_Length  Eccentricity  \\\n",
            "0  15231  525.578979         229.749878          85.093788      0.928882   \n",
            "1  14656  494.311005         206.020065          91.730972      0.895405   \n",
            "2  14634  501.122009         214.106781          87.768288      0.912118   \n",
            "3  13176  458.342987         193.337387          87.448395      0.891861   \n",
            "4  14688  507.166992         211.743378          89.312454      0.906691   \n",
            "\n",
            "   Convex_Area    Extent  \n",
            "0        15617  0.572896  \n",
            "1        15072  0.615436  \n",
            "2        14954  0.693259  \n",
            "3        13368  0.640669  \n",
            "4        15262  0.646024  \n",
            "0    Cammeo\n",
            "1    Cammeo\n",
            "2    Cammeo\n",
            "3    Cammeo\n",
            "4    Cammeo\n",
            "Name: Class, dtype: object\n"
          ]
        }
      ]
    },
    {
      "cell_type": "code",
      "source": [
        "# Verificar os nomes das colunas no dataset\n",
        "print(X.columns)\n"
      ],
      "metadata": {
        "colab": {
          "base_uri": "https://localhost:8080/"
        },
        "id": "4dUGk3XXKgAW",
        "outputId": "59b33fa3-3037-40f6-876a-60aba3b0b726"
      },
      "execution_count": 6,
      "outputs": [
        {
          "output_type": "stream",
          "name": "stdout",
          "text": [
            "Index(['Area', 'Perimeter', 'Major_Axis_Length', 'Minor_Axis_Length',\n",
            "       'Eccentricity', 'Convex_Area', 'Extent'],\n",
            "      dtype='object')\n"
          ]
        }
      ]
    },
    {
      "cell_type": "code",
      "source": [
        "import pymc as pm\n",
        "import numpy as np\n",
        "import arviz as az"
      ],
      "metadata": {
        "id": "IXhv-H0wLYxu"
      },
      "execution_count": 7,
      "outputs": []
    },
    {
      "cell_type": "code",
      "source": [
        "# Definir as coordenadas das features usando os nomes das colunas\n",
        "cols = list(X.columns)\n",
        "coords = {'features': cols}\n",
        "\n",
        "# Exibir as coordenadas para conferência\n",
        "print(coords)\n"
      ],
      "metadata": {
        "colab": {
          "base_uri": "https://localhost:8080/"
        },
        "id": "Fp-uFKwfLnPA",
        "outputId": "21054fbc-5f51-40de-e25b-38d7f7ddf39c"
      },
      "execution_count": 8,
      "outputs": [
        {
          "output_type": "stream",
          "name": "stdout",
          "text": [
            "{'features': ['Area', 'Perimeter', 'Major_Axis_Length', 'Minor_Axis_Length', 'Eccentricity', 'Convex_Area', 'Extent']}\n"
          ]
        }
      ]
    },
    {
      "cell_type": "code",
      "source": [
        "import seaborn as sns\n",
        "import matplotlib.pyplot as plt\n",
        "\n",
        "# Definir as coordenadas das features usando os nomes das colunas\n",
        "cols = ['Area', 'Perimeter', 'Major_Axis_Length', 'Minor_Axis_Length',\n",
        "        'Eccentricity', 'Convex_Area', 'Extent']\n",
        "\n",
        "# Plotando o heatmap de correlação entre as features\n",
        "plt.figure(figsize=(10, 8))\n",
        "correlation_matrix = X[cols].corr()\n",
        "sns.heatmap(correlation_matrix, annot=True, cmap='coolwarm', cbar=True)\n",
        "plt.title('Heatmap de Correlação entre as Features')\n",
        "plt.show()\n"
      ],
      "metadata": {
        "colab": {
          "base_uri": "https://localhost:8080/",
          "height": 814
        },
        "id": "kUItoBRgL-Lv",
        "outputId": "9cae3574-ef9a-4928-cbc9-7abd5faee4f9"
      },
      "execution_count": 9,
      "outputs": [
        {
          "output_type": "display_data",
          "data": {
            "text/plain": [
              "<Figure size 1000x800 with 2 Axes>"
            ],
            "image/png": "[encoded data removed]"
          },
          "metadata": {}
        }
      ]
    },
    {
      "cell_type": "code",
      "source": [
        "from sklearn.preprocessing import StandardScaler\n",
        "from sklearn.model_selection import train_test_split\n",
        "\n",
        "# Dividir os dados em treino e teste\n",
        "X_train, X_test, y_train, y_test = train_test_split(X, y, test_size=0.2, random_state=42)\n",
        "\n",
        "# Normalizando (escalando) as features de X\n",
        "scaler = StandardScaler()\n",
        "X_train_scaled = scaler.fit_transform(X_train)\n",
        "X_test_scaled = scaler.transform(X_test)\n",
        "\n",
        "# Converter as classes para valores binários (0 e 1)\n",
        "y_train = y_train.replace({'Cammeo': 1, 'Osmancik': 0})\n",
        "y_test = y_test.replace({'Cammeo': 1, 'Osmancik': 0})\n",
        "\n",
        "# Preencher valores nulos em y_train com a moda (classe mais frequente), se necessário\n",
        "y_train = y_train.fillna(y_train.mode()[0])\n"
      ],
      "metadata": {
        "id": "0AZkO22XMr69"
      },
      "execution_count": 10,
      "outputs": []
    },
    {
      "cell_type": "code",
      "source": [
        "y_train = y_train.replace({'Cammeo': 1, 'Osmancik': 0})\n",
        "y_test = y_test.replace({'Cammeo': 1, 'Osmancik': 0})"
      ],
      "metadata": {
        "id": "Y7fJNqNFMQtP"
      },
      "execution_count": 11,
      "outputs": []
    },
    {
      "cell_type": "code",
      "source": [
        "# Verificar se a conversão foi bem-sucedida\n",
        "print(y_train.unique())"
      ],
      "metadata": {
        "colab": {
          "base_uri": "https://localhost:8080/"
        },
        "id": "IdD7JLVRMj6e",
        "outputId": "ae64e0bb-6991-4b7f-baf8-2f3a01786381"
      },
      "execution_count": 12,
      "outputs": [
        {
          "output_type": "stream",
          "name": "stdout",
          "text": [
            "[0 1]\n"
          ]
        }
      ]
    },
    {
      "cell_type": "code",
      "source": [
        "# Verificar os valores únicos para garantir que estão binários\n",
        "print(y_train.unique())\n",
        "print(y_test.unique())\n"
      ],
      "metadata": {
        "colab": {
          "base_uri": "https://localhost:8080/"
        },
        "id": "jcYFvWQmMUUY",
        "outputId": "4d16b677-d330-4da4-b118-e426dbad3e86"
      },
      "execution_count": 13,
      "outputs": [
        {
          "output_type": "stream",
          "name": "stdout",
          "text": [
            "[0 1]\n",
            "[1 0]\n"
          ]
        }
      ]
    },
    {
      "cell_type": "code",
      "source": [
        "# Preencher valores nulos com a classe mais frequente (mode)\n",
        "y_train = y_train.fillna(y_train.mode()[0])\n"
      ],
      "metadata": {
        "id": "p3Ul7-BUMpjG"
      },
      "execution_count": 14,
      "outputs": []
    },
    {
      "cell_type": "code",
      "source": [
        "\n",
        "\n",
        "# Definir o modelo com X e y como variáveis compartilhadas\n",
        "with pm.Model() as rice_model:\n",
        "    X_shared = pm.Data('X', X_train_scaled)\n",
        "    y_shared = pm.Data('y', y_train)  # y_train agora é binário (0 para Osmancik, 1 para Cammeo)\n",
        "\n",
        "    # Priori para os pesos e bias\n",
        "    priors = pm.Normal('w', mu=0, sigma=1, shape=X_train_scaled.shape[1])\n",
        "    bias = pm.Normal('bias', mu=0, sigma=1)\n",
        "\n",
        "    # Logits\n",
        "    logits = pm.math.dot(X_shared, priors) + bias\n",
        "\n",
        "    # Likelihood (Bernoulli) para a classe observada\n",
        "    likelihood = pm.Bernoulli('likelihood', logit_p=logits, observed=y_shared)\n",
        "\n",
        "    # Amostragem do posterior\n",
        "    trace = pm.sample(1000, tune=1000, target_accept=0.95)\n",
        "\n",
        "# Sumário do trace\n",
        "pm.summary(trace)\n"
      ],
      "metadata": {
        "colab": {
          "base_uri": "https://localhost:8080/",
          "height": 335,
          "referenced_widgets": [
            "1cdb91b7a0844aa59cd4b6a50acf8bcd",
            "3177b3dd23a04f208b46da04133ad816",
            "ade054b45cff404f86689b5a34fd1f40",
            "e5f6db69a7a84e8d9267a395a46a43c0"
          ]
        },
        "id": "BQwKxje-Liy-",
        "outputId": "f23d570c-9029-4275-bd2c-2b5afdaf6184"
      },
      "execution_count": 16,
      "outputs": [
        {
          "output_type": "display_data",
          "data": {
            "text/plain": [
              "Output()"
            ],
            "application/vnd.jupyter.widget-view+json": {
              "version_major": 2,
              "version_minor": 0,
              "model_id": "1cdb91b7a0844aa59cd4b6a50acf8bcd"
            }
          },
          "metadata": {}
        },
        {
          "output_type": "display_data",
          "data": {
            "text/plain": [],
            "text/html": [
              "<pre style=\"white-space:pre;overflow-x:auto;line-height:normal;font-family:Menlo,'DejaVu Sans Mono',consolas,'Courier New',monospace\"></pre>\n"
            ]
          },
          "metadata": {}
        },
        {
          "output_type": "display_data",
          "data": {
            "text/plain": [
              "Output()"
            ],
            "application/vnd.jupyter.widget-view+json": {
              "version_major": 2,
              "version_minor": 0,
              "model_id": "ade054b45cff404f86689b5a34fd1f40"
            }
          },
          "metadata": {}
        },
        {
          "output_type": "display_data",
          "data": {
            "text/plain": [],
            "text/html": [
              "<pre style=\"white-space:pre;overflow-x:auto;line-height:normal;font-family:Menlo,'DejaVu Sans Mono',consolas,'Courier New',monospace\"></pre>\n"
            ]
          },
          "metadata": {}
        },
        {
          "output_type": "execute_result",
          "data": {
            "text/plain": [
              "       mean     sd  hdi_3%  hdi_97%  mcse_mean  mcse_sd  ess_bulk  ess_tail  \\\n",
              "bias -0.863  0.095  -1.023   -0.662      0.002    0.002    1601.0    1550.0   \n",
              "w[0]  0.015  0.777  -1.552    1.396      0.020    0.020    1514.0     935.0   \n",
              "w[1]  0.947  0.582  -0.082    2.161      0.013    0.010    1875.0    1336.0   \n",
              "w[2]  0.983  0.797  -0.443    2.475      0.020    0.015    1549.0    1013.0   \n",
              "w[3] -0.528  0.662  -1.841    0.654      0.018    0.013    1329.0    1039.0   \n",
              "w[4]  1.112  0.590   0.030    2.209      0.017    0.013    1169.0    1128.0   \n",
              "w[5]  2.388  0.796   0.828    3.839      0.019    0.013    1820.0    1273.0   \n",
              "w[6]  0.054  0.079  -0.097    0.195      0.002    0.002    1939.0    1258.0   \n",
              "\n",
              "      r_hat  \n",
              "bias   1.00  \n",
              "w[0]   1.00  \n",
              "w[1]   1.00  \n",
              "w[2]   1.00  \n",
              "w[3]   1.00  \n",
              "w[4]   1.01  \n",
              "w[5]   1.00  \n",
              "w[6]   1.00  "
            ],
            "text/html": [
              "\n",
              "  <div id=\"df-304a87fc-7a28-42f9-be77-66e65a2266b6\" class=\"colab-df-container\">\n",
              "    <div>\n",
              "<style scoped>\n",
              "    .dataframe tbody tr th:only-of-type {\n",
              "        vertical-align: middle;\n",
              "    }\n",
              "\n",
              "    .dataframe tbody tr th {\n",
              "        vertical-align: top;\n",
              "    }\n",
              "\n",
              "    .dataframe thead th {\n",
              "        text-align: right;\n",
              "    }\n",
              "</style>\n",
              "<table border=\"1\" class=\"dataframe\">\n",
              "  <thead>\n",
              "    <tr style=\"text-align: right;\">\n",
              "      <th></th>\n",
              "      <th>mean</th>\n",
              "      <th>sd</th>\n",
              "      <th>hdi_3%</th>\n",
              "      <th>hdi_97%</th>\n",
              "      <th>mcse_mean</th>\n",
              "      <th>mcse_sd</th>\n",
              "      <th>ess_bulk</th>\n",
              "      <th>ess_tail</th>\n",
              "      <th>r_hat</th>\n",
              "    </tr>\n",
              "  </thead>\n",
              "  <tbody>\n",
              "    <tr>\n",
              "      <th>bias</th>\n",
              "      <td>-0.863</td>\n",
              "      <td>0.095</td>\n",
              "      <td>-1.023</td>\n",
              "      <td>-0.662</td>\n",
              "      <td>0.002</td>\n",
              "      <td>0.002</td>\n",
              "      <td>1601.0</td>\n",
              "      <td>1550.0</td>\n",
              "      <td>1.00</td>\n",
              "    </tr>\n",
              "    <tr>\n",
              "      <th>w[0]</th>\n",
              "      <td>0.015</td>\n",
              "      <td>0.777</td>\n",
              "      <td>-1.552</td>\n",
              "      <td>1.396</td>\n",
              "      <td>0.020</td>\n",
              "      <td>0.020</td>\n",
              "      <td>1514.0</td>\n",
              "      <td>935.0</td>\n",
              "      <td>1.00</td>\n",
              "    </tr>\n",
              "    <tr>\n",
              "      <th>w[1]</th>\n",
              "      <td>0.947</td>\n",
              "      <td>0.582</td>\n",
              "      <td>-0.082</td>\n",
              "      <td>2.161</td>\n",
              "      <td>0.013</td>\n",
              "      <td>0.010</td>\n",
              "      <td>1875.0</td>\n",
              "      <td>1336.0</td>\n",
              "      <td>1.00</td>\n",
              "    </tr>\n",
              "    <tr>\n",
              "      <th>w[2]</th>\n",
              "      <td>0.983</td>\n",
              "      <td>0.797</td>\n",
              "      <td>-0.443</td>\n",
              "      <td>2.475</td>\n",
              "      <td>0.020</td>\n",
              "      <td>0.015</td>\n",
              "      <td>1549.0</td>\n",
              "      <td>1013.0</td>\n",
              "      <td>1.00</td>\n",
              "    </tr>\n",
              "    <tr>\n",
              "      <th>w[3]</th>\n",
              "      <td>-0.528</td>\n",
              "      <td>0.662</td>\n",
              "      <td>-1.841</td>\n",
              "      <td>0.654</td>\n",
              "      <td>0.018</td>\n",
              "      <td>0.013</td>\n",
              "      <td>1329.0</td>\n",
              "      <td>1039.0</td>\n",
              "      <td>1.00</td>\n",
              "    </tr>\n",
              "    <tr>\n",
              "      <th>w[4]</th>\n",
              "      <td>1.112</td>\n",
              "      <td>0.590</td>\n",
              "      <td>0.030</td>\n",
              "      <td>2.209</td>\n",
              "      <td>0.017</td>\n",
              "      <td>0.013</td>\n",
              "      <td>1169.0</td>\n",
              "      <td>1128.0</td>\n",
              "      <td>1.01</td>\n",
              "    </tr>\n",
              "    <tr>\n",
              "      <th>w[5]</th>\n",
              "      <td>2.388</td>\n",
              "      <td>0.796</td>\n",
              "      <td>0.828</td>\n",
              "      <td>3.839</td>\n",
              "      <td>0.019</td>\n",
              "      <td>0.013</td>\n",
              "      <td>1820.0</td>\n",
              "      <td>1273.0</td>\n",
              "      <td>1.00</td>\n",
              "    </tr>\n",
              "    <tr>\n",
              "      <th>w[6]</th>\n",
              "      <td>0.054</td>\n",
              "      <td>0.079</td>\n",
              "      <td>-0.097</td>\n",
              "      <td>0.195</td>\n",
              "      <td>0.002</td>\n",
              "      <td>0.002</td>\n",
              "      <td>1939.0</td>\n",
              "      <td>1258.0</td>\n",
              "      <td>1.00</td>\n",
              "    </tr>\n",
              "  </tbody>\n",
              "</table>\n",
              "</div>\n",
              "    <div class=\"colab-df-buttons\">\n",
              "\n",
              "  <div class=\"colab-df-container\">\n",
              "    <button class=\"colab-df-convert\" onclick=\"convertToInteractive('df-304a87fc-7a28-42f9-be77-66e65a2266b6')\"\n",
              "            title=\"Convert this dataframe to an interactive table.\"\n",
              "            style=\"display:none;\">\n",
              "\n",
              "  <svg xmlns=\"http://www.w3.org/2000/svg\" height=\"24px\" viewBox=\"0 -960 960 960\">\n",
              "    <path d=\"M120-120v-720h720v720H120Zm60-500h600v-160H180v160Zm220 220h160v-160H400v160Zm0 220h160v-160H400v160ZM180-400h160v-160H180v160Zm440 0h160v-160H620v160ZM180-180h160v-160H180v160Zm440 0h160v-160H620v160Z\"/>\n",
              "  </svg>\n",
              "    </button>\n",
              "\n",
              "  <style>\n",
              "    .colab-df-container {\n",
              "      display:flex;\n",
              "      gap: 12px;\n",
              "    }\n",
              "\n",
              "    .colab-df-convert {\n",
              "      background-color: #E8F0FE;\n",
              "      border: none;\n",
              "      border-radius: 50%;\n",
              "      cursor: pointer;\n",
              "      display: none;\n",
              "      fill: #1967D2;\n",
              "      height: 32px;\n",
              "      padding: 0 0 0 0;\n",
              "      width: 32px;\n",
              "    }\n",
              "\n",
              "    .colab-df-convert:hover {\n",
              "      background-color: #E2EBFA;\n",
              "      box-shadow: 0px 1px 2px rgba(60, 64, 67, 0.3), 0px 1px 3px 1px rgba(60, 64, 67, 0.15);\n",
              "      fill: #174EA6;\n",
              "    }\n",
              "\n",
              "    .colab-df-buttons div {\n",
              "      margin-bottom: 4px;\n",
              "    }\n",
              "\n",
              "    [theme=dark] .colab-df-convert {\n",
              "      background-color: #3B4455;\n",
              "      fill: #D2E3FC;\n",
              "    }\n",
              "\n",
              "    [theme=dark] .colab-df-convert:hover {\n",
              "      background-color: #434B5C;\n",
              "      box-shadow: 0px 1px 3px 1px rgba(0, 0, 0, 0.15);\n",
              "      filter: drop-shadow(0px 1px 2px rgba(0, 0, 0, 0.3));\n",
              "      fill: #FFFFFF;\n",
              "    }\n",
              "  </style>\n",
              "\n",
              "    <script>\n",
              "      const buttonEl =\n",
              "        document.querySelector('#df-304a87fc-7a28-42f9-be77-66e65a2266b6 button.colab-df-convert');\n",
              "      buttonEl.style.display =\n",
              "        google.colab.kernel.accessAllowed ? 'block' : 'none';\n",
              "\n",
              "      async function convertToInteractive(key) {\n",
              "        const element = document.querySelector('#df-304a87fc-7a28-42f9-be77-66e65a2266b6');\n",
              "        const dataTable =\n",
              "          await google.colab.kernel.invokeFunction('convertToInteractive',\n",
              "                                                    [key], {});\n",
              "        if (!dataTable) return;\n",
              "\n",
              "        const docLinkHtml = 'Like what you see? Visit the ' +\n",
              "          '<a target=\"_blank\" href=https://colab.research.google.com/notebooks/data_table.ipynb>data table notebook</a>'\n",
              "          + ' to learn more about interactive tables.';\n",
              "        element.innerHTML = '';\n",
              "        dataTable['output_type'] = 'display_data';\n",
              "        await google.colab.output.renderOutput(dataTable, element);\n",
              "        const docLink = document.createElement('div');\n",
              "        docLink.innerHTML = docLinkHtml;\n",
              "        element.appendChild(docLink);\n",
              "      }\n",
              "    </script>\n",
              "  </div>\n",
              "\n",
              "\n",
              "<div id=\"df-6b08a5b8-0241-47fc-9e50-1ffe35820e04\">\n",
              "  <button class=\"colab-df-quickchart\" onclick=\"quickchart('df-6b08a5b8-0241-47fc-9e50-1ffe35820e04')\"\n",
              "            title=\"Suggest charts\"\n",
              "            style=\"display:none;\">\n",
              "\n",
              "<svg xmlns=\"http://www.w3.org/2000/svg\" height=\"24px\"viewBox=\"0 0 24 24\"\n",
              "     width=\"24px\">\n",
              "    <g>\n",
              "        <path d=\"M19 3H5c-1.1 0-2 .9-2 2v14c0 1.1.9 2 2 2h14c1.1 0 2-.9 2-2V5c0-1.1-.9-2-2-2zM9 17H7v-7h2v7zm4 0h-2V7h2v10zm4 0h-2v-4h2v4z\"/>\n",
              "    </g>\n",
              "</svg>\n",
              "  </button>\n",
              "\n",
              "<style>\n",
              "  .colab-df-quickchart {\n",
              "      --bg-color: #E8F0FE;\n",
              "      --fill-color: #1967D2;\n",
              "      --hover-bg-color: #E2EBFA;\n",
              "      --hover-fill-color: #174EA6;\n",
              "      --disabled-fill-color: #AAA;\n",
              "      --disabled-bg-color: #DDD;\n",
              "  }\n",
              "\n",
              "  [theme=dark] .colab-df-quickchart {\n",
              "      --bg-color: #3B4455;\n",
              "      --fill-color: #D2E3FC;\n",
              "      --hover-bg-color: #434B5C;\n",
              "      --hover-fill-color: #FFFFFF;\n",
              "      --disabled-bg-color: #3B4455;\n",
              "      --disabled-fill-color: #666;\n",
              "  }\n",
              "\n",
              "  .colab-df-quickchart {\n",
              "    background-color: var(--bg-color);\n",
              "    border: none;\n",
              "    border-radius: 50%;\n",
              "    cursor: pointer;\n",
              "    display: none;\n",
              "    fill: var(--fill-color);\n",
              "    height: 32px;\n",
              "    padding: 0;\n",
              "    width: 32px;\n",
              "  }\n",
              "\n",
              "  .colab-df-quickchart:hover {\n",
              "    background-color: var(--hover-bg-color);\n",
              "    box-shadow: 0 1px 2px rgba(60, 64, 67, 0.3), 0 1px 3px 1px rgba(60, 64, 67, 0.15);\n",
              "    fill: var(--button-hover-fill-color);\n",
              "  }\n",
              "\n",
              "  .colab-df-quickchart-complete:disabled,\n",
              "  .colab-df-quickchart-complete:disabled:hover {\n",
              "    background-color: var(--disabled-bg-color);\n",
              "    fill: var(--disabled-fill-color);\n",
              "    box-shadow: none;\n",
              "  }\n",
              "\n",
              "  .colab-df-spinner {\n",
              "    border: 2px solid var(--fill-color);\n",
              "    border-color: transparent;\n",
              "    border-bottom-color: var(--fill-color);\n",
              "    animation:\n",
              "      spin 1s steps(1) infinite;\n",
              "  }\n",
              "\n",
              "  @keyframes spin {\n",
              "    0% {\n",
              "      border-color: transparent;\n",
              "      border-bottom-color: var(--fill-color);\n",
              "      border-left-color: var(--fill-color);\n",
              "    }\n",
              "    20% {\n",
              "      border-color: transparent;\n",
              "      border-left-color: var(--fill-color);\n",
              "      border-top-color: var(--fill-color);\n",
              "    }\n",
              "    30% {\n",
              "      border-color: transparent;\n",
              "      border-left-color: var(--fill-color);\n",
              "      border-top-color: var(--fill-color);\n",
              "      border-right-color: var(--fill-color);\n",
              "    }\n",
              "    40% {\n",
              "      border-color: transparent;\n",
              "      border-right-color: var(--fill-color);\n",
              "      border-top-color: var(--fill-color);\n",
              "    }\n",
              "    60% {\n",
              "      border-color: transparent;\n",
              "      border-right-color: var(--fill-color);\n",
              "    }\n",
              "    80% {\n",
              "      border-color: transparent;\n",
              "      border-right-color: var(--fill-color);\n",
              "      border-bottom-color: var(--fill-color);\n",
              "    }\n",
              "    90% {\n",
              "      border-color: transparent;\n",
              "      border-bottom-color: var(--fill-color);\n",
              "    }\n",
              "  }\n",
              "</style>\n",
              "\n",
              "  <script>\n",
              "    async function quickchart(key) {\n",
              "      const quickchartButtonEl =\n",
              "        document.querySelector('#' + key + ' button');\n",
              "      quickchartButtonEl.disabled = true;  // To prevent multiple clicks.\n",
              "      quickchartButtonEl.classList.add('colab-df-spinner');\n",
              "      try {\n",
              "        const charts = await google.colab.kernel.invokeFunction(\n",
              "            'suggestCharts', [key], {});\n",
              "      } catch (error) {\n",
              "        console.error('Error during call to suggestCharts:', error);\n",
              "      }\n",
              "      quickchartButtonEl.classList.remove('colab-df-spinner');\n",
              "      quickchartButtonEl.classList.add('colab-df-quickchart-complete');\n",
              "    }\n",
              "    (() => {\n",
              "      let quickchartButtonEl =\n",
              "        document.querySelector('#df-6b08a5b8-0241-47fc-9e50-1ffe35820e04 button');\n",
              "      quickchartButtonEl.style.display =\n",
              "        google.colab.kernel.accessAllowed ? 'block' : 'none';\n",
              "    })();\n",
              "  </script>\n",
              "</div>\n",
              "\n",
              "    </div>\n",
              "  </div>\n"
            ],
            "application/vnd.google.colaboratory.intrinsic+json": {
              "type": "dataframe",
              "summary": "{\n  \"name\": \"pm\",\n  \"rows\": 8,\n  \"fields\": [\n    {\n      \"column\": \"mean\",\n      \"properties\": {\n        \"dtype\": \"number\",\n        \"std\": 1.050130740159801,\n        \"min\": -0.863,\n        \"max\": 2.388,\n        \"num_unique_values\": 8,\n        \"samples\": [\n          0.015,\n          1.112,\n          -0.863\n        ],\n        \"semantic_type\": \"\",\n        \"description\": \"\"\n      }\n    },\n    {\n      \"column\": \"sd\",\n      \"properties\": {\n        \"dtype\": \"number\",\n        \"std\": 0.29689524367070236,\n        \"min\": 0.079,\n        \"max\": 0.797,\n        \"num_unique_values\": 8,\n        \"samples\": [\n          0.777,\n          0.59,\n          0.095\n        ],\n        \"semantic_type\": \"\",\n        \"description\": \"\"\n      }\n    },\n    {\n      \"column\": \"hdi_3%\",\n      \"properties\": {\n        \"dtype\": \"number\",\n        \"std\": 0.8911733838036232,\n        \"min\": -1.841,\n        \"max\": 0.828,\n        \"num_unique_values\": 8,\n        \"samples\": [\n          -1.552,\n          0.03,\n          -1.023\n        ],\n        \"semantic_type\": \"\",\n        \"description\": \"\"\n      }\n    },\n    {\n      \"column\": \"hdi_97%\",\n      \"properties\": {\n        \"dtype\": \"number\",\n        \"std\": 1.4370623743794642,\n        \"min\": -0.662,\n        \"max\": 3.839,\n        \"num_unique_values\": 8,\n        \"samples\": [\n          1.396,\n          2.209,\n          -0.662\n        ],\n        \"semantic_type\": \"\",\n        \"description\": \"\"\n      }\n    },\n    {\n      \"column\": \"mcse_mean\",\n      \"properties\": {\n        \"dtype\": \"number\",\n        \"std\": 0.007661359446692772,\n        \"min\": 0.002,\n        \"max\": 0.02,\n        \"num_unique_values\": 6,\n        \"samples\": [\n          0.002,\n          0.02,\n          0.019\n        ],\n        \"semantic_type\": \"\",\n        \"description\": \"\"\n      }\n    },\n    {\n      \"column\": \"mcse_sd\",\n      \"properties\": {\n        \"dtype\": \"number\",\n        \"std\": 0.006233549779791837,\n        \"min\": 0.002,\n        \"max\": 0.02,\n        \"num_unique_values\": 5,\n        \"samples\": [\n          0.02,\n          0.013,\n          0.01\n        ],\n        \"semantic_type\": \"\",\n        \"description\": \"\"\n      }\n    },\n    {\n      \"column\": \"ess_bulk\",\n      \"properties\": {\n        \"dtype\": \"number\",\n        \"std\": 269.4290259047826,\n        \"min\": 1169.0,\n        \"max\": 1939.0,\n        \"num_unique_values\": 8,\n        \"samples\": [\n          1514.0,\n          1169.0,\n          1601.0\n        ],\n        \"semantic_type\": \"\",\n        \"description\": \"\"\n      }\n    },\n    {\n      \"column\": \"ess_tail\",\n      \"properties\": {\n        \"dtype\": \"number\",\n        \"std\": 201.92289900567778,\n        \"min\": 935.0,\n        \"max\": 1550.0,\n        \"num_unique_values\": 8,\n        \"samples\": [\n          935.0,\n          1128.0,\n          1550.0\n        ],\n        \"semantic_type\": \"\",\n        \"description\": \"\"\n      }\n    },\n    {\n      \"column\": \"r_hat\",\n      \"properties\": {\n        \"dtype\": \"number\",\n        \"std\": 0.0035355339059327407,\n        \"min\": 1.0,\n        \"max\": 1.01,\n        \"num_unique_values\": 2,\n        \"samples\": [\n          1.01,\n          1.0\n        ],\n        \"semantic_type\": \"\",\n        \"description\": \"\"\n      }\n    }\n  ]\n}"
            }
          },
          "metadata": {},
          "execution_count": 16
        }
      ]
    },
    {
      "cell_type": "code",
      "source": [
        "with rice_model:\n",
        "    prior_samples = pm.sample_prior_predictive()"
      ],
      "metadata": {
        "id": "_oWv-jd9M_RG"
      },
      "execution_count": 17,
      "outputs": []
    },
    {
      "cell_type": "code",
      "source": [
        "# Verificar o conteúdo dentro do grupo 'prior'\n",
        "print(prior_samples['prior'].keys())\n"
      ],
      "metadata": {
        "colab": {
          "base_uri": "https://localhost:8080/"
        },
        "id": "ZOzOCIiXNDIf",
        "outputId": "c68757f7-c82a-4c5a-e421-0c9161cdaa75"
      },
      "execution_count": 18,
      "outputs": [
        {
          "output_type": "stream",
          "name": "stdout",
          "text": [
            "KeysView(<xarray.Dataset> Size: 36kB\n",
            "Dimensions:  (chain: 1, draw: 500, w_dim_0: 7)\n",
            "Coordinates:\n",
            "  * chain    (chain) int64 8B 0\n",
            "  * draw     (draw) int64 4kB 0 1 2 3 4 5 6 7 ... 493 494 495 496 497 498 499\n",
            "  * w_dim_0  (w_dim_0) int64 56B 0 1 2 3 4 5 6\n",
            "Data variables:\n",
            "    bias     (chain, draw) float64 4kB 0.6871 -1.432 0.01409 ... 0.198 0.7466\n",
            "    w        (chain, draw, w_dim_0) float64 28kB 1.073 1.472 ... 2.0 0.7468\n",
            "Attributes:\n",
            "    created_at:                 2024-09-25T00:11:21.025342+00:00\n",
            "    arviz_version:              0.19.0\n",
            "    inference_library:          pymc\n",
            "    inference_library_version:  5.16.2)\n"
          ]
        }
      ]
    },
    {
      "cell_type": "code",
      "source": [
        "\n",
        "# Acessar as amostras da prior preditiva para os pesos 'w'\n",
        "prior_samples_w = prior_samples['prior']['w'].values  # Extraímos os valores de 'w'\n",
        "\n",
        "# Achatar as amostras para facilitar a plotagem\n",
        "prior_samples_flat = prior_samples_w.flatten()\n",
        "\n",
        "# Criar o gráfico\n",
        "fig, ax = plt.subplots(figsize=(8, 3))\n",
        "\n",
        "# Plotar o histograma das amostras da prior preditiva\n",
        "sns.histplot(data=prior_samples_flat, bins=30, kde=False, ax=ax)\n",
        "\n",
        "# Adicionar título e rótulos\n",
        "ax.set_title(\"Prior Predictive Distribution of Weights\")\n",
        "ax.set_xlabel(\"Value\")\n",
        "ax.set_ylabel(\"Frequency\")\n",
        "\n",
        "# Ajustar layout e exibir o gráfico\n",
        "plt.tight_layout()\n",
        "plt.show()\n",
        "plt.show()\n"
      ],
      "metadata": {
        "colab": {
          "base_uri": "https://localhost:8080/",
          "height": 307
        },
        "id": "Ze2wtwWpNoEm",
        "outputId": "dfbfeac9-78e3-49bd-c5c6-4344ccf591d1"
      },
      "execution_count": 19,
      "outputs": [
        {
          "output_type": "display_data",
          "data": {
            "text/plain": [
              "<Figure size 800x300 with 1 Axes>"
            ],
            "image/png": "[encoded data removed]"
          },
          "metadata": {}
        }
      ]
    },
    {
      "cell_type": "code",
      "source": [
        "fig, axes = plt.subplots(1, 2, figsize=(10, 5))\n",
        "\n",
        "az.plot_ppc(trace_prior, group='prior', kind='cumulative',ax=axes[0]);\n",
        "az.plot_ppc(trace_prior, group='prior',ax=axes[1]);\n",
        ""
      ],
      "metadata": {
        "id": "7qljZgO6jvYp"
      },
      "execution_count": null,
      "outputs": []
    },
    {
      "cell_type": "code",
      "source": [
        "\n",
        "with rice_model:\n",
        "  #approx = pm.fit(2000)\n",
        "  trace = pm.sample(20000)"
      ],
      "metadata": {
        "colab": {
          "base_uri": "https://localhost:8080/",
          "height": 52,
          "referenced_widgets": [
            "6373051ce1924c97b5a901671d6dab23",
            "a248177733d9498cb53f6f8a0dcc17b3",
            "5439ffde18a2453fbeba1ef374a36970",
            "c3d2d0c4931a4760a169c1cc2a1eb948"
          ]
        },
        "id": "LhufjftnNue2",
        "outputId": "4908c533-d4f8-4202-ce77-f0e769929b9d"
      },
      "execution_count": 20,
      "outputs": [
        {
          "output_type": "display_data",
          "data": {
            "text/plain": [
              "Output()"
            ],
            "application/vnd.jupyter.widget-view+json": {
              "version_major": 2,
              "version_minor": 0,
              "model_id": "6373051ce1924c97b5a901671d6dab23"
            }
          },
          "metadata": {}
        },
        {
          "output_type": "display_data",
          "data": {
            "text/plain": [],
            "text/html": [
              "<pre style=\"white-space:pre;overflow-x:auto;line-height:normal;font-family:Menlo,'DejaVu Sans Mono',consolas,'Courier New',monospace\"></pre>\n"
            ]
          },
          "metadata": {}
        },
        {
          "output_type": "display_data",
          "data": {
            "text/plain": [
              "Output()"
            ],
            "application/vnd.jupyter.widget-view+json": {
              "version_major": 2,
              "version_minor": 0,
              "model_id": "5439ffde18a2453fbeba1ef374a36970"
            }
          },
          "metadata": {}
        },
        {
          "output_type": "display_data",
          "data": {
            "text/plain": [],
            "text/html": [
              "<pre style=\"white-space:pre;overflow-x:auto;line-height:normal;font-family:Menlo,'DejaVu Sans Mono',consolas,'Courier New',monospace\"></pre>\n"
            ]
          },
          "metadata": {}
        }
      ]
    },
    {
      "cell_type": "code",
      "source": [
        "\n",
        "pm.model_to_graphviz(rice_model)"
      ],
      "metadata": {
        "colab": {
          "base_uri": "https://localhost:8080/",
          "height": 486
        },
        "id": "0sLWOpTuNv8u",
        "outputId": "1b9bef6f-a47a-407b-d153-71005d405531"
      },
      "execution_count": 21,
      "outputs": [
        {
          "output_type": "execute_result",
          "data": {
            "image/svg+xml": "<?xml version=\"1.0\" encoding=\"UTF-8\" standalone=\"no\"?>\n<!DOCTYPE svg PUBLIC \"-//W3C//DTD SVG 1.1//EN\"\n \"http://www.w3.org/Graphics/SVG/1.1/DTD/svg11.dtd\">\n<!-- Generated by graphviz version 2.43.0 (0)\n -->\n<!-- Title: %3 Pages: 1 -->\n<svg width=\"287pt\" height=\"349pt\"\n viewBox=\"0.00 0.00 286.72 348.91\" xmlns=\"http://www.w3.org/2000/svg\" xmlns:xlink=\"http://www.w3.org/1999/xlink\">\n<g id=\"graph0\" class=\"graph\" transform=\"scale(1 1) rotate(0) translate(4 344.91)\">\n<title>%3</title>\n<polygon fill=\"white\" stroke=\"transparent\" points=\"-4,4 -4,-344.91 282.72,-344.91 282.72,4 -4,4\"/>\n<g id=\"clust1\" class=\"cluster\">\n<title>cluster3048 x 7</title>\n<path fill=\"none\" stroke=\"black\" d=\"M20,-229.93C20,-229.93 66,-229.93 66,-229.93 72,-229.93 78,-235.93 78,-241.93 78,-241.93 78,-309.93 78,-309.93 78,-315.93 72,-321.93 66,-321.93 66,-321.93 20,-321.93 20,-321.93 14,-321.93 8,-315.93 8,-309.93 8,-309.93 8,-241.93 8,-241.93 8,-235.93 14,-229.93 20,-229.93\"/>\n<text text-anchor=\"middle\" x=\"45.5\" y=\"-237.73\" font-family=\"Times,serif\" font-size=\"14.00\">3048 x 7</text>\n</g>\n<g id=\"clust2\" class=\"cluster\">\n<title>cluster3048</title>\n<path fill=\"none\" stroke=\"black\" d=\"M90,-8C90,-8 182,-8 182,-8 188,-8 194,-14 194,-20 194,-20 194,-198.95 194,-198.95 194,-204.95 188,-210.95 182,-210.95 182,-210.95 90,-210.95 90,-210.95 84,-210.95 78,-204.95 78,-198.95 78,-198.95 78,-20 78,-20 78,-14 84,-8 90,-8\"/>\n<text text-anchor=\"middle\" x=\"172\" y=\"-15.8\" font-family=\"Times,serif\" font-size=\"14.00\">3048</text>\n</g>\n<g id=\"clust3\" class=\"cluster\">\n<title>cluster7</title>\n<path fill=\"none\" stroke=\"black\" d=\"M98,-218.95C98,-218.95 174,-218.95 174,-218.95 180,-218.95 186,-224.95 186,-230.95 186,-230.95 186,-320.91 186,-320.91 186,-326.91 180,-332.91 174,-332.91 174,-332.91 98,-332.91 98,-332.91 92,-332.91 86,-326.91 86,-320.91 86,-320.91 86,-230.95 86,-230.95 86,-224.95 92,-218.95 98,-218.95\"/>\n<text text-anchor=\"middle\" x=\"174.5\" y=\"-226.75\" font-family=\"Times,serif\" font-size=\"14.00\">7</text>\n</g>\n<!-- X -->\n<g id=\"node1\" class=\"node\">\n<title>X</title>\n<path fill=\"lightgrey\" stroke=\"black\" d=\"M58,-313.93C58,-313.93 28,-313.93 28,-313.93 22,-313.93 16,-307.93 16,-301.93 16,-301.93 16,-272.93 16,-272.93 16,-266.93 22,-260.93 28,-260.93 28,-260.93 58,-260.93 58,-260.93 64,-260.93 70,-266.93 70,-272.93 70,-272.93 70,-301.93 70,-301.93 70,-307.93 64,-313.93 58,-313.93\"/>\n<text text-anchor=\"middle\" x=\"43\" y=\"-298.73\" font-family=\"Times,serif\" font-size=\"14.00\">X</text>\n<text text-anchor=\"middle\" x=\"43\" y=\"-283.73\" font-family=\"Times,serif\" font-size=\"14.00\">~</text>\n<text text-anchor=\"middle\" x=\"43\" y=\"-268.73\" font-family=\"Times,serif\" font-size=\"14.00\">Data</text>\n</g>\n<!-- likelihood -->\n<g id=\"node2\" class=\"node\">\n<title>likelihood</title>\n<ellipse fill=\"lightgrey\" stroke=\"black\" cx=\"136\" cy=\"-165.48\" rx=\"50.41\" ry=\"37.45\"/>\n<text text-anchor=\"middle\" x=\"136\" y=\"-176.78\" font-family=\"Times,serif\" font-size=\"14.00\">likelihood</text>\n<text text-anchor=\"middle\" x=\"136\" y=\"-161.78\" font-family=\"Times,serif\" font-size=\"14.00\">~</text>\n<text text-anchor=\"middle\" x=\"136\" y=\"-146.78\" font-family=\"Times,serif\" font-size=\"14.00\">Bernoulli</text>\n</g>\n<!-- X&#45;&gt;likelihood -->\n<g id=\"edge3\" class=\"edge\">\n<title>X&#45;&gt;likelihood</title>\n<path fill=\"none\" stroke=\"black\" d=\"M55.7,-260.7C62.67,-247.65 71.94,-231.87 82,-218.95 86.53,-213.14 91.68,-207.34 96.97,-201.83\"/>\n<polygon fill=\"black\" stroke=\"black\" points=\"99.65,-204.1 104.2,-194.53 94.68,-199.17 99.65,-204.1\"/>\n</g>\n<!-- y -->\n<g id=\"node3\" class=\"node\">\n<title>y</title>\n<path fill=\"lightgrey\" stroke=\"black\" d=\"M151,-92C151,-92 121,-92 121,-92 115,-92 109,-86 109,-80 109,-80 109,-51 109,-51 109,-45 115,-39 121,-39 121,-39 151,-39 151,-39 157,-39 163,-45 163,-51 163,-51 163,-80 163,-80 163,-86 157,-92 151,-92\"/>\n<text text-anchor=\"middle\" x=\"136\" y=\"-76.8\" font-family=\"Times,serif\" font-size=\"14.00\">y</text>\n<text text-anchor=\"middle\" x=\"136\" y=\"-61.8\" font-family=\"Times,serif\" font-size=\"14.00\">~</text>\n<text text-anchor=\"middle\" x=\"136\" y=\"-46.8\" font-family=\"Times,serif\" font-size=\"14.00\">Data</text>\n</g>\n<!-- likelihood&#45;&gt;y -->\n<g id=\"edge1\" class=\"edge\">\n<title>likelihood&#45;&gt;y</title>\n<path fill=\"none\" stroke=\"black\" d=\"M136,-127.99C136,-119.58 136,-110.63 136,-102.25\"/>\n<polygon fill=\"black\" stroke=\"black\" points=\"139.5,-102.01 136,-92.01 132.5,-102.01 139.5,-102.01\"/>\n</g>\n<!-- w -->\n<g id=\"node4\" class=\"node\">\n<title>w</title>\n<ellipse fill=\"none\" stroke=\"black\" cx=\"136\" cy=\"-287.43\" rx=\"41.94\" ry=\"37.45\"/>\n<text text-anchor=\"middle\" x=\"136\" y=\"-298.73\" font-family=\"Times,serif\" font-size=\"14.00\">w</text>\n<text text-anchor=\"middle\" x=\"136\" y=\"-283.73\" font-family=\"Times,serif\" font-size=\"14.00\">~</text>\n<text text-anchor=\"middle\" x=\"136\" y=\"-268.73\" font-family=\"Times,serif\" font-size=\"14.00\">Normal</text>\n</g>\n<!-- w&#45;&gt;likelihood -->\n<g id=\"edge2\" class=\"edge\">\n<title>w&#45;&gt;likelihood</title>\n<path fill=\"none\" stroke=\"black\" d=\"M136,-249.79C136,-238.38 136,-225.65 136,-213.63\"/>\n<polygon fill=\"black\" stroke=\"black\" points=\"139.5,-213.31 136,-203.31 132.5,-213.31 139.5,-213.31\"/>\n</g>\n<!-- bias -->\n<g id=\"node5\" class=\"node\">\n<title>bias</title>\n<ellipse fill=\"none\" stroke=\"black\" cx=\"237\" cy=\"-287.43\" rx=\"41.94\" ry=\"37.45\"/>\n<text text-anchor=\"middle\" x=\"237\" y=\"-298.73\" font-family=\"Times,serif\" font-size=\"14.00\">bias</text>\n<text text-anchor=\"middle\" x=\"237\" y=\"-283.73\" font-family=\"Times,serif\" font-size=\"14.00\">~</text>\n<text text-anchor=\"middle\" x=\"237\" y=\"-268.73\" font-family=\"Times,serif\" font-size=\"14.00\">Normal</text>\n</g>\n<!-- bias&#45;&gt;likelihood -->\n<g id=\"edge4\" class=\"edge\">\n<title>bias&#45;&gt;likelihood</title>\n<path fill=\"none\" stroke=\"black\" d=\"M216.67,-254.6C208.8,-243.02 199.43,-230.05 190,-218.95 185.23,-213.34 179.94,-207.65 174.59,-202.19\"/>\n<polygon fill=\"black\" stroke=\"black\" points=\"176.86,-199.51 167.31,-194.93 171.92,-204.47 176.86,-199.51\"/>\n</g>\n</g>\n</svg>\n",
            "text/plain": [
              "<graphviz.graphs.Digraph at 0x7edcca9db820>"
            ]
          },
          "metadata": {},
          "execution_count": 21
        }
      ]
    },
    {
      "cell_type": "code",
      "source": [
        "\n",
        "pm.summary(trace)"
      ],
      "metadata": {
        "colab": {
          "base_uri": "https://localhost:8080/",
          "height": 301
        },
        "id": "eKSWguNVNyBu",
        "outputId": "7533cf87-8709-44fe-a035-99e10e94e348"
      },
      "execution_count": 22,
      "outputs": [
        {
          "output_type": "execute_result",
          "data": {
            "text/plain": [
              "       mean     sd  hdi_3%  hdi_97%  mcse_mean  mcse_sd  ess_bulk  ess_tail  \\\n",
              "bias -0.858  0.096  -1.041   -0.678      0.001    0.000   28000.0   28147.0   \n",
              "w[0]  0.011  0.776  -1.419    1.501      0.004    0.004   31286.0   28253.0   \n",
              "w[1]  0.966  0.575  -0.122    2.050      0.003    0.002   33915.0   28875.0   \n",
              "w[2]  1.005  0.767  -0.446    2.437      0.004    0.003   33584.0   27173.0   \n",
              "w[3] -0.551  0.649  -1.771    0.678      0.005    0.003   20662.0   23784.0   \n",
              "w[4]  1.078  0.568   0.033    2.174      0.004    0.003   21996.0   25702.0   \n",
              "w[5]  2.380  0.819   0.852    3.918      0.005    0.003   29405.0   26307.0   \n",
              "w[6]  0.054  0.079  -0.093    0.203      0.000    0.000   49118.0   28279.0   \n",
              "\n",
              "      r_hat  \n",
              "bias    1.0  \n",
              "w[0]    1.0  \n",
              "w[1]    1.0  \n",
              "w[2]    1.0  \n",
              "w[3]    1.0  \n",
              "w[4]    1.0  \n",
              "w[5]    1.0  \n",
              "w[6]    1.0  "
            ],
            "text/html": [
              "\n",
              "  <div id=\"df-94c1df79-45b8-459a-b76c-65a9c891a9cd\" class=\"colab-df-container\">\n",
              "    <div>\n",
              "<style scoped>\n",
              "    .dataframe tbody tr th:only-of-type {\n",
              "        vertical-align: middle;\n",
              "    }\n",
              "\n",
              "    .dataframe tbody tr th {\n",
              "        vertical-align: top;\n",
              "    }\n",
              "\n",
              "    .dataframe thead th {\n",
              "        text-align: right;\n",
              "    }\n",
              "</style>\n",
              "<table border=\"1\" class=\"dataframe\">\n",
              "  <thead>\n",
              "    <tr style=\"text-align: right;\">\n",
              "      <th></th>\n",
              "      <th>mean</th>\n",
              "      <th>sd</th>\n",
              "      <th>hdi_3%</th>\n",
              "      <th>hdi_97%</th>\n",
              "      <th>mcse_mean</th>\n",
              "      <th>mcse_sd</th>\n",
              "      <th>ess_bulk</th>\n",
              "      <th>ess_tail</th>\n",
              "      <th>r_hat</th>\n",
              "    </tr>\n",
              "  </thead>\n",
              "  <tbody>\n",
              "    <tr>\n",
              "      <th>bias</th>\n",
              "      <td>-0.858</td>\n",
              "      <td>0.096</td>\n",
              "      <td>-1.041</td>\n",
              "      <td>-0.678</td>\n",
              "      <td>0.001</td>\n",
              "      <td>0.000</td>\n",
              "      <td>28000.0</td>\n",
              "      <td>28147.0</td>\n",
              "      <td>1.0</td>\n",
              "    </tr>\n",
              "    <tr>\n",
              "      <th>w[0]</th>\n",
              "      <td>0.011</td>\n",
              "      <td>0.776</td>\n",
              "      <td>-1.419</td>\n",
              "      <td>1.501</td>\n",
              "      <td>0.004</td>\n",
              "      <td>0.004</td>\n",
              "      <td>31286.0</td>\n",
              "      <td>28253.0</td>\n",
              "      <td>1.0</td>\n",
              "    </tr>\n",
              "    <tr>\n",
              "      <th>w[1]</th>\n",
              "      <td>0.966</td>\n",
              "      <td>0.575</td>\n",
              "      <td>-0.122</td>\n",
              "      <td>2.050</td>\n",
              "      <td>0.003</td>\n",
              "      <td>0.002</td>\n",
              "      <td>33915.0</td>\n",
              "      <td>28875.0</td>\n",
              "      <td>1.0</td>\n",
              "    </tr>\n",
              "    <tr>\n",
              "      <th>w[2]</th>\n",
              "      <td>1.005</td>\n",
              "      <td>0.767</td>\n",
              "      <td>-0.446</td>\n",
              "      <td>2.437</td>\n",
              "      <td>0.004</td>\n",
              "      <td>0.003</td>\n",
              "      <td>33584.0</td>\n",
              "      <td>27173.0</td>\n",
              "      <td>1.0</td>\n",
              "    </tr>\n",
              "    <tr>\n",
              "      <th>w[3]</th>\n",
              "      <td>-0.551</td>\n",
              "      <td>0.649</td>\n",
              "      <td>-1.771</td>\n",
              "      <td>0.678</td>\n",
              "      <td>0.005</td>\n",
              "      <td>0.003</td>\n",
              "      <td>20662.0</td>\n",
              "      <td>23784.0</td>\n",
              "      <td>1.0</td>\n",
              "    </tr>\n",
              "    <tr>\n",
              "      <th>w[4]</th>\n",
              "      <td>1.078</td>\n",
              "      <td>0.568</td>\n",
              "      <td>0.033</td>\n",
              "      <td>2.174</td>\n",
              "      <td>0.004</td>\n",
              "      <td>0.003</td>\n",
              "      <td>21996.0</td>\n",
              "      <td>25702.0</td>\n",
              "      <td>1.0</td>\n",
              "    </tr>\n",
              "    <tr>\n",
              "      <th>w[5]</th>\n",
              "      <td>2.380</td>\n",
              "      <td>0.819</td>\n",
              "      <td>0.852</td>\n",
              "      <td>3.918</td>\n",
              "      <td>0.005</td>\n",
              "      <td>0.003</td>\n",
              "      <td>29405.0</td>\n",
              "      <td>26307.0</td>\n",
              "      <td>1.0</td>\n",
              "    </tr>\n",
              "    <tr>\n",
              "      <th>w[6]</th>\n",
              "      <td>0.054</td>\n",
              "      <td>0.079</td>\n",
              "      <td>-0.093</td>\n",
              "      <td>0.203</td>\n",
              "      <td>0.000</td>\n",
              "      <td>0.000</td>\n",
              "      <td>49118.0</td>\n",
              "      <td>28279.0</td>\n",
              "      <td>1.0</td>\n",
              "    </tr>\n",
              "  </tbody>\n",
              "</table>\n",
              "</div>\n",
              "    <div class=\"colab-df-buttons\">\n",
              "\n",
              "  <div class=\"colab-df-container\">\n",
              "    <button class=\"colab-df-convert\" onclick=\"convertToInteractive('df-94c1df79-45b8-459a-b76c-65a9c891a9cd')\"\n",
              "            title=\"Convert this dataframe to an interactive table.\"\n",
              "            style=\"display:none;\">\n",
              "\n",
              "  <svg xmlns=\"http://www.w3.org/2000/svg\" height=\"24px\" viewBox=\"0 -960 960 960\">\n",
              "    <path d=\"M120-120v-720h720v720H120Zm60-500h600v-160H180v160Zm220 220h160v-160H400v160Zm0 220h160v-160H400v160ZM180-400h160v-160H180v160Zm440 0h160v-160H620v160ZM180-180h160v-160H180v160Zm440 0h160v-160H620v160Z\"/>\n",
              "  </svg>\n",
              "    </button>\n",
              "\n",
              "  <style>\n",
              "    .colab-df-container {\n",
              "      display:flex;\n",
              "      gap: 12px;\n",
              "    }\n",
              "\n",
              "    .colab-df-convert {\n",
              "      background-color: #E8F0FE;\n",
              "      border: none;\n",
              "      border-radius: 50%;\n",
              "      cursor: pointer;\n",
              "      display: none;\n",
              "      fill: #1967D2;\n",
              "      height: 32px;\n",
              "      padding: 0 0 0 0;\n",
              "      width: 32px;\n",
              "    }\n",
              "\n",
              "    .colab-df-convert:hover {\n",
              "      background-color: #E2EBFA;\n",
              "      box-shadow: 0px 1px 2px rgba(60, 64, 67, 0.3), 0px 1px 3px 1px rgba(60, 64, 67, 0.15);\n",
              "      fill: #174EA6;\n",
              "    }\n",
              "\n",
              "    .colab-df-buttons div {\n",
              "      margin-bottom: 4px;\n",
              "    }\n",
              "\n",
              "    [theme=dark] .colab-df-convert {\n",
              "      background-color: #3B4455;\n",
              "      fill: #D2E3FC;\n",
              "    }\n",
              "\n",
              "    [theme=dark] .colab-df-convert:hover {\n",
              "      background-color: #434B5C;\n",
              "      box-shadow: 0px 1px 3px 1px rgba(0, 0, 0, 0.15);\n",
              "      filter: drop-shadow(0px 1px 2px rgba(0, 0, 0, 0.3));\n",
              "      fill: #FFFFFF;\n",
              "    }\n",
              "  </style>\n",
              "\n",
              "    <script>\n",
              "      const buttonEl =\n",
              "        document.querySelector('#df-94c1df79-45b8-459a-b76c-65a9c891a9cd button.colab-df-convert');\n",
              "      buttonEl.style.display =\n",
              "        google.colab.kernel.accessAllowed ? 'block' : 'none';\n",
              "\n",
              "      async function convertToInteractive(key) {\n",
              "        const element = document.querySelector('#df-94c1df79-45b8-459a-b76c-65a9c891a9cd');\n",
              "        const dataTable =\n",
              "          await google.colab.kernel.invokeFunction('convertToInteractive',\n",
              "                                                    [key], {});\n",
              "        if (!dataTable) return;\n",
              "\n",
              "        const docLinkHtml = 'Like what you see? Visit the ' +\n",
              "          '<a target=\"_blank\" href=https://colab.research.google.com/notebooks/data_table.ipynb>data table notebook</a>'\n",
              "          + ' to learn more about interactive tables.';\n",
              "        element.innerHTML = '';\n",
              "        dataTable['output_type'] = 'display_data';\n",
              "        await google.colab.output.renderOutput(dataTable, element);\n",
              "        const docLink = document.createElement('div');\n",
              "        docLink.innerHTML = docLinkHtml;\n",
              "        element.appendChild(docLink);\n",
              "      }\n",
              "    </script>\n",
              "  </div>\n",
              "\n",
              "\n",
              "<div id=\"df-5bb49e95-3ab6-4364-b932-5401c5376293\">\n",
              "  <button class=\"colab-df-quickchart\" onclick=\"quickchart('df-5bb49e95-3ab6-4364-b932-5401c5376293')\"\n",
              "            title=\"Suggest charts\"\n",
              "            style=\"display:none;\">\n",
              "\n",
              "<svg xmlns=\"http://www.w3.org/2000/svg\" height=\"24px\"viewBox=\"0 0 24 24\"\n",
              "     width=\"24px\">\n",
              "    <g>\n",
              "        <path d=\"M19 3H5c-1.1 0-2 .9-2 2v14c0 1.1.9 2 2 2h14c1.1 0 2-.9 2-2V5c0-1.1-.9-2-2-2zM9 17H7v-7h2v7zm4 0h-2V7h2v10zm4 0h-2v-4h2v4z\"/>\n",
              "    </g>\n",
              "</svg>\n",
              "  </button>\n",
              "\n",
              "<style>\n",
              "  .colab-df-quickchart {\n",
              "      --bg-color: #E8F0FE;\n",
              "      --fill-color: #1967D2;\n",
              "      --hover-bg-color: #E2EBFA;\n",
              "      --hover-fill-color: #174EA6;\n",
              "      --disabled-fill-color: #AAA;\n",
              "      --disabled-bg-color: #DDD;\n",
              "  }\n",
              "\n",
              "  [theme=dark] .colab-df-quickchart {\n",
              "      --bg-color: #3B4455;\n",
              "      --fill-color: #D2E3FC;\n",
              "      --hover-bg-color: #434B5C;\n",
              "      --hover-fill-color: #FFFFFF;\n",
              "      --disabled-bg-color: #3B4455;\n",
              "      --disabled-fill-color: #666;\n",
              "  }\n",
              "\n",
              "  .colab-df-quickchart {\n",
              "    background-color: var(--bg-color);\n",
              "    border: none;\n",
              "    border-radius: 50%;\n",
              "    cursor: pointer;\n",
              "    display: none;\n",
              "    fill: var(--fill-color);\n",
              "    height: 32px;\n",
              "    padding: 0;\n",
              "    width: 32px;\n",
              "  }\n",
              "\n",
              "  .colab-df-quickchart:hover {\n",
              "    background-color: var(--hover-bg-color);\n",
              "    box-shadow: 0 1px 2px rgba(60, 64, 67, 0.3), 0 1px 3px 1px rgba(60, 64, 67, 0.15);\n",
              "    fill: var(--button-hover-fill-color);\n",
              "  }\n",
              "\n",
              "  .colab-df-quickchart-complete:disabled,\n",
              "  .colab-df-quickchart-complete:disabled:hover {\n",
              "    background-color: var(--disabled-bg-color);\n",
              "    fill: var(--disabled-fill-color);\n",
              "    box-shadow: none;\n",
              "  }\n",
              "\n",
              "  .colab-df-spinner {\n",
              "    border: 2px solid var(--fill-color);\n",
              "    border-color: transparent;\n",
              "    border-bottom-color: var(--fill-color);\n",
              "    animation:\n",
              "      spin 1s steps(1) infinite;\n",
              "  }\n",
              "\n",
              "  @keyframes spin {\n",
              "    0% {\n",
              "      border-color: transparent;\n",
              "      border-bottom-color: var(--fill-color);\n",
              "      border-left-color: var(--fill-color);\n",
              "    }\n",
              "    20% {\n",
              "      border-color: transparent;\n",
              "      border-left-color: var(--fill-color);\n",
              "      border-top-color: var(--fill-color);\n",
              "    }\n",
              "    30% {\n",
              "      border-color: transparent;\n",
              "      border-left-color: var(--fill-color);\n",
              "      border-top-color: var(--fill-color);\n",
              "      border-right-color: var(--fill-color);\n",
              "    }\n",
              "    40% {\n",
              "      border-color: transparent;\n",
              "      border-right-color: var(--fill-color);\n",
              "      border-top-color: var(--fill-color);\n",
              "    }\n",
              "    60% {\n",
              "      border-color: transparent;\n",
              "      border-right-color: var(--fill-color);\n",
              "    }\n",
              "    80% {\n",
              "      border-color: transparent;\n",
              "      border-right-color: var(--fill-color);\n",
              "      border-bottom-color: var(--fill-color);\n",
              "    }\n",
              "    90% {\n",
              "      border-color: transparent;\n",
              "      border-bottom-color: var(--fill-color);\n",
              "    }\n",
              "  }\n",
              "</style>\n",
              "\n",
              "  <script>\n",
              "    async function quickchart(key) {\n",
              "      const quickchartButtonEl =\n",
              "        document.querySelector('#' + key + ' button');\n",
              "      quickchartButtonEl.disabled = true;  // To prevent multiple clicks.\n",
              "      quickchartButtonEl.classList.add('colab-df-spinner');\n",
              "      try {\n",
              "        const charts = await google.colab.kernel.invokeFunction(\n",
              "            'suggestCharts', [key], {});\n",
              "      } catch (error) {\n",
              "        console.error('Error during call to suggestCharts:', error);\n",
              "      }\n",
              "      quickchartButtonEl.classList.remove('colab-df-spinner');\n",
              "      quickchartButtonEl.classList.add('colab-df-quickchart-complete');\n",
              "    }\n",
              "    (() => {\n",
              "      let quickchartButtonEl =\n",
              "        document.querySelector('#df-5bb49e95-3ab6-4364-b932-5401c5376293 button');\n",
              "      quickchartButtonEl.style.display =\n",
              "        google.colab.kernel.accessAllowed ? 'block' : 'none';\n",
              "    })();\n",
              "  </script>\n",
              "</div>\n",
              "\n",
              "    </div>\n",
              "  </div>\n"
            ],
            "application/vnd.google.colaboratory.intrinsic+json": {
              "type": "dataframe",
              "summary": "{\n  \"name\": \"pm\",\n  \"rows\": 8,\n  \"fields\": [\n    {\n      \"column\": \"mean\",\n      \"properties\": {\n        \"dtype\": \"number\",\n        \"std\": 1.0506164092025758,\n        \"min\": -0.858,\n        \"max\": 2.38,\n        \"num_unique_values\": 8,\n        \"samples\": [\n          0.011,\n          1.078,\n          -0.858\n        ],\n        \"semantic_type\": \"\",\n        \"description\": \"\"\n      }\n    },\n    {\n      \"column\": \"sd\",\n      \"properties\": {\n        \"dtype\": \"number\",\n        \"std\": 0.29486143840309614,\n        \"min\": 0.079,\n        \"max\": 0.819,\n        \"num_unique_values\": 8,\n        \"samples\": [\n          0.776,\n          0.568,\n          0.096\n        ],\n        \"semantic_type\": \"\",\n        \"description\": \"\"\n      }\n    },\n    {\n      \"column\": \"hdi_3%\",\n      \"properties\": {\n        \"dtype\": \"number\",\n        \"std\": 0.8599102008764803,\n        \"min\": -1.771,\n        \"max\": 0.852,\n        \"num_unique_values\": 8,\n        \"samples\": [\n          -1.419,\n          0.033,\n          -1.041\n        ],\n        \"semantic_type\": \"\",\n        \"description\": \"\"\n      }\n    },\n    {\n      \"column\": \"hdi_97%\",\n      \"properties\": {\n        \"dtype\": \"number\",\n        \"std\": 1.442865990955897,\n        \"min\": -0.678,\n        \"max\": 3.918,\n        \"num_unique_values\": 8,\n        \"samples\": [\n          1.501,\n          2.174,\n          -0.678\n        ],\n        \"semantic_type\": \"\",\n        \"description\": \"\"\n      }\n    },\n    {\n      \"column\": \"mcse_mean\",\n      \"properties\": {\n        \"dtype\": \"number\",\n        \"std\": 0.0018322507626258088,\n        \"min\": 0.0,\n        \"max\": 0.005,\n        \"num_unique_values\": 5,\n        \"samples\": [\n          0.004,\n          0.0,\n          0.003\n        ],\n        \"semantic_type\": \"\",\n        \"description\": \"\"\n      }\n    },\n    {\n      \"column\": \"mcse_sd\",\n      \"properties\": {\n        \"dtype\": \"number\",\n        \"std\": 0.00148804761828569,\n        \"min\": 0.0,\n        \"max\": 0.004,\n        \"num_unique_values\": 4,\n        \"samples\": [\n          0.004,\n          0.003,\n          0.0\n        ],\n        \"semantic_type\": \"\",\n        \"description\": \"\"\n      }\n    },\n    {\n      \"column\": \"ess_bulk\",\n      \"properties\": {\n        \"dtype\": \"number\",\n        \"std\": 8807.530394092157,\n        \"min\": 20662.0,\n        \"max\": 49118.0,\n        \"num_unique_values\": 8,\n        \"samples\": [\n          31286.0,\n          21996.0,\n          28000.0\n        ],\n        \"semantic_type\": \"\",\n        \"description\": \"\"\n      }\n    },\n    {\n      \"column\": \"ess_tail\",\n      \"properties\": {\n        \"dtype\": \"number\",\n        \"std\": 1713.0141355433786,\n        \"min\": 23784.0,\n        \"max\": 28875.0,\n        \"num_unique_values\": 8,\n        \"samples\": [\n          28253.0,\n          25702.0,\n          28147.0\n        ],\n        \"semantic_type\": \"\",\n        \"description\": \"\"\n      }\n    },\n    {\n      \"column\": \"r_hat\",\n      \"properties\": {\n        \"dtype\": \"number\",\n        \"std\": 0.0,\n        \"min\": 1.0,\n        \"max\": 1.0,\n        \"num_unique_values\": 1,\n        \"samples\": [\n          1.0\n        ],\n        \"semantic_type\": \"\",\n        \"description\": \"\"\n      }\n    }\n  ]\n}"
            }
          },
          "metadata": {},
          "execution_count": 22
        }
      ]
    },
    {
      "cell_type": "code",
      "source": [
        "\n",
        "az.plot_trace(trace)"
      ],
      "metadata": {
        "colab": {
          "base_uri": "https://localhost:8080/",
          "height": 458
        },
        "id": "34Ae85LENzoO",
        "outputId": "f403c90f-1d57-49a7-c5ad-868cd8f0d020"
      },
      "execution_count": 23,
      "outputs": [
        {
          "output_type": "execute_result",
          "data": {
            "text/plain": [
              "array([[<Axes: title={'center': 'bias'}>,\n",
              "        <Axes: title={'center': 'bias'}>],\n",
              "       [<Axes: title={'center': 'w'}>, <Axes: title={'center': 'w'}>]],\n",
              "      dtype=object)"
            ]
          },
          "metadata": {},
          "execution_count": 23
        },
        {
          "output_type": "display_data",
          "data": {
            "text/plain": [
              "<Figure size 1200x400 with 4 Axes>"
            ],
            "image/png": "[encoded data removed]"
          },
          "metadata": {}
        }
      ]
    },
    {
      "cell_type": "code",
      "source": [
        "with rice_model:\n",
        "    pm.set_data({\"X\": X_test_scaled, \"y\": y_test.values})\n",
        "\n",
        "    # Generate posterior predictive samples, including 'likelihood'\n",
        "    trace_post = pm.sample_posterior_predictive(trace, var_names=['w', 'bias', 'likelihood'])"
      ],
      "metadata": {
        "colab": {
          "base_uri": "https://localhost:8080/",
          "height": 34,
          "referenced_widgets": [
            "cfa8f0ac0b094a9aaf8b1a4cdcb72b2c",
            "f0c8800bb0e94ac8aa2d6a0fd4463429"
          ]
        },
        "id": "4oGExJV5N7du",
        "outputId": "38015103-cfa3-4a2e-fa14-ad97a6f20d60"
      },
      "execution_count": 24,
      "outputs": [
        {
          "output_type": "display_data",
          "data": {
            "text/plain": [
              "Output()"
            ],
            "application/vnd.jupyter.widget-view+json": {
              "version_major": 2,
              "version_minor": 0,
              "model_id": "cfa8f0ac0b094a9aaf8b1a4cdcb72b2c"
            }
          },
          "metadata": {}
        },
        {
          "output_type": "display_data",
          "data": {
            "text/plain": [],
            "text/html": [
              "<pre style=\"white-space:pre;overflow-x:auto;line-height:normal;font-family:Menlo,'DejaVu Sans Mono',consolas,'Courier New',monospace\"></pre>\n"
            ]
          },
          "metadata": {}
        }
      ]
    },
    {
      "cell_type": "code",
      "source": [
        "# Verificar o conteúdo dentro de 'posterior_predictive'\n",
        "print(trace_post['posterior_predictive'].keys())\n"
      ],
      "metadata": {
        "colab": {
          "base_uri": "https://localhost:8080/"
        },
        "id": "1MFRTws_Tfxv",
        "outputId": "0a804f00-38d5-40eb-918d-448e496fe235"
      },
      "execution_count": 25,
      "outputs": [
        {
          "output_type": "stream",
          "name": "stdout",
          "text": [
            "KeysView(<xarray.Dataset> Size: 247MB\n",
            "Dimensions:           (chain: 2, draw: 20000, likelihood_dim_2: 762, w_dim_2: 7)\n",
            "Coordinates:\n",
            "  * chain             (chain) int64 16B 0 1\n",
            "  * draw              (draw) int64 160kB 0 1 2 3 4 ... 19996 19997 19998 19999\n",
            "  * likelihood_dim_2  (likelihood_dim_2) int64 6kB 0 1 2 3 4 ... 758 759 760 761\n",
            "  * w_dim_2           (w_dim_2) int64 56B 0 1 2 3 4 5 6\n",
            "Data variables:\n",
            "    bias              (chain, draw) float64 320kB -0.5737 -1.011 ... 0.2743\n",
            "    likelihood        (chain, draw, likelihood_dim_2) int64 244MB 0 1 1 ... 0 1\n",
            "    w                 (chain, draw, w_dim_2) float64 2MB 0.909 0.3882 ... 0.6672\n",
            "Attributes:\n",
            "    created_at:                 2024-09-25T00:26:33.793169+00:00\n",
            "    arviz_version:              0.19.0\n",
            "    inference_library:          pymc\n",
            "    inference_library_version:  5.16.2)\n"
          ]
        }
      ]
    },
    {
      "cell_type": "code",
      "source": [
        "mean_likelihood = trace_post.posterior_predictive[\"likelihood\"].mean(dim=[\"chain\", \"draw\"])\n",
        "binary_predictions = (mean_likelihood > 0.5).astype(int)"
      ],
      "metadata": {
        "id": "YVuBPO2kVRUA"
      },
      "execution_count": 26,
      "outputs": []
    },
    {
      "cell_type": "code",
      "source": [
        "from sklearn.metrics import precision_score, recall_score, f1_score\n",
        "\n",
        "precision = precision_score(y_test, binary_predictions)\n",
        "\n",
        "recall = recall_score(y_test, binary_predictions)\n",
        "\n",
        "f1 = f1_score(y_test, binary_predictions)\n",
        "\n",
        "print(f\"Precision: {precision:.4f}\")\n",
        "print(f\"Recall: {recall:.4f}\")\n",
        "print(f\"F1 Score: {f1:.4f}\")"
      ],
      "metadata": {
        "colab": {
          "base_uri": "https://localhost:8080/"
        },
        "id": "ix2ntX2KN9Ke",
        "outputId": "37cd923a-780e-44eb-eb54-9e97499d341b"
      },
      "execution_count": 27,
      "outputs": [
        {
          "output_type": "stream",
          "name": "stdout",
          "text": [
            "Precision: 0.6000\n",
            "Recall: 0.6000\n",
            "F1 Score: 0.6000\n"
          ]
        }
      ]
    }
  ]
}